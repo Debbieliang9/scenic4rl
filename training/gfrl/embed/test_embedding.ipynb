{
 "cells": [
  {
   "cell_type": "code",
   "execution_count": 1,
   "id": "d86a1362",
   "metadata": {
    "ExecuteTime": {
     "end_time": "2021-04-22T08:00:39.695194Z",
     "start_time": "2021-04-22T08:00:39.691202Z"
    }
   },
   "outputs": [],
   "source": [
    "import pickle\n",
    "from utils import Trajectory\n"
   ]
  },
  {
   "cell_type": "code",
   "execution_count": 2,
   "id": "e0d0a6d9",
   "metadata": {
    "ExecuteTime": {
     "end_time": "2021-04-22T08:00:39.707475Z",
     "start_time": "2021-04-22T08:00:39.698257Z"
    }
   },
   "outputs": [],
   "source": [
    "from ipynb.fs.full.common import *"
   ]
  },
  {
   "cell_type": "code",
   "execution_count": 3,
   "id": "4eb6faea",
   "metadata": {
    "ExecuteTime": {
     "end_time": "2021-04-22T08:00:39.715622Z",
     "start_time": "2021-04-22T08:00:39.710387Z"
    }
   },
   "outputs": [],
   "source": [
    "def get_embedding(proc_obs, ae):\n",
    "    import torch\n",
    "    import numpy as np\n",
    "    data = torch.tensor(proc_obs).float()\n",
    "    \n",
    "    encoded = ae.encode(data)\n",
    "\n",
    "    print(\"1. Encoded Data: \",encoded.shape)\n",
    "    encoded_np = encoded.detach().numpy()\n",
    "    print(\"1. Encoded Data max, min, mean\", np.max(encoded_np), np.min(encoded_np), np.mean(encoded_np))\n",
    "    decoded = ae.decode(encoded)\n",
    "    print(\"2. Recons Data: \",decoded.shape)\n",
    "\n",
    "    flatten_obs = np.array(proc_obs)\n",
    "    flatten_obs = flatten_obs.reshape(-1, flatten_obs.shape[1]*flatten_obs.shape[2]*flatten_obs.shape[3])\n",
    "    print(\"3. Flatten\", flatten_obs.shape)\n",
    "\n",
    "    \n",
    "    return encoded, encoded_np, decoded, flatten_obs "
   ]
  },
  {
   "cell_type": "code",
   "execution_count": 4,
   "id": "9ab2d05c",
   "metadata": {
    "ExecuteTime": {
     "end_time": "2021-04-22T08:00:39.722269Z",
     "start_time": "2021-04-22T08:00:39.717661Z"
    }
   },
   "outputs": [],
   "source": [
    "def test_embedding_quality(trajectory_data, ae, ks = [5, 9], leaf_size=400, normalize = True):\n",
    "    \n",
    "    print(\"\\t...Loading Data\")\n",
    "    traj_ids, obs_flat, gt_flat, proc_obs = load_data(trajectory_data, normalize= normalize)\n",
    "    print(\"\\t...Generating Embedding\")\n",
    "    encoded, encoded_np, decoded, flatten_obs = get_embedding(proc_obs, ae)\n",
    "    \n",
    "    scores = {}\n",
    "    for K in ks:\n",
    "        match_score, _, _, _, _ = neighborhood_comparison(K, flatten_obs, encoded_np, leaf_size=leaf_size)\n",
    "        print(f\"K: {K} Match Score: {match_score:2f}\")\n",
    "        scores[K]=match_score\n",
    "        \n",
    "    return scores"
   ]
  },
  {
   "cell_type": "code",
   "execution_count": 5,
   "id": "7b7f146f",
   "metadata": {
    "ExecuteTime": {
     "end_time": "2021-04-22T08:00:41.494389Z",
     "start_time": "2021-04-22T08:00:39.726033Z"
    }
   },
   "outputs": [],
   "source": [
    "rts_rand_traj_100 = pickle.load(open(\"rts_rand_traj_100.pkl\",\"rb\"))\n",
    "rts_rand_traj_10 = rts_rand_traj_100[0:10]"
   ]
  },
  {
   "cell_type": "code",
   "execution_count": 6,
   "id": "563f5f39",
   "metadata": {
    "ExecuteTime": {
     "end_time": "2021-04-22T08:00:43.486781Z",
     "start_time": "2021-04-22T08:00:41.496411Z"
    }
   },
   "outputs": [],
   "source": [
    "pns_rand_100 = pickle.load(open(\"data/pass_n_shoot_rand_traj_100.pkl\",\"rb\"))"
   ]
  },
  {
   "cell_type": "code",
   "execution_count": 7,
   "id": "133c7b51",
   "metadata": {
    "ExecuteTime": {
     "end_time": "2021-04-22T08:00:43.676496Z",
     "start_time": "2021-04-22T08:00:43.490778Z"
    }
   },
   "outputs": [],
   "source": [
    "easy_counter_rand_10 = pickle.load(open(\"data/easy_counter_rand_traj_10.pkl\",\"rb\"))"
   ]
  },
  {
   "cell_type": "code",
   "execution_count": 8,
   "id": "790c5530",
   "metadata": {
    "ExecuteTime": {
     "end_time": "2021-04-22T08:00:43.788506Z",
     "start_time": "2021-04-22T08:00:43.679515Z"
    }
   },
   "outputs": [],
   "source": [
    "_3v1_rand_10 = pickle.load(open(\"data/3v1_rand_traj_10.pkl\",\"rb\"))"
   ]
  },
  {
   "cell_type": "code",
   "execution_count": 9,
   "id": "f224a37e",
   "metadata": {
    "ExecuteTime": {
     "end_time": "2021-04-22T08:00:43.797752Z",
     "start_time": "2021-04-22T08:00:43.791955Z"
    }
   },
   "outputs": [],
   "source": [
    "def test_all(ae, normalize = True):\n",
    "\n",
    "    test_ds = { \"Run To Score\" : rts_rand_traj_100[0:10],\n",
    "                \"3 vs 1\": _3v1_rand_10,\n",
    "                \"Easy Counter\": easy_counter_rand_10,\n",
    "                \"Pass and Shoot\": pns_rand_100[0:10]}\n",
    "\n",
    "    \n",
    "    scores = {}\n",
    "    for name, ds in test_ds.items():\n",
    "        print(\"Testing: \", name)\n",
    "        s = test_embedding_quality(ds, ae , ks = [5], leaf_size=400, normalize=normalize)\n",
    "        scores[name]=s\n",
    "\n",
    "        print()\n",
    "\n",
    "    print(scores)"
   ]
  },
  {
   "cell_type": "code",
   "execution_count": 11,
   "id": "e77e958d",
   "metadata": {
    "ExecuteTime": {
     "end_time": "2021-04-22T08:00:56.788438Z",
     "start_time": "2021-04-22T08:00:55.736343Z"
    },
    "code_folding": [
     6
    ]
   },
   "outputs": [],
   "source": [
    "import pytorch_lightning as pl\n",
    "from torch import nn\n",
    "from torch.nn import functional as F\n",
    "import torch\n",
    "#https://analyticsindiamag.com/how-to-implement-convolutional-autoencoder-in-pytorch-with-cuda/\n",
    "#https://debuggercafe.com/machine-learning-hands-on-convolutional-autoencoders/ \n",
    "class NatureAE(pl.LightningModule):\n",
    "    def __init__(self, n_input_channels=4, flat_dim = 720, latent_dim=2, print_network=False, loss_func=\"cross_entropy\"):\n",
    "        super().__init__()\n",
    "\n",
    "        self.save_hyperparameters()\n",
    "\n",
    "        enc_out_dim = latent_dim\n",
    "        self.latent_dim = latent_dim\n",
    "        self.enc_out_dim = latent_dim\n",
    "        self.loss_function = loss_func\n",
    "        \n",
    "        \n",
    "        self.bla1 = nn.Conv2d(n_input_channels, 32, kernel_size=8, stride=4, padding=0)\n",
    "        self.bla2 = nn.Conv2d(32, 64, kernel_size=4, stride=2, padding=0)\n",
    "        self.bla3 = nn.Conv2d(64, 64, kernel_size=3, stride=1, padding=0)\n",
    "        \n",
    "\n",
    "        # encoder\n",
    "        self.encoder1 = nn.Sequential(\n",
    "            self.bla1,\n",
    "            nn.ReLU(),\n",
    "            self.bla2,\n",
    "            nn.ReLU(),\n",
    "            self.bla3,\n",
    "            nn.ReLU(),\n",
    "        )\n",
    "        \n",
    "        self.encoder2 = nn.Sequential(\n",
    "            nn.Flatten(),\n",
    "            nn.Linear(flat_dim, enc_out_dim),\n",
    "            nn.ReLU()\n",
    "        )\n",
    "        \n",
    "        if print_network:\n",
    "            print(\"Encoder\")\n",
    "            print(self.encoder1)\n",
    "            print(self.encoder2)\n",
    "\n",
    "        # decoder\n",
    "\n",
    "        self.decoder1 = nn.Sequential(\n",
    "            nn.Linear(enc_out_dim, flat_dim),\n",
    "            nn.ReLU(),\n",
    "        )\n",
    "        \n",
    "\n",
    "        self.alb1 = nn.ConvTranspose2d(in_channels=64, out_channels=64, kernel_size=3, stride=1, padding=0)\n",
    "        self.alb2 = nn.ConvTranspose2d(in_channels=64, out_channels=32, kernel_size=4, stride=2, padding=0, output_padding=1)\n",
    "        self.alb3 = nn.ConvTranspose2d(in_channels=32, out_channels=n_input_channels, kernel_size=8, stride=4, padding=0, output_padding=0)\n",
    "        \n",
    "            \n",
    "        self.decoder2 = nn.Sequential(\n",
    "            self.alb1,\n",
    "            nn.ReLU(),\n",
    "            self.alb2,\n",
    "            nn.ReLU(),\n",
    "            self.alb3\n",
    "        )\n",
    "            \n",
    "        if print_network:\n",
    "            print(\"Decoder\")\n",
    "            print(self.decoder1)\n",
    "            print(self.decoder2)\n",
    "        \n",
    "\n",
    "    def configure_optimizers(self):\n",
    "        return torch.optim.Adam(self.parameters())\n",
    "    \n",
    "    \n",
    "    def encode(self, x):\n",
    "        \n",
    "        \"\"\"\n",
    "        print(\"BLA START\")\n",
    "        print(x.shape)\n",
    "        x = self.bla1(x)\n",
    "        print(x.shape)\n",
    "        x = self.bla2(x)\n",
    "        print(x.shape)\n",
    "        x = self.bla3(x)\n",
    "        print(x.shape)\n",
    "        print(\"BLA DONE\")\n",
    "        \"\"\"\n",
    "        \n",
    "        \n",
    "        x = self.encoder1(x)\n",
    "        x = self.encoder2(x)\n",
    "        \n",
    "        \n",
    "        return x\n",
    "        \n",
    "    \n",
    "    def decode(self, x):\n",
    "    \n",
    "        \"\"\"\n",
    "        print(\"ALB Start\")\n",
    "        print(x.shape)\n",
    "        x = self.decoder1(x)\n",
    "        x = x.view(-1, 64, 5, 8)\n",
    "        print(x.shape)\n",
    "        x = self.alb1(x)\n",
    "        print(x.shape)\n",
    "        x = self.alb2(x)\n",
    "        print(x.shape)\n",
    "        x = self.alb3(x)\n",
    "        print(x.shape)\n",
    "        print(\"ALB Done\")\n",
    "        \"\"\"\n",
    "        x = self.decoder1(x)\n",
    "        x = x.view(-1, 64, 5, 8)\n",
    "        x = self.decoder2(x)\n",
    "        \n",
    "        return x\n",
    "        \n",
    "\n",
    "    def training_step(self, batch, batch_idx):\n",
    "\n",
    "        x = batch[0]\n",
    "\n",
    "        x_encoded = self.encode(x)\n",
    "        #view\n",
    "        x_hat = self.decode(x_encoded)\n",
    "        \n",
    "        #x_flat = x.view(x.shape[0], -1)\n",
    "        #x_hat_flat = x_hat.view(x_hat.shape[0], -1)\n",
    "        \n",
    "        #print(x_flat.shape)\n",
    "        #quit()\n",
    "        \n",
    "\n",
    "        #recon_loss = F.mse_loss(x, x_hat, reduction=\"sum\")\n",
    "        recon_loss = F.mse_loss(x, x_hat)\n",
    "        \n",
    "        #recon_loss = F.binary_cross_entropy_with_logits(x_hat_flat, x_flat, reduction=\"sum\")\n",
    "        #recon_loss = F.binary_cross_entropy_with_logits(x_hat, x)\n",
    "        \n",
    "        return recon_loss\n",
    "\n",
    "\n",
    "    def embed(self, input):\n",
    "        if isinstance(input, np.ndarray):\n",
    "            input = torch.tensor(input).float()\n",
    "\n",
    "        return self.encoder(input).detach().numpy()"
   ]
  },
  {
   "cell_type": "code",
   "execution_count": 15,
   "id": "963a2be4",
   "metadata": {
    "ExecuteTime": {
     "end_time": "2021-04-22T08:12:58.425818Z",
     "start_time": "2021-04-22T08:08:55.021222Z"
    }
   },
   "outputs": [
    {
     "name": "stdout",
     "output_type": "stream",
     "text": [
      "Testing:  Run To Score\n",
      "\t...Loading Data\n",
      "1. Loaded Raw Obs:  1178 {(72, 96, 16)} [  0 255]\n",
      "2. Preprocessed Obs:  1178 {(4, 72, 96)} [  0 255]\n",
      "\t...Generating Embedding\n",
      "1. Encoded Data:  torch.Size([1178, 64])\n",
      "1. Encoded Data max, min, mean 4997.617 0.0 740.1769\n",
      "2. Recons Data:  torch.Size([1178, 4, 72, 96])\n",
      "3. Flatten (1178, 27648)\n",
      "K: 5 Match Score: 3.105263\n",
      "\n",
      "Testing:  3 vs 1\n",
      "\t...Loading Data\n",
      "1. Loaded Raw Obs:  927 {(72, 96, 16)} [  0 255]\n",
      "2. Preprocessed Obs:  927 {(4, 72, 96)} [  0 255]\n",
      "\t...Generating Embedding\n",
      "1. Encoded Data:  torch.Size([927, 64])\n",
      "1. Encoded Data max, min, mean 2875.4465 0.0 399.17087\n",
      "2. Recons Data:  torch.Size([927, 4, 72, 96])\n",
      "3. Flatten (927, 27648)\n",
      "K: 5 Match Score: 2.367853\n",
      "\n",
      "Testing:  Easy Counter\n",
      "\t...Loading Data\n",
      "1. Loaded Raw Obs:  693 {(72, 96, 16)} [  0 255]\n",
      "2. Preprocessed Obs:  693 {(4, 72, 96)} [  0 255]\n",
      "\t...Generating Embedding\n",
      "1. Encoded Data:  torch.Size([693, 64])\n",
      "1. Encoded Data max, min, mean 7567.621 0.0 1232.5936\n",
      "2. Recons Data:  torch.Size([693, 4, 72, 96])\n",
      "3. Flatten (693, 27648)\n",
      "K: 5 Match Score: 3.090909\n",
      "\n",
      "Testing:  Pass and Shoot\n",
      "\t...Loading Data\n",
      "1. Loaded Raw Obs:  1855 {(72, 96, 16)} [  0 255]\n",
      "2. Preprocessed Obs:  1855 {(4, 72, 96)} [  0 255]\n",
      "\t...Generating Embedding\n",
      "1. Encoded Data:  torch.Size([1855, 64])\n",
      "1. Encoded Data max, min, mean 3228.1729 0.0 364.52786\n",
      "2. Recons Data:  torch.Size([1855, 4, 72, 96])\n",
      "3. Flatten (1855, 27648)\n",
      "K: 5 Match Score: 2.521833\n",
      "\n",
      "{'Run To Score': {5: 3.1052631578947367}, '3 vs 1': {5: 2.3678532901833873}, 'Easy Counter': {5: 3.090909090909091}, 'Pass and Shoot': {5: 2.521832884097035}}\n"
     ]
    }
   ],
   "source": [
    "ae = NatureAE.load_from_checkpoint(checkpoint_path=\"models/nature_ae_mse_no_scale_64_rts_100.ckpt\")\n",
    "test_all(ae, normalize = False)"
   ]
  },
  {
   "cell_type": "code",
   "execution_count": null,
   "id": "c5b898a2",
   "metadata": {
    "ExecuteTime": {
     "end_time": "2021-04-22T08:05:22.842104Z",
     "start_time": "2021-04-22T08:03:47.802718Z"
    }
   },
   "outputs": [],
   "source": [
    "ae = NatureAE.load_from_checkpoint(checkpoint_path=\"model_data/nature_ae_64_rts_1000.ckpt\")\n",
    "test_all(ae)\n",
    "#rts_10->3.02"
   ]
  },
  {
   "cell_type": "code",
   "execution_count": null,
   "id": "71bbf5c6",
   "metadata": {
    "ExecuteTime": {
     "end_time": "2021-04-22T08:08:10.323650Z",
     "start_time": "2021-04-22T08:06:35.886823Z"
    }
   },
   "outputs": [],
   "source": [
    "ae = NatureAE.load_from_checkpoint(checkpoint_path=\"models/nature_ae_64_rts_100.ckpt\")\n",
    "test_all(ae)\n",
    "#rts_10->2.23 "
   ]
  },
  {
   "cell_type": "code",
   "execution_count": 16,
   "id": "dfd6dad5",
   "metadata": {
    "ExecuteTime": {
     "end_time": "2021-04-22T08:37:28.279985Z",
     "start_time": "2021-04-22T08:33:39.331680Z"
    }
   },
   "outputs": [
    {
     "name": "stdout",
     "output_type": "stream",
     "text": [
      "Testing:  Run To Score\n",
      "\t...Loading Data\n",
      "1. Loaded Raw Obs:  1178 {(72, 96, 16)} [  0 255]\n",
      "2. Preprocessed Obs:  1178 {(4, 72, 96)} [  0 255]\n",
      "\t...Generating Embedding\n",
      "1. Encoded Data:  torch.Size([1178, 8])\n",
      "1. Encoded Data max, min, mean 4452.1206 0.0 870.63885\n",
      "2. Recons Data:  torch.Size([1178, 4, 72, 96])\n",
      "3. Flatten (1178, 27648)\n",
      "K: 5 Match Score: 2.363328\n",
      "\n",
      "Testing:  3 vs 1\n",
      "\t...Loading Data\n",
      "1. Loaded Raw Obs:  927 {(72, 96, 16)} [  0 255]\n",
      "2. Preprocessed Obs:  927 {(4, 72, 96)} [  0 255]\n",
      "\t...Generating Embedding\n",
      "1. Encoded Data:  torch.Size([927, 8])\n",
      "1. Encoded Data max, min, mean 3538.4011 0.0 492.76065\n",
      "2. Recons Data:  torch.Size([927, 4, 72, 96])\n",
      "3. Flatten (927, 27648)\n",
      "K: 5 Match Score: 1.523193\n",
      "\n",
      "Testing:  Easy Counter\n",
      "\t...Loading Data\n",
      "1. Loaded Raw Obs:  693 {(72, 96, 16)} [  0 255]\n",
      "2. Preprocessed Obs:  693 {(4, 72, 96)} [  0 255]\n",
      "\t...Generating Embedding\n",
      "1. Encoded Data:  torch.Size([693, 8])\n",
      "1. Encoded Data max, min, mean 5405.8374 0.0 1382.5745\n",
      "2. Recons Data:  torch.Size([693, 4, 72, 96])\n",
      "3. Flatten (693, 27648)\n",
      "K: 5 Match Score: 1.740260\n",
      "\n",
      "Testing:  Pass and Shoot\n",
      "\t...Loading Data\n",
      "1. Loaded Raw Obs:  1855 {(72, 96, 16)} [  0 255]\n",
      "2. Preprocessed Obs:  1855 {(4, 72, 96)} [  0 255]\n",
      "\t...Generating Embedding\n",
      "1. Encoded Data:  torch.Size([1855, 8])\n",
      "1. Encoded Data max, min, mean 3240.9172 0.0 538.5238\n",
      "2. Recons Data:  torch.Size([1855, 4, 72, 96])\n",
      "3. Flatten (1855, 27648)\n",
      "K: 5 Match Score: 1.760647\n",
      "\n",
      "{'Run To Score': {5: 2.363327674023769}, '3 vs 1': {5: 1.52319309600863}, 'Easy Counter': {5: 1.7402597402597402}, 'Pass and Shoot': {5: 1.7606469002695417}}\n"
     ]
    }
   ],
   "source": [
    "ae = NatureAE.load_from_checkpoint(checkpoint_path=\"models/nature_ae_mse_no_scale_8_rts_100.ckpt\")\n",
    "test_all(ae, normalize = False)"
   ]
  },
  {
   "cell_type": "code",
   "execution_count": 18,
   "id": "0e8aea4b",
   "metadata": {
    "ExecuteTime": {
     "end_time": "2021-04-22T09:08:08.867316Z",
     "start_time": "2021-04-22T09:04:24.565843Z"
    }
   },
   "outputs": [
    {
     "name": "stdout",
     "output_type": "stream",
     "text": [
      "Testing:  Run To Score\n",
      "\t...Loading Data\n",
      "1. Loaded Raw Obs:  1178 {(72, 96, 16)} [  0 255]\n",
      "2. Preprocessed Obs:  1178 {(4, 72, 96)} [  0 255]\n",
      "\t...Generating Embedding\n",
      "1. Encoded Data:  torch.Size([1178, 3])\n",
      "1. Encoded Data max, min, mean 4703.8867 0.0 437.039\n",
      "2. Recons Data:  torch.Size([1178, 4, 72, 96])\n",
      "3. Flatten (1178, 27648)\n",
      "K: 5 Match Score: 0.804754\n",
      "\n",
      "Testing:  3 vs 1\n",
      "\t...Loading Data\n",
      "1. Loaded Raw Obs:  927 {(72, 96, 16)} [  0 255]\n",
      "2. Preprocessed Obs:  927 {(4, 72, 96)} [  0 255]\n",
      "\t...Generating Embedding\n",
      "1. Encoded Data:  torch.Size([927, 3])\n",
      "1. Encoded Data max, min, mean 5254.8716 0.0 425.45425\n",
      "2. Recons Data:  torch.Size([927, 4, 72, 96])\n",
      "3. Flatten (927, 27648)\n",
      "K: 5 Match Score: 0.567422\n",
      "\n",
      "Testing:  Easy Counter\n",
      "\t...Loading Data\n",
      "1. Loaded Raw Obs:  693 {(72, 96, 16)} [  0 255]\n",
      "2. Preprocessed Obs:  693 {(4, 72, 96)} [  0 255]\n",
      "\t...Generating Embedding\n",
      "1. Encoded Data:  torch.Size([693, 3])\n",
      "1. Encoded Data max, min, mean 3305.9016 0.0 178.86223\n",
      "2. Recons Data:  torch.Size([693, 4, 72, 96])\n",
      "3. Flatten (693, 27648)\n",
      "K: 5 Match Score: 0.503608\n",
      "\n",
      "Testing:  Pass and Shoot\n",
      "\t...Loading Data\n",
      "1. Loaded Raw Obs:  1855 {(72, 96, 16)} [  0 255]\n",
      "2. Preprocessed Obs:  1855 {(4, 72, 96)} [  0 255]\n",
      "\t...Generating Embedding\n",
      "1. Encoded Data:  torch.Size([1855, 3])\n",
      "1. Encoded Data max, min, mean 5096.3975 0.0 373.8428\n",
      "2. Recons Data:  torch.Size([1855, 4, 72, 96])\n",
      "3. Flatten (1855, 27648)\n",
      "K: 5 Match Score: 0.647978\n",
      "\n",
      "{'Run To Score': {5: 0.8047538200339559}, '3 vs 1': {5: 0.5674217907227616}, 'Easy Counter': {5: 0.5036075036075036}, 'Pass and Shoot': {5: 0.647978436657682}}\n"
     ]
    }
   ],
   "source": [
    "ae = NatureAE.load_from_checkpoint(checkpoint_path=\"models/nature_ae_mse_no_scale_3_rts_100.ckpt\")\n",
    "test_all(ae, normalize = False)"
   ]
  },
  {
   "cell_type": "code",
   "execution_count": 20,
   "id": "933f0ffd",
   "metadata": {
    "ExecuteTime": {
     "end_time": "2021-04-22T09:40:27.256785Z",
     "start_time": "2021-04-22T09:36:37.765551Z"
    }
   },
   "outputs": [
    {
     "name": "stdout",
     "output_type": "stream",
     "text": [
      "Testing:  Run To Score\n",
      "\t...Loading Data\n",
      "1. Loaded Raw Obs:  1178 {(72, 96, 16)} [  0 255]\n",
      "2. Preprocessed Obs:  1178 {(4, 72, 96)} [  0 255]\n",
      "\t...Generating Embedding\n",
      "1. Encoded Data:  torch.Size([1178, 2])\n",
      "1. Encoded Data max, min, mean 4415.8477 0.0 452.01953\n",
      "2. Recons Data:  torch.Size([1178, 4, 72, 96])\n",
      "3. Flatten (1178, 27648)\n",
      "K: 5 Match Score: 0.727504\n",
      "\n",
      "Testing:  3 vs 1\n",
      "\t...Loading Data\n",
      "1. Loaded Raw Obs:  927 {(72, 96, 16)} [  0 255]\n",
      "2. Preprocessed Obs:  927 {(4, 72, 96)} [  0 255]\n",
      "\t...Generating Embedding\n",
      "1. Encoded Data:  torch.Size([927, 2])\n",
      "1. Encoded Data max, min, mean 3249.7612 0.0 256.41666\n",
      "2. Recons Data:  torch.Size([927, 4, 72, 96])\n",
      "3. Flatten (927, 27648)\n",
      "K: 5 Match Score: 0.338727\n",
      "\n",
      "Testing:  Easy Counter\n",
      "\t...Loading Data\n",
      "1. Loaded Raw Obs:  693 {(72, 96, 16)} [  0 255]\n",
      "2. Preprocessed Obs:  693 {(4, 72, 96)} [  0 255]\n",
      "\t...Generating Embedding\n",
      "1. Encoded Data:  torch.Size([693, 2])\n",
      "1. Encoded Data max, min, mean 2204.3794 0.0 62.961834\n",
      "2. Recons Data:  torch.Size([693, 4, 72, 96])\n",
      "3. Flatten (693, 27648)\n",
      "K: 5 Match Score: 0.158730\n",
      "\n",
      "Testing:  Pass and Shoot\n",
      "\t...Loading Data\n",
      "1. Loaded Raw Obs:  1855 {(72, 96, 16)} [  0 255]\n",
      "2. Preprocessed Obs:  1855 {(4, 72, 96)} [  0 255]\n",
      "\t...Generating Embedding\n",
      "1. Encoded Data:  torch.Size([1855, 2])\n",
      "1. Encoded Data max, min, mean 3228.6863 0.0 265.78235\n",
      "2. Recons Data:  torch.Size([1855, 4, 72, 96])\n",
      "3. Flatten (1855, 27648)\n",
      "K: 5 Match Score: 0.500809\n",
      "\n",
      "{'Run To Score': {5: 0.7275042444821732}, '3 vs 1': {5: 0.33872707659115425}, 'Easy Counter': {5: 0.15873015873015872}, 'Pass and Shoot': {5: 0.5008086253369273}}\n"
     ]
    }
   ],
   "source": [
    "ae = NatureAE.load_from_checkpoint(checkpoint_path=\"models/nature_ae_mse_no_scale_2_rts_100.ckpt\")\n",
    "test_all(ae, normalize = False)"
   ]
  },
  {
   "cell_type": "code",
   "execution_count": null,
   "id": "7d53d5c1",
   "metadata": {},
   "outputs": [],
   "source": []
  }
 ],
 "metadata": {
  "kernelspec": {
   "display_name": "Python 3",
   "language": "python",
   "name": "python3"
  },
  "language_info": {
   "codemirror_mode": {
    "name": "ipython",
    "version": 3
   },
   "file_extension": ".py",
   "mimetype": "text/x-python",
   "name": "python",
   "nbconvert_exporter": "python",
   "pygments_lexer": "ipython3",
   "version": "3.9.1"
  },
  "varInspector": {
   "cols": {
    "lenName": 16,
    "lenType": 16,
    "lenVar": 40
   },
   "kernels_config": {
    "python": {
     "delete_cmd_postfix": "",
     "delete_cmd_prefix": "del ",
     "library": "var_list.py",
     "varRefreshCmd": "print(var_dic_list())"
    },
    "r": {
     "delete_cmd_postfix": ") ",
     "delete_cmd_prefix": "rm(",
     "library": "var_list.r",
     "varRefreshCmd": "cat(var_dic_list()) "
    }
   },
   "types_to_exclude": [
    "module",
    "function",
    "builtin_function_or_method",
    "instance",
    "_Feature"
   ],
   "window_display": false
  }
 },
 "nbformat": 4,
 "nbformat_minor": 5
}
