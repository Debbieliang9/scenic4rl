{
 "cells": [
  {
   "cell_type": "code",
   "execution_count": 1,
   "id": "d86a1362",
   "metadata": {
    "ExecuteTime": {
     "end_time": "2021-04-22T07:14:09.289830Z",
     "start_time": "2021-04-22T07:14:09.280805Z"
    }
   },
   "outputs": [],
   "source": [
    "import pickle\n",
    "from utils import Trajectory\n"
   ]
  },
  {
   "cell_type": "code",
   "execution_count": 2,
   "id": "e0d0a6d9",
   "metadata": {
    "ExecuteTime": {
     "end_time": "2021-04-22T07:14:11.879680Z",
     "start_time": "2021-04-22T07:14:10.878669Z"
    }
   },
   "outputs": [],
   "source": [
    "from ipynb.fs.full.common import *"
   ]
  },
  {
   "cell_type": "code",
   "execution_count": 3,
   "id": "8d8c9a4b",
   "metadata": {
    "ExecuteTime": {
     "end_time": "2021-04-22T07:14:16.596601Z",
     "start_time": "2021-04-22T07:14:16.593040Z"
    }
   },
   "outputs": [],
   "source": [
    "def load_data(trajectory_data):\n",
    "    import numpy as np\n",
    "    \n",
    "    \n",
    "    traj_ids, obs_flat, gt_flat = extract_data_from_trajs(trajectory_data)\n",
    "    print(\"1. Loaded Raw Obs: \", len(obs_flat), {obs.shape for obs in obs_flat}, np.unique(obs_flat))\n",
    "\n",
    "    proc_obs = preprocess_obs(obs_flat)\n",
    "    print(\"2. Preprocessed Obs: \", len(proc_obs), {obs.shape for obs in proc_obs}, np.unique(proc_obs))\n",
    "    \n",
    "    return traj_ids, obs_flat, gt_flat, proc_obs\n",
    "    "
   ]
  },
  {
   "cell_type": "code",
   "execution_count": 4,
   "id": "4eb6faea",
   "metadata": {
    "ExecuteTime": {
     "end_time": "2021-04-22T07:14:18.173073Z",
     "start_time": "2021-04-22T07:14:18.168389Z"
    }
   },
   "outputs": [],
   "source": [
    "def get_embedding(proc_obs, ae):\n",
    "    import torch\n",
    "    import numpy as np\n",
    "    data = torch.tensor(proc_obs).float()\n",
    "    \n",
    "    encoded = ae.encode(data)\n",
    "\n",
    "    print(\"1. Encoded Data: \",encoded.shape)\n",
    "    encoded_np = encoded.detach().numpy()\n",
    "    print(\"1. Encoded Data max, min, mean\", np.max(encoded_np), np.min(encoded_np), np.mean(encoded_np))\n",
    "    decoded = ae.decode(encoded)\n",
    "    print(\"2. Recons Data: \",decoded.shape)\n",
    "\n",
    "    flatten_obs = np.array(proc_obs)\n",
    "    flatten_obs = flatten_obs.reshape(-1, flatten_obs.shape[1]*flatten_obs.shape[2]*flatten_obs.shape[3])\n",
    "    print(\"3. Flatten\", flatten_obs.shape)\n",
    "\n",
    "    \n",
    "    return encoded, encoded_np, decoded, flatten_obs "
   ]
  },
  {
   "cell_type": "code",
   "execution_count": 5,
   "id": "9ab2d05c",
   "metadata": {
    "ExecuteTime": {
     "end_time": "2021-04-22T07:14:20.771191Z",
     "start_time": "2021-04-22T07:14:20.767436Z"
    }
   },
   "outputs": [],
   "source": [
    "def test_embedding_quality(trajectory_data, ae, ks = [5, 9], leaf_size=400):\n",
    "    \n",
    "    print(\"\\t...Loading Data\")\n",
    "    traj_ids, obs_flat, gt_flat, proc_obs = load_data(trajectory_data)\n",
    "    print(\"\\t...Generating Embedding\")\n",
    "    encoded, encoded_np, decoded, flatten_obs = get_embedding(proc_obs, ae)\n",
    "    \n",
    "    scores = {}\n",
    "    for K in ks:\n",
    "        match_score, _, _, _, _ = neighborhood_comparison(K, flatten_obs, encoded_np, leaf_size=leaf_size)\n",
    "        print(f\"K: {K} Match Score: {match_score:2f}\")\n",
    "        scores[K]=match_score\n",
    "        \n",
    "    return scores"
   ]
  },
  {
   "cell_type": "code",
   "execution_count": 8,
   "id": "c5a11692",
   "metadata": {
    "ExecuteTime": {
     "end_time": "2021-04-22T02:51:43.137268Z",
     "start_time": "2021-04-22T02:51:43.103161Z"
    }
   },
   "outputs": [],
   "source": [
    "random_ae = NatureAE(flat_dim=2560)\n",
    "pret_rte_ae_64_1000 = NatureAE.load_from_checkpoint(checkpoint_path=\"model_data/nature_ae_64_rts_1000.ckpt\")"
   ]
  },
  {
   "cell_type": "code",
   "execution_count": 6,
   "id": "7b7f146f",
   "metadata": {
    "ExecuteTime": {
     "end_time": "2021-04-22T07:14:34.095500Z",
     "start_time": "2021-04-22T07:14:32.659691Z"
    }
   },
   "outputs": [],
   "source": [
    "rts_rand_traj_5 = pickle.load(open(\"rts_rand_traj_5.pkl\",\"rb\"))\n",
    "rts_rand_traj_100 = pickle.load(open(\"rts_rand_traj_100.pkl\",\"rb\"))"
   ]
  },
  {
   "cell_type": "code",
   "execution_count": 8,
   "id": "3fc605c0",
   "metadata": {
    "ExecuteTime": {
     "end_time": "2021-04-22T00:37:11.682916Z",
     "start_time": "2021-04-22T00:36:41.302156Z"
    }
   },
   "outputs": [
    {
     "name": "stdout",
     "output_type": "stream",
     "text": [
      "Random RTS 5  + Random AE\n",
      "\t...Loading Data\n",
      "1. Loaded Raw Obs:  631 {(72, 96, 16)} [  0 255]\n",
      "2. Preprocessed Obs:  631 {(4, 72, 96)} [0. 1.]\n",
      "\t...Generating Embedding\n",
      "1. Encoded Data:  torch.Size([631, 2])\n",
      "1. Encoded Data max, min, mean 0.028704867 0.019616608 0.023952829\n",
      "2. Recons Data:  torch.Size([631, 4, 72, 96])\n",
      "3. Flatten (631, 27648)\n",
      "K: 5 Match Score: 0.329635\n",
      "K: 9 Match Score: 0.637084\n"
     ]
    },
    {
     "data": {
      "text/plain": [
       "{5: 0.329635499207607, 9: 0.6370839936608558}"
      ]
     },
     "execution_count": 8,
     "metadata": {},
     "output_type": "execute_result"
    }
   ],
   "source": [
    "print(\"Random RTS 5  + Random AE\")\n",
    "test_embedding_quality(rts_rand_traj_5, random_ae)"
   ]
  },
  {
   "cell_type": "code",
   "execution_count": 9,
   "id": "f037e490",
   "metadata": {
    "ExecuteTime": {
     "end_time": "2021-04-22T00:37:41.086469Z",
     "start_time": "2021-04-22T00:37:11.686789Z"
    }
   },
   "outputs": [
    {
     "name": "stdout",
     "output_type": "stream",
     "text": [
      "Random RTS 5 + pret_rte_ae_64_1000\n",
      "\t...Loading Data\n",
      "1. Loaded Raw Obs:  631 {(72, 96, 16)} [  0 255]\n",
      "2. Preprocessed Obs:  631 {(4, 72, 96)} [0. 1.]\n",
      "\t...Generating Embedding\n",
      "1. Encoded Data:  torch.Size([631, 64])\n",
      "1. Encoded Data max, min, mean 16.047356 0.0 2.247074\n",
      "2. Recons Data:  torch.Size([631, 4, 72, 96])\n",
      "3. Flatten (631, 27648)\n",
      "K: 5 Match Score: 3.044374\n",
      "K: 9 Match Score: 5.232964\n"
     ]
    },
    {
     "data": {
      "text/plain": [
       "{5: 3.0443740095087164, 9: 5.23296354992076}"
      ]
     },
     "execution_count": 9,
     "metadata": {},
     "output_type": "execute_result"
    }
   ],
   "source": [
    "print(\"Random RTS 5 + pret_rte_ae_64_1000\")\n",
    "test_embedding_quality(rts_rand_traj_5, pret_rte_ae_64_1000)"
   ]
  },
  {
   "cell_type": "code",
   "execution_count": 10,
   "id": "dbc8cad8",
   "metadata": {
    "ExecuteTime": {
     "end_time": "2021-04-22T00:39:21.649782Z",
     "start_time": "2021-04-22T00:37:41.089048Z"
    }
   },
   "outputs": [
    {
     "name": "stdout",
     "output_type": "stream",
     "text": [
      "Random RTS 10  + pret_rte_ae_64_1000\n",
      "\t...Loading Data\n",
      "1. Loaded Raw Obs:  1178 {(72, 96, 16)} [  0 255]\n",
      "2. Preprocessed Obs:  1178 {(4, 72, 96)} [0. 1.]\n",
      "\t...Generating Embedding\n",
      "1. Encoded Data:  torch.Size([1178, 64])\n",
      "1. Encoded Data max, min, mean 15.73028 0.0 2.2597044\n",
      "2. Recons Data:  torch.Size([1178, 4, 72, 96])\n",
      "3. Flatten (1178, 27648)\n",
      "K: 5 Match Score: 3.024618\n",
      "K: 9 Match Score: 4.889643\n"
     ]
    },
    {
     "data": {
      "text/plain": [
       "{5: 3.024617996604414, 9: 4.889643463497453}"
      ]
     },
     "execution_count": 10,
     "metadata": {},
     "output_type": "execute_result"
    }
   ],
   "source": [
    "print(\"Random RTS 10  + pret_rte_ae_64_1000\")\n",
    "\n",
    "rts_rand_traj_10 = rts_rand_traj_100[0:10]\n",
    "\n",
    "test_embedding_quality(rts_rand_traj_10, pret_rte_ae_64_1000)"
   ]
  },
  {
   "cell_type": "code",
   "execution_count": 7,
   "id": "563f5f39",
   "metadata": {
    "ExecuteTime": {
     "end_time": "2021-04-22T07:15:00.405819Z",
     "start_time": "2021-04-22T07:14:58.715662Z"
    }
   },
   "outputs": [],
   "source": [
    "pns_rand_100 = pickle.load(open(\"data/pass_n_shoot_rand_traj_100.pkl\",\"rb\"))"
   ]
  },
  {
   "cell_type": "code",
   "execution_count": 8,
   "id": "36af53da",
   "metadata": {
    "ExecuteTime": {
     "end_time": "2021-04-22T07:15:06.476185Z",
     "start_time": "2021-04-22T07:15:06.400230Z"
    }
   },
   "outputs": [],
   "source": [
    "easy_counter_rand_10 = pickle.load(open(\"data/easy_counter_rand_traj_10.pkl\",\"rb\"))"
   ]
  },
  {
   "cell_type": "code",
   "execution_count": 9,
   "id": "71ea2737",
   "metadata": {
    "ExecuteTime": {
     "end_time": "2021-04-22T07:15:08.531948Z",
     "start_time": "2021-04-22T07:15:08.435608Z"
    }
   },
   "outputs": [],
   "source": [
    "_3v1_rand_10 = pickle.load(open(\"data/3v1_rand_traj_10.pkl\",\"rb\"))"
   ]
  },
  {
   "cell_type": "code",
   "execution_count": 13,
   "id": "b4813009",
   "metadata": {
    "ExecuteTime": {
     "end_time": "2021-04-22T00:45:42.652261Z",
     "start_time": "2021-04-22T00:41:53.409222Z"
    }
   },
   "outputs": [
    {
     "name": "stdout",
     "output_type": "stream",
     "text": [
      "Random Pass and Shoot 10  + random\n",
      "\t...Loading Data\n",
      "1. Loaded Raw Obs:  1855 {(72, 96, 16)} [  0 255]\n",
      "2. Preprocessed Obs:  1855 {(4, 72, 96)} [0. 1.]\n",
      "\t...Generating Embedding\n",
      "1. Encoded Data:  torch.Size([1855, 2])\n",
      "1. Encoded Data max, min, mean 0.028563423 0.018904222 0.024005113\n",
      "2. Recons Data:  torch.Size([1855, 4, 72, 96])\n",
      "3. Flatten (1855, 27648)\n",
      "K: 5 Match Score: 0.263073\n",
      "K: 9 Match Score: 0.449596\n"
     ]
    },
    {
     "data": {
      "text/plain": [
       "{5: 0.26307277628032344, 9: 0.4495956873315364}"
      ]
     },
     "execution_count": 13,
     "metadata": {},
     "output_type": "execute_result"
    }
   ],
   "source": [
    "print(\"Random Pass and Shoot 10  + random\")\n",
    "test_embedding_quality(pns_rand_100[0:10], random_ae)"
   ]
  },
  {
   "cell_type": "code",
   "execution_count": 9,
   "id": "69d2a638",
   "metadata": {
    "ExecuteTime": {
     "end_time": "2021-04-22T02:53:01.357394Z",
     "start_time": "2021-04-22T02:52:23.908566Z"
    }
   },
   "outputs": [
    {
     "name": "stdout",
     "output_type": "stream",
     "text": [
      "Random Easy Cuunter 10  + pret_rte_ae_64_1000\n",
      "\t...Loading Data\n",
      "1. Loaded Raw Obs:  693 {(72, 96, 16)} [  0 255]\n",
      "2. Preprocessed Obs:  693 {(4, 72, 96)} [0. 1.]\n",
      "\t...Generating Embedding\n",
      "1. Encoded Data:  torch.Size([693, 64])\n",
      "1. Encoded Data max, min, mean 14.413122 0.0 2.5350876\n",
      "2. Recons Data:  torch.Size([693, 4, 72, 96])\n",
      "3. Flatten (693, 27648)\n",
      "K: 5 Match Score: 2.927850\n",
      "K: 9 Match Score: 5.053391\n"
     ]
    },
    {
     "data": {
      "text/plain": [
       "{5: 2.9278499278499277, 9: 5.053391053391054}"
      ]
     },
     "execution_count": 9,
     "metadata": {},
     "output_type": "execute_result"
    }
   ],
   "source": [
    "print(\"Random Easy Cuunter 10  + pret_rte_ae_64_1000\")\n",
    "test_embedding_quality(easy_counter_rand_10, pret_rte_ae_64_1000)"
   ]
  },
  {
   "cell_type": "code",
   "execution_count": 12,
   "id": "e3b48fc6",
   "metadata": {
    "ExecuteTime": {
     "end_time": "2021-04-22T02:56:49.249118Z",
     "start_time": "2021-04-22T02:55:46.554767Z"
    }
   },
   "outputs": [
    {
     "name": "stdout",
     "output_type": "stream",
     "text": [
      "Random 3v1 10  + pret_rte_ae_64_1000\n",
      "\t...Loading Data\n",
      "1. Loaded Raw Obs:  927 {(72, 96, 16)} [  0 255]\n",
      "2. Preprocessed Obs:  927 {(4, 72, 96)} [0. 1.]\n",
      "\t...Generating Embedding\n",
      "1. Encoded Data:  torch.Size([927, 64])\n",
      "1. Encoded Data max, min, mean 10.874697 0.0 2.1587253\n",
      "2. Recons Data:  torch.Size([927, 4, 72, 96])\n",
      "3. Flatten (927, 27648)\n",
      "K: 5 Match Score: 1.919094\n",
      "K: 9 Match Score: 3.245955\n"
     ]
    },
    {
     "data": {
      "text/plain": [
       "{5: 1.919093851132686, 9: 3.2459546925566345}"
      ]
     },
     "execution_count": 12,
     "metadata": {},
     "output_type": "execute_result"
    }
   ],
   "source": [
    "print(\"Random 3v1 10  + pret_rte_ae_64_1000\")\n",
    "test_embedding_quality(_3v1_rand_10, pret_rte_ae_64_1000)"
   ]
  },
  {
   "cell_type": "code",
   "execution_count": 14,
   "id": "55b74a4b",
   "metadata": {
    "ExecuteTime": {
     "end_time": "2021-04-22T00:57:00.550034Z",
     "start_time": "2021-04-22T00:53:03.137333Z"
    }
   },
   "outputs": [
    {
     "name": "stdout",
     "output_type": "stream",
     "text": [
      "Random Pass and Shoot 10  + pret_rte_ae_64_1000\n",
      "\t...Loading Data\n",
      "1. Loaded Raw Obs:  1855 {(72, 96, 16)} [  0 255]\n",
      "2. Preprocessed Obs:  1855 {(4, 72, 96)} [0. 1.]\n",
      "\t...Generating Embedding\n",
      "1. Encoded Data:  torch.Size([1855, 64])\n",
      "1. Encoded Data max, min, mean 12.200652 0.0 2.145445\n",
      "2. Recons Data:  torch.Size([1855, 4, 72, 96])\n",
      "3. Flatten (1855, 27648)\n",
      "K: 5 Match Score: 2.115903\n",
      "K: 9 Match Score: 3.554178\n"
     ]
    },
    {
     "data": {
      "text/plain": [
       "{5: 2.115902964959569, 9: 3.554177897574124}"
      ]
     },
     "execution_count": 14,
     "metadata": {},
     "output_type": "execute_result"
    }
   ],
   "source": [
    "print(\"Random Pass and Shoot 10  + pret_rte_ae_64_1000\")\n",
    "test_embedding_quality(pns_rand_100[0:10], pret_rte_ae_64_1000)"
   ]
  },
  {
   "cell_type": "code",
   "execution_count": 14,
   "id": "fdfb2bcc",
   "metadata": {
    "ExecuteTime": {
     "end_time": "2021-04-22T02:59:48.722115Z",
     "start_time": "2021-04-22T02:59:48.655817Z"
    }
   },
   "outputs": [],
   "source": [
    "rte_ae_64_100 = NatureAE.load_from_checkpoint(checkpoint_path=\"models/nature_ae_64_rts_100.ckpt\")"
   ]
  },
  {
   "cell_type": "code",
   "execution_count": 16,
   "id": "94df0abf",
   "metadata": {
    "ExecuteTime": {
     "end_time": "2021-04-22T01:27:08.139722Z",
     "start_time": "2021-04-22T01:25:21.058979Z"
    }
   },
   "outputs": [
    {
     "name": "stdout",
     "output_type": "stream",
     "text": [
      "Random RTS 10  + rte_ae_64_100\n",
      "\t...Loading Data\n",
      "1. Loaded Raw Obs:  1178 {(72, 96, 16)} [  0 255]\n",
      "2. Preprocessed Obs:  1178 {(4, 72, 96)} [0. 1.]\n",
      "\t...Generating Embedding\n",
      "1. Encoded Data:  torch.Size([1178, 64])\n",
      "1. Encoded Data max, min, mean 12.36917 0.0 0.24070898\n",
      "2. Recons Data:  torch.Size([1178, 4, 72, 96])\n",
      "3. Flatten (1178, 27648)\n",
      "K: 5 Match Score: 2.216469\n",
      "K: 9 Match Score: 3.803056\n"
     ]
    },
    {
     "data": {
      "text/plain": [
       "{5: 2.2164685908319184, 9: 3.803056027164686}"
      ]
     },
     "execution_count": 16,
     "metadata": {},
     "output_type": "execute_result"
    }
   ],
   "source": [
    "print(\"Random RTS 10  + rte_ae_64_100\")\n",
    "test_embedding_quality(rts_rand_traj_100[0:10], rte_ae_64_100)"
   ]
  },
  {
   "cell_type": "code",
   "execution_count": 15,
   "id": "f65b9423",
   "metadata": {
    "ExecuteTime": {
     "end_time": "2021-04-22T03:00:27.901726Z",
     "start_time": "2021-04-22T02:59:51.896371Z"
    }
   },
   "outputs": [
    {
     "name": "stdout",
     "output_type": "stream",
     "text": [
      "Random Easy Cuunter 10  + rte_ae_64_100\n",
      "\t...Loading Data\n",
      "1. Loaded Raw Obs:  693 {(72, 96, 16)} [  0 255]\n",
      "2. Preprocessed Obs:  693 {(4, 72, 96)} [0. 1.]\n",
      "\t...Generating Embedding\n",
      "1. Encoded Data:  torch.Size([693, 64])\n",
      "1. Encoded Data max, min, mean 6.5344625 0.0 0.39137703\n",
      "2. Recons Data:  torch.Size([693, 4, 72, 96])\n",
      "3. Flatten (693, 27648)\n",
      "K: 5 Match Score: 2.088023\n",
      "K: 9 Match Score: 3.910534\n"
     ]
    },
    {
     "data": {
      "text/plain": [
       "{5: 2.088023088023088, 9: 3.9105339105339105}"
      ]
     },
     "execution_count": 15,
     "metadata": {},
     "output_type": "execute_result"
    }
   ],
   "source": [
    "print(\"Random Easy Cuunter 10  + rte_ae_64_100\")\n",
    "test_embedding_quality(easy_counter_rand_10, rte_ae_64_100)"
   ]
  },
  {
   "cell_type": "code",
   "execution_count": 16,
   "id": "b661df5d",
   "metadata": {
    "ExecuteTime": {
     "end_time": "2021-04-22T03:02:01.056181Z",
     "start_time": "2021-04-22T03:00:57.240211Z"
    }
   },
   "outputs": [
    {
     "name": "stdout",
     "output_type": "stream",
     "text": [
      "Random 3v1 10  + rte_ae_64_100\n",
      "\t...Loading Data\n",
      "1. Loaded Raw Obs:  927 {(72, 96, 16)} [  0 255]\n",
      "2. Preprocessed Obs:  927 {(4, 72, 96)} [0. 1.]\n",
      "\t...Generating Embedding\n",
      "1. Encoded Data:  torch.Size([927, 64])\n",
      "1. Encoded Data max, min, mean 3.0973241 0.0 0.1366758\n",
      "2. Recons Data:  torch.Size([927, 4, 72, 96])\n",
      "3. Flatten (927, 27648)\n",
      "K: 5 Match Score: 1.728155\n",
      "K: 9 Match Score: 3.019417\n"
     ]
    },
    {
     "data": {
      "text/plain": [
       "{5: 1.7281553398058251, 9: 3.0194174757281553}"
      ]
     },
     "execution_count": 16,
     "metadata": {},
     "output_type": "execute_result"
    }
   ],
   "source": [
    "print(\"Random 3v1 10  + rte_ae_64_100\")\n",
    "test_embedding_quality(_3v1_rand_10, rte_ae_64_100)"
   ]
  },
  {
   "cell_type": "code",
   "execution_count": 19,
   "id": "17d87155",
   "metadata": {
    "ExecuteTime": {
     "end_time": "2021-04-22T03:07:36.500681Z",
     "start_time": "2021-04-22T03:03:41.621989Z"
    }
   },
   "outputs": [
    {
     "name": "stdout",
     "output_type": "stream",
     "text": [
      "Random Pass and Shoot 10  + rte_ae_64_100\n",
      "\t...Loading Data\n",
      "1. Loaded Raw Obs:  1855 {(72, 96, 16)} [  0 255]\n",
      "2. Preprocessed Obs:  1855 {(4, 72, 96)} [0. 1.]\n",
      "\t...Generating Embedding\n",
      "1. Encoded Data:  torch.Size([1855, 64])\n",
      "1. Encoded Data max, min, mean 2.9609768 0.0 0.14203393\n",
      "2. Recons Data:  torch.Size([1855, 4, 72, 96])\n",
      "3. Flatten (1855, 27648)\n",
      "K: 5 Match Score: 1.969811\n",
      "K: 9 Match Score: 3.371429\n"
     ]
    },
    {
     "data": {
      "text/plain": [
       "{5: 1.969811320754717, 9: 3.3714285714285714}"
      ]
     },
     "execution_count": 19,
     "metadata": {},
     "output_type": "execute_result"
    }
   ],
   "source": [
    "print(\"Random Pass and Shoot 10  + rte_ae_64_100\")\n",
    "test_embedding_quality(pns_rand_100[0:10], rte_ae_64_100)"
   ]
  },
  {
   "cell_type": "code",
   "execution_count": 31,
   "id": "cd64a9ff",
   "metadata": {
    "ExecuteTime": {
     "end_time": "2021-04-22T07:09:12.733432Z",
     "start_time": "2021-04-22T07:04:40.264328Z"
    }
   },
   "outputs": [
    {
     "name": "stdout",
     "output_type": "stream",
     "text": [
      "Testing:  Run To Score\n",
      "\t...Loading Data\n",
      "1. Loaded Raw Obs:  1178 {(72, 96, 16)} [  0 255]\n",
      "2. Preprocessed Obs:  1178 {(4, 72, 96)} [0. 1.]\n",
      "\t...Generating Embedding\n",
      "1. Encoded Data:  torch.Size([1178, 2048])\n",
      "1. Encoded Data max, min, mean 0.050157707 0.0 0.00628261\n",
      "2. Recons Data:  torch.Size([1178, 4, 72, 96])\n",
      "3. Flatten (1178, 27648)\n",
      "K: 5 Match Score: 2.844652\n",
      "\n",
      "Testing:  3 vs 1\n",
      "\t...Loading Data\n",
      "1. Loaded Raw Obs:  927 {(72, 96, 16)} [  0 255]\n",
      "2. Preprocessed Obs:  927 {(4, 72, 96)} [0. 1.]\n",
      "\t...Generating Embedding\n",
      "1. Encoded Data:  torch.Size([927, 2048])\n",
      "1. Encoded Data max, min, mean 0.04958695 0.0 0.0062758634\n",
      "2. Recons Data:  torch.Size([927, 4, 72, 96])\n",
      "3. Flatten (927, 27648)\n",
      "K: 5 Match Score: 2.565264\n",
      "\n",
      "Testing:  Easy Counter\n",
      "\t...Loading Data\n",
      "1. Loaded Raw Obs:  693 {(72, 96, 16)} [  0 255]\n",
      "2. Preprocessed Obs:  693 {(4, 72, 96)} [0. 1.]\n",
      "\t...Generating Embedding\n",
      "1. Encoded Data:  torch.Size([693, 2048])\n",
      "1. Encoded Data max, min, mean 0.050560053 0.0 0.0062970524\n",
      "2. Recons Data:  torch.Size([693, 4, 72, 96])\n",
      "3. Flatten (693, 27648)\n",
      "K: 5 Match Score: 3.102453\n",
      "\n",
      "Testing:  Pass and Shoot\n",
      "\t...Loading Data\n",
      "1. Loaded Raw Obs:  1855 {(72, 96, 16)} [  0 255]\n",
      "2. Preprocessed Obs:  1855 {(4, 72, 96)} [0. 1.]\n",
      "\t...Generating Embedding\n",
      "1. Encoded Data:  torch.Size([1855, 2048])\n",
      "1. Encoded Data max, min, mean 0.04974369 0.0 0.006276461\n",
      "2. Recons Data:  torch.Size([1855, 4, 72, 96])\n",
      "3. Flatten (1855, 27648)\n",
      "K: 5 Match Score: 2.571429\n",
      "\n",
      "{'Run To Score': {5: 2.8446519524617995}, '3 vs 1': {5: 2.565264293419633}, 'Easy Counter': {5: 3.1024531024531026}, 'Pass and Shoot': {5: 2.5714285714285716}}\n"
     ]
    }
   ],
   "source": [
    "test_ds = { \"Run To Score\" : rts_rand_traj_100[0:10],\n",
    "            \"3 vs 1\": _3v1_rand_10,\n",
    "            \"Easy Counter\": easy_counter_rand_10,\n",
    "            \"Pass and Shoot\": pns_rand_100[0:10]}\n",
    "\n",
    "random_ae = NatureAE(flat_dim=2560, latent_dim=2048)\n",
    "scores = {}\n",
    "for name, ds in test_ds.items():\n",
    "    print(\"Testing: \", name)\n",
    "    s = test_embedding_quality(ds, random_ae , ks = [5], leaf_size=400)\n",
    "    scores[name]=s\n",
    "\n",
    "    print()\n",
    "    \n",
    "print(scores)"
   ]
  },
  {
   "cell_type": "code",
   "execution_count": 23,
   "id": "625920d7",
   "metadata": {
    "ExecuteTime": {
     "end_time": "2021-04-22T06:24:32.749350Z",
     "start_time": "2021-04-22T06:20:29.643158Z"
    }
   },
   "outputs": [
    {
     "name": "stdout",
     "output_type": "stream",
     "text": [
      "Testing:  Run To Score\n",
      "\t...Loading Data\n",
      "1. Loaded Raw Obs:  1178 {(72, 96, 16)} [  0 255]\n",
      "2. Preprocessed Obs:  1178 {(4, 72, 96)} [0. 1.]\n",
      "\t...Generating Embedding\n",
      "1. Encoded Data:  torch.Size([1178, 8])\n",
      "1. Encoded Data max, min, mean 0.027482502 0.0 0.0083416095\n",
      "2. Recons Data:  torch.Size([1178, 4, 72, 96])\n",
      "3. Flatten (1178, 27648)\n",
      "K: 5 Match Score: 0.269100\n",
      "Testing:  3 vs 1\n",
      "\t...Loading Data\n",
      "1. Loaded Raw Obs:  927 {(72, 96, 16)} [  0 255]\n",
      "2. Preprocessed Obs:  927 {(4, 72, 96)} [0. 1.]\n",
      "\t...Generating Embedding\n",
      "1. Encoded Data:  torch.Size([927, 8])\n",
      "1. Encoded Data max, min, mean 0.027228521 0.0 0.00834634\n",
      "2. Recons Data:  torch.Size([927, 4, 72, 96])\n",
      "3. Flatten (927, 27648)\n",
      "K: 5 Match Score: 0.477886\n",
      "Testing:  Easy Counter\n",
      "\t...Loading Data\n",
      "1. Loaded Raw Obs:  693 {(72, 96, 16)} [  0 255]\n",
      "2. Preprocessed Obs:  693 {(4, 72, 96)} [0. 1.]\n",
      "\t...Generating Embedding\n",
      "1. Encoded Data:  torch.Size([693, 8])\n",
      "1. Encoded Data max, min, mean 0.028454682 0.0 0.008402378\n",
      "2. Recons Data:  torch.Size([693, 4, 72, 96])\n",
      "3. Flatten (693, 27648)\n",
      "K: 5 Match Score: 0.344877\n",
      "Testing:  Pass and Shoot\n",
      "\t...Loading Data\n",
      "1. Loaded Raw Obs:  1855 {(72, 96, 16)} [  0 255]\n",
      "2. Preprocessed Obs:  1855 {(4, 72, 96)} [0. 1.]\n",
      "\t...Generating Embedding\n",
      "1. Encoded Data:  torch.Size([1855, 8])\n",
      "1. Encoded Data max, min, mean 0.027404012 0.0 0.008335747\n",
      "2. Recons Data:  torch.Size([1855, 4, 72, 96])\n",
      "3. Flatten (1855, 27648)\n",
      "K: 5 Match Score: 0.406469\n"
     ]
    }
   ],
   "source": [
    "test_ds = { \"Run To Score\" : rts_rand_traj_100[0:10],\n",
    "            \"3 vs 1\": _3v1_rand_10,\n",
    "            \"Easy Counter\": easy_counter_rand_10,\n",
    "            \"Pass and Shoot\": pns_rand_100[0:10]}\n",
    "\n",
    "random_ae = NatureAE(flat_dim=2560, latent_dim=8)\n",
    "scores = {}\n",
    "for name, ds in test_ds.items():\n",
    "    print(\"Testing: \", name)\n",
    "    s = test_embedding_quality(ds, random_ae , ks = [5], leaf_size=400)\n",
    "    scores[name]=s"
   ]
  },
  {
   "cell_type": "code",
   "execution_count": 24,
   "id": "260fe9bf",
   "metadata": {
    "ExecuteTime": {
     "end_time": "2021-04-22T06:26:24.782883Z",
     "start_time": "2021-04-22T06:26:24.778480Z"
    }
   },
   "outputs": [
    {
     "data": {
      "text/plain": [
       "{'Run To Score': {5: 0.2691001697792869},\n",
       " '3 vs 1': {5: 0.4778856526429342},\n",
       " 'Easy Counter': {5: 0.3448773448773449},\n",
       " 'Pass and Shoot': {5: 0.4064690026954178}}"
      ]
     },
     "execution_count": 24,
     "metadata": {},
     "output_type": "execute_result"
    }
   ],
   "source": [
    "scores"
   ]
  },
  {
   "cell_type": "code",
   "execution_count": 25,
   "id": "c7116a30",
   "metadata": {
    "ExecuteTime": {
     "end_time": "2021-04-22T06:31:47.744258Z",
     "start_time": "2021-04-22T06:27:37.468096Z"
    }
   },
   "outputs": [
    {
     "name": "stdout",
     "output_type": "stream",
     "text": [
      "Testing:  Run To Score\n",
      "\t...Loading Data\n",
      "1. Loaded Raw Obs:  1178 {(72, 96, 16)} [  0 255]\n",
      "2. Preprocessed Obs:  1178 {(4, 72, 96)} [0. 1.]\n",
      "\t...Generating Embedding\n",
      "1. Encoded Data:  torch.Size([1178, 2])\n",
      "1. Encoded Data max, min, mean 0.0019134113 0.0 9.22515e-05\n",
      "2. Recons Data:  torch.Size([1178, 4, 72, 96])\n",
      "3. Flatten (1178, 27648)\n",
      "K: 5 Match Score: 0.047538\n",
      "\n",
      "Testing:  3 vs 1\n",
      "\t...Loading Data\n",
      "1. Loaded Raw Obs:  927 {(72, 96, 16)} [  0 255]\n",
      "2. Preprocessed Obs:  927 {(4, 72, 96)} [0. 1.]\n",
      "\t...Generating Embedding\n",
      "1. Encoded Data:  torch.Size([927, 2])\n",
      "1. Encoded Data max, min, mean 0.0016815114 0.0 5.0206858e-05\n",
      "2. Recons Data:  torch.Size([927, 4, 72, 96])\n",
      "3. Flatten (927, 27648)\n",
      "K: 5 Match Score: 0.047465\n",
      "\n",
      "Testing:  Easy Counter\n",
      "\t...Loading Data\n",
      "1. Loaded Raw Obs:  693 {(72, 96, 16)} [  0 255]\n",
      "2. Preprocessed Obs:  693 {(4, 72, 96)} [0. 1.]\n",
      "\t...Generating Embedding\n",
      "1. Encoded Data:  torch.Size([693, 2])\n",
      "1. Encoded Data max, min, mean 0.0036977953 0.0 0.000219903\n",
      "2. Recons Data:  torch.Size([693, 4, 72, 96])\n",
      "3. Flatten (693, 27648)\n",
      "K: 5 Match Score: 0.115440\n",
      "\n",
      "Testing:  Pass and Shoot\n",
      "\t...Loading Data\n",
      "1. Loaded Raw Obs:  1855 {(72, 96, 16)} [  0 255]\n",
      "2. Preprocessed Obs:  1855 {(4, 72, 96)} [0. 1.]\n",
      "\t...Generating Embedding\n",
      "1. Encoded Data:  torch.Size([1855, 2])\n",
      "1. Encoded Data max, min, mean 0.0017551727 0.0 6.441164e-05\n",
      "2. Recons Data:  torch.Size([1855, 4, 72, 96])\n",
      "3. Flatten (1855, 27648)\n",
      "K: 5 Match Score: 0.080863\n",
      "\n",
      "{'Run To Score': {5: 0.04753820033955857}, '3 vs 1': {5: 0.04746494066882417}, 'Easy Counter': {5: 0.11544011544011544}, 'Pass and Shoot': {5: 0.08086253369272237}}\n"
     ]
    }
   ],
   "source": [
    "test_ds = { \"Run To Score\" : rts_rand_traj_100[0:10],\n",
    "            \"3 vs 1\": _3v1_rand_10,\n",
    "            \"Easy Counter\": easy_counter_rand_10,\n",
    "            \"Pass and Shoot\": pns_rand_100[0:10]}\n",
    "\n",
    "random_ae = NatureAE(flat_dim=2560, latent_dim=2)\n",
    "scores = {}\n",
    "for name, ds in test_ds.items():\n",
    "    print(\"Testing: \", name)\n",
    "    s = test_embedding_quality(ds, random_ae , ks = [5], leaf_size=400)\n",
    "    scores[name]=s\n",
    "\n",
    "    print()\n",
    "    \n",
    "print(scores)"
   ]
  },
  {
   "cell_type": "code",
   "execution_count": 20,
   "id": "1b5215e5",
   "metadata": {
    "ExecuteTime": {
     "end_time": "2021-04-22T03:45:49.469271Z",
     "start_time": "2021-04-22T03:45:49.453254Z"
    }
   },
   "outputs": [],
   "source": [
    "rts_ae_8_1000 = NatureAE.load_from_checkpoint(checkpoint_path=\"models/nature_ae_8_rts_1000.ckpt\")"
   ]
  },
  {
   "cell_type": "code",
   "execution_count": null,
   "id": "ae091706",
   "metadata": {},
   "outputs": [],
   "source": []
  },
  {
   "cell_type": "code",
   "execution_count": 25,
   "id": "7e06a54d",
   "metadata": {
    "ExecuteTime": {
     "end_time": "2021-04-22T03:57:59.184972Z",
     "start_time": "2021-04-22T03:50:55.714449Z"
    }
   },
   "outputs": [
    {
     "name": "stdout",
     "output_type": "stream",
     "text": [
      "Testing:  Run To Score\n",
      "\t...Loading Data\n",
      "1. Loaded Raw Obs:  1178 {(72, 96, 16)} [  0 255]\n",
      "2. Preprocessed Obs:  1178 {(4, 72, 96)} [0. 1.]\n",
      "\t...Generating Embedding\n",
      "1. Encoded Data:  torch.Size([1178, 8])\n",
      "1. Encoded Data max, min, mean 0.0 0.0 0.0\n",
      "2. Recons Data:  torch.Size([1178, 4, 72, 96])\n",
      "3. Flatten (1178, 27648)\n",
      "K: 5 Match Score: -0.943124\n",
      "K: 9 Match Score: -0.882852\n",
      "Testing:  3 vs 1\n",
      "\t...Loading Data\n",
      "1. Loaded Raw Obs:  927 {(72, 96, 16)} [  0 255]\n",
      "2. Preprocessed Obs:  927 {(4, 72, 96)} [0. 1.]\n",
      "\t...Generating Embedding\n",
      "1. Encoded Data:  torch.Size([927, 8])\n",
      "1. Encoded Data max, min, mean 0.0 0.0 0.0\n",
      "2. Recons Data:  torch.Size([927, 4, 72, 96])\n",
      "3. Flatten (927, 27648)\n",
      "K: 5 Match Score: -0.925566\n",
      "K: 9 Match Score: -0.837109\n",
      "Testing:  Easy Counter\n",
      "\t...Loading Data\n",
      "1. Loaded Raw Obs:  693 {(72, 96, 16)} [  0 255]\n",
      "2. Preprocessed Obs:  693 {(4, 72, 96)} [0. 1.]\n",
      "\t...Generating Embedding\n",
      "1. Encoded Data:  torch.Size([693, 8])\n",
      "1. Encoded Data max, min, mean 0.0 0.0 0.0\n",
      "2. Recons Data:  torch.Size([693, 4, 72, 96])\n",
      "3. Flatten (693, 27648)\n",
      "K: 5 Match Score: -0.924964\n",
      "K: 9 Match Score: -0.821068\n",
      "Testing:  Pass and Shoot\n",
      "\t...Loading Data\n",
      "1. Loaded Raw Obs:  1855 {(72, 96, 16)} [  0 255]\n",
      "2. Preprocessed Obs:  1855 {(4, 72, 96)} [0. 1.]\n",
      "\t...Generating Embedding\n",
      "1. Encoded Data:  torch.Size([1855, 8])\n",
      "1. Encoded Data max, min, mean 0.0 0.0 0.0\n",
      "2. Recons Data:  torch.Size([1855, 4, 72, 96])\n",
      "3. Flatten (1855, 27648)\n",
      "K: 5 Match Score: -0.961186\n",
      "K: 9 Match Score: -0.926685\n"
     ]
    }
   ],
   "source": [
    "test_ds = { \"Run To Score\" : rts_rand_traj_100[0:10],\n",
    "            \"3 vs 1\": _3v1_rand_10,\n",
    "            \"Easy Counter\": easy_counter_rand_10,\n",
    "            \"Pass and Shoot\": pns_rand_100[0:10]}\n",
    "\n",
    "\n",
    "scores = {}\n",
    "for name, ds in test_ds.items():\n",
    "    print(\"Testing: \", name)\n",
    "    s = test_embedding_quality(ds, rts_ae_8_1000, ks = [5, 9], leaf_size=400)\n",
    "    scores[name]=s\n",
    "    \n"
   ]
  },
  {
   "cell_type": "code",
   "execution_count": 26,
   "id": "be4e7fcf",
   "metadata": {
    "ExecuteTime": {
     "end_time": "2021-04-22T03:59:52.255719Z",
     "start_time": "2021-04-22T03:59:52.250576Z"
    }
   },
   "outputs": [
    {
     "data": {
      "text/plain": [
       "{'Run To Score': {5: -0.9431239388794567, 9: -0.8828522920203735},\n",
       " '3 vs 1': {5: -0.9255663430420712, 9: -0.837108953613808},\n",
       " 'Easy Counter': {5: -0.924963924963925, 9: -0.8210678210678211},\n",
       " 'Pass and Shoot': {5: -0.9611859838274932, 9: -0.9266846361185984}}"
      ]
     },
     "execution_count": 26,
     "metadata": {},
     "output_type": "execute_result"
    }
   ],
   "source": [
    "scores"
   ]
  },
  {
   "cell_type": "code",
   "execution_count": 29,
   "id": "6ccaf828",
   "metadata": {
    "ExecuteTime": {
     "end_time": "2021-04-22T06:46:57.709691Z",
     "start_time": "2021-04-22T06:42:51.912074Z"
    }
   },
   "outputs": [
    {
     "name": "stdout",
     "output_type": "stream",
     "text": [
      "Testing:  Run To Score\n",
      "\t...Loading Data\n",
      "1. Loaded Raw Obs:  1178 {(72, 96, 16)} [  0 255]\n",
      "2. Preprocessed Obs:  1178 {(4, 72, 96)} [0. 1.]\n",
      "\t...Generating Embedding\n",
      "1. Encoded Data:  torch.Size([1178, 8])\n",
      "1. Encoded Data max, min, mean 0.0 0.0 0.0\n",
      "2. Recons Data:  torch.Size([1178, 4, 72, 96])\n",
      "3. Flatten (1178, 27648)\n",
      "K: 5 Match Score: 0.008489\n",
      "Testing:  3 vs 1\n",
      "\t...Loading Data\n",
      "1. Loaded Raw Obs:  927 {(72, 96, 16)} [  0 255]\n",
      "2. Preprocessed Obs:  927 {(4, 72, 96)} [0. 1.]\n",
      "\t...Generating Embedding\n",
      "1. Encoded Data:  torch.Size([927, 8])\n",
      "1. Encoded Data max, min, mean 0.0 0.0 0.0\n",
      "2. Recons Data:  torch.Size([927, 4, 72, 96])\n",
      "3. Flatten (927, 27648)\n",
      "K: 5 Match Score: 0.020496\n",
      "Testing:  Easy Counter\n",
      "\t...Loading Data\n",
      "1. Loaded Raw Obs:  693 {(72, 96, 16)} [  0 255]\n",
      "2. Preprocessed Obs:  693 {(4, 72, 96)} [0. 1.]\n",
      "\t...Generating Embedding\n",
      "1. Encoded Data:  torch.Size([693, 8])\n",
      "1. Encoded Data max, min, mean 0.0 0.0 0.0\n",
      "2. Recons Data:  torch.Size([693, 4, 72, 96])\n",
      "3. Flatten (693, 27648)\n",
      "K: 5 Match Score: 0.017316\n",
      "Testing:  Pass and Shoot\n",
      "\t...Loading Data\n",
      "1. Loaded Raw Obs:  1855 {(72, 96, 16)} [  0 255]\n",
      "2. Preprocessed Obs:  1855 {(4, 72, 96)} [0. 1.]\n",
      "\t...Generating Embedding\n",
      "1. Encoded Data:  torch.Size([1855, 8])\n",
      "1. Encoded Data max, min, mean 0.0 0.0 0.0\n",
      "2. Recons Data:  torch.Size([1855, 4, 72, 96])\n",
      "3. Flatten (1855, 27648)\n"
     ]
    },
    {
     "ename": "KeyboardInterrupt",
     "evalue": "",
     "output_type": "error",
     "traceback": [
      "\u001b[0;31m---------------------------------------------------------------------------\u001b[0m",
      "\u001b[0;31mKeyboardInterrupt\u001b[0m                         Traceback (most recent call last)",
      "\u001b[0;32m<ipython-input-29-bbe9bede320b>\u001b[0m in \u001b[0;36m<module>\u001b[0;34m\u001b[0m\n\u001b[1;32m      8\u001b[0m \u001b[0;32mfor\u001b[0m \u001b[0mname\u001b[0m\u001b[0;34m,\u001b[0m \u001b[0mds\u001b[0m \u001b[0;32min\u001b[0m \u001b[0mtest_ds\u001b[0m\u001b[0;34m.\u001b[0m\u001b[0mitems\u001b[0m\u001b[0;34m(\u001b[0m\u001b[0;34m)\u001b[0m\u001b[0;34m:\u001b[0m\u001b[0;34m\u001b[0m\u001b[0;34m\u001b[0m\u001b[0m\n\u001b[1;32m      9\u001b[0m     \u001b[0mprint\u001b[0m\u001b[0;34m(\u001b[0m\u001b[0;34m\"Testing: \"\u001b[0m\u001b[0;34m,\u001b[0m \u001b[0mname\u001b[0m\u001b[0;34m)\u001b[0m\u001b[0;34m\u001b[0m\u001b[0;34m\u001b[0m\u001b[0m\n\u001b[0;32m---> 10\u001b[0;31m     \u001b[0ms\u001b[0m \u001b[0;34m=\u001b[0m \u001b[0mtest_embedding_quality\u001b[0m\u001b[0;34m(\u001b[0m\u001b[0mds\u001b[0m\u001b[0;34m,\u001b[0m \u001b[0mrts_ae_8_100\u001b[0m\u001b[0;34m,\u001b[0m \u001b[0mks\u001b[0m \u001b[0;34m=\u001b[0m \u001b[0;34m[\u001b[0m\u001b[0;36m5\u001b[0m\u001b[0;34m]\u001b[0m\u001b[0;34m,\u001b[0m \u001b[0mleaf_size\u001b[0m\u001b[0;34m=\u001b[0m\u001b[0;36m400\u001b[0m\u001b[0;34m)\u001b[0m\u001b[0;34m\u001b[0m\u001b[0;34m\u001b[0m\u001b[0m\n\u001b[0m\u001b[1;32m     11\u001b[0m     \u001b[0mscores\u001b[0m\u001b[0;34m[\u001b[0m\u001b[0mname\u001b[0m\u001b[0;34m]\u001b[0m\u001b[0;34m=\u001b[0m\u001b[0ms\u001b[0m\u001b[0;34m\u001b[0m\u001b[0;34m\u001b[0m\u001b[0m\n",
      "\u001b[0;32m<ipython-input-5-f85eb2cfb001>\u001b[0m in \u001b[0;36mtest_embedding_quality\u001b[0;34m(trajectory_data, ae, ks, leaf_size)\u001b[0m\n\u001b[1;32m      8\u001b[0m     \u001b[0mscores\u001b[0m \u001b[0;34m=\u001b[0m \u001b[0;34m{\u001b[0m\u001b[0;34m}\u001b[0m\u001b[0;34m\u001b[0m\u001b[0;34m\u001b[0m\u001b[0m\n\u001b[1;32m      9\u001b[0m     \u001b[0;32mfor\u001b[0m \u001b[0mK\u001b[0m \u001b[0;32min\u001b[0m \u001b[0mks\u001b[0m\u001b[0;34m:\u001b[0m\u001b[0;34m\u001b[0m\u001b[0;34m\u001b[0m\u001b[0m\n\u001b[0;32m---> 10\u001b[0;31m         \u001b[0mmatch_score\u001b[0m\u001b[0;34m,\u001b[0m \u001b[0m_\u001b[0m\u001b[0;34m,\u001b[0m \u001b[0m_\u001b[0m\u001b[0;34m,\u001b[0m \u001b[0m_\u001b[0m\u001b[0;34m,\u001b[0m \u001b[0m_\u001b[0m \u001b[0;34m=\u001b[0m \u001b[0mneighborhood_comparison\u001b[0m\u001b[0;34m(\u001b[0m\u001b[0mK\u001b[0m\u001b[0;34m,\u001b[0m \u001b[0mflatten_obs\u001b[0m\u001b[0;34m,\u001b[0m \u001b[0mencoded_np\u001b[0m\u001b[0;34m,\u001b[0m \u001b[0mleaf_size\u001b[0m\u001b[0;34m=\u001b[0m\u001b[0mleaf_size\u001b[0m\u001b[0;34m)\u001b[0m\u001b[0;34m\u001b[0m\u001b[0;34m\u001b[0m\u001b[0m\n\u001b[0m\u001b[1;32m     11\u001b[0m         \u001b[0mprint\u001b[0m\u001b[0;34m(\u001b[0m\u001b[0;34mf\"K: {K} Match Score: {match_score:2f}\"\u001b[0m\u001b[0;34m)\u001b[0m\u001b[0;34m\u001b[0m\u001b[0;34m\u001b[0m\u001b[0m\n\u001b[1;32m     12\u001b[0m         \u001b[0mscores\u001b[0m\u001b[0;34m[\u001b[0m\u001b[0mK\u001b[0m\u001b[0;34m]\u001b[0m\u001b[0;34m=\u001b[0m\u001b[0mmatch_score\u001b[0m\u001b[0;34m\u001b[0m\u001b[0;34m\u001b[0m\u001b[0m\n",
      "\u001b[0;32m~/codebase/scenic/training/gfrl/embed/common.ipynb\u001b[0m in \u001b[0;36mneighborhood_comparison\u001b[0;34m(K, scaled_states, embedding, leaf_size)\u001b[0m\n\u001b[1;32m    204\u001b[0m     \u001b[0;34m\"        x = self.alb3(x)\\n\"\u001b[0m\u001b[0;34m,\u001b[0m\u001b[0;34m\u001b[0m\u001b[0;34m\u001b[0m\u001b[0m\n\u001b[1;32m    205\u001b[0m     \u001b[0;34m\"        print(x.shape)\\n\"\u001b[0m\u001b[0;34m,\u001b[0m\u001b[0;34m\u001b[0m\u001b[0;34m\u001b[0m\u001b[0m\n\u001b[0;32m--> 206\u001b[0;31m     \u001b[0;34m\"        print(\\\"ALB Done\\\")\\n\"\u001b[0m\u001b[0;34m,\u001b[0m\u001b[0;34m\u001b[0m\u001b[0;34m\u001b[0m\u001b[0m\n\u001b[0m\u001b[1;32m    207\u001b[0m     \u001b[0;34m\"        \\\"\\\"\\\"\\n\"\u001b[0m\u001b[0;34m,\u001b[0m\u001b[0;34m\u001b[0m\u001b[0;34m\u001b[0m\u001b[0m\n\u001b[1;32m    208\u001b[0m     \u001b[0;34m\"        x = self.decoder1(x)\\n\"\u001b[0m\u001b[0;34m,\u001b[0m\u001b[0;34m\u001b[0m\u001b[0;34m\u001b[0m\u001b[0m\n",
      "\u001b[0;31mKeyboardInterrupt\u001b[0m: "
     ]
    }
   ],
   "source": [
    "rts_ae_8_100 = NatureAE.load_from_checkpoint(checkpoint_path=\"models/nature_ae_8_rts_100.ckpt\")\n",
    "test_ds = { \"Run To Score\" : rts_rand_traj_100[0:10],\n",
    "            \"3 vs 1\": _3v1_rand_10,\n",
    "            \"Easy Counter\": easy_counter_rand_10,\n",
    "            \"Pass and Shoot\": pns_rand_100[0:10]}\n",
    "\n",
    "scores = {}\n",
    "for name, ds in test_ds.items():\n",
    "    print(\"Testing: \", name)\n",
    "    s = test_embedding_quality(ds, rts_ae_8_100, ks = [5], leaf_size=400)\n",
    "    scores[name]=s"
   ]
  },
  {
   "cell_type": "code",
   "execution_count": 14,
   "id": "978d7ca2",
   "metadata": {
    "ExecuteTime": {
     "end_time": "2021-04-22T05:58:34.904796Z",
     "start_time": "2021-04-22T05:57:38.810502Z"
    }
   },
   "outputs": [
    {
     "name": "stdout",
     "output_type": "stream",
     "text": [
      "Testing:  Run To Score\n",
      "\t...Loading Data\n",
      "1. Loaded Raw Obs:  1178 {(72, 96, 16)} [  0 255]\n",
      "2. Preprocessed Obs:  1178 {(4, 72, 96)} [0. 1.]\n",
      "\t...Generating Embedding\n",
      "1. Encoded Data:  torch.Size([1178, 8])\n",
      "1. Encoded Data max, min, mean 0.46478882 0.0 0.014321777\n",
      "2. Recons Data:  torch.Size([1178, 4, 72, 96])\n",
      "3. Flatten (1178, 27648)\n",
      "K: 5 Match Score: 0.222411\n"
     ]
    }
   ],
   "source": [
    "ae = NatureAE.load_from_checkpoint(checkpoint_path=\"models/nature_ae_sse_8_rts_100.ckpt\")\n",
    "test_ds = { \"Run To Score\" : rts_rand_traj_100[0:10]}\n",
    "\n",
    "scores = {}\n",
    "for name, ds in test_ds.items():\n",
    "    print(\"Testing: \", name)\n",
    "    s = test_embedding_quality(ds, ae, ks = [5], leaf_size=400)\n",
    "    scores[name]=s"
   ]
  },
  {
   "cell_type": "code",
   "execution_count": 11,
   "id": "8ed73763",
   "metadata": {
    "ExecuteTime": {
     "end_time": "2021-04-22T07:36:01.145808Z",
     "start_time": "2021-04-22T07:31:51.477450Z"
    }
   },
   "outputs": [
    {
     "name": "stdout",
     "output_type": "stream",
     "text": [
      "Testing:  Run To Score\n",
      "\t...Loading Data\n",
      "1. Loaded Raw Obs:  1178 {(72, 96, 16)} [  0 255]\n",
      "2. Preprocessed Obs:  1178 {(4, 72, 96)} [0. 1.]\n",
      "\t...Generating Embedding\n",
      "1. Encoded Data:  torch.Size([1178, 64])\n",
      "1. Encoded Data max, min, mean 30.621178 0.0 2.3540118\n",
      "2. Recons Data:  torch.Size([1178, 4, 72, 96])\n",
      "3. Flatten (1178, 27648)\n",
      "K: 5 Match Score: 0.876061\n",
      "Testing:  3 vs 1\n",
      "\t...Loading Data\n",
      "1. Loaded Raw Obs:  927 {(72, 96, 16)} [  0 255]\n",
      "2. Preprocessed Obs:  927 {(4, 72, 96)} [0. 1.]\n",
      "\t...Generating Embedding\n",
      "1. Encoded Data:  torch.Size([927, 64])\n",
      "1. Encoded Data max, min, mean 27.043846 0.0 2.3255394\n",
      "2. Recons Data:  torch.Size([927, 4, 72, 96])\n",
      "3. Flatten (927, 27648)\n",
      "K: 5 Match Score: 0.908306\n",
      "Testing:  Easy Counter\n",
      "\t...Loading Data\n",
      "1. Loaded Raw Obs:  693 {(72, 96, 16)} [  0 255]\n",
      "2. Preprocessed Obs:  693 {(4, 72, 96)} [0. 1.]\n",
      "\t...Generating Embedding\n",
      "1. Encoded Data:  torch.Size([693, 64])\n",
      "1. Encoded Data max, min, mean 31.735456 0.0 2.5649571\n",
      "2. Recons Data:  torch.Size([693, 4, 72, 96])\n",
      "3. Flatten (693, 27648)\n",
      "K: 5 Match Score: 1.010101\n",
      "Testing:  Pass and Shoot\n",
      "\t...Loading Data\n",
      "1. Loaded Raw Obs:  1855 {(72, 96, 16)} [  0 255]\n",
      "2. Preprocessed Obs:  1855 {(4, 72, 96)} [0. 1.]\n",
      "\t...Generating Embedding\n",
      "1. Encoded Data:  torch.Size([1855, 64])\n",
      "1. Encoded Data max, min, mean 26.597816 0.0 2.283526\n",
      "2. Recons Data:  torch.Size([1855, 4, 72, 96])\n",
      "3. Flatten (1855, 27648)\n",
      "K: 5 Match Score: 0.914286\n"
     ]
    }
   ],
   "source": [
    "ae = NatureAE.load_from_checkpoint(checkpoint_path=\"models/nature_ae_bcel_64_rts_100.ckpt\")\n",
    "test_ds = { \"Run To Score\" : rts_rand_traj_100[0:10],\n",
    "            \"3 vs 1\": _3v1_rand_10,\n",
    "            \"Easy Counter\": easy_counter_rand_10,\n",
    "            \"Pass and Shoot\": pns_rand_100[0:10]}\n",
    "\n",
    "scores = {}\n",
    "for name, ds in test_ds.items():\n",
    "    print(\"Testing: \", name)\n",
    "    s = test_embedding_quality(ds, ae, ks = [5], leaf_size=400)\n",
    "    scores[name]=s\n",
    "    \n",
    "#prev training: 0.75"
   ]
  },
  {
   "cell_type": "code",
   "execution_count": 16,
   "id": "6225c440",
   "metadata": {
    "ExecuteTime": {
     "end_time": "2021-04-22T06:08:11.579347Z",
     "start_time": "2021-04-22T06:07:15.981099Z"
    }
   },
   "outputs": [
    {
     "name": "stdout",
     "output_type": "stream",
     "text": [
      "Testing:  Run To Score\n",
      "\t...Loading Data\n",
      "1. Loaded Raw Obs:  1178 {(72, 96, 16)} [  0 255]\n",
      "2. Preprocessed Obs:  1178 {(4, 72, 96)} [0. 1.]\n",
      "\t...Generating Embedding\n",
      "1. Encoded Data:  torch.Size([1178, 8])\n",
      "1. Encoded Data max, min, mean 66931772.0 0.0 16020477.0\n",
      "2. Recons Data:  torch.Size([1178, 4, 72, 96])\n",
      "3. Flatten (1178, 27648)\n",
      "K: 5 Match Score: 0.724109\n"
     ]
    }
   ],
   "source": [
    "ae = NatureAE.load_from_checkpoint(checkpoint_path=\"models/nature_ae_bce_8_rts_100.ckpt\")\n",
    "test_ds = { \"Run To Score\" : rts_rand_traj_100[0:10]}\n",
    "\n",
    "scores = {}\n",
    "for name, ds in test_ds.items():\n",
    "    print(\"Testing: \", name)\n",
    "    s = test_embedding_quality(ds, ae, ks = [5], leaf_size=400)\n",
    "    scores[name]=s"
   ]
  },
  {
   "cell_type": "code",
   "execution_count": 10,
   "id": "30362e8e",
   "metadata": {
    "ExecuteTime": {
     "end_time": "2021-04-22T05:06:25.073658Z",
     "start_time": "2021-04-22T05:06:21.760937Z"
    }
   },
   "outputs": [
    {
     "name": "stdout",
     "output_type": "stream",
     "text": [
      "\t...Loading Data\n",
      "1. Loaded Raw Obs:  693 {(72, 96, 16)} [  0 255]\n",
      "2. Preprocessed Obs:  693 {(4, 72, 96)} [0. 1.]\n",
      "\t...Generating Embedding\n",
      "1. Encoded Data:  torch.Size([693, 8])\n",
      "1. Encoded Data max, min, mean 0.0 0.0 0.0\n",
      "2. Recons Data:  torch.Size([693, 4, 72, 96])\n",
      "3. Flatten (693, 27648)\n"
     ]
    }
   ],
   "source": [
    "print(\"\\t...Loading Data\")\n",
    "traj_ids, obs_flat, gt_flat, proc_obs = load_data(easy_counter_rand_10)\n",
    "print(\"\\t...Generating Embedding\")\n",
    "encoded, encoded_np, decoded, flatten_obs = get_embedding(proc_obs, rts_ae_8_100)\n",
    "\n"
   ]
  },
  {
   "cell_type": "code",
   "execution_count": null,
   "id": "5edd5a25",
   "metadata": {},
   "outputs": [],
   "source": []
  },
  {
   "cell_type": "code",
   "execution_count": 12,
   "id": "c6f55b21",
   "metadata": {
    "ExecuteTime": {
     "end_time": "2021-04-22T05:06:39.279096Z",
     "start_time": "2021-04-22T05:06:39.275072Z"
    }
   },
   "outputs": [],
   "source": [
    "decoded_arr = decoded.detach().numpy()"
   ]
  },
  {
   "cell_type": "code",
   "execution_count": 13,
   "id": "ec1b7b8f",
   "metadata": {
    "ExecuteTime": {
     "end_time": "2021-04-22T05:06:43.078812Z",
     "start_time": "2021-04-22T05:06:43.046609Z"
    }
   },
   "outputs": [
    {
     "data": {
      "text/plain": [
       "(0.00049331127, 0.021051798, -0.014660655)"
      ]
     },
     "execution_count": 13,
     "metadata": {},
     "output_type": "execute_result"
    }
   ],
   "source": [
    "decoded_arr.mean(), decoded_arr.max(), decoded_arr.min()"
   ]
  },
  {
   "cell_type": "code",
   "execution_count": null,
   "id": "ebce12a0",
   "metadata": {},
   "outputs": [],
   "source": [
    "s, matches, intersects, ind_st_arr, ind_embd_arr = neighborhood_comparison(5, flatten_obs, encoded_np)"
   ]
  },
  {
   "cell_type": "code",
   "execution_count": 33,
   "id": "bf77a1fc",
   "metadata": {
    "ExecuteTime": {
     "end_time": "2021-04-22T04:04:51.605676Z",
     "start_time": "2021-04-22T04:04:51.598919Z"
    }
   },
   "outputs": [
    {
     "data": {
      "text/plain": [
       "array([[132, 438,  51,   0, 176, 349],\n",
       "       [  1,  52, 604, 603, 664, 133],\n",
       "       [  2,   3,  53,  54, 605, 440],\n",
       "       ...,\n",
       "       [690, 689, 691, 688, 692, 171],\n",
       "       [691, 692, 690, 203, 202, 161],\n",
       "       [692, 691, 204, 690, 169, 227]])"
      ]
     },
     "execution_count": 33,
     "metadata": {},
     "output_type": "execute_result"
    }
   ],
   "source": [
    "ind_st_arr"
   ]
  },
  {
   "cell_type": "code",
   "execution_count": 34,
   "id": "53efc0bc",
   "metadata": {
    "ExecuteTime": {
     "end_time": "2021-04-22T04:04:58.782743Z",
     "start_time": "2021-04-22T04:04:58.776122Z"
    }
   },
   "outputs": [
    {
     "data": {
      "text/plain": [
       "array([[692,   1, 344,  82, 170,   0],\n",
       "       [692,   1, 344,  82, 170,   0],\n",
       "       [692,   1, 344,  82, 170,   0],\n",
       "       ...,\n",
       "       [692,   1, 344,  82, 170,   0],\n",
       "       [692,   1, 344,  82, 170,   0],\n",
       "       [692,   1, 344,  82, 170,   0]])"
      ]
     },
     "execution_count": 34,
     "metadata": {},
     "output_type": "execute_result"
    }
   ],
   "source": [
    "ind_embd_arr"
   ]
  },
  {
   "cell_type": "code",
   "execution_count": 38,
   "id": "8486a027",
   "metadata": {
    "ExecuteTime": {
     "end_time": "2021-04-22T04:09:03.903637Z",
     "start_time": "2021-04-22T04:09:03.897139Z"
    }
   },
   "outputs": [
    {
     "data": {
      "text/plain": [
       "0.0"
      ]
     },
     "execution_count": 38,
     "metadata": {},
     "output_type": "execute_result"
    }
   ],
   "source": [
    "np.max(encoded_np)"
   ]
  },
  {
   "cell_type": "code",
   "execution_count": null,
   "id": "66f7c5d6",
   "metadata": {},
   "outputs": [],
   "source": []
  }
 ],
 "metadata": {
  "kernelspec": {
   "display_name": "Python 3",
   "language": "python",
   "name": "python3"
  },
  "language_info": {
   "codemirror_mode": {
    "name": "ipython",
    "version": 3
   },
   "file_extension": ".py",
   "mimetype": "text/x-python",
   "name": "python",
   "nbconvert_exporter": "python",
   "pygments_lexer": "ipython3",
   "version": "3.9.1"
  },
  "varInspector": {
   "cols": {
    "lenName": 16,
    "lenType": 16,
    "lenVar": 40
   },
   "kernels_config": {
    "python": {
     "delete_cmd_postfix": "",
     "delete_cmd_prefix": "del ",
     "library": "var_list.py",
     "varRefreshCmd": "print(var_dic_list())"
    },
    "r": {
     "delete_cmd_postfix": ") ",
     "delete_cmd_prefix": "rm(",
     "library": "var_list.r",
     "varRefreshCmd": "cat(var_dic_list()) "
    }
   },
   "types_to_exclude": [
    "module",
    "function",
    "builtin_function_or_method",
    "instance",
    "_Feature"
   ],
   "window_display": false
  }
 },
 "nbformat": 4,
 "nbformat_minor": 5
}
