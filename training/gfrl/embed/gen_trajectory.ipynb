{
 "cells": [
  {
   "cell_type": "code",
   "execution_count": 3,
   "id": "511da5c2",
   "metadata": {
    "ExecuteTime": {
     "end_time": "2021-04-21T23:45:24.802649Z",
     "start_time": "2021-04-21T23:45:24.797860Z"
    }
   },
   "outputs": [],
   "source": [
    "def create_single_scenic_environment(iprocess, level, monitor=None):\n",
    "    \"\"\"Creates scenic gfootball environment.\"\"\"\n",
    "    from scenic.simulators.gfootball.rl_interface import GFScenicEnv\n",
    "    import os\n",
    "    from scenic.simulators.gfootball.utilities.scenic_helper import buildScenario\n",
    "\n",
    "    #scenario_file = f\"{os.getcwd()}/_scenarios/exp/pass_n_shoot.scenic\"\n",
    "    scenario_file = level\n",
    "    print(\"Scenic Environment: \", scenario_file)\n",
    "\n",
    "    gf_env_settings = {\n",
    "        \"stacked\": True,\n",
    "        \"rewards\": \"scoring\",\n",
    "        \"representation\": 'extracted',\n",
    "        \"players\": [f\"agent:left_players=1\"],\n",
    "        \"real_time\": False,\n",
    "        \"action_set\": \"default\",\n",
    "        \"dump_full_episodes\": False,\n",
    "        \"dump_scores\": False,\n",
    "        \"write_video\": False,\n",
    "        \"tracesdir\": \"dummy\",\n",
    "        \"write_full_episode_dumps\": False,\n",
    "        \"write_goal_dumps\": False,\n",
    "        \"render\": False\n",
    "    }\n",
    "\n",
    "    scenario = buildScenario(scenario_file)\n",
    "    env = GFScenicEnv(initial_scenario=scenario, gf_env_settings=gf_env_settings, rank=iprocess)\n",
    "    if monitor is not None:\n",
    "        env = monitor.Monitor(env, logger.get_dir() and os.path.join(logger.get_dir(), str(iprocess)), info_keywords=(\"score_reward\",))\n",
    "    return env"
   ]
  },
  {
   "cell_type": "code",
   "execution_count": 37,
   "id": "4faf77df",
   "metadata": {
    "ExecuteTime": {
     "end_time": "2021-04-21T07:29:06.176535Z",
     "start_time": "2021-04-21T07:29:06.091057Z"
    }
   },
   "outputs": [
    {
     "name": "stdout",
     "output_type": "stream",
     "text": [
      "Scenic Environment:  ../_scenarios/academy/rts.scenic\n"
     ]
    }
   ],
   "source": [
    "env = create_single_scenic_environment(0, \"../_scenarios/academy/rts.scenic\")"
   ]
  },
  {
   "cell_type": "code",
   "execution_count": 5,
   "id": "f8461a76",
   "metadata": {
    "ExecuteTime": {
     "end_time": "2021-04-21T23:45:33.972290Z",
     "start_time": "2021-04-21T23:45:33.966800Z"
    }
   },
   "outputs": [],
   "source": [
    "from collections import namedtuple\n",
    "Trajectory = namedtuple('Trajectory', [\"obs_arr\", \"gt_arr\", \"act_arr\", \"rew_arr\", \"info_arr\"])\n",
    "\n",
    "def collect_trajectory_with_ground_truth(env, num_traj=100, policy=None):\n",
    "    \n",
    "    trajs = []\n",
    "    \n",
    "    for _ in range(num_traj):\n",
    "        \n",
    "        obs_arr, gt_arr, act_arr, rew_arr, info_arr = [], [], [], [], []\n",
    "        \n",
    "        obs = env.reset()\n",
    "        gt = env.simulation.last_raw_obs\n",
    "        \n",
    "        obs_arr.append(obs)\n",
    "        gt_arr.append(gt)\n",
    "        \n",
    "        done = False\n",
    "        \n",
    "        while not done:\n",
    "            \n",
    "            act = env.action_space.sample()\n",
    "            obs, r, done, info = env.step(act)\n",
    "            gt = env.simulation.last_raw_obs\n",
    "            \n",
    "            act_arr.append(act)\n",
    "            obs_arr.append(obs)\n",
    "            gt_arr.append(gt)\n",
    "            rew_arr.append(r)\n",
    "            info_arr.append(info)\n",
    "        \n",
    "        \n",
    "        traj = Trajectory(obs_arr=obs_arr, gt_arr=gt_arr, act_arr=act_arr, rew_arr=rew_arr, info_arr=info_arr)\n",
    "        trajs.append(traj)\n",
    "        \n",
    "    \n",
    "    return trajs\n",
    "\n"
   ]
  },
  {
   "cell_type": "code",
   "execution_count": 39,
   "id": "29e660ae",
   "metadata": {
    "ExecuteTime": {
     "end_time": "2021-04-21T07:29:15.434160Z",
     "start_time": "2021-04-21T07:29:10.802304Z"
    }
   },
   "outputs": [],
   "source": [
    "import pickle\n",
    "\n",
    "random_trajs_5 = collect_trajectory_with_ground_truth(env, num_traj=5)\n",
    "pickle.dump(random_trajs_5, open(\"rts_rand_traj_5.pkl\", \"wb\"))\n"
   ]
  },
  {
   "cell_type": "code",
   "execution_count": 41,
   "id": "29742e06",
   "metadata": {
    "ExecuteTime": {
     "end_time": "2021-04-21T07:33:12.537076Z",
     "start_time": "2021-04-21T07:31:43.905793Z"
    }
   },
   "outputs": [],
   "source": [
    "import pickle\n",
    "\n",
    "random_trajs_100 = collect_trajectory_with_ground_truth(env, num_traj=100)\n",
    "pickle.dump(random_trajs_100, open(\"rts_rand_traj_100.pkl\", \"wb\"))\n"
   ]
  },
  {
   "cell_type": "code",
   "execution_count": 42,
   "id": "fabe976c",
   "metadata": {
    "ExecuteTime": {
     "end_time": "2021-04-21T08:46:42.318570Z",
     "start_time": "2021-04-21T08:31:01.333707Z"
    }
   },
   "outputs": [],
   "source": [
    "import pickle\n",
    "\n",
    "random_trajs_1000 = collect_trajectory_with_ground_truth(env, num_traj=1000)\n",
    "pickle.dump(random_trajs_1000, open(\"rts_rand_traj_1000.pkl\", \"wb\"))\n"
   ]
  },
  {
   "cell_type": "code",
   "execution_count": 6,
   "id": "75ef5c7a",
   "metadata": {
    "ExecuteTime": {
     "end_time": "2021-04-21T23:46:46.647245Z",
     "start_time": "2021-04-21T23:45:36.689257Z"
    }
   },
   "outputs": [
    {
     "name": "stdout",
     "output_type": "stream",
     "text": [
      "Scenic Environment:  ../_scenarios/academy/rts_with_keeper.scenic\n"
     ]
    }
   ],
   "source": [
    "\n",
    "import pickle\n",
    "name = \"rts_with_keeper\"\n",
    "n_traj = 100\n",
    "\n",
    "env = create_single_scenic_environment(0, f\"../_scenarios/academy/{name}.scenic\")\n",
    "random_trajs = collect_trajectory_with_ground_truth(env, num_traj=n_traj)\n",
    "pickle.dump(random_trajs, open(f\"data/{name}_rand_traj_{n_traj}.pkl\", \"wb\"))\n",
    "\n"
   ]
  },
  {
   "cell_type": "code",
   "execution_count": 7,
   "id": "dca3626a",
   "metadata": {
    "ExecuteTime": {
     "end_time": "2021-04-21T23:48:41.879764Z",
     "start_time": "2021-04-21T23:47:26.278171Z"
    }
   },
   "outputs": [
    {
     "name": "stdout",
     "output_type": "stream",
     "text": [
      "Scenic Environment:  ../_scenarios/academy/pass_n_shoot.scenic\n"
     ]
    }
   ],
   "source": [
    "import pickle\n",
    "name = \"pass_n_shoot\"\n",
    "n_traj = 100\n",
    "\n",
    "env = create_single_scenic_environment(0, f\"../_scenarios/academy/{name}.scenic\")\n",
    "random_trajs = collect_trajectory_with_ground_truth(env, num_traj=n_traj)\n",
    "pickle.dump(random_trajs, open(f\"data/{name}_rand_traj_{n_traj}.pkl\", \"wb\"))"
   ]
  },
  {
   "cell_type": "code",
   "execution_count": 9,
   "id": "b652e4b2",
   "metadata": {
    "ExecuteTime": {
     "end_time": "2021-04-22T01:06:04.394708Z",
     "start_time": "2021-04-22T01:04:59.293145Z"
    }
   },
   "outputs": [
    {
     "name": "stdout",
     "output_type": "stream",
     "text": [
      "Scenic Environment:  ../_scenarios/academy/rts_with_keeper.scenic\n"
     ]
    }
   ],
   "source": [
    "import pickle\n",
    "name = \"rts_with_keeper\"\n",
    "n_traj = 100\n",
    "\n",
    "env = create_single_scenic_environment(0, f\"../_scenarios/academy/{name}.scenic\")\n",
    "random_trajs = collect_trajectory_with_ground_truth(env, num_traj=n_traj)\n",
    "pickle.dump(random_trajs, open(f\"data/{name}_rand_traj_{n_traj}.pkl\", \"wb\"))"
   ]
  },
  {
   "cell_type": "code",
   "execution_count": 15,
   "id": "9815cd5e",
   "metadata": {
    "ExecuteTime": {
     "end_time": "2021-04-22T01:57:01.761624Z",
     "start_time": "2021-04-22T01:56:57.501597Z"
    }
   },
   "outputs": [
    {
     "name": "stdout",
     "output_type": "stream",
     "text": [
      "Scenic Environment:  ../_scenarios/academy/3v1.scenic\n"
     ]
    }
   ],
   "source": [
    "import pickle\n",
    "name = \"3v1\"\n",
    "n_traj = 10\n",
    "\n",
    "env = create_single_scenic_environment(0, f\"../_scenarios/academy/{name}.scenic\")\n",
    "random_trajs = collect_trajectory_with_ground_truth(env, num_traj=n_traj)\n",
    "pickle.dump(random_trajs, open(f\"data/{name}_rand_traj_{n_traj}.pkl\", \"wb\"))"
   ]
  },
  {
   "cell_type": "code",
   "execution_count": 10,
   "id": "3cbaca17",
   "metadata": {
    "ExecuteTime": {
     "end_time": "2021-04-22T01:12:02.181377Z",
     "start_time": "2021-04-22T01:10:52.369310Z"
    }
   },
   "outputs": [
    {
     "name": "stdout",
     "output_type": "stream",
     "text": [
      "Scenic Environment:  ../_scenarios/academy/3v1.scenic\n"
     ]
    }
   ],
   "source": [
    "import pickle\n",
    "name = \"3v1\"\n",
    "n_traj = 100\n",
    "\n",
    "env = create_single_scenic_environment(0, f\"../_scenarios/academy/{name}.scenic\")\n",
    "random_trajs = collect_trajectory_with_ground_truth(env, num_traj=n_traj)\n",
    "pickle.dump(random_trajs, open(f\"data/{name}_rand_traj_{n_traj}.pkl\", \"wb\"))"
   ]
  },
  {
   "cell_type": "code",
   "execution_count": 12,
   "id": "4cd52ef1",
   "metadata": {
    "ExecuteTime": {
     "end_time": "2021-04-22T01:26:55.161150Z",
     "start_time": "2021-04-22T01:16:09.129459Z"
    }
   },
   "outputs": [
    {
     "name": "stdout",
     "output_type": "stream",
     "text": [
      "Scenic Environment:  ../_scenarios/academy/3v1.scenic\n"
     ]
    }
   ],
   "source": [
    "import pickle\n",
    "name = \"3v1\"\n",
    "n_traj = 1000\n",
    "\n",
    "env = create_single_scenic_environment(0, f\"../_scenarios/academy/{name}.scenic\")\n",
    "random_trajs = collect_trajectory_with_ground_truth(env, num_traj=n_traj)\n",
    "pickle.dump(random_trajs, open(f\"data/{name}_rand_traj_{n_traj}.pkl\", \"wb\"))"
   ]
  },
  {
   "cell_type": "code",
   "execution_count": 14,
   "id": "58340236",
   "metadata": {
    "ExecuteTime": {
     "end_time": "2021-04-22T01:56:54.488334Z",
     "start_time": "2021-04-22T01:56:44.071357Z"
    }
   },
   "outputs": [
    {
     "name": "stdout",
     "output_type": "stream",
     "text": [
      "Scenic Environment:  ../_scenarios/academy/easy_counter.scenic\n"
     ]
    }
   ],
   "source": [
    "import pickle\n",
    "name = \"easy_counter\"\n",
    "n_traj = 10\n",
    "\n",
    "env = create_single_scenic_environment(0, f\"../_scenarios/academy/{name}.scenic\")\n",
    "random_trajs = collect_trajectory_with_ground_truth(env, num_traj=n_traj)\n",
    "pickle.dump(random_trajs, open(f\"data/{name}_rand_traj_{n_traj}.pkl\", \"wb\"))"
   ]
  },
  {
   "cell_type": "code",
   "execution_count": 11,
   "id": "0b469f31",
   "metadata": {
    "ExecuteTime": {
     "end_time": "2021-04-22T01:14:16.028620Z",
     "start_time": "2021-04-22T01:12:43.960148Z"
    }
   },
   "outputs": [
    {
     "name": "stdout",
     "output_type": "stream",
     "text": [
      "Scenic Environment:  ../_scenarios/academy/easy_counter.scenic\n"
     ]
    }
   ],
   "source": [
    "import pickle\n",
    "name = \"easy_counter\"\n",
    "n_traj = 100\n",
    "\n",
    "env = create_single_scenic_environment(0, f\"../_scenarios/academy/{name}.scenic\")\n",
    "random_trajs = collect_trajectory_with_ground_truth(env, num_traj=n_traj)\n",
    "pickle.dump(random_trajs, open(f\"data/{name}_rand_traj_{n_traj}.pkl\", \"wb\"))"
   ]
  },
  {
   "cell_type": "code",
   "execution_count": 13,
   "id": "a6854019",
   "metadata": {
    "ExecuteTime": {
     "end_time": "2021-04-22T01:50:42.641776Z",
     "start_time": "2021-04-22T01:33:59.437779Z"
    }
   },
   "outputs": [
    {
     "name": "stdout",
     "output_type": "stream",
     "text": [
      "Scenic Environment:  ../_scenarios/academy/easy_counter.scenic\n"
     ]
    }
   ],
   "source": [
    "import pickle\n",
    "name = \"easy_counter\"\n",
    "n_traj = 1000\n",
    "\n",
    "env = create_single_scenic_environment(0, f\"../_scenarios/academy/{name}.scenic\")\n",
    "random_trajs = collect_trajectory_with_ground_truth(env, num_traj=n_traj)\n",
    "pickle.dump(random_trajs, open(f\"data/{name}_rand_traj_{n_traj}.pkl\", \"wb\"))"
   ]
  },
  {
   "cell_type": "code",
   "execution_count": null,
   "id": "7ad4d828",
   "metadata": {},
   "outputs": [],
   "source": []
  }
 ],
 "metadata": {
  "kernelspec": {
   "display_name": "Python 3",
   "language": "python",
   "name": "python3"
  },
  "language_info": {
   "codemirror_mode": {
    "name": "ipython",
    "version": 3
   },
   "file_extension": ".py",
   "mimetype": "text/x-python",
   "name": "python",
   "nbconvert_exporter": "python",
   "pygments_lexer": "ipython3",
   "version": "3.9.1"
  },
  "varInspector": {
   "cols": {
    "lenName": 16,
    "lenType": 16,
    "lenVar": 40
   },
   "kernels_config": {
    "python": {
     "delete_cmd_postfix": "",
     "delete_cmd_prefix": "del ",
     "library": "var_list.py",
     "varRefreshCmd": "print(var_dic_list())"
    },
    "r": {
     "delete_cmd_postfix": ") ",
     "delete_cmd_prefix": "rm(",
     "library": "var_list.r",
     "varRefreshCmd": "cat(var_dic_list()) "
    }
   },
   "types_to_exclude": [
    "module",
    "function",
    "builtin_function_or_method",
    "instance",
    "_Feature"
   ],
   "window_display": false
  }
 },
 "nbformat": 4,
 "nbformat_minor": 5
}
