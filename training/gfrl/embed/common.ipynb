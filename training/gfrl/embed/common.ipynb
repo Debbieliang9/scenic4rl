{
 "cells": [
  {
   "cell_type": "code",
   "execution_count": 1,
   "id": "d2d73b49",
   "metadata": {
    "ExecuteTime": {
     "end_time": "2021-04-22T07:42:23.176591Z",
     "start_time": "2021-04-22T07:42:23.169522Z"
    }
   },
   "outputs": [],
   "source": [
    "import pickle\n",
    "from utils import Trajectory\n",
    "from typing import List\n",
    "def extract_data_from_trajs(trajs:List[Trajectory]):\n",
    "    \n",
    "    traj_ids, obs_flat, gt_flat = [], [], []\n",
    "    \n",
    "    for traj_id, traj in enumerate(trajs):\n",
    "        \n",
    "        obs_flat.extend(traj.obs_arr)\n",
    "        gt_flat.extend(traj.gt_arr)\n",
    "        traj_ids.extend([traj_id]*len(traj.obs_arr))\n",
    "        \n",
    "    \n",
    "    return traj_ids, obs_flat, gt_flat\n"
   ]
  },
  {
   "cell_type": "code",
   "execution_count": 2,
   "id": "9348feee",
   "metadata": {
    "ExecuteTime": {
     "end_time": "2021-04-22T07:42:23.183124Z",
     "start_time": "2021-04-22T07:42:23.179379Z"
    }
   },
   "outputs": [],
   "source": [
    "def preprocess_obs(obs_arr, normalize=True):\n",
    "    import numpy as np\n",
    "    mod_arr = []\n",
    "    \n",
    "    for obs in obs_arr:\n",
    "        obs = obs[:,:,-4:]\n",
    "        obs = np.moveaxis(obs, [0,1], [1,2])\n",
    "        if normalize:\n",
    "            obs = obs/255.0\n",
    "        mod_arr.append(obs)\n",
    "    \n",
    "    return mod_arr"
   ]
  },
  {
   "cell_type": "code",
   "execution_count": 3,
   "id": "9185afb4",
   "metadata": {
    "ExecuteTime": {
     "end_time": "2021-04-22T07:42:23.190626Z",
     "start_time": "2021-04-22T07:42:23.185634Z"
    }
   },
   "outputs": [],
   "source": [
    "def load_data(trajectory_data, normalize=True):\n",
    "    import numpy as np\n",
    "    \n",
    "    traj_ids, obs_flat, gt_flat = extract_data_from_trajs(trajectory_data)\n",
    "    print(\"1. Loaded Raw Obs: \", len(obs_flat), {obs.shape for obs in obs_flat}, np.unique(obs_flat))\n",
    "\n",
    "    proc_obs = preprocess_obs(obs_flat, normalize=normalize)\n",
    "    print(\"2. Preprocessed Obs: \", len(proc_obs), {obs.shape for obs in proc_obs}, np.unique(proc_obs))\n",
    "    \n",
    "    return traj_ids, obs_flat, gt_flat, proc_obs"
   ]
  },
  {
   "cell_type": "code",
   "execution_count": 4,
   "id": "6afbfaf2",
   "metadata": {
    "ExecuteTime": {
     "end_time": "2021-04-22T07:42:23.199797Z",
     "start_time": "2021-04-22T07:42:23.193626Z"
    }
   },
   "outputs": [],
   "source": [
    "def plot_raw(data, free_lim = False, color_map=None, s = 5, alpha = 1):\n",
    "    from matplotlib import pyplot as plt\n",
    "    \n",
    "    if free_lim:\n",
    "        maxi = np.max(data)*1.05\n",
    "        mini = np.min(data)*1.05\n",
    "\n",
    "    plt.figure()\n",
    "\n",
    "    if free_lim:\n",
    "        plt.ylim(mini,maxi)\n",
    "        plt.xlim(mini,maxi)\n",
    "\n",
    "    plt.scatter(*zip(*data), c = color_map, s = s, alpha=alpha)\n",
    "    \n",
    "    #datacursor()\n",
    "    \n",
    "    #start, end = ax.get_xlim()\n",
    "    #ax.xaxis.set_ticks(np.arange(start, end, (end-start)//10))\n",
    "    \n",
    "    plt.plot()"
   ]
  },
  {
   "cell_type": "code",
   "execution_count": 5,
   "id": "ca7262f3",
   "metadata": {
    "ExecuteTime": {
     "end_time": "2021-04-22T07:42:23.209729Z",
     "start_time": "2021-04-22T07:42:23.202636Z"
    }
   },
   "outputs": [],
   "source": [
    "def neighborhood_comparison(K, scaled_states, embedding, leaf_size = 40):\n",
    "    \n",
    "    from sklearn.neighbors import KDTree\n",
    "    import numpy as np\n",
    "\n",
    "\n",
    "    scld_st_kdtree = KDTree(scaled_states, leaf_size=leaf_size)\n",
    "    embed_kdtree = KDTree(embedding, leaf_size=leaf_size)\n",
    "    \n",
    "    _, ind_st_arr = scld_st_kdtree.query(scaled_states, k=K+1)\n",
    "    _, ind_embd_arr = embed_kdtree.query(embedding, k=K+1)\n",
    "    \n",
    "    intersects = []\n",
    "    matches = []\n",
    "    for ind in range(ind_st_arr.shape[0]):\n",
    "        intr = np.intersect1d(ind_st_arr[ind,:], ind_embd_arr[ind,:])\n",
    "        intersects.append(intr)\n",
    "        m = intr.shape[0]-1\n",
    "        if m<0: m=0\n",
    "        matches.append(m)\n",
    "\n",
    "    matches = np.array(matches)\n",
    "    \n",
    "    return np.mean(matches), matches, intersects, ind_st_arr, ind_embd_arr\n",
    "\n",
    "    #dist_st, ind_st = scld_st_kdtree.query([scaled_states[0]], k=K+1)\n",
    "    #dist_embd, ind_embd = embed_kdtree.query([embedding[0]], k=K+1)\n",
    "    #print(ind_st)\n",
    "    #print(ind_embd)\n",
    "    #print(np.intersect1d(ind_st, ind_embd))\n"
   ]
  },
  {
   "cell_type": "code",
   "execution_count": null,
   "id": "f84c761c",
   "metadata": {
    "ExecuteTime": {
     "end_time": "2021-04-22T05:08:27.794898Z",
     "start_time": "2021-04-22T05:08:27.791388Z"
    }
   },
   "outputs": [],
   "source": []
  },
  {
   "cell_type": "code",
   "execution_count": null,
   "id": "6b1ced93",
   "metadata": {},
   "outputs": [],
   "source": []
  }
 ],
 "metadata": {
  "kernelspec": {
   "display_name": "Python 3",
   "language": "python",
   "name": "python3"
  },
  "language_info": {
   "codemirror_mode": {
    "name": "ipython",
    "version": 3
   },
   "file_extension": ".py",
   "mimetype": "text/x-python",
   "name": "python",
   "nbconvert_exporter": "python",
   "pygments_lexer": "ipython3",
   "version": "3.9.1"
  },
  "varInspector": {
   "cols": {
    "lenName": 16,
    "lenType": 16,
    "lenVar": 40
   },
   "kernels_config": {
    "python": {
     "delete_cmd_postfix": "",
     "delete_cmd_prefix": "del ",
     "library": "var_list.py",
     "varRefreshCmd": "print(var_dic_list())"
    },
    "r": {
     "delete_cmd_postfix": ") ",
     "delete_cmd_prefix": "rm(",
     "library": "var_list.r",
     "varRefreshCmd": "cat(var_dic_list()) "
    }
   },
   "types_to_exclude": [
    "module",
    "function",
    "builtin_function_or_method",
    "instance",
    "_Feature"
   ],
   "window_display": false
  }
 },
 "nbformat": 4,
 "nbformat_minor": 5
}
