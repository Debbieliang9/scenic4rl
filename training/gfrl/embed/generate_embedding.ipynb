{
 "cells": [
  {
   "cell_type": "code",
   "execution_count": 26,
   "id": "d86a1362",
   "metadata": {
    "ExecuteTime": {
     "end_time": "2021-04-21T05:54:07.356479Z",
     "start_time": "2021-04-21T05:54:07.354154Z"
    }
   },
   "outputs": [],
   "source": [
    "import pickle\n",
    "from utils import Trajectory\n",
    "\n",
    "\n",
    "\n"
   ]
  },
  {
   "cell_type": "code",
   "execution_count": 27,
   "id": "32aedfe0",
   "metadata": {
    "ExecuteTime": {
     "end_time": "2021-04-21T05:54:09.868641Z",
     "start_time": "2021-04-21T05:54:08.760326Z"
    }
   },
   "outputs": [
    {
     "name": "stdout",
     "output_type": "stream",
     "text": [
      "100\n"
     ]
    }
   ],
   "source": [
    "\n",
    "rts_rand_traj = pickle.load(open(\"rts_rand_traj_100\",\"rb\"))\n",
    "print(len(rts_rand_traj))"
   ]
  },
  {
   "cell_type": "code",
   "execution_count": 28,
   "id": "b09eea23",
   "metadata": {
    "ExecuteTime": {
     "end_time": "2021-04-21T05:54:11.917856Z",
     "start_time": "2021-04-21T05:54:11.865568Z"
    }
   },
   "outputs": [
    {
     "name": "stdout",
     "output_type": "stream",
     "text": [
      "5\n"
     ]
    }
   ],
   "source": [
    "rts_rand_traj_5 = pickle.load(open(\"rts_rand_traj_5\",\"rb\"))\n",
    "print(len(rts_rand_traj_5))"
   ]
  },
  {
   "cell_type": "code",
   "execution_count": 4,
   "id": "e3a1b135",
   "metadata": {
    "ExecuteTime": {
     "end_time": "2021-04-21T05:32:30.760680Z",
     "start_time": "2021-04-21T05:32:30.757161Z"
    }
   },
   "outputs": [],
   "source": [
    "from typing import List\n",
    "def extract_data_from_trajs(trajs:List[Trajectory]):\n",
    "    \n",
    "    traj_ids, obs_flat, gt_flat = [], [], []\n",
    "    \n",
    "    for traj_id, traj in enumerate(trajs):\n",
    "        \n",
    "        obs_flat.extend(traj.obs_arr)\n",
    "        gt_flat.extend(traj.gt_arr)\n",
    "        traj_ids.extend([traj_id]*len(traj.obs_arr))\n",
    "        \n",
    "    \n",
    "    return traj_ids, obs_flat, gt_flat\n",
    "\n",
    "\n",
    "traj_ids, obs_flat, gt_flat = extract_data_from_trajs(rts_rand_traj_5)"
   ]
  },
  {
   "cell_type": "code",
   "execution_count": 29,
   "id": "aec0555f",
   "metadata": {
    "ExecuteTime": {
     "end_time": "2021-04-21T05:54:53.222125Z",
     "start_time": "2021-04-21T05:54:51.737502Z"
    }
   },
   "outputs": [
    {
     "name": "stdout",
     "output_type": "stream",
     "text": [
      "Original:  {(72, 96, 16)}  Unique value:  [  0 255]\n",
      "Preprocessed:  {(4, 72, 96)}  Unique value:  [0. 1.]\n",
      "Total Obs:  836\n"
     ]
    }
   ],
   "source": [
    "def preprocess_obs(obs_arr):\n",
    "    \n",
    "    mod_arr = []\n",
    "    \n",
    "    for obs in obs_arr:\n",
    "        obs = obs[:,:,-4:]\n",
    "        obs = np.moveaxis(obs, [0,1], [1,2])\n",
    "        obs = obs/255.0\n",
    "        mod_arr.append(obs)\n",
    "    \n",
    "    return mod_arr\n",
    "\n",
    "prep_obs = preprocess_obs(obs_flat)\n",
    "print(\"Original: \", {obs.shape for obs in obs_flat}, \" Unique value: \", np.unique(obs_flat))\n",
    "print(\"Preprocessed: \", {obs.shape for obs in prep_obs}, \" Unique value: \", np.unique(prep_obs))\n",
    "print(\"Total Obs: \", len(prep_obs))"
   ]
  },
  {
   "cell_type": "code",
   "execution_count": 22,
   "id": "bd7814a5",
   "metadata": {
    "ExecuteTime": {
     "end_time": "2021-04-21T05:52:11.108086Z",
     "start_time": "2021-04-21T05:52:10.462198Z"
    }
   },
   "outputs": [
    {
     "data": {
      "text/plain": [
       "array([0., 1.])"
      ]
     },
     "execution_count": 22,
     "metadata": {},
     "output_type": "execute_result"
    }
   ],
   "source": []
  },
  {
   "cell_type": "code",
   "execution_count": 32,
   "id": "e1389c1c",
   "metadata": {
    "ExecuteTime": {
     "end_time": "2021-04-21T05:58:06.552675Z",
     "start_time": "2021-04-21T05:58:05.863574Z"
    }
   },
   "outputs": [],
   "source": [
    "import pytorch_lightning as pl\n",
    "from torch import nn"
   ]
  },
  {
   "cell_type": "code",
   "execution_count": 108,
   "id": "f41f9d77",
   "metadata": {
    "ExecuteTime": {
     "end_time": "2021-04-21T07:23:08.252614Z",
     "start_time": "2021-04-21T07:23:08.233812Z"
    }
   },
   "outputs": [],
   "source": [
    "#https://analyticsindiamag.com/how-to-implement-convolutional-autoencoder-in-pytorch-with-cuda/\n",
    "#https://debuggercafe.com/machine-learning-hands-on-convolutional-autoencoders/ \n",
    "class NatureAE(pl.LightningModule):\n",
    "    def __init__(self, n_input_channels=4, flat_dim = 720, latent_dim=2):\n",
    "        super().__init__()\n",
    "\n",
    "        self.save_hyperparameters()\n",
    "\n",
    "        enc_out_dim = latent_dim\n",
    "        self.latent_dim = latent_dim\n",
    "        self.enc_out_dim = latent_dim\n",
    "                \n",
    "        \n",
    "        \n",
    "        self.bla1 = nn.Conv2d(n_input_channels, 32, kernel_size=8, stride=4, padding=0)\n",
    "        self.bla2 = nn.Conv2d(32, 64, kernel_size=4, stride=2, padding=0)\n",
    "        self.bla3 = nn.Conv2d(64, 64, kernel_size=3, stride=1, padding=0)\n",
    "        \n",
    "\n",
    "        # encoder\n",
    "        self.encoder1 = nn.Sequential(\n",
    "            self.bla1,\n",
    "            nn.ReLU(),\n",
    "            self.bla2,\n",
    "            nn.ReLU(),\n",
    "            self.bla3,\n",
    "            nn.ReLU(),\n",
    "        )\n",
    "        \n",
    "        self.encoder2 = nn.Sequential(\n",
    "            nn.Flatten(),\n",
    "            nn.Linear(flat_dim, enc_out_dim),\n",
    "            nn.ReLU()\n",
    "        )\n",
    "\n",
    "        print(\"Encoder\")\n",
    "        print(self.encoder1)\n",
    "        print(self.encoder2)\n",
    "\n",
    "        # decoder\n",
    "\n",
    "        self.decoder1 = nn.Sequential(\n",
    "            nn.Linear(enc_out_dim, flat_dim),\n",
    "            nn.ReLU(),\n",
    "        )\n",
    "        \n",
    "\n",
    "        self.alb1 = nn.ConvTranspose2d(in_channels=64, out_channels=64, kernel_size=3, stride=1, padding=0)\n",
    "        self.alb2 = nn.ConvTranspose2d(in_channels=64, out_channels=32, kernel_size=4, stride=2, padding=0, output_padding=1)\n",
    "        self.alb3 = nn.ConvTranspose2d(in_channels=32, out_channels=n_input_channels, kernel_size=8, stride=4, padding=0, output_padding=0)\n",
    "        \n",
    "            \n",
    "        self.decoder2 = nn.Sequential(\n",
    "            self.alb1,\n",
    "            nn.ReLU(),\n",
    "            self.alb2,\n",
    "            nn.ReLU()\n",
    "        )\n",
    "\n",
    "        print(\"Decoder\")\n",
    "        print(self.decoder1)\n",
    "        print(self.decoder2)\n",
    "        \n",
    "\n",
    "    def configure_optimizers(self):\n",
    "        return torch.optim.Adam(self.parameters())\n",
    "    \n",
    "    \n",
    "    def encode(self, x):\n",
    "        \n",
    "        \n",
    "        print(\"BLA START\")\n",
    "        print(x.shape)\n",
    "        x = self.bla1(x)\n",
    "        print(x.shape)\n",
    "        x = self.bla2(x)\n",
    "        print(x.shape)\n",
    "        x = self.bla3(x)\n",
    "        print(x.shape)\n",
    "        print(\"BLA DONE\")\n",
    "        \n",
    "        x = self.encoder2(x)\n",
    "        \"\"\"\n",
    "        x = self.encoder1(x)\n",
    "        \n",
    "        \n",
    "        \"\"\"\n",
    "        return x\n",
    "        \n",
    "    \n",
    "    def decode(self, x):\n",
    "\n",
    "        \n",
    "        print(\"ALB Start\")\n",
    "        print(x.shape)\n",
    "        x = self.decoder1(x)\n",
    "        x = x.view(-1, 64, 5, 8)\n",
    "        print(x.shape)\n",
    "        x = self.alb1(x)\n",
    "        print(x.shape)\n",
    "        x = self.alb2(x)\n",
    "        print(x.shape)\n",
    "        x = self.alb3(x)\n",
    "        print(x.shape)\n",
    "        print(\"ALB Done\")\n",
    "        return x\n",
    "        \n",
    "\n",
    "    def training_step(self, batch, batch_idx):\n",
    "\n",
    "        x = batch[0]\n",
    "\n",
    "        x_encoded = self.encoder(x)\n",
    "        #view\n",
    "        x_hat = self.decoder(x_encoded)\n",
    "\n",
    "        recon_loss = F.mse_loss(x, x_hat)\n",
    "        return recon_loss\n",
    "\n",
    "\n",
    "    def embed(self, input):\n",
    "        if isinstance(input, np.ndarray):\n",
    "            input = torch.tensor(input).float()\n",
    "\n",
    "        return self.encoder(input).detach().numpy()"
   ]
  },
  {
   "cell_type": "code",
   "execution_count": 109,
   "id": "3f481a18",
   "metadata": {
    "ExecuteTime": {
     "end_time": "2021-04-21T07:23:09.924016Z",
     "start_time": "2021-04-21T07:23:09.575258Z"
    }
   },
   "outputs": [
    {
     "name": "stdout",
     "output_type": "stream",
     "text": [
      "Encoder\n",
      "Sequential(\n",
      "  (0): Conv2d(4, 32, kernel_size=(8, 8), stride=(4, 4))\n",
      "  (1): ReLU()\n",
      "  (2): Conv2d(32, 64, kernel_size=(4, 4), stride=(2, 2))\n",
      "  (3): ReLU()\n",
      "  (4): Conv2d(64, 64, kernel_size=(3, 3), stride=(1, 1))\n",
      "  (5): ReLU()\n",
      ")\n",
      "Sequential(\n",
      "  (0): Flatten(start_dim=1, end_dim=-1)\n",
      "  (1): Linear(in_features=2560, out_features=2, bias=True)\n",
      "  (2): ReLU()\n",
      ")\n",
      "Decoder\n",
      "Sequential(\n",
      "  (0): Linear(in_features=2, out_features=2560, bias=True)\n",
      "  (1): ReLU()\n",
      ")\n",
      "Sequential(\n",
      "  (0): ConvTranspose2d(64, 64, kernel_size=(3, 3), stride=(1, 1))\n",
      "  (1): ReLU()\n",
      "  (2): ConvTranspose2d(64, 32, kernel_size=(4, 4), stride=(2, 2), output_padding=(1, 1))\n",
      "  (3): ReLU()\n",
      ")\n",
      "Data Shape (836, 4, 72, 96)\n",
      "BLA START\n",
      "torch.Size([836, 4, 72, 96])\n",
      "torch.Size([836, 32, 17, 23])\n",
      "torch.Size([836, 64, 7, 10])\n",
      "torch.Size([836, 64, 5, 8])\n",
      "BLA DONE\n",
      "torch.Size([836, 2])\n"
     ]
    }
   ],
   "source": [
    "import torch \n",
    "\n",
    "ae = NatureAE(flat_dim=2560)\n",
    "\n",
    "obs_in = np.array(prep_obs)\n",
    "print(\"Data Shape\", obs_in.shape)\n",
    "\n",
    "\n",
    "data = torch.tensor(obs_in).float()\n",
    "\n",
    "encoded = ae.encode(data)\n",
    "\n",
    "print(encoded.shape)"
   ]
  },
  {
   "cell_type": "code",
   "execution_count": 110,
   "id": "b406708e",
   "metadata": {
    "ExecuteTime": {
     "end_time": "2021-04-21T07:23:12.915525Z",
     "start_time": "2021-04-21T07:23:12.553885Z"
    }
   },
   "outputs": [
    {
     "name": "stdout",
     "output_type": "stream",
     "text": [
      "ALB Start\n",
      "torch.Size([836, 2])\n",
      "torch.Size([836, 64, 5, 8])\n",
      "torch.Size([836, 64, 7, 10])\n",
      "torch.Size([836, 32, 17, 23])\n",
      "torch.Size([836, 4, 72, 96])\n",
      "ALB Done\n"
     ]
    }
   ],
   "source": [
    "decoded = ae.decode(encoded)"
   ]
  },
  {
   "cell_type": "code",
   "execution_count": 111,
   "id": "8f44c858",
   "metadata": {
    "ExecuteTime": {
     "end_time": "2021-04-21T07:23:17.504109Z",
     "start_time": "2021-04-21T07:23:17.496435Z"
    }
   },
   "outputs": [
    {
     "data": {
      "text/plain": [
       "torch.Size([836, 4, 72, 96])"
      ]
     },
     "execution_count": 111,
     "metadata": {},
     "output_type": "execute_result"
    }
   ],
   "source": [
    "decoded.shape"
   ]
  },
  {
   "cell_type": "code",
   "execution_count": null,
   "id": "faf52ded",
   "metadata": {},
   "outputs": [],
   "source": []
  }
 ],
 "metadata": {
  "kernelspec": {
   "display_name": "Python 3",
   "language": "python",
   "name": "python3"
  },
  "language_info": {
   "codemirror_mode": {
    "name": "ipython",
    "version": 3
   },
   "file_extension": ".py",
   "mimetype": "text/x-python",
   "name": "python",
   "nbconvert_exporter": "python",
   "pygments_lexer": "ipython3",
   "version": "3.9.1"
  },
  "varInspector": {
   "cols": {
    "lenName": 16,
    "lenType": 16,
    "lenVar": 40
   },
   "kernels_config": {
    "python": {
     "delete_cmd_postfix": "",
     "delete_cmd_prefix": "del ",
     "library": "var_list.py",
     "varRefreshCmd": "print(var_dic_list())"
    },
    "r": {
     "delete_cmd_postfix": ") ",
     "delete_cmd_prefix": "rm(",
     "library": "var_list.r",
     "varRefreshCmd": "cat(var_dic_list()) "
    }
   },
   "types_to_exclude": [
    "module",
    "function",
    "builtin_function_or_method",
    "instance",
    "_Feature"
   ],
   "window_display": false
  }
 },
 "nbformat": 4,
 "nbformat_minor": 5
}
