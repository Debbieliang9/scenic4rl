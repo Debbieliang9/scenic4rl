{
 "cells": [
  {
   "cell_type": "code",
   "execution_count": 11,
   "id": "d86a1362",
   "metadata": {
    "ExecuteTime": {
     "end_time": "2021-04-22T07:53:44.607951Z",
     "start_time": "2021-04-22T07:53:44.605171Z"
    }
   },
   "outputs": [],
   "source": [
    "import pickle\n",
    "from utils import Trajectory\n",
    "from ipynb.fs.full.common import *"
   ]
  },
  {
   "cell_type": "code",
   "execution_count": 14,
   "id": "eeddb9d7",
   "metadata": {
    "ExecuteTime": {
     "end_time": "2021-04-22T07:55:40.533286Z",
     "start_time": "2021-04-22T07:55:40.528470Z"
    }
   },
   "outputs": [],
   "source": [
    "def train_nature_ae(proc_obs, latent_dim=64, batch_size = 512, max_epochs = 25, ckpt_path=\"\"):\n",
    "    import torch\n",
    "    if ckpt_path==\"\":\n",
    "        ckpt_path = f\"ae_{latent_dim}_{max_epochs}\"\n",
    "    \n",
    "    from torch.utils.data import Dataset, DataLoader, RandomSampler, TensorDataset\n",
    "    \n",
    "    data = torch.tensor(proc_obs).float()\n",
    "    dataset = TensorDataset(data)\n",
    "    sampler = RandomSampler(dataset)\n",
    "    dataloader = DataLoader(dataset, sampler=sampler, batch_size = batch_size)\n",
    "    \n",
    "    ae = NatureAE(flat_dim=2560, latent_dim=latent_dim)\n",
    "    trainer = pl.Trainer(gpus=0, max_epochs=max_epochs)\n",
    "    trainer.fit(ae, dataloader)\n",
    "    trainer.save_checkpoint(ckpt_path)\n",
    "    \n",
    "    return trainer"
   ]
  },
  {
   "cell_type": "code",
   "execution_count": 13,
   "id": "ff2ef4c4",
   "metadata": {
    "ExecuteTime": {
     "end_time": "2021-04-22T07:54:45.422374Z",
     "start_time": "2021-04-22T07:54:17.736714Z"
    }
   },
   "outputs": [
    {
     "name": "stdout",
     "output_type": "stream",
     "text": [
      "Loading Data...\n",
      "1. Loaded Raw Obs:  13669 {(72, 96, 16)} [  0 255]\n",
      "2. Preprocessed Obs:  13669 {(4, 72, 96)} [  0 255]\n"
     ]
    }
   ],
   "source": [
    "traj_data_path = \"rts_rand_traj_100.pkl\"\n",
    "print(\"Loading Data...\")\n",
    "\n",
    "trajs = pickle.load(open(traj_data_path,\"rb\"))\n",
    "traj_ids, obs_flat, gt_flat, proc_obs = load_data(trajs, normalize=False)\n"
   ]
  },
  {
   "cell_type": "code",
   "execution_count": 15,
   "id": "f6dd62a4",
   "metadata": {
    "ExecuteTime": {
     "end_time": "2021-04-22T07:55:49.745893Z",
     "start_time": "2021-04-22T07:55:49.732525Z"
    },
    "code_folding": []
   },
   "outputs": [],
   "source": [
    "import pytorch_lightning as pl\n",
    "from torch import nn\n",
    "from torch.nn import functional as F\n",
    "import torch\n",
    "#https://analyticsindiamag.com/how-to-implement-convolutional-autoencoder-in-pytorch-with-cuda/\n",
    "#https://debuggercafe.com/machine-learning-hands-on-convolutional-autoencoders/ \n",
    "class NatureAE(pl.LightningModule):\n",
    "    def __init__(self, n_input_channels=4, flat_dim = 720, latent_dim=2, print_network=False, loss_func=\"cross_entropy\"):\n",
    "        super().__init__()\n",
    "\n",
    "        self.save_hyperparameters()\n",
    "\n",
    "        enc_out_dim = latent_dim\n",
    "        self.latent_dim = latent_dim\n",
    "        self.enc_out_dim = latent_dim\n",
    "        self.loss_function = loss_func\n",
    "        \n",
    "        \n",
    "        self.bla1 = nn.Conv2d(n_input_channels, 32, kernel_size=8, stride=4, padding=0)\n",
    "        self.bla2 = nn.Conv2d(32, 64, kernel_size=4, stride=2, padding=0)\n",
    "        self.bla3 = nn.Conv2d(64, 64, kernel_size=3, stride=1, padding=0)\n",
    "        \n",
    "\n",
    "        # encoder\n",
    "        self.encoder1 = nn.Sequential(\n",
    "            self.bla1,\n",
    "            nn.ReLU(),\n",
    "            self.bla2,\n",
    "            nn.ReLU(),\n",
    "            self.bla3,\n",
    "            nn.ReLU(),\n",
    "        )\n",
    "        \n",
    "        self.encoder2 = nn.Sequential(\n",
    "            nn.Flatten(),\n",
    "            nn.Linear(flat_dim, enc_out_dim),\n",
    "            nn.ReLU()\n",
    "        )\n",
    "        \n",
    "        if print_network:\n",
    "            print(\"Encoder\")\n",
    "            print(self.encoder1)\n",
    "            print(self.encoder2)\n",
    "\n",
    "        # decoder\n",
    "\n",
    "        self.decoder1 = nn.Sequential(\n",
    "            nn.Linear(enc_out_dim, flat_dim),\n",
    "            nn.ReLU(),\n",
    "        )\n",
    "        \n",
    "\n",
    "        self.alb1 = nn.ConvTranspose2d(in_channels=64, out_channels=64, kernel_size=3, stride=1, padding=0)\n",
    "        self.alb2 = nn.ConvTranspose2d(in_channels=64, out_channels=32, kernel_size=4, stride=2, padding=0, output_padding=1)\n",
    "        self.alb3 = nn.ConvTranspose2d(in_channels=32, out_channels=n_input_channels, kernel_size=8, stride=4, padding=0, output_padding=0)\n",
    "        \n",
    "            \n",
    "        self.decoder2 = nn.Sequential(\n",
    "            self.alb1,\n",
    "            nn.ReLU(),\n",
    "            self.alb2,\n",
    "            nn.ReLU(),\n",
    "            self.alb3\n",
    "        )\n",
    "            \n",
    "        if print_network:\n",
    "            print(\"Decoder\")\n",
    "            print(self.decoder1)\n",
    "            print(self.decoder2)\n",
    "        \n",
    "\n",
    "    def configure_optimizers(self):\n",
    "        return torch.optim.Adam(self.parameters())\n",
    "    \n",
    "    \n",
    "    def encode(self, x):\n",
    "        \n",
    "        \"\"\"\n",
    "        print(\"BLA START\")\n",
    "        print(x.shape)\n",
    "        x = self.bla1(x)\n",
    "        print(x.shape)\n",
    "        x = self.bla2(x)\n",
    "        print(x.shape)\n",
    "        x = self.bla3(x)\n",
    "        print(x.shape)\n",
    "        print(\"BLA DONE\")\n",
    "        \"\"\"\n",
    "        \n",
    "        \n",
    "        x = self.encoder1(x)\n",
    "        x = self.encoder2(x)\n",
    "        \n",
    "        \n",
    "        return x\n",
    "        \n",
    "    \n",
    "    def decode(self, x):\n",
    "    \n",
    "        \"\"\"\n",
    "        print(\"ALB Start\")\n",
    "        print(x.shape)\n",
    "        x = self.decoder1(x)\n",
    "        x = x.view(-1, 64, 5, 8)\n",
    "        print(x.shape)\n",
    "        x = self.alb1(x)\n",
    "        print(x.shape)\n",
    "        x = self.alb2(x)\n",
    "        print(x.shape)\n",
    "        x = self.alb3(x)\n",
    "        print(x.shape)\n",
    "        print(\"ALB Done\")\n",
    "        \"\"\"\n",
    "        x = self.decoder1(x)\n",
    "        x = x.view(-1, 64, 5, 8)\n",
    "        x = self.decoder2(x)\n",
    "        \n",
    "        return x\n",
    "        \n",
    "\n",
    "    def training_step(self, batch, batch_idx):\n",
    "\n",
    "        x = batch[0]\n",
    "\n",
    "        x_encoded = self.encode(x)\n",
    "        #view\n",
    "        x_hat = self.decode(x_encoded)\n",
    "        \n",
    "        #x_flat = x.view(x.shape[0], -1)\n",
    "        #x_hat_flat = x_hat.view(x_hat.shape[0], -1)\n",
    "        \n",
    "        #print(x_flat.shape)\n",
    "        #quit()\n",
    "        \n",
    "\n",
    "        #recon_loss = F.mse_loss(x, x_hat, reduction=\"sum\")\n",
    "        recon_loss = F.mse_loss(x, x_hat)\n",
    "        \n",
    "        #recon_loss = F.binary_cross_entropy_with_logits(x_hat_flat, x_flat, reduction=\"sum\")\n",
    "        #recon_loss = F.binary_cross_entropy_with_logits(x_hat, x)\n",
    "        \n",
    "        return recon_loss\n",
    "\n",
    "\n",
    "    def embed(self, input):\n",
    "        if isinstance(input, np.ndarray):\n",
    "            input = torch.tensor(input).float()\n",
    "\n",
    "        return self.encoder(input).detach().numpy()"
   ]
  },
  {
   "cell_type": "code",
   "execution_count": 23,
   "id": "7266f222",
   "metadata": {
    "ExecuteTime": {
     "end_time": "2021-04-22T09:35:15.919413Z",
     "start_time": "2021-04-22T09:14:23.152306Z"
    }
   },
   "outputs": [
    {
     "name": "stdout",
     "output_type": "stream",
     "text": [
      "Start Training\n"
     ]
    },
    {
     "name": "stderr",
     "output_type": "stream",
     "text": [
      "GPU available: False, used: False\n",
      "TPU available: False, using: 0 TPU cores\n",
      "\n",
      "  | Name     | Type            | Params\n",
      "---------------------------------------------\n",
      "0 | bla1     | Conv2d          | 8.2 K \n",
      "1 | bla2     | Conv2d          | 32.8 K\n",
      "2 | bla3     | Conv2d          | 36.9 K\n",
      "3 | encoder1 | Sequential      | 78.0 K\n",
      "4 | encoder2 | Sequential      | 5.1 K \n",
      "5 | decoder1 | Sequential      | 7.7 K \n",
      "6 | alb1     | ConvTranspose2d | 36.9 K\n",
      "7 | alb2     | ConvTranspose2d | 32.8 K\n",
      "8 | alb3     | ConvTranspose2d | 8.2 K \n",
      "9 | decoder2 | Sequential      | 77.9 K\n",
      "---------------------------------------------\n",
      "168 K     Trainable params\n",
      "0         Non-trainable params\n",
      "168 K     Total params\n",
      "0.675     Total estimated model params size (MB)\n"
     ]
    },
    {
     "data": {
      "application/vnd.jupyter.widget-view+json": {
       "model_id": "778b7062862d432789413c94c58df401",
       "version_major": 2,
       "version_minor": 0
      },
      "text/plain": [
       "Training: 0it [00:00, ?it/s]"
      ]
     },
     "metadata": {},
     "output_type": "display_data"
    },
    {
     "data": {
      "text/plain": [
       "<pytorch_lightning.trainer.trainer.Trainer at 0x12e8fd100>"
      ]
     },
     "execution_count": 23,
     "metadata": {},
     "output_type": "execute_result"
    }
   ],
   "source": [
    "\n",
    "batch_size = 256\n",
    "max_epochs = 50\n",
    "latent_dim = 2\n",
    "\n",
    "data_dir = \"models\"\n",
    "ckpt_path = f\"{data_dir}/nature_ae_mse_no_scale_{latent_dim}_rts_100.ckpt\"\n",
    "\n",
    "print(\"Start Training\")\n",
    "train_nature_ae(proc_obs, latent_dim = latent_dim, max_epochs=max_epochs, ckpt_path=ckpt_path)"
   ]
  },
  {
   "cell_type": "code",
   "execution_count": null,
   "id": "5c336632",
   "metadata": {},
   "outputs": [],
   "source": []
  }
 ],
 "metadata": {
  "kernelspec": {
   "display_name": "Python 3",
   "language": "python",
   "name": "python3"
  },
  "language_info": {
   "codemirror_mode": {
    "name": "ipython",
    "version": 3
   },
   "file_extension": ".py",
   "mimetype": "text/x-python",
   "name": "python",
   "nbconvert_exporter": "python",
   "pygments_lexer": "ipython3",
   "version": "3.9.1"
  },
  "varInspector": {
   "cols": {
    "lenName": 16,
    "lenType": 16,
    "lenVar": 40
   },
   "kernels_config": {
    "python": {
     "delete_cmd_postfix": "",
     "delete_cmd_prefix": "del ",
     "library": "var_list.py",
     "varRefreshCmd": "print(var_dic_list())"
    },
    "r": {
     "delete_cmd_postfix": ") ",
     "delete_cmd_prefix": "rm(",
     "library": "var_list.r",
     "varRefreshCmd": "cat(var_dic_list()) "
    }
   },
   "types_to_exclude": [
    "module",
    "function",
    "builtin_function_or_method",
    "instance",
    "_Feature"
   ],
   "window_display": false
  }
 },
 "nbformat": 4,
 "nbformat_minor": 5
}
