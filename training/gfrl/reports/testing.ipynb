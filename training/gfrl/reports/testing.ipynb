{
 "cells": [
  {
   "cell_type": "code",
   "execution_count": 6,
   "id": "9878ac2c-6d4e-4e95-8939-abe97962f500",
   "metadata": {},
   "outputs": [],
   "source": [
    "import seaborn as sns"
   ]
  },
  {
   "cell_type": "code",
   "execution_count": 7,
   "id": "7c96353c-d20d-43a4-84c4-e6578fb5c020",
   "metadata": {},
   "outputs": [],
   "source": [
    "sns.set_theme(style=\"whitegrid\")"
   ]
  },
  {
   "cell_type": "code",
   "execution_count": 8,
   "id": "ea2a1932-59e5-43d6-a617-11b1d31a70d9",
   "metadata": {},
   "outputs": [],
   "source": [
    "import pandas as pd\n",
    "\n",
    "df = pd.read_csv(\"testing.csv\")"
   ]
  },
  {
   "cell_type": "code",
   "execution_count": 13,
   "id": "80e33db9-39b8-4caf-b2d4-c95223342271",
   "metadata": {},
   "outputs": [
    {
     "data": {
      "text/html": [
       "<div>\n",
       "<style scoped>\n",
       "    .dataframe tbody tr th:only-of-type {\n",
       "        vertical-align: middle;\n",
       "    }\n",
       "\n",
       "    .dataframe tbody tr th {\n",
       "        vertical-align: top;\n",
       "    }\n",
       "\n",
       "    .dataframe thead th {\n",
       "        text-align: right;\n",
       "    }\n",
       "</style>\n",
       "<table border=\"1\" class=\"dataframe\">\n",
       "  <thead>\n",
       "    <tr style=\"text-align: right;\">\n",
       "      <th></th>\n",
       "      <th>Scenario Type</th>\n",
       "      <th>Scenario</th>\n",
       "      <th>Evaluation Script</th>\n",
       "      <th>Average Goal Difference</th>\n",
       "    </tr>\n",
       "  </thead>\n",
       "  <tbody>\n",
       "    <tr>\n",
       "      <th>0</th>\n",
       "      <td>academy</td>\n",
       "      <td>Pass and Shoot</td>\n",
       "      <td>Training</td>\n",
       "      <td>0.80</td>\n",
       "    </tr>\n",
       "    <tr>\n",
       "      <th>1</th>\n",
       "      <td>academy</td>\n",
       "      <td>Pass and Shoot</td>\n",
       "      <td>Testing</td>\n",
       "      <td>0.50</td>\n",
       "    </tr>\n",
       "    <tr>\n",
       "      <th>2</th>\n",
       "      <td>NaN</td>\n",
       "      <td>Run, Pass, and Shoot</td>\n",
       "      <td>Training</td>\n",
       "      <td>0.54</td>\n",
       "    </tr>\n",
       "    <tr>\n",
       "      <th>3</th>\n",
       "      <td>NaN</td>\n",
       "      <td>Run, Pass, and Shoot</td>\n",
       "      <td>Testing</td>\n",
       "      <td>0.45</td>\n",
       "    </tr>\n",
       "    <tr>\n",
       "      <th>4</th>\n",
       "      <td>academy</td>\n",
       "      <td>3vs1</td>\n",
       "      <td>Training</td>\n",
       "      <td>0.70</td>\n",
       "    </tr>\n",
       "    <tr>\n",
       "      <th>5</th>\n",
       "      <td>academy</td>\n",
       "      <td>3vs1</td>\n",
       "      <td>Testing</td>\n",
       "      <td>0.50</td>\n",
       "    </tr>\n",
       "    <tr>\n",
       "      <th>6</th>\n",
       "      <td>NaN</td>\n",
       "      <td>Run To Score</td>\n",
       "      <td>Training</td>\n",
       "      <td>0.90</td>\n",
       "    </tr>\n",
       "    <tr>\n",
       "      <th>7</th>\n",
       "      <td>NaN</td>\n",
       "      <td>Run To Score</td>\n",
       "      <td>Testing</td>\n",
       "      <td>0.20</td>\n",
       "    </tr>\n",
       "    <tr>\n",
       "      <th>8</th>\n",
       "      <td>NaN</td>\n",
       "      <td>Counterattack Easy</td>\n",
       "      <td>Training</td>\n",
       "      <td>0.60</td>\n",
       "    </tr>\n",
       "    <tr>\n",
       "      <th>9</th>\n",
       "      <td>NaN</td>\n",
       "      <td>Counterattack Easy</td>\n",
       "      <td>Testing</td>\n",
       "      <td>0.20</td>\n",
       "    </tr>\n",
       "  </tbody>\n",
       "</table>\n",
       "</div>"
      ],
      "text/plain": [
       "  Scenario Type              Scenario Evaluation Script  \\\n",
       "0       academy        Pass and Shoot          Training   \n",
       "1       academy        Pass and Shoot           Testing   \n",
       "2           NaN  Run, Pass, and Shoot          Training   \n",
       "3           NaN  Run, Pass, and Shoot           Testing   \n",
       "4       academy                 3vs1           Training   \n",
       "5       academy                 3vs1            Testing   \n",
       "6           NaN          Run To Score          Training   \n",
       "7           NaN          Run To Score           Testing   \n",
       "8           NaN    Counterattack Easy          Training   \n",
       "9           NaN    Counterattack Easy           Testing   \n",
       "\n",
       "   Average Goal Difference  \n",
       "0                     0.80  \n",
       "1                     0.50  \n",
       "2                     0.54  \n",
       "3                     0.45  \n",
       "4                     0.70  \n",
       "5                     0.50  \n",
       "6                     0.90  \n",
       "7                     0.20  \n",
       "8                     0.60  \n",
       "9                     0.20  "
      ]
     },
     "execution_count": 13,
     "metadata": {},
     "output_type": "execute_result"
    }
   ],
   "source": [
    "df\n"
   ]
  },
  {
   "cell_type": "code",
   "execution_count": 10,
   "id": "e9fb7430-ed42-4083-9dd1-baae7ffc7d96",
   "metadata": {},
   "outputs": [],
   "source": [
    "#df = df[\"Type\" != \"BC Policy\"]"
   ]
  },
  {
   "cell_type": "code",
   "execution_count": 11,
   "id": "e9be1d1b-5476-4ee6-925b-58378386c2b1",
   "metadata": {},
   "outputs": [],
   "source": [
    "#df"
   ]
  },
  {
   "cell_type": "code",
   "execution_count": 17,
   "id": "58df67fe-a6ff-451b-bf76-3409e7f8f868",
   "metadata": {},
   "outputs": [
    {
     "data": {
      "image/png": "[encoded data removed]",
      "text/plain": [
       "<Figure size 1152x576 with 1 Axes>"
      ]
     },
     "metadata": {},
     "output_type": "display_data"
    }
   ],
   "source": [
    "from matplotlib import pyplot\n",
    "pyplot.figure(figsize=(16, 8))\n",
    "\n",
    "ax = sns.barplot(x=\"Scenario\", y=\"Average Goal Difference\", hue='Evaluation Script', data=df)\n",
    "\n",
    "from matplotlib.ticker import MultipleLocator\n",
    "ax.yaxis.set_major_locator(MultipleLocator(0.1))\n",
    "ax.set(ylim=(0, 1))\n",
    "ax.figure.savefig(\"testing.png\")"
   ]
  },
  {
   "cell_type": "code",
   "execution_count": null,
   "id": "8fd1be93-4dbd-4bfa-924a-ac9b74fc3eb2",
   "metadata": {},
   "outputs": [],
   "source": []
  },
  {
   "cell_type": "code",
   "execution_count": null,
   "id": "a906d917-3755-4761-84eb-9ebba692931b",
   "metadata": {},
   "outputs": [],
   "source": []
  }
 ],
 "metadata": {
  "kernelspec": {
   "display_name": "Python 3",
   "language": "python",
   "name": "python3"
  },
  "language_info": {
   "codemirror_mode": {
    "name": "ipython",
    "version": 3
   },
   "file_extension": ".py",
   "mimetype": "text/x-python",
   "name": "python",
   "nbconvert_exporter": "python",
   "pygments_lexer": "ipython3",
   "version": "3.9.1"
  }
 },
 "nbformat": 4,
 "nbformat_minor": 5
}
