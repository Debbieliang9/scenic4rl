{
 "cells": [
  {
   "cell_type": "code",
   "execution_count": 2,
   "id": "9878ac2c-6d4e-4e95-8939-abe97962f500",
   "metadata": {},
   "outputs": [],
   "source": [
    "import seaborn as sns"
   ]
  },
  {
   "cell_type": "code",
   "execution_count": 3,
   "id": "7c96353c-d20d-43a4-84c4-e6578fb5c020",
   "metadata": {},
   "outputs": [],
   "source": [
    "sns.set_theme(style=\"whitegrid\")"
   ]
  },
  {
   "cell_type": "code",
   "execution_count": 8,
   "id": "f7beba5e-3cd6-4fa3-81c8-c6ca781999be",
   "metadata": {},
   "outputs": [
    {
     "data": {
      "image/png": "[encoded data removed]",
      "text/plain": [
       "<Figure size 432x288 with 1 Axes>"
      ]
     },
     "metadata": {},
     "output_type": "display_data"
    }
   ],
   "source": [
    "ax = sns.barplot(x=\"day\", y=\"total_bill\", data=tips)"
   ]
  },
  {
   "cell_type": "code",
   "execution_count": 25,
   "id": "ea2a1932-59e5-43d6-a617-11b1d31a70d9",
   "metadata": {},
   "outputs": [],
   "source": [
    "import pandas as pd\n",
    "\n",
    "df = pd.read_csv(\"ppo_benchmark.csv\")"
   ]
  },
  {
   "cell_type": "code",
   "execution_count": 26,
   "id": "e9be1d1b-5476-4ee6-925b-58378386c2b1",
   "metadata": {},
   "outputs": [
    {
     "data": {
      "text/html": [
       "<div>\n",
       "<style scoped>\n",
       "    .dataframe tbody tr th:only-of-type {\n",
       "        vertical-align: middle;\n",
       "    }\n",
       "\n",
       "    .dataframe tbody tr th {\n",
       "        vertical-align: top;\n",
       "    }\n",
       "\n",
       "    .dataframe thead th {\n",
       "        text-align: right;\n",
       "    }\n",
       "</style>\n",
       "<table border=\"1\" class=\"dataframe\">\n",
       "  <thead>\n",
       "    <tr style=\"text-align: right;\">\n",
       "      <th></th>\n",
       "      <th>Type</th>\n",
       "      <th>Scenario</th>\n",
       "      <th>Average Goal Difference</th>\n",
       "    </tr>\n",
       "  </thead>\n",
       "  <tbody>\n",
       "    <tr>\n",
       "      <th>0</th>\n",
       "      <td>Offensive</td>\n",
       "      <td>cross_easy</td>\n",
       "      <td>0.710</td>\n",
       "    </tr>\n",
       "    <tr>\n",
       "      <th>1</th>\n",
       "      <td>Offensive</td>\n",
       "      <td>cross_easy</td>\n",
       "      <td>0.640</td>\n",
       "    </tr>\n",
       "    <tr>\n",
       "      <th>2</th>\n",
       "      <td>Offensive</td>\n",
       "      <td>cross_easy</td>\n",
       "      <td>0.780</td>\n",
       "    </tr>\n",
       "    <tr>\n",
       "      <th>3</th>\n",
       "      <td>Offensive</td>\n",
       "      <td>cross_hard</td>\n",
       "      <td>0.060</td>\n",
       "    </tr>\n",
       "    <tr>\n",
       "      <th>4</th>\n",
       "      <td>Offensive</td>\n",
       "      <td>cross_hard</td>\n",
       "      <td>0.020</td>\n",
       "    </tr>\n",
       "    <tr>\n",
       "      <th>5</th>\n",
       "      <td>Offensive</td>\n",
       "      <td>cross_hard</td>\n",
       "      <td>0.270</td>\n",
       "    </tr>\n",
       "    <tr>\n",
       "      <th>6</th>\n",
       "      <td>Offensive</td>\n",
       "      <td>11_vs_gk</td>\n",
       "      <td>0.000</td>\n",
       "    </tr>\n",
       "    <tr>\n",
       "      <th>7</th>\n",
       "      <td>Offensive</td>\n",
       "      <td>11_vs_gk</td>\n",
       "      <td>0.002</td>\n",
       "    </tr>\n",
       "    <tr>\n",
       "      <th>8</th>\n",
       "      <td>Offensive</td>\n",
       "      <td>11_vs_gk</td>\n",
       "      <td>0.004</td>\n",
       "    </tr>\n",
       "    <tr>\n",
       "      <th>9</th>\n",
       "      <td>Offensive</td>\n",
       "      <td>avoid_pass_shoot</td>\n",
       "      <td>0.650</td>\n",
       "    </tr>\n",
       "    <tr>\n",
       "      <th>10</th>\n",
       "      <td>Offensive</td>\n",
       "      <td>avoid_pass_shoot</td>\n",
       "      <td>0.450</td>\n",
       "    </tr>\n",
       "    <tr>\n",
       "      <th>11</th>\n",
       "      <td>Offensive</td>\n",
       "      <td>avoid_pass_shoot</td>\n",
       "      <td>0.910</td>\n",
       "    </tr>\n",
       "    <tr>\n",
       "      <th>12</th>\n",
       "      <td>Defensive</td>\n",
       "      <td>1v1</td>\n",
       "      <td>-0.180</td>\n",
       "    </tr>\n",
       "    <tr>\n",
       "      <th>13</th>\n",
       "      <td>Defensive</td>\n",
       "      <td>1v1</td>\n",
       "      <td>-0.010</td>\n",
       "    </tr>\n",
       "    <tr>\n",
       "      <th>14</th>\n",
       "      <td>Defensive</td>\n",
       "      <td>1v1</td>\n",
       "      <td>-0.160</td>\n",
       "    </tr>\n",
       "    <tr>\n",
       "      <th>15</th>\n",
       "      <td>Defensive</td>\n",
       "      <td>2v2</td>\n",
       "      <td>-0.180</td>\n",
       "    </tr>\n",
       "    <tr>\n",
       "      <th>16</th>\n",
       "      <td>Defensive</td>\n",
       "      <td>2v2</td>\n",
       "      <td>-0.180</td>\n",
       "    </tr>\n",
       "    <tr>\n",
       "      <th>17</th>\n",
       "      <td>Defensive</td>\n",
       "      <td>2v2</td>\n",
       "      <td>-0.230</td>\n",
       "    </tr>\n",
       "    <tr>\n",
       "      <th>18</th>\n",
       "      <td>Defensive</td>\n",
       "      <td>gk_vs_attacker</td>\n",
       "      <td>-0.040</td>\n",
       "    </tr>\n",
       "    <tr>\n",
       "      <th>19</th>\n",
       "      <td>Defensive</td>\n",
       "      <td>gk_vs_attacker</td>\n",
       "      <td>-0.080</td>\n",
       "    </tr>\n",
       "    <tr>\n",
       "      <th>20</th>\n",
       "      <td>Defensive</td>\n",
       "      <td>gk_vs_attacker</td>\n",
       "      <td>-0.100</td>\n",
       "    </tr>\n",
       "  </tbody>\n",
       "</table>\n",
       "</div>"
      ],
      "text/plain": [
       "         Type          Scenario  Average Goal Difference\n",
       "0   Offensive        cross_easy                    0.710\n",
       "1   Offensive        cross_easy                    0.640\n",
       "2   Offensive        cross_easy                    0.780\n",
       "3   Offensive        cross_hard                    0.060\n",
       "4   Offensive        cross_hard                    0.020\n",
       "5   Offensive        cross_hard                    0.270\n",
       "6   Offensive          11_vs_gk                    0.000\n",
       "7   Offensive          11_vs_gk                    0.002\n",
       "8   Offensive          11_vs_gk                    0.004\n",
       "9   Offensive  avoid_pass_shoot                    0.650\n",
       "10  Offensive  avoid_pass_shoot                    0.450\n",
       "11  Offensive  avoid_pass_shoot                    0.910\n",
       "12  Defensive               1v1                   -0.180\n",
       "13  Defensive               1v1                   -0.010\n",
       "14  Defensive               1v1                   -0.160\n",
       "15  Defensive               2v2                   -0.180\n",
       "16  Defensive               2v2                   -0.180\n",
       "17  Defensive               2v2                   -0.230\n",
       "18  Defensive    gk_vs_attacker                   -0.040\n",
       "19  Defensive    gk_vs_attacker                   -0.080\n",
       "20  Defensive    gk_vs_attacker                   -0.100"
      ]
     },
     "execution_count": 26,
     "metadata": {},
     "output_type": "execute_result"
    }
   ],
   "source": [
    "df"
   ]
  },
  {
   "cell_type": "code",
   "execution_count": 35,
   "id": "58df67fe-a6ff-451b-bf76-3409e7f8f868",
   "metadata": {},
   "outputs": [
    {
     "data": {
      "image/png": "[encoded data removed]",
      "text/plain": [
       "<Figure size 1152x576 with 1 Axes>"
      ]
     },
     "metadata": {},
     "output_type": "display_data"
    }
   ],
   "source": [
    "from matplotlib import pyplot\n",
    "pyplot.figure(figsize=(16, 8))\n",
    "\n",
    "ax = sns.barplot(x=\"Scenario\", y=\"Average Goal Difference\", hue='Type', data=df)\n",
    "\n",
    "from matplotlib.ticker import MultipleLocator\n",
    "ax.yaxis.set_major_locator(MultipleLocator(0.1))\n",
    "ax.set(ylim=(-1, 1))\n",
    "ax.figure.savefig(\"benchmark.png\")"
   ]
  },
  {
   "cell_type": "code",
   "execution_count": null,
   "id": "8fd1be93-4dbd-4bfa-924a-ac9b74fc3eb2",
   "metadata": {},
   "outputs": [],
   "source": []
  },
  {
   "cell_type": "code",
   "execution_count": null,
   "id": "a906d917-3755-4761-84eb-9ebba692931b",
   "metadata": {},
   "outputs": [],
   "source": []
  }
 ],
 "metadata": {
  "kernelspec": {
   "display_name": "Python 3",
   "language": "python",
   "name": "python3"
  },
  "language_info": {
   "codemirror_mode": {
    "name": "ipython",
    "version": 3
   },
   "file_extension": ".py",
   "mimetype": "text/x-python",
   "name": "python",
   "nbconvert_exporter": "python",
   "pygments_lexer": "ipython3",
   "version": "3.9.1"
  }
 },
 "nbformat": 4,
 "nbformat_minor": 5
}
