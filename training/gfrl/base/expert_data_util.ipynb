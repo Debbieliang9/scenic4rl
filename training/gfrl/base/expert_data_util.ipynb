{
 "cells": [
  {
   "cell_type": "code",
   "execution_count": 1,
   "id": "26d3aa8a",
   "metadata": {},
   "outputs": [],
   "source": [
    "'''\n",
    "The code is used to train BC imitator, or pretrained GAIL imitator\n",
    "'''\n",
    "\n",
    "import argparse\n",
    "import tempfile\n",
    "import os.path as osp\n",
    "import gym\n",
    "import logging\n",
    "from tqdm import tqdm\n",
    "\n",
    "import tensorflow as tf\n",
    "\n",
    "from baselines.gail import mlp_policy\n",
    "from baselines import bench\n",
    "from baselines import logger\n",
    "from baselines.common import set_global_seeds, tf_util as U\n",
    "from baselines.common.misc_util import boolean_flag\n",
    "\n",
    "#from baselines.gail.run_mujoco import runner\n",
    "from baselines.gail.dataset.mujoco_dset import Mujoco_Dset \n",
    "\n",
    "##from baselines.common.mpi_adam import MpiAdam"
   ]
  },
  {
   "cell_type": "code",
   "execution_count": 2,
   "id": "4140f22a",
   "metadata": {},
   "outputs": [],
   "source": [
    "def generate_expert_data_with_rewards(scenario_file, num_interactions=1000, file_name=\"expert_data\", act_ndim=19):\n",
    "    #from gfrl.base.run_my_ppo2 import create_single_scenic_environment\n",
    "    import numpy as np\n",
    "    expert_observations = []\n",
    "    expert_actions = []\n",
    "    expert_rewards = []\n",
    "\n",
    "    gf_env_settings = {\n",
    "        \"stacked\": True,\n",
    "        \"rewards\": 'scoring',\n",
    "        \"representation\": 'extracted',\n",
    "        \"players\": [f\"agent:left_players=1\"],\n",
    "        \"action_set\": \"default\",#\"default\" \"v2\"\n",
    "    }\n",
    "\n",
    "    from scenic.simulators.gfootball.rl_interface import GFScenicEnv\n",
    "    from scenic.simulators.gfootball.utilities.scenic_helper import buildScenario\n",
    "    scenario = buildScenario(scenario_file)\n",
    "    env = GFScenicEnv(initial_scenario=scenario, gf_env_settings=gf_env_settings, use_scenic_behavior_in_step=True, constraints_checking=True)\n",
    "    \n",
    "    obs = env.reset()\n",
    "    tr = 0\n",
    "    for i in tqdm(range(num_interactions)):\n",
    "        expert_observations.append(obs)\n",
    "\n",
    "        obs, reward, done, info = env.step(env.action_space.sample())\n",
    "        tr+=reward\n",
    "        # print(info)\n",
    "        action = info[\"action_taken\"]\n",
    "        expert_actions.append(action)\n",
    "\n",
    "        if done:\n",
    "            obs = env.reset()\n",
    "            expert_rewards.append(tr)\n",
    "            tr = 0\n",
    "\n",
    "    expert_observations = np.array(expert_observations)\n",
    "    #expert_observations = np.moveaxis(expert_observations, [3], [1])\n",
    "    acts = np.array(expert_actions)\n",
    "\n",
    "    acts_oh = np.zeros((acts.shape[0], act_ndim))\n",
    "    acts_oh[np.arange(acts.shape[0]), acts] = 1\n",
    "\n",
    "    expert_rewards = np.array(expert_rewards)\n",
    "    print(\"Expert observation shape: \", expert_observations.shape)\n",
    "    print(\"Expert actions shape: \", acts_oh.shape)\n",
    "    print(\"Num Episode: \", expert_rewards.shape[0])\n",
    "    print(\"Mean Reward: \", expert_rewards.mean())\n",
    "\n",
    "    #np.savez(expert_file_name, obs=mb_obs, acs=mb_act_oh, num_epi = num_episodes, mean_reward = np.sum(mb_rewards)/num_episodes)\n",
    "    np.savez_compressed(\n",
    "        file_name,\n",
    "        acs=acts_oh,\n",
    "        obs=expert_observations,\n",
    "        num_epi = expert_rewards.shape[0],\n",
    "        mean_reward = expert_rewards.mean(),\n",
    "        rewards = expert_rewards\n",
    "    )\n",
    "    return expert_observations, acts_oh, expert_rewards\n",
    "\n"
   ]
  },
  {
   "cell_type": "code",
   "execution_count": 50,
   "id": "4843aac7",
   "metadata": {},
   "outputs": [],
   "source": [
    "def generate_expert_successful_data(scenario_file, num_interactions=1000, file_name=\"expert_data\", act_ndim=19):\n",
    "    #from gfrl.base.run_my_ppo2 import create_single_scenic_environment\n",
    "    import numpy as np\n",
    "    expert_observations = []\n",
    "    expert_actions = []\n",
    "    expert_rewards = []\n",
    "\n",
    "    gf_env_settings = {\n",
    "        \"stacked\": True,\n",
    "        \"rewards\": 'scoring',\n",
    "        \"representation\": 'extracted',\n",
    "        \"players\": [f\"agent:left_players=1\"],\n",
    "        \"action_set\": \"default\",#\"default\" \"v2\"\n",
    "    }\n",
    "\n",
    "    from scenic.simulators.gfootball.rl_interface import GFScenicEnv\n",
    "    from scenic.simulators.gfootball.utilities.scenic_helper import buildScenario\n",
    "    scenario = buildScenario(scenario_file)\n",
    "    env = GFScenicEnv(initial_scenario=scenario, gf_env_settings=gf_env_settings, use_scenic_behavior_in_step=True, constraints_checking=True)\n",
    "    \n",
    "    \n",
    "    tr = 0\n",
    "    \n",
    "    obs_buf, acts_buf, rew_buf  = [], [], []\n",
    "\n",
    "    \n",
    "    with tqdm(total=num_interactions) as pbar:\n",
    "        \n",
    "        while(len(expert_observations)<num_interactions):\n",
    "            \n",
    "            \n",
    "            if len(obs_buf)==0:\n",
    "                obs = env.reset()\n",
    "            \n",
    "            obs_buf.append(obs)\n",
    "            obs, reward, done, info = env.step(env.action_space.sample())\n",
    "            \n",
    "            #rew_buf.append(reward)\n",
    "\n",
    "            tr+=reward\n",
    "            # print(info)\n",
    "            action = info[\"action_taken\"]\n",
    "            acts_buf.append(action)\n",
    "\n",
    "            if done:\n",
    "                \n",
    "                #print(f\"New Epi: {len(obs_buf)} R: {tr}\")\n",
    "                \n",
    "                if tr>0: \n",
    "                    expert_observations.extend(obs_buf)\n",
    "                    expert_actions.extend(acts_buf)\n",
    "                    expert_rewards.append(tr)\n",
    "                    \n",
    "                    if len(expert_observations)> num_interactions:\n",
    "                        pbar.update(num_interactions)\n",
    "                    else:\n",
    "                        pbar.update(len(obs_buf)) \n",
    "                        \n",
    "                    #print(\"Added new Api. Current Size: \", len(expert_observations))\n",
    "\n",
    "\n",
    "                obs_buf, acts_buf, rew_buf  = [], [], []\n",
    "                obs = env.reset()\n",
    "                tr = 0\n",
    "\n",
    "            \n",
    "    print(\"Collection Done\")        \n",
    "        \n",
    "\n",
    "    expert_observations = np.array(expert_observations)\n",
    "    #expert_observations = np.moveaxis(expert_observations, [3], [1])\n",
    "    acts = np.array(expert_actions)\n",
    "\n",
    "    acts_oh = np.zeros((acts.shape[0], act_ndim))\n",
    "    acts_oh[np.arange(acts.shape[0]), acts] = 1\n",
    "\n",
    "    expert_rewards = np.array(expert_rewards)\n",
    "    \n",
    "    print(\"Expert observation shape: \", expert_observations.shape)\n",
    "    print(\"Expert actions shape: \", acts_oh.shape)\n",
    "    print(\"Num Episode: \", expert_rewards.shape[0])\n",
    "    print(\"Mean Reward: \", expert_rewards.mean())\n",
    "\n",
    "    #np.savez(expert_file_name, obs=mb_obs, acs=mb_act_oh, num_epi = num_episodes, mean_reward = np.sum(mb_rewards)/num_episodes)\n",
    "    np.savez_compressed(\n",
    "        file_name,\n",
    "        acs=acts_oh,\n",
    "        obs=expert_observations,\n",
    "        num_epi = expert_rewards.shape[0],\n",
    "        mean_reward = expert_rewards.mean(),\n",
    "        rewards = expert_rewards\n",
    "    )\n",
    "    return expert_observations, acts_oh, expert_rewards\n",
    "\n"
   ]
  },
  {
   "cell_type": "code",
   "execution_count": 51,
   "id": "74d34b15",
   "metadata": {
    "scrolled": true
   },
   "outputs": [
    {
     "name": "stderr",
     "output_type": "stream",
     "text": [
      "\r",
      "  0%|          | 0/10000 [00:00<?, ?it/s]"
     ]
    },
    {
     "name": "stdout",
     "output_type": "stream",
     "text": [
      "Environment will ignore actions passed to step() and take action provided by Scenic\n"
     ]
    },
    {
     "name": "stderr",
     "output_type": "stream",
     "text": [
      "\r",
      "  0%|          | 32/10000 [00:02<12:42, 13.08it/s]"
     ]
    },
    {
     "name": "stdout",
     "output_type": "stream",
     "text": [
      "New Epi: 32 R: 1.0\n",
      "Added new Api. Current Size:  32\n"
     ]
    },
    {
     "name": "stderr",
     "output_type": "stream",
     "text": [
      "\r",
      "  1%|          | 67/10000 [00:06<15:34, 10.63it/s]"
     ]
    },
    {
     "name": "stdout",
     "output_type": "stream",
     "text": [
      "New Epi: 35 R: 1.0\n",
      "Added new Api. Current Size:  67\n"
     ]
    },
    {
     "name": "stderr",
     "output_type": "stream",
     "text": [
      "\r",
      "  1%|          | 102/10000 [00:09<16:27, 10.03it/s]"
     ]
    },
    {
     "name": "stdout",
     "output_type": "stream",
     "text": [
      "New Epi: 35 R: 1.0\n",
      "Added new Api. Current Size:  102\n"
     ]
    },
    {
     "name": "stderr",
     "output_type": "stream",
     "text": [
      "\r",
      "  1%|▏         | 135/10000 [00:13<16:41,  9.85it/s]"
     ]
    },
    {
     "name": "stdout",
     "output_type": "stream",
     "text": [
      "New Epi: 33 R: 1.0\n",
      "Added new Api. Current Size:  135\n",
      "New Epi: 52 R: 0.0\n",
      "New Epi: 107 R: 0.0\n",
      "New Epi: 31 R: 0.0\n"
     ]
    },
    {
     "name": "stderr",
     "output_type": "stream",
     "text": [
      "\r",
      "  2%|▏         | 169/10000 [00:30<41:28,  3.95it/s]"
     ]
    },
    {
     "name": "stdout",
     "output_type": "stream",
     "text": [
      "New Epi: 34 R: 1.0\n",
      "Added new Api. Current Size:  169\n"
     ]
    },
    {
     "name": "stderr",
     "output_type": "stream",
     "text": [
      "\r",
      "  2%|▏         | 201/10000 [00:34<33:52,  4.82it/s]"
     ]
    },
    {
     "name": "stdout",
     "output_type": "stream",
     "text": [
      "New Epi: 32 R: 1.0\n",
      "Added new Api. Current Size:  201\n",
      "New Epi: 58 R: 0.0\n"
     ]
    },
    {
     "name": "stderr",
     "output_type": "stream",
     "text": [
      "\r",
      "  2%|▏         | 234/10000 [00:42<35:29,  4.59it/s]"
     ]
    },
    {
     "name": "stdout",
     "output_type": "stream",
     "text": [
      "New Epi: 33 R: 1.0\n",
      "Added new Api. Current Size:  234\n"
     ]
    },
    {
     "name": "stderr",
     "output_type": "stream",
     "text": [
      "\r",
      "  3%|▎         | 266/10000 [00:46<30:02,  5.40it/s]"
     ]
    },
    {
     "name": "stdout",
     "output_type": "stream",
     "text": [
      "New Epi: 32 R: 1.0\n",
      "Added new Api. Current Size:  266\n",
      "New Epi: 66 R: 0.0\n"
     ]
    },
    {
     "name": "stderr",
     "output_type": "stream",
     "text": [
      "\r",
      "  3%|▎         | 302/10000 [00:54<32:25,  4.99it/s]"
     ]
    },
    {
     "name": "stdout",
     "output_type": "stream",
     "text": [
      "New Epi: 36 R: 1.0\n",
      "Added new Api. Current Size:  302\n"
     ]
    },
    {
     "name": "stderr",
     "output_type": "stream",
     "text": [
      "\r",
      "  3%|▎         | 338/10000 [00:58<27:16,  5.90it/s]"
     ]
    },
    {
     "name": "stdout",
     "output_type": "stream",
     "text": [
      "New Epi: 36 R: 1.0\n",
      "Added new Api. Current Size:  338\n",
      "New Epi: 34 R: 0.0\n",
      "New Epi: 62 R: 0.0\n",
      "New Epi: 35 R: 0.0\n"
     ]
    },
    {
     "name": "stderr",
     "output_type": "stream",
     "text": [
      "\r",
      "  4%|▎         | 371/10000 [01:15<44:10,  3.63it/s]"
     ]
    },
    {
     "name": "stdout",
     "output_type": "stream",
     "text": [
      "New Epi: 33 R: 1.0\n",
      "Added new Api. Current Size:  371\n",
      "New Epi: 92 R: 0.0\n",
      "New Epi: 55 R: 0.0\n"
     ]
    },
    {
     "name": "stderr",
     "output_type": "stream",
     "text": [
      "\r",
      "  4%|▍         | 403/10000 [01:31<53:54,  2.97it/s]"
     ]
    },
    {
     "name": "stdout",
     "output_type": "stream",
     "text": [
      "New Epi: 32 R: 1.0\n",
      "Added new Api. Current Size:  403\n"
     ]
    },
    {
     "name": "stderr",
     "output_type": "stream",
     "text": [
      "\r",
      "  4%|▍         | 435/10000 [01:35<43:52,  3.63it/s]"
     ]
    },
    {
     "name": "stdout",
     "output_type": "stream",
     "text": [
      "New Epi: 32 R: 1.0\n",
      "Added new Api. Current Size:  435\n",
      "New Epi: 34 R: 0.0\n",
      "New Epi: 109 R: 0.0\n",
      "New Epi: 52 R: 0.0\n",
      "New Epi: 57 R: 0.0\n",
      "New Epi: 35 R: 0.0\n",
      "New Epi: 35 R: 0.0\n"
     ]
    },
    {
     "name": "stderr",
     "output_type": "stream",
     "text": [
      "\r",
      "  5%|▍         | 469/10000 [02:08<1:18:12,  2.03it/s]"
     ]
    },
    {
     "name": "stdout",
     "output_type": "stream",
     "text": [
      "New Epi: 34 R: 1.0\n",
      "Added new Api. Current Size:  469\n",
      "New Epi: 32 R: 0.0\n",
      "New Epi: 32 R: 0.0\n"
     ]
    },
    {
     "name": "stderr",
     "output_type": "stream",
     "text": [
      "\r",
      "  5%|▌         | 504/10000 [02:21<1:11:29,  2.21it/s]"
     ]
    },
    {
     "name": "stdout",
     "output_type": "stream",
     "text": [
      "New Epi: 35 R: 1.0\n",
      "Added new Api. Current Size:  504\n"
     ]
    },
    {
     "name": "stderr",
     "output_type": "stream",
     "text": [
      "\r",
      "  5%|▌         | 538/10000 [02:24<55:00,  2.87it/s]  "
     ]
    },
    {
     "name": "stdout",
     "output_type": "stream",
     "text": [
      "New Epi: 34 R: 1.0\n",
      "Added new Api. Current Size:  538\n",
      "New Epi: 32 R: 0.0\n"
     ]
    },
    {
     "name": "stderr",
     "output_type": "stream",
     "text": [
      "\r",
      "  6%|▌         | 572/10000 [02:33<49:45,  3.16it/s]"
     ]
    },
    {
     "name": "stdout",
     "output_type": "stream",
     "text": [
      "New Epi: 34 R: 1.0\n",
      "Added new Api. Current Size:  572\n"
     ]
    },
    {
     "name": "stderr",
     "output_type": "stream",
     "text": [
      "\r",
      "  6%|▌         | 605/10000 [02:37<40:21,  3.88it/s]"
     ]
    },
    {
     "name": "stdout",
     "output_type": "stream",
     "text": [
      "New Epi: 33 R: 1.0\n",
      "Added new Api. Current Size:  605\n"
     ]
    },
    {
     "name": "stderr",
     "output_type": "stream",
     "text": [
      "\r",
      "  6%|▋         | 638/10000 [02:40<33:46,  4.62it/s]"
     ]
    },
    {
     "name": "stdout",
     "output_type": "stream",
     "text": [
      "New Epi: 33 R: 1.0\n",
      "Added new Api. Current Size:  638\n",
      "New Epi: 53 R: 0.0\n",
      "New Epi: 30 R: 0.0\n"
     ]
    },
    {
     "name": "stderr",
     "output_type": "stream",
     "text": [
      "\r",
      "  7%|▋         | 669/10000 [02:53<41:40,  3.73it/s]"
     ]
    },
    {
     "name": "stdout",
     "output_type": "stream",
     "text": [
      "New Epi: 31 R: 1.0\n",
      "Added new Api. Current Size:  669\n",
      "New Epi: 61 R: 0.0\n"
     ]
    },
    {
     "name": "stderr",
     "output_type": "stream",
     "text": [
      "\r",
      "  7%|▋         | 703/10000 [03:01<40:52,  3.79it/s]"
     ]
    },
    {
     "name": "stdout",
     "output_type": "stream",
     "text": [
      "New Epi: 34 R: 1.0\n",
      "Added new Api. Current Size:  703\n"
     ]
    },
    {
     "name": "stderr",
     "output_type": "stream",
     "text": [
      "\r",
      "  7%|▋         | 735/10000 [03:05<34:14,  4.51it/s]"
     ]
    },
    {
     "name": "stdout",
     "output_type": "stream",
     "text": [
      "New Epi: 32 R: 1.0\n",
      "Added new Api. Current Size:  735\n"
     ]
    },
    {
     "name": "stderr",
     "output_type": "stream",
     "text": [
      "\r",
      "  8%|▊         | 770/10000 [03:09<28:51,  5.33it/s]"
     ]
    },
    {
     "name": "stdout",
     "output_type": "stream",
     "text": [
      "New Epi: 35 R: 1.0\n",
      "Added new Api. Current Size:  770\n",
      "New Epi: 34 R: 0.0\n",
      "New Epi: 35 R: 0.0\n"
     ]
    },
    {
     "name": "stderr",
     "output_type": "stream",
     "text": [
      "\r",
      "  8%|▊         | 802/10000 [03:22<38:00,  4.03it/s]"
     ]
    },
    {
     "name": "stdout",
     "output_type": "stream",
     "text": [
      "New Epi: 32 R: 1.0\n",
      "Added new Api. Current Size:  802\n"
     ]
    },
    {
     "name": "stderr",
     "output_type": "stream",
     "text": [
      "\r",
      "  8%|▊         | 838/10000 [03:26<31:11,  4.90it/s]"
     ]
    },
    {
     "name": "stdout",
     "output_type": "stream",
     "text": [
      "New Epi: 36 R: 1.0\n",
      "Added new Api. Current Size:  838\n"
     ]
    },
    {
     "name": "stderr",
     "output_type": "stream",
     "text": [
      "\r",
      "  9%|▊         | 873/10000 [03:30<26:48,  5.67it/s]"
     ]
    },
    {
     "name": "stdout",
     "output_type": "stream",
     "text": [
      "New Epi: 35 R: 1.0\n",
      "Added new Api. Current Size:  873\n"
     ]
    },
    {
     "name": "stderr",
     "output_type": "stream",
     "text": [
      "\r",
      "  9%|▉         | 905/10000 [03:34<24:16,  6.24it/s]"
     ]
    },
    {
     "name": "stdout",
     "output_type": "stream",
     "text": [
      "New Epi: 32 R: 1.0\n",
      "Added new Api. Current Size:  905\n",
      "New Epi: 33 R: 0.0\n",
      "New Epi: 55 R: 0.0\n",
      "New Epi: 36 R: 0.0\n"
     ]
    },
    {
     "name": "stderr",
     "output_type": "stream",
     "text": [
      "\r",
      "  9%|▉         | 939/10000 [03:51<39:51,  3.79it/s]"
     ]
    },
    {
     "name": "stdout",
     "output_type": "stream",
     "text": [
      "New Epi: 34 R: 1.0\n",
      "Added new Api. Current Size:  939\n"
     ]
    },
    {
     "name": "stderr",
     "output_type": "stream",
     "text": [
      "\r",
      " 10%|▉         | 972/10000 [03:55<33:10,  4.54it/s]"
     ]
    },
    {
     "name": "stdout",
     "output_type": "stream",
     "text": [
      "New Epi: 33 R: 1.0\n",
      "Added new Api. Current Size:  972\n",
      "New Epi: 33 R: 0.0\n"
     ]
    },
    {
     "name": "stderr",
     "output_type": "stream",
     "text": [
      "\r",
      " 10%|█         | 1006/10000 [04:03<33:55,  4.42it/s]"
     ]
    },
    {
     "name": "stdout",
     "output_type": "stream",
     "text": [
      "New Epi: 34 R: 1.0\n",
      "Added new Api. Current Size:  1006\n",
      "New Epi: 57 R: 0.0\n"
     ]
    },
    {
     "name": "stderr",
     "output_type": "stream",
     "text": [
      "\r",
      " 10%|█         | 1039/10000 [04:11<34:58,  4.27it/s]"
     ]
    },
    {
     "name": "stdout",
     "output_type": "stream",
     "text": [
      "New Epi: 33 R: 1.0\n",
      "Added new Api. Current Size:  1039\n",
      "New Epi: 53 R: 0.0\n"
     ]
    },
    {
     "name": "stderr",
     "output_type": "stream",
     "text": [
      "\r",
      " 11%|█         | 1074/10000 [04:19<34:58,  4.25it/s]"
     ]
    },
    {
     "name": "stdout",
     "output_type": "stream",
     "text": [
      "New Epi: 35 R: 1.0\n",
      "Added new Api. Current Size:  1074\n",
      "New Epi: 32 R: 0.0\n",
      "New Epi: 32 R: 0.0\n"
     ]
    },
    {
     "name": "stderr",
     "output_type": "stream",
     "text": [
      "\r",
      " 11%|█         | 1106/10000 [04:32<41:22,  3.58it/s]"
     ]
    },
    {
     "name": "stdout",
     "output_type": "stream",
     "text": [
      "New Epi: 32 R: 1.0\n",
      "Added new Api. Current Size:  1106\n"
     ]
    },
    {
     "name": "stderr",
     "output_type": "stream",
     "text": [
      "\r",
      " 11%|█▏        | 1138/10000 [04:36<34:21,  4.30it/s]"
     ]
    },
    {
     "name": "stdout",
     "output_type": "stream",
     "text": [
      "New Epi: 32 R: 1.0\n",
      "Added new Api. Current Size:  1138\n"
     ]
    },
    {
     "name": "stderr",
     "output_type": "stream",
     "text": [
      "\r",
      " 12%|█▏        | 1171/10000 [04:39<29:04,  5.06it/s]"
     ]
    },
    {
     "name": "stdout",
     "output_type": "stream",
     "text": [
      "New Epi: 33 R: 1.0\n",
      "Added new Api. Current Size:  1171\n"
     ]
    },
    {
     "name": "stderr",
     "output_type": "stream",
     "text": [
      "\r",
      " 12%|█▏        | 1204/10000 [04:43<25:06,  5.84it/s]"
     ]
    },
    {
     "name": "stdout",
     "output_type": "stream",
     "text": [
      "New Epi: 33 R: 1.0\n",
      "Added new Api. Current Size:  1204\n",
      "New Epi: 34 R: 0.0\n"
     ]
    },
    {
     "name": "stderr",
     "output_type": "stream",
     "text": [
      "\r",
      " 12%|█▏        | 1236/10000 [04:51<28:36,  5.11it/s]"
     ]
    },
    {
     "name": "stdout",
     "output_type": "stream",
     "text": [
      "New Epi: 32 R: 1.0\n",
      "Added new Api. Current Size:  1236\n"
     ]
    },
    {
     "name": "stderr",
     "output_type": "stream",
     "text": [
      "\r",
      " 13%|█▎        | 1270/10000 [04:55<24:48,  5.86it/s]"
     ]
    },
    {
     "name": "stdout",
     "output_type": "stream",
     "text": [
      "New Epi: 34 R: 1.0\n",
      "Added new Api. Current Size:  1270\n"
     ]
    },
    {
     "name": "stderr",
     "output_type": "stream",
     "text": [
      "\r",
      " 13%|█▎        | 1303/10000 [04:59<22:24,  6.47it/s]"
     ]
    },
    {
     "name": "stdout",
     "output_type": "stream",
     "text": [
      "New Epi: 33 R: 1.0\n",
      "Added new Api. Current Size:  1303\n"
     ]
    },
    {
     "name": "stderr",
     "output_type": "stream",
     "text": [
      "\r",
      " 13%|█▎        | 1334/10000 [05:03<20:59,  6.88it/s]"
     ]
    },
    {
     "name": "stdout",
     "output_type": "stream",
     "text": [
      "New Epi: 31 R: 1.0\n",
      "Added new Api. Current Size:  1334\n"
     ]
    },
    {
     "name": "stderr",
     "output_type": "stream",
     "text": [
      "\r",
      " 14%|█▎        | 1366/10000 [05:07<19:48,  7.26it/s]"
     ]
    },
    {
     "name": "stdout",
     "output_type": "stream",
     "text": [
      "New Epi: 32 R: 1.0\n",
      "Added new Api. Current Size:  1366\n",
      "New Epi: 28 R: 0.0\n",
      "New Epi: 36 R: 0.0\n"
     ]
    },
    {
     "name": "stderr",
     "output_type": "stream",
     "text": [
      "\r",
      " 14%|█▍        | 1400/10000 [05:18<29:06,  4.92it/s]"
     ]
    },
    {
     "name": "stdout",
     "output_type": "stream",
     "text": [
      "New Epi: 34 R: 1.0\n",
      "Added new Api. Current Size:  1400\n"
     ]
    },
    {
     "name": "stderr",
     "output_type": "stream",
     "text": [
      "\r",
      " 14%|█▍        | 1432/10000 [05:22<25:28,  5.61it/s]"
     ]
    },
    {
     "name": "stdout",
     "output_type": "stream",
     "text": [
      "New Epi: 32 R: 1.0\n",
      "Added new Api. Current Size:  1432\n"
     ]
    },
    {
     "name": "stderr",
     "output_type": "stream",
     "text": [
      "\r",
      " 15%|█▍        | 1467/10000 [05:26<22:23,  6.35it/s]"
     ]
    },
    {
     "name": "stdout",
     "output_type": "stream",
     "text": [
      "New Epi: 35 R: 1.0\n",
      "Added new Api. Current Size:  1467\n"
     ]
    },
    {
     "name": "stderr",
     "output_type": "stream",
     "text": [
      "\r",
      " 15%|█▌        | 1500/10000 [05:30<20:35,  6.88it/s]"
     ]
    },
    {
     "name": "stdout",
     "output_type": "stream",
     "text": [
      "New Epi: 33 R: 1.0\n",
      "Added new Api. Current Size:  1500\n"
     ]
    },
    {
     "name": "stderr",
     "output_type": "stream",
     "text": [
      "\r",
      " 15%|█▌        | 1532/10000 [05:34<19:26,  7.26it/s]"
     ]
    },
    {
     "name": "stdout",
     "output_type": "stream",
     "text": [
      "New Epi: 32 R: 1.0\n",
      "Added new Api. Current Size:  1532\n"
     ]
    },
    {
     "name": "stderr",
     "output_type": "stream",
     "text": [
      "\r",
      " 16%|█▌        | 1566/10000 [05:38<18:22,  7.65it/s]"
     ]
    },
    {
     "name": "stdout",
     "output_type": "stream",
     "text": [
      "New Epi: 34 R: 1.0\n",
      "Added new Api. Current Size:  1566\n",
      "New Epi: 40 R: 0.0\n",
      "New Epi: 70 R: 0.0\n"
     ]
    },
    {
     "name": "stderr",
     "output_type": "stream",
     "text": [
      "\r",
      " 16%|█▌        | 1598/10000 [05:51<29:30,  4.75it/s]"
     ]
    },
    {
     "name": "stdout",
     "output_type": "stream",
     "text": [
      "New Epi: 32 R: 1.0\n",
      "Added new Api. Current Size:  1598\n"
     ]
    },
    {
     "name": "stderr",
     "output_type": "stream",
     "text": [
      "\r",
      " 16%|█▋        | 1630/10000 [05:55<25:42,  5.43it/s]"
     ]
    },
    {
     "name": "stdout",
     "output_type": "stream",
     "text": [
      "New Epi: 32 R: 1.0\n",
      "Added new Api. Current Size:  1630\n",
      "New Epi: 37 R: 0.0\n"
     ]
    },
    {
     "name": "stderr",
     "output_type": "stream",
     "text": [
      "\r",
      " 17%|█▋        | 1664/10000 [06:03<28:08,  4.94it/s]"
     ]
    },
    {
     "name": "stdout",
     "output_type": "stream",
     "text": [
      "New Epi: 34 R: 1.0\n",
      "Added new Api. Current Size:  1664\n",
      "New Epi: 34 R: 0.0\n"
     ]
    },
    {
     "name": "stderr",
     "output_type": "stream",
     "text": [
      "\r",
      " 17%|█▋        | 1697/10000 [06:11<30:05,  4.60it/s]"
     ]
    },
    {
     "name": "stdout",
     "output_type": "stream",
     "text": [
      "New Epi: 33 R: 1.0\n",
      "Added new Api. Current Size:  1697\n",
      "New Epi: 52 R: 0.0\n"
     ]
    },
    {
     "name": "stderr",
     "output_type": "stream",
     "text": [
      "\r",
      " 17%|█▋        | 1729/10000 [06:19<31:39,  4.36it/s]"
     ]
    },
    {
     "name": "stdout",
     "output_type": "stream",
     "text": [
      "New Epi: 32 R: 1.0\n",
      "Added new Api. Current Size:  1729\n"
     ]
    },
    {
     "name": "stderr",
     "output_type": "stream",
     "text": [
      "\r",
      " 18%|█▊        | 1762/10000 [06:23<26:56,  5.10it/s]"
     ]
    },
    {
     "name": "stdout",
     "output_type": "stream",
     "text": [
      "New Epi: 33 R: 1.0\n",
      "Added new Api. Current Size:  1762\n",
      "New Epi: 33 R: 0.0\n",
      "New Epi: 33 R: 0.0\n"
     ]
    },
    {
     "name": "stderr",
     "output_type": "stream",
     "text": [
      "\r",
      " 18%|█▊        | 1795/10000 [06:36<34:42,  3.94it/s]"
     ]
    },
    {
     "name": "stdout",
     "output_type": "stream",
     "text": [
      "New Epi: 33 R: 1.0\n",
      "Added new Api. Current Size:  1795\n",
      "New Epi: 34 R: 0.0\n"
     ]
    },
    {
     "name": "stderr",
     "output_type": "stream",
     "text": [
      "\r",
      " 18%|█▊        | 1830/10000 [06:45<34:02,  4.00it/s]"
     ]
    },
    {
     "name": "stdout",
     "output_type": "stream",
     "text": [
      "New Epi: 35 R: 1.0\n",
      "Added new Api. Current Size:  1830\n"
     ]
    },
    {
     "name": "stderr",
     "output_type": "stream",
     "text": [
      "\r",
      " 19%|█▊        | 1862/10000 [06:49<28:52,  4.70it/s]"
     ]
    },
    {
     "name": "stdout",
     "output_type": "stream",
     "text": [
      "New Epi: 32 R: 1.0\n",
      "Added new Api. Current Size:  1862\n"
     ]
    },
    {
     "name": "stderr",
     "output_type": "stream",
     "text": [
      "\r",
      " 19%|█▉        | 1895/10000 [06:52<24:58,  5.41it/s]"
     ]
    },
    {
     "name": "stdout",
     "output_type": "stream",
     "text": [
      "New Epi: 33 R: 1.0\n",
      "Added new Api. Current Size:  1895\n",
      "New Epi: 33 R: 0.0\n"
     ]
    },
    {
     "name": "stderr",
     "output_type": "stream",
     "text": [
      "\r",
      " 19%|█▉        | 1927/10000 [07:01<27:37,  4.87it/s]"
     ]
    },
    {
     "name": "stdout",
     "output_type": "stream",
     "text": [
      "New Epi: 32 R: 1.0\n",
      "Added new Api. Current Size:  1927\n",
      "New Epi: 33 R: 0.0\n"
     ]
    },
    {
     "name": "stderr",
     "output_type": "stream",
     "text": [
      "\r",
      " 20%|█▉        | 1959/10000 [07:09<29:45,  4.50it/s]"
     ]
    },
    {
     "name": "stdout",
     "output_type": "stream",
     "text": [
      "New Epi: 32 R: 1.0\n",
      "Added new Api. Current Size:  1959\n"
     ]
    },
    {
     "name": "stderr",
     "output_type": "stream",
     "text": [
      "\r",
      " 20%|█▉        | 1994/10000 [07:13<25:08,  5.31it/s]"
     ]
    },
    {
     "name": "stdout",
     "output_type": "stream",
     "text": [
      "New Epi: 35 R: 1.0\n",
      "Added new Api. Current Size:  1994\n",
      "New Epi: 35 R: 0.0\n",
      "New Epi: 56 R: 0.0\n",
      "New Epi: 32 R: 0.0\n"
     ]
    },
    {
     "name": "stderr",
     "output_type": "stream",
     "text": [
      "\r",
      " 20%|██        | 2026/10000 [07:31<38:53,  3.42it/s]"
     ]
    },
    {
     "name": "stdout",
     "output_type": "stream",
     "text": [
      "New Epi: 32 R: 1.0\n",
      "Added new Api. Current Size:  2026\n",
      "New Epi: 32 R: 0.0\n"
     ]
    },
    {
     "name": "stderr",
     "output_type": "stream",
     "text": [
      "\r",
      " 21%|██        | 2059/10000 [07:39<37:13,  3.55it/s]"
     ]
    },
    {
     "name": "stdout",
     "output_type": "stream",
     "text": [
      "New Epi: 33 R: 1.0\n",
      "Added new Api. Current Size:  2059\n",
      "New Epi: 34 R: 0.0\n"
     ]
    },
    {
     "name": "stderr",
     "output_type": "stream",
     "text": [
      "\r",
      " 21%|██        | 2091/10000 [07:47<36:28,  3.61it/s]"
     ]
    },
    {
     "name": "stdout",
     "output_type": "stream",
     "text": [
      "New Epi: 32 R: 1.0\n",
      "Added new Api. Current Size:  2091\n"
     ]
    },
    {
     "name": "stderr",
     "output_type": "stream",
     "text": [
      "\r",
      " 21%|██        | 2124/10000 [07:51<30:10,  4.35it/s]"
     ]
    },
    {
     "name": "stdout",
     "output_type": "stream",
     "text": [
      "New Epi: 33 R: 1.0\n",
      "Added new Api. Current Size:  2124\n"
     ]
    },
    {
     "name": "stderr",
     "output_type": "stream",
     "text": [
      "\r",
      " 22%|██▏       | 2159/10000 [07:56<25:23,  5.15it/s]"
     ]
    },
    {
     "name": "stdout",
     "output_type": "stream",
     "text": [
      "New Epi: 35 R: 1.0\n",
      "Added new Api. Current Size:  2159\n",
      "New Epi: 34 R: 0.0\n"
     ]
    },
    {
     "name": "stderr",
     "output_type": "stream",
     "text": [
      "\r",
      " 22%|██▏       | 2191/10000 [08:04<27:57,  4.65it/s]"
     ]
    },
    {
     "name": "stdout",
     "output_type": "stream",
     "text": [
      "New Epi: 32 R: 1.0\n",
      "Added new Api. Current Size:  2191\n"
     ]
    },
    {
     "name": "stderr",
     "output_type": "stream",
     "text": [
      "\r",
      " 22%|██▏       | 2232/10000 [08:09<23:24,  5.53it/s]"
     ]
    },
    {
     "name": "stdout",
     "output_type": "stream",
     "text": [
      "New Epi: 41 R: 1.0\n",
      "Added new Api. Current Size:  2232\n"
     ]
    },
    {
     "name": "stderr",
     "output_type": "stream",
     "text": [
      "\r",
      " 23%|██▎       | 2265/10000 [08:13<21:28,  6.00it/s]"
     ]
    },
    {
     "name": "stdout",
     "output_type": "stream",
     "text": [
      "New Epi: 33 R: 1.0\n",
      "Added new Api. Current Size:  2265\n",
      "New Epi: 32 R: 0.0\n",
      "New Epi: 33 R: 0.0\n"
     ]
    },
    {
     "name": "stderr",
     "output_type": "stream",
     "text": [
      "\r",
      " 23%|██▎       | 2297/10000 [08:27<31:03,  4.13it/s]"
     ]
    },
    {
     "name": "stdout",
     "output_type": "stream",
     "text": [
      "New Epi: 32 R: 1.0\n",
      "Added new Api. Current Size:  2297\n",
      "New Epi: 33 R: 0.0\n",
      "New Epi: 121 R: 0.0\n"
     ]
    },
    {
     "name": "stderr",
     "output_type": "stream",
     "text": [
      "\r",
      " 23%|██▎       | 2331/10000 [08:44<41:03,  3.11it/s]"
     ]
    },
    {
     "name": "stdout",
     "output_type": "stream",
     "text": [
      "New Epi: 34 R: 1.0\n",
      "Added new Api. Current Size:  2331\n"
     ]
    },
    {
     "name": "stderr",
     "output_type": "stream",
     "text": [
      "\r",
      " 24%|██▎       | 2366/10000 [08:49<33:17,  3.82it/s]"
     ]
    },
    {
     "name": "stdout",
     "output_type": "stream",
     "text": [
      "New Epi: 35 R: 1.0\n",
      "Added new Api. Current Size:  2366\n"
     ]
    },
    {
     "name": "stderr",
     "output_type": "stream",
     "text": [
      "\r",
      " 24%|██▍       | 2398/10000 [08:53<28:30,  4.45it/s]"
     ]
    },
    {
     "name": "stdout",
     "output_type": "stream",
     "text": [
      "New Epi: 32 R: 1.0\n",
      "Added new Api. Current Size:  2398\n"
     ]
    },
    {
     "name": "stderr",
     "output_type": "stream",
     "text": [
      "\r",
      " 24%|██▍       | 2432/10000 [08:57<24:37,  5.12it/s]"
     ]
    },
    {
     "name": "stdout",
     "output_type": "stream",
     "text": [
      "New Epi: 34 R: 1.0\n",
      "Added new Api. Current Size:  2432\n"
     ]
    },
    {
     "name": "stderr",
     "output_type": "stream",
     "text": [
      "\r",
      " 25%|██▍       | 2464/10000 [09:01<22:15,  5.64it/s]"
     ]
    },
    {
     "name": "stdout",
     "output_type": "stream",
     "text": [
      "New Epi: 32 R: 1.0\n",
      "Added new Api. Current Size:  2464\n"
     ]
    },
    {
     "name": "stderr",
     "output_type": "stream",
     "text": [
      "\r",
      " 25%|██▍       | 2497/10000 [09:06<20:20,  6.15it/s]"
     ]
    },
    {
     "name": "stdout",
     "output_type": "stream",
     "text": [
      "New Epi: 33 R: 1.0\n",
      "Added new Api. Current Size:  2497\n",
      "New Epi: 36 R: 0.0\n",
      "New Epi: 28 R: 0.0\n",
      "New Epi: 34 R: 0.0\n"
     ]
    },
    {
     "name": "stderr",
     "output_type": "stream",
     "text": [
      "\r",
      " 25%|██▌       | 2530/10000 [09:24<35:21,  3.52it/s]"
     ]
    },
    {
     "name": "stdout",
     "output_type": "stream",
     "text": [
      "New Epi: 33 R: 1.0\n",
      "Added new Api. Current Size:  2530\n",
      "New Epi: 35 R: 0.0\n",
      "New Epi: 34 R: 0.0\n"
     ]
    },
    {
     "name": "stderr",
     "output_type": "stream",
     "text": [
      "\r",
      " 26%|██▌       | 2562/10000 [09:38<40:42,  3.05it/s]"
     ]
    },
    {
     "name": "stdout",
     "output_type": "stream",
     "text": [
      "New Epi: 32 R: 1.0\n",
      "Added new Api. Current Size:  2562\n"
     ]
    },
    {
     "name": "stderr",
     "output_type": "stream",
     "text": [
      "\r",
      " 26%|██▌       | 2594/10000 [09:43<33:20,  3.70it/s]"
     ]
    },
    {
     "name": "stdout",
     "output_type": "stream",
     "text": [
      "New Epi: 32 R: 1.0\n",
      "Added new Api. Current Size:  2594\n",
      "New Epi: 35 R: 0.0\n"
     ]
    },
    {
     "name": "stderr",
     "output_type": "stream",
     "text": [
      "\r",
      " 26%|██▋       | 2627/10000 [09:52<33:28,  3.67it/s]"
     ]
    },
    {
     "name": "stdout",
     "output_type": "stream",
     "text": [
      "New Epi: 33 R: 1.0\n",
      "Added new Api. Current Size:  2627\n"
     ]
    },
    {
     "name": "stderr",
     "output_type": "stream",
     "text": [
      "\r",
      " 27%|██▋       | 2659/10000 [09:56<28:14,  4.33it/s]"
     ]
    },
    {
     "name": "stdout",
     "output_type": "stream",
     "text": [
      "New Epi: 32 R: 1.0\n",
      "Added new Api. Current Size:  2659\n"
     ]
    },
    {
     "name": "stderr",
     "output_type": "stream",
     "text": [
      "\r",
      " 27%|██▋       | 2691/10000 [10:00<24:30,  4.97it/s]"
     ]
    },
    {
     "name": "stdout",
     "output_type": "stream",
     "text": [
      "New Epi: 32 R: 1.0\n",
      "Added new Api. Current Size:  2691\n"
     ]
    },
    {
     "name": "stderr",
     "output_type": "stream",
     "text": [
      "\r",
      " 27%|██▋       | 2723/10000 [10:04<21:52,  5.55it/s]"
     ]
    },
    {
     "name": "stdout",
     "output_type": "stream",
     "text": [
      "New Epi: 32 R: 1.0\n",
      "Added new Api. Current Size:  2723\n"
     ]
    },
    {
     "name": "stderr",
     "output_type": "stream",
     "text": [
      "\r",
      " 28%|██▊       | 2756/10000 [10:08<19:38,  6.15it/s]"
     ]
    },
    {
     "name": "stdout",
     "output_type": "stream",
     "text": [
      "New Epi: 33 R: 1.0\n",
      "Added new Api. Current Size:  2756\n",
      "New Epi: 33 R: 0.0\n"
     ]
    },
    {
     "name": "stderr",
     "output_type": "stream",
     "text": [
      "\r",
      " 28%|██▊       | 2790/10000 [10:17<22:33,  5.33it/s]"
     ]
    },
    {
     "name": "stdout",
     "output_type": "stream",
     "text": [
      "New Epi: 34 R: 1.0\n",
      "Added new Api. Current Size:  2790\n"
     ]
    },
    {
     "name": "stderr",
     "output_type": "stream",
     "text": [
      "\r",
      " 28%|██▊       | 2825/10000 [10:21<20:01,  5.97it/s]"
     ]
    },
    {
     "name": "stdout",
     "output_type": "stream",
     "text": [
      "New Epi: 35 R: 1.0\n",
      "Added new Api. Current Size:  2825\n",
      "New Epi: 35 R: 0.0\n",
      "New Epi: 32 R: 0.0\n"
     ]
    },
    {
     "name": "stderr",
     "output_type": "stream",
     "text": [
      "\r",
      " 29%|██▊       | 2859/10000 [10:35<28:21,  4.20it/s]"
     ]
    },
    {
     "name": "stdout",
     "output_type": "stream",
     "text": [
      "New Epi: 34 R: 1.0\n",
      "Added new Api. Current Size:  2859\n"
     ]
    },
    {
     "name": "stderr",
     "output_type": "stream",
     "text": [
      "\r",
      " 29%|██▉       | 2891/10000 [10:39<24:34,  4.82it/s]"
     ]
    },
    {
     "name": "stdout",
     "output_type": "stream",
     "text": [
      "New Epi: 32 R: 1.0\n",
      "Added new Api. Current Size:  2891\n",
      "New Epi: 34 R: 0.0\n"
     ]
    },
    {
     "name": "stderr",
     "output_type": "stream",
     "text": [
      "\r",
      " 29%|██▉       | 2923/10000 [10:48<27:02,  4.36it/s]"
     ]
    },
    {
     "name": "stdout",
     "output_type": "stream",
     "text": [
      "New Epi: 32 R: 1.0\n",
      "Added new Api. Current Size:  2923\n"
     ]
    },
    {
     "name": "stderr",
     "output_type": "stream",
     "text": [
      "\r",
      " 30%|██▉       | 2957/10000 [10:52<23:09,  5.07it/s]"
     ]
    },
    {
     "name": "stdout",
     "output_type": "stream",
     "text": [
      "New Epi: 34 R: 1.0\n",
      "Added new Api. Current Size:  2957\n",
      "New Epi: 30 R: 0.0\n",
      "New Epi: 52 R: 0.0\n",
      "New Epi: 32 R: 0.0\n",
      "New Epi: 33 R: 0.0\n"
     ]
    },
    {
     "name": "stderr",
     "output_type": "stream",
     "text": [
      "\r",
      " 30%|██▉       | 2989/10000 [11:14<39:55,  2.93it/s]"
     ]
    },
    {
     "name": "stdout",
     "output_type": "stream",
     "text": [
      "New Epi: 32 R: 1.0\n",
      "Added new Api. Current Size:  2989\n",
      "New Epi: 33 R: 0.0\n"
     ]
    },
    {
     "name": "stderr",
     "output_type": "stream",
     "text": [
      "\r",
      " 30%|███       | 3022/10000 [11:23<37:17,  3.12it/s]"
     ]
    },
    {
     "name": "stdout",
     "output_type": "stream",
     "text": [
      "New Epi: 33 R: 1.0\n",
      "Added new Api. Current Size:  3022\n",
      "New Epi: 32 R: 0.0\n",
      "New Epi: 35 R: 0.0\n"
     ]
    },
    {
     "name": "stderr",
     "output_type": "stream",
     "text": [
      "\r",
      " 31%|███       | 3054/10000 [11:37<40:49,  2.84it/s]"
     ]
    },
    {
     "name": "stdout",
     "output_type": "stream",
     "text": [
      "New Epi: 32 R: 1.0\n",
      "Added new Api. Current Size:  3054\n",
      "New Epi: 34 R: 0.0\n"
     ]
    },
    {
     "name": "stderr",
     "output_type": "stream",
     "text": [
      "\r",
      " 31%|███       | 3090/10000 [11:46<36:56,  3.12it/s]"
     ]
    },
    {
     "name": "stdout",
     "output_type": "stream",
     "text": [
      "New Epi: 36 R: 1.0\n",
      "Added new Api. Current Size:  3090\n"
     ]
    },
    {
     "name": "stderr",
     "output_type": "stream",
     "text": [
      "\r",
      " 31%|███       | 3122/10000 [11:50<30:30,  3.76it/s]"
     ]
    },
    {
     "name": "stdout",
     "output_type": "stream",
     "text": [
      "New Epi: 32 R: 1.0\n",
      "Added new Api. Current Size:  3122\n",
      "New Epi: 32 R: 0.0\n"
     ]
    },
    {
     "name": "stderr",
     "output_type": "stream",
     "text": [
      "\r",
      " 32%|███▏      | 3155/10000 [11:59<30:20,  3.76it/s]"
     ]
    },
    {
     "name": "stdout",
     "output_type": "stream",
     "text": [
      "New Epi: 33 R: 1.0\n",
      "Added new Api. Current Size:  3155\n",
      "New Epi: 35 R: 0.0\n"
     ]
    },
    {
     "name": "stderr",
     "output_type": "stream",
     "text": [
      "\r",
      " 32%|███▏      | 3189/10000 [12:08<30:11,  3.76it/s]"
     ]
    },
    {
     "name": "stdout",
     "output_type": "stream",
     "text": [
      "New Epi: 34 R: 1.0\n",
      "Added new Api. Current Size:  3189\n"
     ]
    },
    {
     "name": "stderr",
     "output_type": "stream",
     "text": [
      "\r",
      " 32%|███▏      | 3223/10000 [12:12<25:14,  4.47it/s]"
     ]
    },
    {
     "name": "stdout",
     "output_type": "stream",
     "text": [
      "New Epi: 34 R: 1.0\n",
      "Added new Api. Current Size:  3223\n",
      "New Epi: 33 R: 0.0\n",
      "New Epi: 89 R: 0.0\n",
      "New Epi: 76 R: 0.0\n"
     ]
    },
    {
     "name": "stderr",
     "output_type": "stream",
     "text": [
      "\r",
      " 33%|███▎      | 3257/10000 [12:33<38:32,  2.92it/s]"
     ]
    },
    {
     "name": "stdout",
     "output_type": "stream",
     "text": [
      "New Epi: 34 R: 1.0\n",
      "Added new Api. Current Size:  3257\n"
     ]
    },
    {
     "name": "stderr",
     "output_type": "stream",
     "text": [
      "\r",
      " 33%|███▎      | 3291/10000 [12:38<31:02,  3.60it/s]"
     ]
    },
    {
     "name": "stdout",
     "output_type": "stream",
     "text": [
      "New Epi: 34 R: 1.0\n",
      "Added new Api. Current Size:  3291\n"
     ]
    },
    {
     "name": "stderr",
     "output_type": "stream",
     "text": [
      "\r",
      " 33%|███▎      | 3322/10000 [12:42<26:12,  4.25it/s]"
     ]
    },
    {
     "name": "stdout",
     "output_type": "stream",
     "text": [
      "New Epi: 31 R: 1.0\n",
      "Added new Api. Current Size:  3322\n"
     ]
    },
    {
     "name": "stderr",
     "output_type": "stream",
     "text": [
      "\r",
      " 34%|███▎      | 3353/10000 [12:46<22:52,  4.84it/s]"
     ]
    },
    {
     "name": "stdout",
     "output_type": "stream",
     "text": [
      "New Epi: 31 R: 1.0\n",
      "Added new Api. Current Size:  3353\n",
      "New Epi: 34 R: 0.0\n"
     ]
    },
    {
     "name": "stderr",
     "output_type": "stream",
     "text": [
      "\r",
      " 34%|███▍      | 3387/10000 [12:55<24:49,  4.44it/s]"
     ]
    },
    {
     "name": "stdout",
     "output_type": "stream",
     "text": [
      "New Epi: 34 R: 1.0\n",
      "Added new Api. Current Size:  3387\n",
      "New Epi: 32 R: 0.0\n"
     ]
    },
    {
     "name": "stderr",
     "output_type": "stream",
     "text": [
      "\r",
      " 34%|███▍      | 3421/10000 [13:04<26:03,  4.21it/s]"
     ]
    },
    {
     "name": "stdout",
     "output_type": "stream",
     "text": [
      "New Epi: 34 R: 1.0\n",
      "Added new Api. Current Size:  3421\n",
      "New Epi: 43 R: 0.0\n",
      "New Epi: 32 R: 0.0\n"
     ]
    },
    {
     "name": "stderr",
     "output_type": "stream",
     "text": [
      "\r",
      " 35%|███▍      | 3453/10000 [13:17<31:42,  3.44it/s]"
     ]
    },
    {
     "name": "stdout",
     "output_type": "stream",
     "text": [
      "New Epi: 32 R: 1.0\n",
      "Added new Api. Current Size:  3453\n"
     ]
    },
    {
     "name": "stderr",
     "output_type": "stream",
     "text": [
      "\r",
      " 35%|███▍      | 3486/10000 [13:22<26:16,  4.13it/s]"
     ]
    },
    {
     "name": "stdout",
     "output_type": "stream",
     "text": [
      "New Epi: 33 R: 1.0\n",
      "Added new Api. Current Size:  3486\n"
     ]
    },
    {
     "name": "stderr",
     "output_type": "stream",
     "text": [
      "\r",
      " 35%|███▌      | 3518/10000 [13:26<22:38,  4.77it/s]"
     ]
    },
    {
     "name": "stdout",
     "output_type": "stream",
     "text": [
      "New Epi: 32 R: 1.0\n",
      "Added new Api. Current Size:  3518\n",
      "New Epi: 33 R: 0.0\n",
      "New Epi: 55 R: 0.0\n"
     ]
    },
    {
     "name": "stderr",
     "output_type": "stream",
     "text": [
      "\r",
      " 36%|███▌      | 3551/10000 [13:40<29:25,  3.65it/s]"
     ]
    },
    {
     "name": "stdout",
     "output_type": "stream",
     "text": [
      "New Epi: 33 R: 1.0\n",
      "Added new Api. Current Size:  3551\n"
     ]
    },
    {
     "name": "stderr",
     "output_type": "stream",
     "text": [
      "\r",
      " 36%|███▌      | 3585/10000 [13:44<24:22,  4.38it/s]"
     ]
    },
    {
     "name": "stdout",
     "output_type": "stream",
     "text": [
      "New Epi: 34 R: 1.0\n",
      "Added new Api. Current Size:  3585\n"
     ]
    },
    {
     "name": "stderr",
     "output_type": "stream",
     "text": [
      "\r",
      " 36%|███▌      | 3615/10000 [13:48<21:35,  4.93it/s]"
     ]
    },
    {
     "name": "stdout",
     "output_type": "stream",
     "text": [
      "New Epi: 30 R: 1.0\n",
      "Added new Api. Current Size:  3615\n",
      "New Epi: 36 R: 0.0\n"
     ]
    },
    {
     "name": "stderr",
     "output_type": "stream",
     "text": [
      "\r",
      " 36%|███▋      | 3649/10000 [13:57<23:39,  4.47it/s]"
     ]
    },
    {
     "name": "stdout",
     "output_type": "stream",
     "text": [
      "New Epi: 34 R: 1.0\n",
      "Added new Api. Current Size:  3649\n"
     ]
    },
    {
     "name": "stderr",
     "output_type": "stream",
     "text": [
      "\r",
      " 37%|███▋      | 3684/10000 [14:02<20:15,  5.20it/s]"
     ]
    },
    {
     "name": "stdout",
     "output_type": "stream",
     "text": [
      "New Epi: 35 R: 1.0\n",
      "Added new Api. Current Size:  3684\n",
      "New Epi: 34 R: 0.0\n"
     ]
    },
    {
     "name": "stderr",
     "output_type": "stream",
     "text": [
      "\r",
      " 37%|███▋      | 3718/10000 [14:11<22:35,  4.63it/s]"
     ]
    },
    {
     "name": "stdout",
     "output_type": "stream",
     "text": [
      "New Epi: 34 R: 1.0\n",
      "Added new Api. Current Size:  3718\n",
      "New Epi: 34 R: 0.0\n",
      "New Epi: 55 R: 0.0\n",
      "New Epi: 56 R: 0.0\n",
      "New Epi: 55 R: 0.0\n"
     ]
    },
    {
     "name": "stderr",
     "output_type": "stream",
     "text": [
      "\r",
      " 38%|███▊      | 3751/10000 [14:35<38:14,  2.72it/s]"
     ]
    },
    {
     "name": "stdout",
     "output_type": "stream",
     "text": [
      "New Epi: 33 R: 1.0\n",
      "Added new Api. Current Size:  3751\n"
     ]
    },
    {
     "name": "stderr",
     "output_type": "stream",
     "text": [
      "\r",
      " 38%|███▊      | 3783/10000 [14:39<31:00,  3.34it/s]"
     ]
    },
    {
     "name": "stdout",
     "output_type": "stream",
     "text": [
      "New Epi: 32 R: 1.0\n",
      "Added new Api. Current Size:  3783\n"
     ]
    },
    {
     "name": "stderr",
     "output_type": "stream",
     "text": [
      "\r",
      " 38%|███▊      | 3815/10000 [14:43<25:49,  3.99it/s]"
     ]
    },
    {
     "name": "stdout",
     "output_type": "stream",
     "text": [
      "New Epi: 32 R: 1.0\n",
      "Added new Api. Current Size:  3815\n",
      "New Epi: 59 R: 0.0\n",
      "New Epi: 34 R: 0.0\n",
      "New Epi: 27 R: 0.0\n"
     ]
    },
    {
     "name": "stderr",
     "output_type": "stream",
     "text": [
      "\r",
      " 38%|███▊      | 3850/10000 [15:02<34:26,  2.98it/s]"
     ]
    },
    {
     "name": "stdout",
     "output_type": "stream",
     "text": [
      "New Epi: 35 R: 1.0\n",
      "Added new Api. Current Size:  3850\n"
     ]
    },
    {
     "name": "stderr",
     "output_type": "stream",
     "text": [
      "\r",
      " 39%|███▉      | 3884/10000 [15:06<27:48,  3.67it/s]"
     ]
    },
    {
     "name": "stdout",
     "output_type": "stream",
     "text": [
      "New Epi: 34 R: 1.0\n",
      "Added new Api. Current Size:  3884\n",
      "New Epi: 28 R: 0.0\n"
     ]
    },
    {
     "name": "stderr",
     "output_type": "stream",
     "text": [
      "\r",
      " 39%|███▉      | 3917/10000 [15:14<26:57,  3.76it/s]"
     ]
    },
    {
     "name": "stdout",
     "output_type": "stream",
     "text": [
      "New Epi: 33 R: 1.0\n",
      "Added new Api. Current Size:  3917\n",
      "New Epi: 60 R: 0.0\n"
     ]
    },
    {
     "name": "stderr",
     "output_type": "stream",
     "text": [
      "\r",
      " 40%|███▉      | 3952/10000 [15:24<27:04,  3.72it/s]"
     ]
    },
    {
     "name": "stdout",
     "output_type": "stream",
     "text": [
      "New Epi: 35 R: 1.0\n",
      "Added new Api. Current Size:  3952\n"
     ]
    },
    {
     "name": "stderr",
     "output_type": "stream",
     "text": [
      "\r",
      " 40%|███▉      | 3984/10000 [15:28<23:03,  4.35it/s]"
     ]
    },
    {
     "name": "stdout",
     "output_type": "stream",
     "text": [
      "New Epi: 32 R: 1.0\n",
      "Added new Api. Current Size:  3984\n",
      "New Epi: 32 R: 0.0\n"
     ]
    },
    {
     "name": "stderr",
     "output_type": "stream",
     "text": [
      "\r",
      " 40%|████      | 4016/10000 [15:37<24:33,  4.06it/s]"
     ]
    },
    {
     "name": "stdout",
     "output_type": "stream",
     "text": [
      "New Epi: 32 R: 1.0\n",
      "Added new Api. Current Size:  4016\n"
     ]
    },
    {
     "name": "stderr",
     "output_type": "stream",
     "text": [
      "\r",
      " 41%|████      | 4052/10000 [15:42<21:07,  4.69it/s]"
     ]
    },
    {
     "name": "stdout",
     "output_type": "stream",
     "text": [
      "New Epi: 36 R: 1.0\n",
      "Added new Api. Current Size:  4052\n"
     ]
    },
    {
     "name": "stderr",
     "output_type": "stream",
     "text": [
      "\r",
      " 41%|████      | 4084/10000 [15:47<19:06,  5.16it/s]"
     ]
    },
    {
     "name": "stdout",
     "output_type": "stream",
     "text": [
      "New Epi: 32 R: 1.0\n",
      "Added new Api. Current Size:  4084\n",
      "New Epi: 56 R: 0.0\n"
     ]
    },
    {
     "name": "stderr",
     "output_type": "stream",
     "text": [
      "\r",
      " 41%|████      | 4116/10000 [15:57<22:33,  4.35it/s]"
     ]
    },
    {
     "name": "stdout",
     "output_type": "stream",
     "text": [
      "New Epi: 32 R: 1.0\n",
      "Added new Api. Current Size:  4116\n",
      "New Epi: 55 R: 0.0\n"
     ]
    },
    {
     "name": "stderr",
     "output_type": "stream",
     "text": [
      "\r",
      " 41%|████▏     | 4149/10000 [16:08<25:23,  3.84it/s]"
     ]
    },
    {
     "name": "stdout",
     "output_type": "stream",
     "text": [
      "New Epi: 33 R: 1.0\n",
      "Added new Api. Current Size:  4149\n",
      "New Epi: 32 R: 0.0\n"
     ]
    },
    {
     "name": "stderr",
     "output_type": "stream",
     "text": [
      "\r",
      " 42%|████▏     | 4183/10000 [16:18<26:11,  3.70it/s]"
     ]
    },
    {
     "name": "stdout",
     "output_type": "stream",
     "text": [
      "New Epi: 34 R: 1.0\n",
      "Added new Api. Current Size:  4183\n"
     ]
    },
    {
     "name": "stderr",
     "output_type": "stream",
     "text": [
      "\r",
      " 42%|████▏     | 4215/10000 [16:23<22:33,  4.27it/s]"
     ]
    },
    {
     "name": "stdout",
     "output_type": "stream",
     "text": [
      "New Epi: 32 R: 1.0\n",
      "Added new Api. Current Size:  4215\n"
     ]
    },
    {
     "name": "stderr",
     "output_type": "stream",
     "text": [
      "\r",
      " 42%|████▏     | 4247/10000 [16:27<19:57,  4.81it/s]"
     ]
    },
    {
     "name": "stdout",
     "output_type": "stream",
     "text": [
      "New Epi: 32 R: 1.0\n",
      "Added new Api. Current Size:  4247\n"
     ]
    },
    {
     "name": "stderr",
     "output_type": "stream",
     "text": [
      "\r",
      " 43%|████▎     | 4279/10000 [16:32<18:04,  5.28it/s]"
     ]
    },
    {
     "name": "stdout",
     "output_type": "stream",
     "text": [
      "New Epi: 32 R: 1.0\n",
      "Added new Api. Current Size:  4279\n",
      "New Epi: 57 R: 0.0\n",
      "New Epi: 56 R: 0.0\n"
     ]
    },
    {
     "name": "stderr",
     "output_type": "stream",
     "text": [
      "\r",
      " 43%|████▎     | 4312/10000 [16:48<26:05,  3.63it/s]"
     ]
    },
    {
     "name": "stdout",
     "output_type": "stream",
     "text": [
      "New Epi: 33 R: 1.0\n",
      "Added new Api. Current Size:  4312\n"
     ]
    },
    {
     "name": "stderr",
     "output_type": "stream",
     "text": [
      "\r",
      " 43%|████▎     | 4347/10000 [16:52<21:44,  4.33it/s]"
     ]
    },
    {
     "name": "stdout",
     "output_type": "stream",
     "text": [
      "New Epi: 35 R: 1.0\n",
      "Added new Api. Current Size:  4347\n",
      "New Epi: 32 R: 0.0\n"
     ]
    },
    {
     "name": "stderr",
     "output_type": "stream",
     "text": [
      "\r",
      " 44%|████▍     | 4379/10000 [17:02<23:41,  3.95it/s]"
     ]
    },
    {
     "name": "stdout",
     "output_type": "stream",
     "text": [
      "New Epi: 32 R: 1.0\n",
      "Added new Api. Current Size:  4379\n"
     ]
    },
    {
     "name": "stderr",
     "output_type": "stream",
     "text": [
      "\r",
      " 44%|████▍     | 4411/10000 [17:07<20:34,  4.53it/s]"
     ]
    },
    {
     "name": "stdout",
     "output_type": "stream",
     "text": [
      "New Epi: 32 R: 1.0\n",
      "Added new Api. Current Size:  4411\n"
     ]
    },
    {
     "name": "stderr",
     "output_type": "stream",
     "text": [
      "\r",
      " 44%|████▍     | 4443/10000 [17:11<18:20,  5.05it/s]"
     ]
    },
    {
     "name": "stdout",
     "output_type": "stream",
     "text": [
      "New Epi: 32 R: 1.0\n",
      "Added new Api. Current Size:  4443\n"
     ]
    },
    {
     "name": "stderr",
     "output_type": "stream",
     "text": [
      "\r",
      " 45%|████▍     | 4474/10000 [17:16<16:39,  5.53it/s]"
     ]
    },
    {
     "name": "stdout",
     "output_type": "stream",
     "text": [
      "New Epi: 31 R: 1.0\n",
      "Added new Api. Current Size:  4474\n",
      "New Epi: 34 R: 0.0\n",
      "New Epi: 33 R: 0.0\n",
      "New Epi: 34 R: 0.0\n"
     ]
    },
    {
     "name": "stderr",
     "output_type": "stream",
     "text": [
      "\r",
      " 45%|████▌     | 4509/10000 [17:36<28:15,  3.24it/s]"
     ]
    },
    {
     "name": "stdout",
     "output_type": "stream",
     "text": [
      "New Epi: 35 R: 1.0\n",
      "Added new Api. Current Size:  4509\n"
     ]
    },
    {
     "name": "stderr",
     "output_type": "stream",
     "text": [
      "\r",
      " 45%|████▌     | 4545/10000 [17:41<22:56,  3.96it/s]"
     ]
    },
    {
     "name": "stdout",
     "output_type": "stream",
     "text": [
      "New Epi: 36 R: 1.0\n",
      "Added new Api. Current Size:  4545\n"
     ]
    },
    {
     "name": "stderr",
     "output_type": "stream",
     "text": [
      "\r",
      " 46%|████▌     | 4578/10000 [17:45<19:47,  4.57it/s]"
     ]
    },
    {
     "name": "stdout",
     "output_type": "stream",
     "text": [
      "New Epi: 33 R: 1.0\n",
      "Added new Api. Current Size:  4578\n",
      "New Epi: 54 R: 0.0\n",
      "New Epi: 36 R: 0.0\n",
      "New Epi: 32 R: 0.0\n"
     ]
    },
    {
     "name": "stderr",
     "output_type": "stream",
     "text": [
      "\r",
      " 46%|████▌     | 4612/10000 [18:06<30:03,  2.99it/s]"
     ]
    },
    {
     "name": "stdout",
     "output_type": "stream",
     "text": [
      "New Epi: 34 R: 1.0\n",
      "Added new Api. Current Size:  4612\n"
     ]
    },
    {
     "name": "stderr",
     "output_type": "stream",
     "text": [
      "\r",
      " 46%|████▋     | 4645/10000 [18:10<24:44,  3.61it/s]"
     ]
    },
    {
     "name": "stdout",
     "output_type": "stream",
     "text": [
      "New Epi: 33 R: 1.0\n",
      "Added new Api. Current Size:  4645\n"
     ]
    },
    {
     "name": "stderr",
     "output_type": "stream",
     "text": [
      "\r",
      " 47%|████▋     | 4676/10000 [18:15<21:17,  4.17it/s]"
     ]
    },
    {
     "name": "stdout",
     "output_type": "stream",
     "text": [
      "New Epi: 31 R: 1.0\n",
      "Added new Api. Current Size:  4676\n"
     ]
    },
    {
     "name": "stderr",
     "output_type": "stream",
     "text": [
      "\r",
      " 47%|████▋     | 4711/10000 [18:20<18:12,  4.84it/s]"
     ]
    },
    {
     "name": "stdout",
     "output_type": "stream",
     "text": [
      "New Epi: 35 R: 1.0\n",
      "Added new Api. Current Size:  4711\n"
     ]
    },
    {
     "name": "stderr",
     "output_type": "stream",
     "text": [
      "\r",
      " 47%|████▋     | 4743/10000 [18:24<16:30,  5.31it/s]"
     ]
    },
    {
     "name": "stdout",
     "output_type": "stream",
     "text": [
      "New Epi: 32 R: 1.0\n",
      "Added new Api. Current Size:  4743\n",
      "New Epi: 36 R: 0.0\n"
     ]
    },
    {
     "name": "stderr",
     "output_type": "stream",
     "text": [
      "\r",
      " 48%|████▊     | 4775/10000 [18:33<18:48,  4.63it/s]"
     ]
    },
    {
     "name": "stdout",
     "output_type": "stream",
     "text": [
      "New Epi: 32 R: 1.0\n",
      "Added new Api. Current Size:  4775\n",
      "New Epi: 56 R: 0.0\n"
     ]
    },
    {
     "name": "stderr",
     "output_type": "stream",
     "text": [
      "\r",
      " 48%|████▊     | 4810/10000 [18:43<20:35,  4.20it/s]"
     ]
    },
    {
     "name": "stdout",
     "output_type": "stream",
     "text": [
      "New Epi: 35 R: 1.0\n",
      "Added new Api. Current Size:  4810\n",
      "New Epi: 33 R: 0.0\n"
     ]
    },
    {
     "name": "stderr",
     "output_type": "stream",
     "text": [
      "\r",
      " 48%|████▊     | 4842/10000 [18:53<22:08,  3.88it/s]"
     ]
    },
    {
     "name": "stdout",
     "output_type": "stream",
     "text": [
      "New Epi: 32 R: 1.0\n",
      "Added new Api. Current Size:  4842\n",
      "New Epi: 34 R: 0.0\n"
     ]
    },
    {
     "name": "stderr",
     "output_type": "stream",
     "text": [
      "\r",
      " 49%|████▉     | 4876/10000 [19:03<22:47,  3.75it/s]"
     ]
    },
    {
     "name": "stdout",
     "output_type": "stream",
     "text": [
      "New Epi: 34 R: 1.0\n",
      "Added new Api. Current Size:  4876\n",
      "New Epi: 63 R: 0.0\n"
     ]
    },
    {
     "name": "stderr",
     "output_type": "stream",
     "text": [
      "\r",
      " 49%|████▉     | 4911/10000 [19:13<23:21,  3.63it/s]"
     ]
    },
    {
     "name": "stdout",
     "output_type": "stream",
     "text": [
      "New Epi: 35 R: 1.0\n",
      "Added new Api. Current Size:  4911\n",
      "New Epi: 53 R: 0.0\n"
     ]
    },
    {
     "name": "stderr",
     "output_type": "stream",
     "text": [
      "\r",
      " 49%|████▉     | 4944/10000 [19:23<23:43,  3.55it/s]"
     ]
    },
    {
     "name": "stdout",
     "output_type": "stream",
     "text": [
      "New Epi: 33 R: 1.0\n",
      "Added new Api. Current Size:  4944\n",
      "New Epi: 29 R: 0.0\n",
      "New Epi: 34 R: 0.0\n",
      "New Epi: 55 R: 0.0\n",
      "New Epi: 42 R: 0.0\n"
     ]
    },
    {
     "name": "stderr",
     "output_type": "stream",
     "text": [
      "\r",
      " 50%|████▉     | 4977/10000 [19:48<35:10,  2.38it/s]"
     ]
    },
    {
     "name": "stdout",
     "output_type": "stream",
     "text": [
      "New Epi: 33 R: 1.0\n",
      "Added new Api. Current Size:  4977\n",
      "New Epi: 73 R: 0.0\n"
     ]
    },
    {
     "name": "stderr",
     "output_type": "stream",
     "text": [
      "\r",
      " 50%|█████     | 5009/10000 [19:58<32:47,  2.54it/s]"
     ]
    },
    {
     "name": "stdout",
     "output_type": "stream",
     "text": [
      "New Epi: 32 R: 1.0\n",
      "Added new Api. Current Size:  5009\n"
     ]
    },
    {
     "name": "stderr",
     "output_type": "stream",
     "text": [
      "\r",
      " 50%|█████     | 5040/10000 [20:03<26:30,  3.12it/s]"
     ]
    },
    {
     "name": "stdout",
     "output_type": "stream",
     "text": [
      "New Epi: 31 R: 1.0\n",
      "Added new Api. Current Size:  5040\n"
     ]
    },
    {
     "name": "stderr",
     "output_type": "stream",
     "text": [
      "\r",
      " 51%|█████     | 5072/10000 [20:07<21:58,  3.74it/s]"
     ]
    },
    {
     "name": "stdout",
     "output_type": "stream",
     "text": [
      "New Epi: 32 R: 1.0\n",
      "Added new Api. Current Size:  5072\n"
     ]
    },
    {
     "name": "stderr",
     "output_type": "stream",
     "text": [
      "\r",
      " 51%|█████     | 5107/10000 [20:12<18:19,  4.45it/s]"
     ]
    },
    {
     "name": "stdout",
     "output_type": "stream",
     "text": [
      "New Epi: 35 R: 1.0\n",
      "Added new Api. Current Size:  5107\n",
      "New Epi: 35 R: 0.0\n"
     ]
    },
    {
     "name": "stderr",
     "output_type": "stream",
     "text": [
      "\r",
      " 51%|█████▏    | 5139/10000 [20:22<20:08,  4.02it/s]"
     ]
    },
    {
     "name": "stdout",
     "output_type": "stream",
     "text": [
      "New Epi: 32 R: 1.0\n",
      "Added new Api. Current Size:  5139\n",
      "New Epi: 35 R: 0.0\n"
     ]
    },
    {
     "name": "stderr",
     "output_type": "stream",
     "text": [
      "\r",
      " 52%|█████▏    | 5172/10000 [20:31<21:00,  3.83it/s]"
     ]
    },
    {
     "name": "stdout",
     "output_type": "stream",
     "text": [
      "New Epi: 33 R: 1.0\n",
      "Added new Api. Current Size:  5172\n"
     ]
    },
    {
     "name": "stderr",
     "output_type": "stream",
     "text": [
      "\r",
      " 52%|█████▏    | 5206/10000 [20:36<17:49,  4.48it/s]"
     ]
    },
    {
     "name": "stdout",
     "output_type": "stream",
     "text": [
      "New Epi: 34 R: 1.0\n",
      "Added new Api. Current Size:  5206\n"
     ]
    },
    {
     "name": "stderr",
     "output_type": "stream",
     "text": [
      "\r",
      " 52%|█████▏    | 5240/10000 [20:40<15:36,  5.08it/s]"
     ]
    },
    {
     "name": "stdout",
     "output_type": "stream",
     "text": [
      "New Epi: 34 R: 1.0\n",
      "Added new Api. Current Size:  5240\n",
      "New Epi: 52 R: 0.0\n",
      "New Epi: 33 R: 0.0\n"
     ]
    },
    {
     "name": "stderr",
     "output_type": "stream",
     "text": [
      "\r",
      " 53%|█████▎    | 5274/10000 [20:55<21:18,  3.70it/s]"
     ]
    },
    {
     "name": "stdout",
     "output_type": "stream",
     "text": [
      "New Epi: 34 R: 1.0\n",
      "Added new Api. Current Size:  5274\n"
     ]
    },
    {
     "name": "stderr",
     "output_type": "stream",
     "text": [
      "\r",
      " 53%|█████▎    | 5308/10000 [21:00<17:57,  4.35it/s]"
     ]
    },
    {
     "name": "stdout",
     "output_type": "stream",
     "text": [
      "New Epi: 34 R: 1.0\n",
      "Added new Api. Current Size:  5308\n",
      "New Epi: 32 R: 0.0\n"
     ]
    },
    {
     "name": "stderr",
     "output_type": "stream",
     "text": [
      "\r",
      " 53%|█████▎    | 5340/10000 [21:10<19:29,  3.99it/s]"
     ]
    },
    {
     "name": "stdout",
     "output_type": "stream",
     "text": [
      "New Epi: 32 R: 1.0\n",
      "Added new Api. Current Size:  5340\n"
     ]
    },
    {
     "name": "stderr",
     "output_type": "stream",
     "text": [
      "\r",
      " 54%|█████▍    | 5376/10000 [21:14<16:24,  4.69it/s]"
     ]
    },
    {
     "name": "stdout",
     "output_type": "stream",
     "text": [
      "New Epi: 36 R: 1.0\n",
      "Added new Api. Current Size:  5376\n",
      "New Epi: 35 R: 0.0\n"
     ]
    },
    {
     "name": "stderr",
     "output_type": "stream",
     "text": [
      "\r",
      " 54%|█████▍    | 5409/10000 [21:24<18:12,  4.20it/s]"
     ]
    },
    {
     "name": "stdout",
     "output_type": "stream",
     "text": [
      "New Epi: 33 R: 1.0\n",
      "Added new Api. Current Size:  5409\n"
     ]
    },
    {
     "name": "stderr",
     "output_type": "stream",
     "text": [
      "\r",
      " 54%|█████▍    | 5441/10000 [21:29<16:00,  4.75it/s]"
     ]
    },
    {
     "name": "stdout",
     "output_type": "stream",
     "text": [
      "New Epi: 32 R: 1.0\n",
      "Added new Api. Current Size:  5441\n",
      "New Epi: 34 R: 0.0\n"
     ]
    },
    {
     "name": "stderr",
     "output_type": "stream",
     "text": [
      "\r",
      " 55%|█████▍    | 5477/10000 [21:39<17:26,  4.32it/s]"
     ]
    },
    {
     "name": "stdout",
     "output_type": "stream",
     "text": [
      "New Epi: 36 R: 1.0\n",
      "Added new Api. Current Size:  5477\n"
     ]
    },
    {
     "name": "stderr",
     "output_type": "stream",
     "text": [
      "\r",
      " 55%|█████▌    | 5511/10000 [21:43<15:10,  4.93it/s]"
     ]
    },
    {
     "name": "stdout",
     "output_type": "stream",
     "text": [
      "New Epi: 34 R: 1.0\n",
      "Added new Api. Current Size:  5511\n"
     ]
    },
    {
     "name": "stderr",
     "output_type": "stream",
     "text": [
      "\r",
      " 55%|█████▌    | 5545/10000 [21:48<13:35,  5.46it/s]"
     ]
    },
    {
     "name": "stdout",
     "output_type": "stream",
     "text": [
      "New Epi: 34 R: 1.0\n",
      "Added new Api. Current Size:  5545\n"
     ]
    },
    {
     "name": "stderr",
     "output_type": "stream",
     "text": [
      "\r",
      " 56%|█████▌    | 5580/10000 [21:53<12:21,  5.96it/s]"
     ]
    },
    {
     "name": "stdout",
     "output_type": "stream",
     "text": [
      "New Epi: 35 R: 1.0\n",
      "Added new Api. Current Size:  5580\n",
      "New Epi: 55 R: 0.0\n"
     ]
    },
    {
     "name": "stderr",
     "output_type": "stream",
     "text": [
      "\r",
      " 56%|█████▌    | 5612/10000 [22:03<15:12,  4.81it/s]"
     ]
    },
    {
     "name": "stdout",
     "output_type": "stream",
     "text": [
      "New Epi: 32 R: 1.0\n",
      "Added new Api. Current Size:  5612\n",
      "New Epi: 89 R: 0.0\n"
     ]
    },
    {
     "name": "stderr",
     "output_type": "stream",
     "text": [
      "\r",
      " 56%|█████▋    | 5645/10000 [22:14<18:02,  4.02it/s]"
     ]
    },
    {
     "name": "stdout",
     "output_type": "stream",
     "text": [
      "New Epi: 33 R: 1.0\n",
      "Added new Api. Current Size:  5645\n"
     ]
    },
    {
     "name": "stderr",
     "output_type": "stream",
     "text": [
      "\r",
      " 57%|█████▋    | 5678/10000 [22:19<15:34,  4.63it/s]"
     ]
    },
    {
     "name": "stdout",
     "output_type": "stream",
     "text": [
      "New Epi: 33 R: 1.0\n",
      "Added new Api. Current Size:  5678\n"
     ]
    },
    {
     "name": "stderr",
     "output_type": "stream",
     "text": [
      "\r",
      " 57%|█████▋    | 5710/10000 [22:23<13:47,  5.19it/s]"
     ]
    },
    {
     "name": "stdout",
     "output_type": "stream",
     "text": [
      "New Epi: 32 R: 1.0\n",
      "Added new Api. Current Size:  5710\n"
     ]
    },
    {
     "name": "stderr",
     "output_type": "stream",
     "text": [
      "\r",
      " 57%|█████▋    | 5746/10000 [22:28<12:18,  5.76it/s]"
     ]
    },
    {
     "name": "stdout",
     "output_type": "stream",
     "text": [
      "New Epi: 36 R: 1.0\n",
      "Added new Api. Current Size:  5746\n"
     ]
    },
    {
     "name": "stderr",
     "output_type": "stream",
     "text": [
      "\r",
      " 58%|█████▊    | 5779/10000 [22:32<11:31,  6.10it/s]"
     ]
    },
    {
     "name": "stdout",
     "output_type": "stream",
     "text": [
      "New Epi: 33 R: 1.0\n",
      "Added new Api. Current Size:  5779\n",
      "New Epi: 33 R: 0.0\n",
      "New Epi: 33 R: 0.0\n",
      "New Epi: 62 R: 0.0\n",
      "New Epi: 52 R: 0.0\n"
     ]
    },
    {
     "name": "stderr",
     "output_type": "stream",
     "text": [
      "\r",
      " 58%|█████▊    | 5813/10000 [22:59<24:38,  2.83it/s]"
     ]
    },
    {
     "name": "stdout",
     "output_type": "stream",
     "text": [
      "New Epi: 34 R: 1.0\n",
      "Added new Api. Current Size:  5813\n",
      "New Epi: 34 R: 0.0\n"
     ]
    },
    {
     "name": "stderr",
     "output_type": "stream",
     "text": [
      "\r",
      " 58%|█████▊    | 5848/10000 [23:09<23:00,  3.01it/s]"
     ]
    },
    {
     "name": "stdout",
     "output_type": "stream",
     "text": [
      "New Epi: 35 R: 1.0\n",
      "Added new Api. Current Size:  5848\n"
     ]
    },
    {
     "name": "stderr",
     "output_type": "stream",
     "text": [
      "\r",
      " 59%|█████▉    | 5882/10000 [23:14<18:51,  3.64it/s]"
     ]
    },
    {
     "name": "stdout",
     "output_type": "stream",
     "text": [
      "New Epi: 34 R: 1.0\n",
      "Added new Api. Current Size:  5882\n",
      "New Epi: 34 R: 0.0\n",
      "New Epi: 32 R: 0.0\n"
     ]
    },
    {
     "name": "stderr",
     "output_type": "stream",
     "text": [
      "\r",
      " 59%|█████▉    | 5913/10000 [23:29<22:40,  3.00it/s]"
     ]
    },
    {
     "name": "stdout",
     "output_type": "stream",
     "text": [
      "New Epi: 31 R: 1.0\n",
      "Added new Api. Current Size:  5913\n"
     ]
    },
    {
     "name": "stderr",
     "output_type": "stream",
     "text": [
      "\r",
      " 59%|█████▉    | 5945/10000 [23:34<18:49,  3.59it/s]"
     ]
    },
    {
     "name": "stdout",
     "output_type": "stream",
     "text": [
      "New Epi: 32 R: 1.0\n",
      "Added new Api. Current Size:  5945\n",
      "New Epi: 91 R: 0.0\n"
     ]
    },
    {
     "name": "stderr",
     "output_type": "stream",
     "text": [
      "\r",
      " 60%|█████▉    | 5977/10000 [23:46<20:54,  3.21it/s]"
     ]
    },
    {
     "name": "stdout",
     "output_type": "stream",
     "text": [
      "New Epi: 32 R: 1.0\n",
      "Added new Api. Current Size:  5977\n"
     ]
    },
    {
     "name": "stderr",
     "output_type": "stream",
     "text": [
      "\r",
      " 60%|██████    | 6009/10000 [23:51<17:37,  3.77it/s]"
     ]
    },
    {
     "name": "stdout",
     "output_type": "stream",
     "text": [
      "New Epi: 32 R: 1.0\n",
      "Added new Api. Current Size:  6009\n",
      "New Epi: 63 R: 0.0\n",
      "New Epi: 64 R: 0.0\n",
      "New Epi: 35 R: 0.0\n"
     ]
    },
    {
     "name": "stderr",
     "output_type": "stream",
     "text": [
      "\r",
      " 60%|██████    | 6043/10000 [24:15<26:19,  2.50it/s]"
     ]
    },
    {
     "name": "stdout",
     "output_type": "stream",
     "text": [
      "New Epi: 34 R: 1.0\n",
      "Added new Api. Current Size:  6043\n",
      "New Epi: 34 R: 0.0\n",
      "New Epi: 54 R: 0.0\n"
     ]
    },
    {
     "name": "stderr",
     "output_type": "stream",
     "text": [
      "\r",
      " 61%|██████    | 6078/10000 [24:32<27:44,  2.36it/s]"
     ]
    },
    {
     "name": "stdout",
     "output_type": "stream",
     "text": [
      "New Epi: 35 R: 1.0\n",
      "Added new Api. Current Size:  6078\n",
      "New Epi: 34 R: 0.0\n"
     ]
    },
    {
     "name": "stderr",
     "output_type": "stream",
     "text": [
      "\r",
      " 61%|██████    | 6112/10000 [24:42<25:18,  2.56it/s]"
     ]
    },
    {
     "name": "stdout",
     "output_type": "stream",
     "text": [
      "New Epi: 34 R: 1.0\n",
      "Added new Api. Current Size:  6112\n"
     ]
    },
    {
     "name": "stderr",
     "output_type": "stream",
     "text": [
      "\r",
      " 61%|██████▏   | 6145/10000 [24:47<20:34,  3.12it/s]"
     ]
    },
    {
     "name": "stdout",
     "output_type": "stream",
     "text": [
      "New Epi: 33 R: 1.0\n",
      "Added new Api. Current Size:  6145\n"
     ]
    },
    {
     "name": "stderr",
     "output_type": "stream",
     "text": [
      "\r",
      " 62%|██████▏   | 6178/10000 [24:52<17:14,  3.70it/s]"
     ]
    },
    {
     "name": "stdout",
     "output_type": "stream",
     "text": [
      "New Epi: 33 R: 1.0\n",
      "Added new Api. Current Size:  6178\n",
      "New Epi: 58 R: 0.0\n",
      "New Epi: 33 R: 0.0\n",
      "New Epi: 32 R: 0.0\n"
     ]
    },
    {
     "name": "stderr",
     "output_type": "stream",
     "text": [
      "\r",
      " 62%|██████▏   | 6210/10000 [25:15<24:52,  2.54it/s]"
     ]
    },
    {
     "name": "stdout",
     "output_type": "stream",
     "text": [
      "New Epi: 32 R: 1.0\n",
      "Added new Api. Current Size:  6210\n"
     ]
    },
    {
     "name": "stderr",
     "output_type": "stream",
     "text": [
      "\r",
      " 62%|██████▏   | 6242/10000 [25:19<20:16,  3.09it/s]"
     ]
    },
    {
     "name": "stdout",
     "output_type": "stream",
     "text": [
      "New Epi: 32 R: 1.0\n",
      "Added new Api. Current Size:  6242\n"
     ]
    },
    {
     "name": "stderr",
     "output_type": "stream",
     "text": [
      "\r",
      " 63%|██████▎   | 6275/10000 [25:25<16:52,  3.68it/s]"
     ]
    },
    {
     "name": "stdout",
     "output_type": "stream",
     "text": [
      "New Epi: 33 R: 1.0\n",
      "Added new Api. Current Size:  6275\n",
      "New Epi: 56 R: 0.0\n",
      "New Epi: 34 R: 0.0\n",
      "New Epi: 64 R: 0.0\n"
     ]
    },
    {
     "name": "stderr",
     "output_type": "stream",
     "text": [
      "\r",
      " 63%|██████▎   | 6307/10000 [25:47<24:41,  2.49it/s]"
     ]
    },
    {
     "name": "stdout",
     "output_type": "stream",
     "text": [
      "New Epi: 32 R: 1.0\n",
      "Added new Api. Current Size:  6307\n",
      "New Epi: 28 R: 0.0\n"
     ]
    },
    {
     "name": "stderr",
     "output_type": "stream",
     "text": [
      "\r",
      " 63%|██████▎   | 6339/10000 [25:57<22:34,  2.70it/s]"
     ]
    },
    {
     "name": "stdout",
     "output_type": "stream",
     "text": [
      "New Epi: 32 R: 1.0\n",
      "Added new Api. Current Size:  6339\n"
     ]
    },
    {
     "name": "stderr",
     "output_type": "stream",
     "text": [
      "\r",
      " 64%|██████▎   | 6372/10000 [26:02<18:20,  3.30it/s]"
     ]
    },
    {
     "name": "stdout",
     "output_type": "stream",
     "text": [
      "New Epi: 33 R: 1.0\n",
      "Added new Api. Current Size:  6372\n"
     ]
    },
    {
     "name": "stderr",
     "output_type": "stream",
     "text": [
      "\r",
      " 64%|██████▍   | 6405/10000 [26:07<15:25,  3.89it/s]"
     ]
    },
    {
     "name": "stdout",
     "output_type": "stream",
     "text": [
      "New Epi: 33 R: 1.0\n",
      "Added new Api. Current Size:  6405\n",
      "New Epi: 51 R: 0.0\n"
     ]
    },
    {
     "name": "stderr",
     "output_type": "stream",
     "text": [
      "\r",
      " 64%|██████▍   | 6438/10000 [26:18<16:52,  3.52it/s]"
     ]
    },
    {
     "name": "stdout",
     "output_type": "stream",
     "text": [
      "New Epi: 33 R: 1.0\n",
      "Added new Api. Current Size:  6438\n"
     ]
    },
    {
     "name": "stderr",
     "output_type": "stream",
     "text": [
      "\r",
      " 65%|██████▍   | 6473/10000 [26:23<14:08,  4.16it/s]"
     ]
    },
    {
     "name": "stdout",
     "output_type": "stream",
     "text": [
      "New Epi: 35 R: 1.0\n",
      "Added new Api. Current Size:  6473\n",
      "New Epi: 35 R: 0.0\n",
      "New Epi: 58 R: 0.0\n"
     ]
    },
    {
     "name": "stderr",
     "output_type": "stream",
     "text": [
      "\r",
      " 65%|██████▌   | 6506/10000 [26:40<18:27,  3.15it/s]"
     ]
    },
    {
     "name": "stdout",
     "output_type": "stream",
     "text": [
      "New Epi: 33 R: 1.0\n",
      "Added new Api. Current Size:  6506\n"
     ]
    },
    {
     "name": "stderr",
     "output_type": "stream",
     "text": [
      "\r",
      " 65%|██████▌   | 6540/10000 [26:45<15:18,  3.77it/s]"
     ]
    },
    {
     "name": "stdout",
     "output_type": "stream",
     "text": [
      "New Epi: 34 R: 1.0\n",
      "Added new Api. Current Size:  6540\n"
     ]
    },
    {
     "name": "stderr",
     "output_type": "stream",
     "text": [
      "\r",
      " 66%|██████▌   | 6574/10000 [26:50<13:07,  4.35it/s]"
     ]
    },
    {
     "name": "stdout",
     "output_type": "stream",
     "text": [
      "New Epi: 34 R: 1.0\n",
      "Added new Api. Current Size:  6574\n",
      "New Epi: 27 R: 0.0\n",
      "New Epi: 30 R: 0.0\n"
     ]
    },
    {
     "name": "stderr",
     "output_type": "stream",
     "text": [
      "\r",
      " 66%|██████▌   | 6607/10000 [27:04<16:15,  3.48it/s]"
     ]
    },
    {
     "name": "stdout",
     "output_type": "stream",
     "text": [
      "New Epi: 33 R: 1.0\n",
      "Added new Api. Current Size:  6607\n"
     ]
    },
    {
     "name": "stderr",
     "output_type": "stream",
     "text": [
      "\r",
      " 66%|██████▋   | 6638/10000 [27:08<13:54,  4.03it/s]"
     ]
    },
    {
     "name": "stdout",
     "output_type": "stream",
     "text": [
      "New Epi: 31 R: 1.0\n",
      "Added new Api. Current Size:  6638\n",
      "New Epi: 32 R: 0.0\n",
      "New Epi: 57 R: 0.0\n"
     ]
    },
    {
     "name": "stderr",
     "output_type": "stream",
     "text": [
      "\r",
      " 67%|██████▋   | 6672/10000 [27:25<17:43,  3.13it/s]"
     ]
    },
    {
     "name": "stdout",
     "output_type": "stream",
     "text": [
      "New Epi: 34 R: 1.0\n",
      "Added new Api. Current Size:  6672\n"
     ]
    },
    {
     "name": "stderr",
     "output_type": "stream",
     "text": [
      "\r",
      " 67%|██████▋   | 6704/10000 [27:30<14:53,  3.69it/s]"
     ]
    },
    {
     "name": "stdout",
     "output_type": "stream",
     "text": [
      "New Epi: 32 R: 1.0\n",
      "Added new Api. Current Size:  6704\n"
     ]
    },
    {
     "name": "stderr",
     "output_type": "stream",
     "text": [
      "\r",
      " 67%|██████▋   | 6738/10000 [27:34<12:38,  4.30it/s]"
     ]
    },
    {
     "name": "stdout",
     "output_type": "stream",
     "text": [
      "New Epi: 34 R: 1.0\n",
      "Added new Api. Current Size:  6738\n"
     ]
    },
    {
     "name": "stderr",
     "output_type": "stream",
     "text": [
      "\r",
      " 68%|██████▊   | 6772/10000 [27:39<11:05,  4.85it/s]"
     ]
    },
    {
     "name": "stdout",
     "output_type": "stream",
     "text": [
      "New Epi: 34 R: 1.0\n",
      "Added new Api. Current Size:  6772\n",
      "New Epi: 54 R: 0.0\n",
      "New Epi: 41 R: 0.0\n"
     ]
    },
    {
     "name": "stderr",
     "output_type": "stream",
     "text": [
      "\r",
      " 68%|██████▊   | 6808/10000 [27:56<15:16,  3.48it/s]"
     ]
    },
    {
     "name": "stdout",
     "output_type": "stream",
     "text": [
      "New Epi: 36 R: 1.0\n",
      "Added new Api. Current Size:  6808\n",
      "New Epi: 55 R: 0.0\n",
      "New Epi: 69 R: 0.0\n"
     ]
    },
    {
     "name": "stderr",
     "output_type": "stream",
     "text": [
      "\r",
      " 68%|██████▊   | 6840/10000 [28:13<18:50,  2.80it/s]"
     ]
    },
    {
     "name": "stdout",
     "output_type": "stream",
     "text": [
      "New Epi: 32 R: 1.0\n",
      "Added new Api. Current Size:  6840\n",
      "New Epi: 59 R: 0.0\n",
      "New Epi: 55 R: 0.0\n",
      "New Epi: 34 R: 0.0\n"
     ]
    },
    {
     "name": "stderr",
     "output_type": "stream",
     "text": [
      "\r",
      " 69%|██████▊   | 6873/10000 [28:36<23:52,  2.18it/s]"
     ]
    },
    {
     "name": "stdout",
     "output_type": "stream",
     "text": [
      "New Epi: 33 R: 1.0\n",
      "Added new Api. Current Size:  6873\n",
      "New Epi: 62 R: 0.0\n",
      "New Epi: 56 R: 0.0\n"
     ]
    },
    {
     "name": "stderr",
     "output_type": "stream",
     "text": [
      "\r",
      " 69%|██████▉   | 6905/10000 [28:53<24:35,  2.10it/s]"
     ]
    },
    {
     "name": "stdout",
     "output_type": "stream",
     "text": [
      "New Epi: 32 R: 1.0\n",
      "Added new Api. Current Size:  6905\n"
     ]
    },
    {
     "name": "stderr",
     "output_type": "stream",
     "text": [
      "\r",
      " 69%|██████▉   | 6937/10000 [28:58<19:28,  2.62it/s]"
     ]
    },
    {
     "name": "stdout",
     "output_type": "stream",
     "text": [
      "New Epi: 32 R: 1.0\n",
      "Added new Api. Current Size:  6937\n"
     ]
    },
    {
     "name": "stderr",
     "output_type": "stream",
     "text": [
      "\r",
      " 70%|██████▉   | 6971/10000 [29:03<15:35,  3.24it/s]"
     ]
    },
    {
     "name": "stdout",
     "output_type": "stream",
     "text": [
      "New Epi: 34 R: 1.0\n",
      "Added new Api. Current Size:  6971\n"
     ]
    },
    {
     "name": "stderr",
     "output_type": "stream",
     "text": [
      "\r",
      " 70%|███████   | 7006/10000 [29:08<12:49,  3.89it/s]"
     ]
    },
    {
     "name": "stdout",
     "output_type": "stream",
     "text": [
      "New Epi: 35 R: 1.0\n",
      "Added new Api. Current Size:  7006\n"
     ]
    },
    {
     "name": "stderr",
     "output_type": "stream",
     "text": [
      "\r",
      " 70%|███████   | 7040/10000 [29:13<11:01,  4.48it/s]"
     ]
    },
    {
     "name": "stdout",
     "output_type": "stream",
     "text": [
      "New Epi: 34 R: 1.0\n",
      "Added new Api. Current Size:  7040\n"
     ]
    },
    {
     "name": "stderr",
     "output_type": "stream",
     "text": [
      "\r",
      " 71%|███████   | 7075/10000 [29:18<09:41,  5.03it/s]"
     ]
    },
    {
     "name": "stdout",
     "output_type": "stream",
     "text": [
      "New Epi: 35 R: 1.0\n",
      "Added new Api. Current Size:  7075\n"
     ]
    },
    {
     "name": "stderr",
     "output_type": "stream",
     "text": [
      "\r",
      " 71%|███████   | 7108/10000 [29:23<08:53,  5.42it/s]"
     ]
    },
    {
     "name": "stdout",
     "output_type": "stream",
     "text": [
      "New Epi: 33 R: 1.0\n",
      "Added new Api. Current Size:  7108\n"
     ]
    },
    {
     "name": "stderr",
     "output_type": "stream",
     "text": [
      "\r",
      " 71%|███████▏  | 7140/10000 [29:28<08:22,  5.70it/s]"
     ]
    },
    {
     "name": "stdout",
     "output_type": "stream",
     "text": [
      "New Epi: 32 R: 1.0\n",
      "Added new Api. Current Size:  7140\n"
     ]
    },
    {
     "name": "stderr",
     "output_type": "stream",
     "text": [
      "\r",
      " 72%|███████▏  | 7174/10000 [29:33<07:51,  5.99it/s]"
     ]
    },
    {
     "name": "stdout",
     "output_type": "stream",
     "text": [
      "New Epi: 34 R: 1.0\n",
      "Added new Api. Current Size:  7174\n"
     ]
    },
    {
     "name": "stderr",
     "output_type": "stream",
     "text": [
      "\r",
      " 72%|███████▏  | 7206/10000 [29:37<07:35,  6.13it/s]"
     ]
    },
    {
     "name": "stdout",
     "output_type": "stream",
     "text": [
      "New Epi: 32 R: 1.0\n",
      "Added new Api. Current Size:  7206\n"
     ]
    },
    {
     "name": "stderr",
     "output_type": "stream",
     "text": [
      "\r",
      " 72%|███████▏  | 7238/10000 [29:42<07:22,  6.24it/s]"
     ]
    },
    {
     "name": "stdout",
     "output_type": "stream",
     "text": [
      "New Epi: 32 R: 1.0\n",
      "Added new Api. Current Size:  7238\n",
      "New Epi: 33 R: 0.0\n",
      "New Epi: 78 R: 0.0\n"
     ]
    },
    {
     "name": "stderr",
     "output_type": "stream",
     "text": [
      "\r",
      " 73%|███████▎  | 7272/10000 [30:00<12:11,  3.73it/s]"
     ]
    },
    {
     "name": "stdout",
     "output_type": "stream",
     "text": [
      "New Epi: 34 R: 1.0\n",
      "Added new Api. Current Size:  7272\n"
     ]
    },
    {
     "name": "stderr",
     "output_type": "stream",
     "text": [
      "\r",
      " 73%|███████▎  | 7306/10000 [30:05<10:21,  4.33it/s]"
     ]
    },
    {
     "name": "stdout",
     "output_type": "stream",
     "text": [
      "New Epi: 34 R: 1.0\n",
      "Added new Api. Current Size:  7306\n"
     ]
    },
    {
     "name": "stderr",
     "output_type": "stream",
     "text": [
      "\r",
      " 73%|███████▎  | 7339/10000 [30:10<09:10,  4.83it/s]"
     ]
    },
    {
     "name": "stdout",
     "output_type": "stream",
     "text": [
      "New Epi: 33 R: 1.0\n",
      "Added new Api. Current Size:  7339\n"
     ]
    },
    {
     "name": "stderr",
     "output_type": "stream",
     "text": [
      "\r",
      " 74%|███████▎  | 7372/10000 [30:15<08:18,  5.27it/s]"
     ]
    },
    {
     "name": "stdout",
     "output_type": "stream",
     "text": [
      "New Epi: 33 R: 1.0\n",
      "Added new Api. Current Size:  7372\n"
     ]
    },
    {
     "name": "stderr",
     "output_type": "stream",
     "text": [
      "\r",
      " 74%|███████▍  | 7404/10000 [30:19<07:45,  5.58it/s]"
     ]
    },
    {
     "name": "stdout",
     "output_type": "stream",
     "text": [
      "New Epi: 32 R: 1.0\n",
      "Added new Api. Current Size:  7404\n",
      "New Epi: 56 R: 0.0\n",
      "New Epi: 34 R: 0.0\n"
     ]
    },
    {
     "name": "stderr",
     "output_type": "stream",
     "text": [
      "\r",
      " 74%|███████▍  | 7436/10000 [30:36<11:48,  3.62it/s]"
     ]
    },
    {
     "name": "stdout",
     "output_type": "stream",
     "text": [
      "New Epi: 32 R: 1.0\n",
      "Added new Api. Current Size:  7436\n"
     ]
    },
    {
     "name": "stderr",
     "output_type": "stream",
     "text": [
      "\r",
      " 75%|███████▍  | 7470/10000 [30:41<09:58,  4.23it/s]"
     ]
    },
    {
     "name": "stdout",
     "output_type": "stream",
     "text": [
      "New Epi: 34 R: 1.0\n",
      "Added new Api. Current Size:  7470\n"
     ]
    },
    {
     "name": "stderr",
     "output_type": "stream",
     "text": [
      "\r",
      " 75%|███████▌  | 7502/10000 [30:46<08:50,  4.71it/s]"
     ]
    },
    {
     "name": "stdout",
     "output_type": "stream",
     "text": [
      "New Epi: 32 R: 1.0\n",
      "Added new Api. Current Size:  7502\n"
     ]
    },
    {
     "name": "stderr",
     "output_type": "stream",
     "text": [
      "\r",
      " 75%|███████▌  | 7534/10000 [30:51<08:02,  5.11it/s]"
     ]
    },
    {
     "name": "stdout",
     "output_type": "stream",
     "text": [
      "New Epi: 32 R: 1.0\n",
      "Added new Api. Current Size:  7534\n"
     ]
    },
    {
     "name": "stderr",
     "output_type": "stream",
     "text": [
      "\r",
      " 76%|███████▌  | 7566/10000 [30:56<07:26,  5.45it/s]"
     ]
    },
    {
     "name": "stdout",
     "output_type": "stream",
     "text": [
      "New Epi: 32 R: 1.0\n",
      "Added new Api. Current Size:  7566\n",
      "New Epi: 33 R: 0.0\n"
     ]
    },
    {
     "name": "stderr",
     "output_type": "stream",
     "text": [
      "\r",
      " 76%|███████▌  | 7600/10000 [31:06<08:56,  4.48it/s]"
     ]
    },
    {
     "name": "stdout",
     "output_type": "stream",
     "text": [
      "New Epi: 34 R: 1.0\n",
      "Added new Api. Current Size:  7600\n"
     ]
    },
    {
     "name": "stderr",
     "output_type": "stream",
     "text": [
      "\r",
      " 76%|███████▋  | 7634/10000 [31:11<07:53,  5.00it/s]"
     ]
    },
    {
     "name": "stdout",
     "output_type": "stream",
     "text": [
      "New Epi: 34 R: 1.0\n",
      "Added new Api. Current Size:  7634\n"
     ]
    },
    {
     "name": "stderr",
     "output_type": "stream",
     "text": [
      "\r",
      " 77%|███████▋  | 7666/10000 [31:16<07:16,  5.35it/s]"
     ]
    },
    {
     "name": "stdout",
     "output_type": "stream",
     "text": [
      "New Epi: 32 R: 1.0\n",
      "Added new Api. Current Size:  7666\n",
      "New Epi: 32 R: 0.0\n"
     ]
    },
    {
     "name": "stderr",
     "output_type": "stream",
     "text": [
      "\r",
      " 77%|███████▋  | 7700/10000 [31:27<08:32,  4.49it/s]"
     ]
    },
    {
     "name": "stdout",
     "output_type": "stream",
     "text": [
      "New Epi: 34 R: 1.0\n",
      "Added new Api. Current Size:  7700\n"
     ]
    },
    {
     "name": "stderr",
     "output_type": "stream",
     "text": [
      "\r",
      " 77%|███████▋  | 7732/10000 [31:32<07:40,  4.93it/s]"
     ]
    },
    {
     "name": "stdout",
     "output_type": "stream",
     "text": [
      "New Epi: 32 R: 1.0\n",
      "Added new Api. Current Size:  7732\n",
      "New Epi: 99 R: 0.0\n",
      "New Epi: 32 R: 0.0\n",
      "New Epi: 55 R: 0.0\n"
     ]
    },
    {
     "name": "stderr",
     "output_type": "stream",
     "text": [
      "\r",
      " 78%|███████▊  | 7766/10000 [31:56<13:23,  2.78it/s]"
     ]
    },
    {
     "name": "stdout",
     "output_type": "stream",
     "text": [
      "New Epi: 34 R: 1.0\n",
      "Added new Api. Current Size:  7766\n",
      "New Epi: 31 R: 0.0\n"
     ]
    },
    {
     "name": "stderr",
     "output_type": "stream",
     "text": [
      "\r",
      " 78%|███████▊  | 7799/10000 [32:06<12:45,  2.87it/s]"
     ]
    },
    {
     "name": "stdout",
     "output_type": "stream",
     "text": [
      "New Epi: 33 R: 1.0\n",
      "Added new Api. Current Size:  7799\n",
      "New Epi: 143 R: 0.0\n",
      "New Epi: 34 R: 0.0\n"
     ]
    },
    {
     "name": "stderr",
     "output_type": "stream",
     "text": [
      "\r",
      " 78%|███████▊  | 7831/10000 [32:27<15:46,  2.29it/s]"
     ]
    },
    {
     "name": "stdout",
     "output_type": "stream",
     "text": [
      "New Epi: 32 R: 1.0\n",
      "Added new Api. Current Size:  7831\n",
      "New Epi: 35 R: 0.0\n"
     ]
    },
    {
     "name": "stderr",
     "output_type": "stream",
     "text": [
      "\r",
      " 79%|███████▊  | 7863/10000 [32:38<14:28,  2.46it/s]"
     ]
    },
    {
     "name": "stdout",
     "output_type": "stream",
     "text": [
      "New Epi: 32 R: 1.0\n",
      "Added new Api. Current Size:  7863\n",
      "New Epi: 55 R: 0.0\n",
      "New Epi: 29 R: 0.0\n",
      "New Epi: 36 R: 0.0\n"
     ]
    },
    {
     "name": "stderr",
     "output_type": "stream",
     "text": [
      "\r",
      " 79%|███████▉  | 7895/10000 [33:01<17:35,  1.99it/s]"
     ]
    },
    {
     "name": "stdout",
     "output_type": "stream",
     "text": [
      "New Epi: 32 R: 1.0\n",
      "Added new Api. Current Size:  7895\n",
      "New Epi: 33 R: 0.0\n",
      "New Epi: 28 R: 0.0\n"
     ]
    },
    {
     "name": "stderr",
     "output_type": "stream",
     "text": [
      "\r",
      " 79%|███████▉  | 7927/10000 [33:18<17:44,  1.95it/s]"
     ]
    },
    {
     "name": "stdout",
     "output_type": "stream",
     "text": [
      "New Epi: 32 R: 1.0\n",
      "Added new Api. Current Size:  7927\n"
     ]
    },
    {
     "name": "stderr",
     "output_type": "stream",
     "text": [
      "\r",
      " 80%|███████▉  | 7960/10000 [33:24<13:50,  2.46it/s]"
     ]
    },
    {
     "name": "stdout",
     "output_type": "stream",
     "text": [
      "New Epi: 33 R: 1.0\n",
      "Added new Api. Current Size:  7960\n"
     ]
    },
    {
     "name": "stderr",
     "output_type": "stream",
     "text": [
      "\r",
      " 80%|███████▉  | 7992/10000 [33:29<11:15,  2.97it/s]"
     ]
    },
    {
     "name": "stdout",
     "output_type": "stream",
     "text": [
      "New Epi: 32 R: 1.0\n",
      "Added new Api. Current Size:  7992\n"
     ]
    },
    {
     "name": "stderr",
     "output_type": "stream",
     "text": [
      "\r",
      " 80%|████████  | 8027/10000 [33:35<09:12,  3.57it/s]"
     ]
    },
    {
     "name": "stdout",
     "output_type": "stream",
     "text": [
      "New Epi: 35 R: 1.0\n",
      "Added new Api. Current Size:  8027\n",
      "New Epi: 58 R: 0.0\n",
      "New Epi: 55 R: 0.0\n"
     ]
    },
    {
     "name": "stderr",
     "output_type": "stream",
     "text": [
      "\r",
      " 81%|████████  | 8062/10000 [33:54<11:44,  2.75it/s]"
     ]
    },
    {
     "name": "stdout",
     "output_type": "stream",
     "text": [
      "New Epi: 35 R: 1.0\n",
      "Added new Api. Current Size:  8062\n"
     ]
    },
    {
     "name": "stderr",
     "output_type": "stream",
     "text": [
      "\r",
      " 81%|████████  | 8098/10000 [33:59<09:22,  3.38it/s]"
     ]
    },
    {
     "name": "stdout",
     "output_type": "stream",
     "text": [
      "New Epi: 36 R: 1.0\n",
      "Added new Api. Current Size:  8098\n"
     ]
    },
    {
     "name": "stderr",
     "output_type": "stream",
     "text": [
      "\r",
      " 81%|████████▏ | 8132/10000 [34:05<07:57,  3.91it/s]"
     ]
    },
    {
     "name": "stdout",
     "output_type": "stream",
     "text": [
      "New Epi: 34 R: 1.0\n",
      "Added new Api. Current Size:  8132\n"
     ]
    },
    {
     "name": "stderr",
     "output_type": "stream",
     "text": [
      "\r",
      " 82%|████████▏ | 8167/10000 [34:10<06:53,  4.44it/s]"
     ]
    },
    {
     "name": "stdout",
     "output_type": "stream",
     "text": [
      "New Epi: 35 R: 1.0\n",
      "Added new Api. Current Size:  8167\n"
     ]
    },
    {
     "name": "stderr",
     "output_type": "stream",
     "text": [
      "\r",
      " 82%|████████▏ | 8201/10000 [34:16<06:10,  4.86it/s]"
     ]
    },
    {
     "name": "stdout",
     "output_type": "stream",
     "text": [
      "New Epi: 34 R: 1.0\n",
      "Added new Api. Current Size:  8201\n"
     ]
    },
    {
     "name": "stderr",
     "output_type": "stream",
     "text": [
      "\r",
      " 82%|████████▏ | 8233/10000 [34:21<05:44,  5.13it/s]"
     ]
    },
    {
     "name": "stdout",
     "output_type": "stream",
     "text": [
      "New Epi: 32 R: 1.0\n",
      "Added new Api. Current Size:  8233\n",
      "New Epi: 61 R: 0.0\n"
     ]
    },
    {
     "name": "stderr",
     "output_type": "stream",
     "text": [
      "\r",
      " 83%|████████▎ | 8264/10000 [34:34<07:21,  3.93it/s]"
     ]
    },
    {
     "name": "stdout",
     "output_type": "stream",
     "text": [
      "New Epi: 31 R: 1.0\n",
      "Added new Api. Current Size:  8264\n"
     ]
    },
    {
     "name": "stderr",
     "output_type": "stream",
     "text": [
      "\r",
      " 83%|████████▎ | 8299/10000 [34:39<06:21,  4.46it/s]"
     ]
    },
    {
     "name": "stdout",
     "output_type": "stream",
     "text": [
      "New Epi: 35 R: 1.0\n",
      "Added new Api. Current Size:  8299\n",
      "New Epi: 34 R: 0.0\n"
     ]
    },
    {
     "name": "stderr",
     "output_type": "stream",
     "text": [
      "\r",
      " 83%|████████▎ | 8332/10000 [34:51<07:14,  3.84it/s]"
     ]
    },
    {
     "name": "stdout",
     "output_type": "stream",
     "text": [
      "New Epi: 33 R: 1.0\n",
      "Added new Api. Current Size:  8332\n"
     ]
    },
    {
     "name": "stderr",
     "output_type": "stream",
     "text": [
      "\r",
      " 84%|████████▎ | 8364/10000 [34:56<06:21,  4.29it/s]"
     ]
    },
    {
     "name": "stdout",
     "output_type": "stream",
     "text": [
      "New Epi: 32 R: 1.0\n",
      "Added new Api. Current Size:  8364\n"
     ]
    },
    {
     "name": "stderr",
     "output_type": "stream",
     "text": [
      "\r",
      " 84%|████████▍ | 8398/10000 [35:01<05:37,  4.75it/s]"
     ]
    },
    {
     "name": "stdout",
     "output_type": "stream",
     "text": [
      "New Epi: 34 R: 1.0\n",
      "Added new Api. Current Size:  8398\n"
     ]
    },
    {
     "name": "stderr",
     "output_type": "stream",
     "text": [
      "\r",
      " 84%|████████▍ | 8433/10000 [35:07<05:03,  5.16it/s]"
     ]
    },
    {
     "name": "stdout",
     "output_type": "stream",
     "text": [
      "New Epi: 35 R: 1.0\n",
      "Added new Api. Current Size:  8433\n",
      "New Epi: 35 R: 0.0\n",
      "New Epi: 57 R: 0.0\n"
     ]
    },
    {
     "name": "stderr",
     "output_type": "stream",
     "text": [
      "\r",
      " 85%|████████▍ | 8466/10000 [35:25<07:33,  3.38it/s]"
     ]
    },
    {
     "name": "stdout",
     "output_type": "stream",
     "text": [
      "New Epi: 33 R: 1.0\n",
      "Added new Api. Current Size:  8466\n"
     ]
    },
    {
     "name": "stderr",
     "output_type": "stream",
     "text": [
      "\r",
      " 85%|████████▍ | 8499/10000 [35:30<06:24,  3.90it/s]"
     ]
    },
    {
     "name": "stdout",
     "output_type": "stream",
     "text": [
      "New Epi: 33 R: 1.0\n",
      "Added new Api. Current Size:  8499\n"
     ]
    },
    {
     "name": "stderr",
     "output_type": "stream",
     "text": [
      "\r",
      " 86%|████████▌ | 8580/10000 [35:38<04:07,  5.74it/s]"
     ]
    },
    {
     "name": "stdout",
     "output_type": "stream",
     "text": [
      "New Epi: 81 R: 1.0\n",
      "Added new Api. Current Size:  8580\n"
     ]
    },
    {
     "name": "stderr",
     "output_type": "stream",
     "text": [
      "\r",
      " 86%|████████▌ | 8612/10000 [35:43<03:59,  5.81it/s]"
     ]
    },
    {
     "name": "stdout",
     "output_type": "stream",
     "text": [
      "New Epi: 32 R: 1.0\n",
      "Added new Api. Current Size:  8612\n"
     ]
    },
    {
     "name": "stderr",
     "output_type": "stream",
     "text": [
      "\r",
      " 86%|████████▋ | 8645/10000 [35:48<03:50,  5.89it/s]"
     ]
    },
    {
     "name": "stdout",
     "output_type": "stream",
     "text": [
      "New Epi: 33 R: 1.0\n",
      "Added new Api. Current Size:  8645\n"
     ]
    },
    {
     "name": "stderr",
     "output_type": "stream",
     "text": [
      "\r",
      " 87%|████████▋ | 8678/10000 [35:54<03:41,  5.96it/s]"
     ]
    },
    {
     "name": "stdout",
     "output_type": "stream",
     "text": [
      "New Epi: 33 R: 1.0\n",
      "Added new Api. Current Size:  8678\n"
     ]
    },
    {
     "name": "stderr",
     "output_type": "stream",
     "text": [
      "\r",
      " 87%|████████▋ | 8712/10000 [35:59<03:32,  6.06it/s]"
     ]
    },
    {
     "name": "stdout",
     "output_type": "stream",
     "text": [
      "New Epi: 34 R: 1.0\n",
      "Added new Api. Current Size:  8712\n",
      "New Epi: 32 R: 0.0\n",
      "New Epi: 32 R: 0.0\n",
      "New Epi: 34 R: 0.0\n"
     ]
    },
    {
     "name": "stderr",
     "output_type": "stream",
     "text": [
      "\r",
      " 87%|████████▋ | 8747/10000 [36:22<06:29,  3.22it/s]"
     ]
    },
    {
     "name": "stdout",
     "output_type": "stream",
     "text": [
      "New Epi: 35 R: 1.0\n",
      "Added new Api. Current Size:  8747\n",
      "New Epi: 52 R: 0.0\n"
     ]
    },
    {
     "name": "stderr",
     "output_type": "stream",
     "text": [
      "\r",
      " 88%|████████▊ | 8781/10000 [36:34<06:26,  3.15it/s]"
     ]
    },
    {
     "name": "stdout",
     "output_type": "stream",
     "text": [
      "New Epi: 34 R: 1.0\n",
      "Added new Api. Current Size:  8781\n",
      "New Epi: 36 R: 0.0\n"
     ]
    },
    {
     "name": "stderr",
     "output_type": "stream",
     "text": [
      "\r",
      " 88%|████████▊ | 8812/10000 [36:45<06:29,  3.05it/s]"
     ]
    },
    {
     "name": "stdout",
     "output_type": "stream",
     "text": [
      "New Epi: 31 R: 1.0\n",
      "Added new Api. Current Size:  8812\n"
     ]
    },
    {
     "name": "stderr",
     "output_type": "stream",
     "text": [
      "\r",
      " 88%|████████▊ | 8844/10000 [36:50<05:25,  3.55it/s]"
     ]
    },
    {
     "name": "stdout",
     "output_type": "stream",
     "text": [
      "New Epi: 32 R: 1.0\n",
      "Added new Api. Current Size:  8844\n"
     ]
    },
    {
     "name": "stderr",
     "output_type": "stream",
     "text": [
      "\r",
      " 89%|████████▉ | 8877/10000 [36:55<04:35,  4.07it/s]"
     ]
    },
    {
     "name": "stdout",
     "output_type": "stream",
     "text": [
      "New Epi: 33 R: 1.0\n",
      "Added new Api. Current Size:  8877\n",
      "New Epi: 50 R: 0.0\n"
     ]
    },
    {
     "name": "stderr",
     "output_type": "stream",
     "text": [
      "\r",
      " 89%|████████▉ | 8911/10000 [37:08<05:04,  3.58it/s]"
     ]
    },
    {
     "name": "stdout",
     "output_type": "stream",
     "text": [
      "New Epi: 34 R: 1.0\n",
      "Added new Api. Current Size:  8911\n"
     ]
    },
    {
     "name": "stderr",
     "output_type": "stream",
     "text": [
      "\r",
      " 89%|████████▉ | 8943/10000 [37:13<04:19,  4.07it/s]"
     ]
    },
    {
     "name": "stdout",
     "output_type": "stream",
     "text": [
      "New Epi: 32 R: 1.0\n",
      "Added new Api. Current Size:  8943\n",
      "New Epi: 34 R: 0.0\n"
     ]
    },
    {
     "name": "stderr",
     "output_type": "stream",
     "text": [
      "\r",
      " 90%|████████▉ | 8976/10000 [37:24<04:42,  3.63it/s]"
     ]
    },
    {
     "name": "stdout",
     "output_type": "stream",
     "text": [
      "New Epi: 33 R: 1.0\n",
      "Added new Api. Current Size:  8976\n",
      "New Epi: 65 R: 0.0\n",
      "New Epi: 35 R: 0.0\n"
     ]
    },
    {
     "name": "stderr",
     "output_type": "stream",
     "text": [
      "\r",
      " 90%|█████████ | 9008/10000 [37:42<05:55,  2.79it/s]"
     ]
    },
    {
     "name": "stdout",
     "output_type": "stream",
     "text": [
      "New Epi: 32 R: 1.0\n",
      "Added new Api. Current Size:  9008\n",
      "New Epi: 27 R: 0.0\n"
     ]
    },
    {
     "name": "stderr",
     "output_type": "stream",
     "text": [
      "\r",
      " 90%|█████████ | 9040/10000 [37:52<05:31,  2.90it/s]"
     ]
    },
    {
     "name": "stdout",
     "output_type": "stream",
     "text": [
      "New Epi: 32 R: 1.0\n",
      "Added new Api. Current Size:  9040\n"
     ]
    },
    {
     "name": "stderr",
     "output_type": "stream",
     "text": [
      "\r",
      " 91%|█████████ | 9072/10000 [37:57<04:30,  3.43it/s]"
     ]
    },
    {
     "name": "stdout",
     "output_type": "stream",
     "text": [
      "New Epi: 32 R: 1.0\n",
      "Added new Api. Current Size:  9072\n",
      "New Epi: 34 R: 0.0\n"
     ]
    },
    {
     "name": "stderr",
     "output_type": "stream",
     "text": [
      "\r",
      " 91%|█████████ | 9105/10000 [38:09<04:34,  3.26it/s]"
     ]
    },
    {
     "name": "stdout",
     "output_type": "stream",
     "text": [
      "New Epi: 33 R: 1.0\n",
      "Added new Api. Current Size:  9105\n"
     ]
    },
    {
     "name": "stderr",
     "output_type": "stream",
     "text": [
      "\r",
      " 92%|█████████▏| 9200/10000 [38:17<02:27,  5.41it/s]"
     ]
    },
    {
     "name": "stdout",
     "output_type": "stream",
     "text": [
      "New Epi: 95 R: 1.0\n",
      "Added new Api. Current Size:  9200\n",
      "New Epi: 32 R: 0.0\n",
      "New Epi: 55 R: 0.0\n",
      "New Epi: 142 R: 0.0\n"
     ]
    },
    {
     "name": "stderr",
     "output_type": "stream",
     "text": [
      "\r",
      " 92%|█████████▏| 9232/10000 [38:45<04:13,  3.03it/s]"
     ]
    },
    {
     "name": "stdout",
     "output_type": "stream",
     "text": [
      "New Epi: 32 R: 1.0\n",
      "Added new Api. Current Size:  9232\n",
      "New Epi: 58 R: 0.0\n"
     ]
    },
    {
     "name": "stderr",
     "output_type": "stream",
     "text": [
      "\r",
      " 93%|█████████▎| 9263/10000 [38:56<04:08,  2.97it/s]"
     ]
    },
    {
     "name": "stdout",
     "output_type": "stream",
     "text": [
      "New Epi: 31 R: 1.0\n",
      "Added new Api. Current Size:  9263\n"
     ]
    },
    {
     "name": "stderr",
     "output_type": "stream",
     "text": [
      "\r",
      " 93%|█████████▎| 9339/10000 [39:03<02:33,  4.32it/s]"
     ]
    },
    {
     "name": "stdout",
     "output_type": "stream",
     "text": [
      "New Epi: 76 R: 1.0\n",
      "Added new Api. Current Size:  9339\n",
      "New Epi: 55 R: 0.0\n",
      "New Epi: 33 R: 0.0\n"
     ]
    },
    {
     "name": "stderr",
     "output_type": "stream",
     "text": [
      "\r",
      " 94%|█████████▎| 9372/10000 [39:21<03:05,  3.39it/s]"
     ]
    },
    {
     "name": "stdout",
     "output_type": "stream",
     "text": [
      "New Epi: 33 R: 1.0\n",
      "Added new Api. Current Size:  9372\n",
      "New Epi: 61 R: 0.0\n"
     ]
    },
    {
     "name": "stderr",
     "output_type": "stream",
     "text": [
      "\r",
      " 94%|█████████▍| 9404/10000 [39:33<03:05,  3.21it/s]"
     ]
    },
    {
     "name": "stdout",
     "output_type": "stream",
     "text": [
      "New Epi: 32 R: 1.0\n",
      "Added new Api. Current Size:  9404\n"
     ]
    },
    {
     "name": "stderr",
     "output_type": "stream",
     "text": [
      "\r",
      " 94%|█████████▍| 9436/10000 [39:38<02:35,  3.63it/s]"
     ]
    },
    {
     "name": "stdout",
     "output_type": "stream",
     "text": [
      "New Epi: 32 R: 1.0\n",
      "Added new Api. Current Size:  9436\n",
      "New Epi: 56 R: 0.0\n",
      "New Epi: 32 R: 0.0\n",
      "New Epi: 31 R: 0.0\n",
      "New Epi: 35 R: 0.0\n"
     ]
    },
    {
     "name": "stderr",
     "output_type": "stream",
     "text": [
      "\r",
      " 95%|█████████▍| 9470/10000 [40:07<03:51,  2.29it/s]"
     ]
    },
    {
     "name": "stdout",
     "output_type": "stream",
     "text": [
      "New Epi: 34 R: 1.0\n",
      "Added new Api. Current Size:  9470\n",
      "New Epi: 83 R: 0.0\n"
     ]
    },
    {
     "name": "stderr",
     "output_type": "stream",
     "text": [
      "\r",
      " 95%|█████████▌| 9504/10000 [40:20<03:28,  2.38it/s]"
     ]
    },
    {
     "name": "stdout",
     "output_type": "stream",
     "text": [
      "New Epi: 34 R: 1.0\n",
      "Added new Api. Current Size:  9504\n",
      "New Epi: 34 R: 0.0\n",
      "New Epi: 45 R: 0.0\n"
     ]
    },
    {
     "name": "stderr",
     "output_type": "stream",
     "text": [
      "\r",
      " 95%|█████████▌| 9536/10000 [40:38<03:32,  2.18it/s]"
     ]
    },
    {
     "name": "stdout",
     "output_type": "stream",
     "text": [
      "New Epi: 32 R: 1.0\n",
      "Added new Api. Current Size:  9536\n",
      "New Epi: 32 R: 0.0\n"
     ]
    },
    {
     "name": "stderr",
     "output_type": "stream",
     "text": [
      "\r",
      " 96%|█████████▌| 9571/10000 [40:50<02:59,  2.39it/s]"
     ]
    },
    {
     "name": "stdout",
     "output_type": "stream",
     "text": [
      "New Epi: 35 R: 1.0\n",
      "Added new Api. Current Size:  9571\n",
      "New Epi: 56 R: 0.0\n"
     ]
    },
    {
     "name": "stderr",
     "output_type": "stream",
     "text": [
      "\r",
      " 96%|█████████▌| 9605/10000 [41:01<02:36,  2.53it/s]"
     ]
    },
    {
     "name": "stdout",
     "output_type": "stream",
     "text": [
      "New Epi: 34 R: 1.0\n",
      "Added new Api. Current Size:  9605\n",
      "New Epi: 56 R: 0.0\n",
      "New Epi: 57 R: 0.0\n"
     ]
    },
    {
     "name": "stderr",
     "output_type": "stream",
     "text": [
      "\r",
      " 96%|█████████▋| 9638/10000 [41:19<02:38,  2.28it/s]"
     ]
    },
    {
     "name": "stdout",
     "output_type": "stream",
     "text": [
      "New Epi: 33 R: 1.0\n",
      "Added new Api. Current Size:  9638\n"
     ]
    },
    {
     "name": "stderr",
     "output_type": "stream",
     "text": [
      "\r",
      " 97%|█████████▋| 9673/10000 [41:25<01:55,  2.84it/s]"
     ]
    },
    {
     "name": "stdout",
     "output_type": "stream",
     "text": [
      "New Epi: 35 R: 1.0\n",
      "Added new Api. Current Size:  9673\n",
      "New Epi: 48 R: 0.0\n",
      "New Epi: 33 R: 0.0\n",
      "New Epi: 35 R: 0.0\n"
     ]
    },
    {
     "name": "stderr",
     "output_type": "stream",
     "text": [
      "\r",
      " 97%|█████████▋| 9708/10000 [41:48<02:11,  2.23it/s]"
     ]
    },
    {
     "name": "stdout",
     "output_type": "stream",
     "text": [
      "New Epi: 35 R: 1.0\n",
      "Added new Api. Current Size:  9708\n"
     ]
    },
    {
     "name": "stderr",
     "output_type": "stream",
     "text": [
      "\r",
      " 97%|█████████▋| 9742/10000 [41:53<01:33,  2.75it/s]"
     ]
    },
    {
     "name": "stdout",
     "output_type": "stream",
     "text": [
      "New Epi: 34 R: 1.0\n",
      "Added new Api. Current Size:  9742\n",
      "New Epi: 85 R: 0.0\n"
     ]
    },
    {
     "name": "stderr",
     "output_type": "stream",
     "text": [
      "\r",
      " 98%|█████████▊| 9776/10000 [42:08<01:26,  2.60it/s]"
     ]
    },
    {
     "name": "stdout",
     "output_type": "stream",
     "text": [
      "New Epi: 34 R: 1.0\n",
      "Added new Api. Current Size:  9776\n"
     ]
    },
    {
     "name": "stderr",
     "output_type": "stream",
     "text": [
      "\r",
      " 98%|█████████▊| 9808/10000 [42:14<01:02,  3.05it/s]"
     ]
    },
    {
     "name": "stdout",
     "output_type": "stream",
     "text": [
      "New Epi: 32 R: 1.0\n",
      "Added new Api. Current Size:  9808\n"
     ]
    },
    {
     "name": "stderr",
     "output_type": "stream",
     "text": [
      "\r",
      " 98%|█████████▊| 9841/10000 [42:20<00:45,  3.53it/s]"
     ]
    },
    {
     "name": "stdout",
     "output_type": "stream",
     "text": [
      "New Epi: 33 R: 1.0\n",
      "Added new Api. Current Size:  9841\n"
     ]
    },
    {
     "name": "stderr",
     "output_type": "stream",
     "text": [
      "\r",
      " 99%|█████████▊| 9874/10000 [42:26<00:31,  4.01it/s]"
     ]
    },
    {
     "name": "stdout",
     "output_type": "stream",
     "text": [
      "New Epi: 33 R: 1.0\n",
      "Added new Api. Current Size:  9874\n",
      "New Epi: 59 R: 0.0\n",
      "New Epi: 55 R: 0.0\n"
     ]
    },
    {
     "name": "stderr",
     "output_type": "stream",
     "text": [
      "\r",
      " 99%|█████████▉| 9906/10000 [42:46<00:34,  2.74it/s]"
     ]
    },
    {
     "name": "stdout",
     "output_type": "stream",
     "text": [
      "New Epi: 32 R: 1.0\n",
      "Added new Api. Current Size:  9906\n"
     ]
    },
    {
     "name": "stderr",
     "output_type": "stream",
     "text": [
      "\r",
      " 99%|█████████▉| 9939/10000 [42:52<00:18,  3.25it/s]"
     ]
    },
    {
     "name": "stdout",
     "output_type": "stream",
     "text": [
      "New Epi: 33 R: 1.0\n",
      "Added new Api. Current Size:  9939\n",
      "New Epi: 33 R: 0.0\n",
      "New Epi: 57 R: 0.0\n",
      "New Epi: 36 R: 0.0\n"
     ]
    },
    {
     "name": "stderr",
     "output_type": "stream",
     "text": [
      "\r",
      "100%|█████████▉| 9974/10000 [43:18<00:11,  2.27it/s]"
     ]
    },
    {
     "name": "stdout",
     "output_type": "stream",
     "text": [
      "New Epi: 35 R: 1.0\n",
      "Added new Api. Current Size:  9974\n",
      "New Epi: 32 R: 0.0\n",
      "New Epi: 44 R: 0.0\n"
     ]
    },
    {
     "name": "stderr",
     "output_type": "stream",
     "text": [
      "\r",
      "19974it [43:36, 191.12it/s]                         "
     ]
    },
    {
     "name": "stdout",
     "output_type": "stream",
     "text": [
      "New Epi: 33 R: 1.0\n",
      "Added new Api. Current Size:  10007\n"
     ]
    },
    {
     "name": "stderr",
     "output_type": "stream",
     "text": [
      "19974it [43:38,  7.63it/s] \n"
     ]
    },
    {
     "name": "stdout",
     "output_type": "stream",
     "text": [
      "Collection Done\n",
      "Expert observation shape:  (10007, 72, 96, 16)\n",
      "Expert actions shape:  (10007, 19)\n",
      "Num Episode:  297\n",
      "Mean Reward:  1.0\n"
     ]
    }
   ],
   "source": [
    "from gfrl.base.run_my_ppo2 import create_single_scenic_environment\n",
    "\n",
    "scenario = \"../_scenarios/academy/wb/pass_n_shoot_wb.scenic\"\n",
    "\n",
    "num_interactions=10000\n",
    "expert_file_name = f\"../_data/pns_success_{num_interactions}.npz\"\n",
    "\n",
    "obs, act, rew = generate_expert_successful_data(scenario_file=scenario, num_interactions=num_interactions, file_name=expert_file_name)\n",
    "\n"
   ]
  },
  {
   "cell_type": "code",
   "execution_count": 52,
   "id": "6a460b55",
   "metadata": {},
   "outputs": [
    {
     "name": "stdout",
     "output_type": "stream",
     "text": [
      "297 1.0 10007 (10007, 19)\n"
     ]
    }
   ],
   "source": [
    "from gfrl.common.mybase.cloning.dataset import GFDset\n",
    "expert_file_name = f\"../_data/pns_success_{num_interactions}.npz\"\n",
    "dataset = GFDset(expert_file_name)\n",
    "print(dataset.num_epi, dataset.mean_reward, dataset.size, dataset.acts.shape)"
   ]
  },
  {
   "cell_type": "code",
   "execution_count": 4,
   "id": "63996680",
   "metadata": {},
   "outputs": [
    {
     "name": "stdout",
     "output_type": "stream",
     "text": [
      "Environment will ignore actions passed to step() and take action provided by Scenic\n"
     ]
    },
    {
     "name": "stderr",
     "output_type": "stream",
     "text": [
      "100%|██████████| 1000/1000 [00:08<00:00, 111.66it/s]\n"
     ]
    },
    {
     "name": "stdout",
     "output_type": "stream",
     "text": [
      "Expert observation shape:  (1000, 72, 96, 16)\n",
      "Expert actions shape:  (1000, 19)\n",
      "Num Episode:  27\n",
      "Mean Reward:  0.5925925925925926\n"
     ]
    }
   ],
   "source": [
    "from gfrl.base.run_my_ppo2 import create_single_scenic_environment\n",
    "\n",
    "scenario = \"../_scenarios/academy/wb/pass_n_shoot_wb.scenic\"\n",
    "\n",
    "num_interactions=1000\n",
    "expert_file_name = f\"../_data/pns_{num_interactions}.npz\"\n",
    "\n",
    "obs, act, rew = generate_expert_data_with_rewards(scenario_file=scenario, num_interactions=num_interactions, file_name=expert_file_name)"
   ]
  },
  {
   "cell_type": "code",
   "execution_count": 5,
   "id": "d36815ab",
   "metadata": {},
   "outputs": [],
   "source": [
    "import numpy as np\n",
    "td = np.load(expert_file_name)"
   ]
  },
  {
   "cell_type": "code",
   "execution_count": 6,
   "id": "7810278a",
   "metadata": {},
   "outputs": [
    {
     "data": {
      "text/plain": [
       "['acs', 'obs', 'num_epi', 'mean_reward', 'rewards']"
      ]
     },
     "execution_count": 6,
     "metadata": {},
     "output_type": "execute_result"
    }
   ],
   "source": [
    "list(td.keys())"
   ]
  },
  {
   "cell_type": "code",
   "execution_count": 8,
   "id": "6f40d8c5",
   "metadata": {},
   "outputs": [
    {
     "name": "stderr",
     "output_type": "stream",
     "text": [
      "\r",
      "  0%|          | 0/5000 [00:00<?, ?it/s]"
     ]
    },
    {
     "name": "stdout",
     "output_type": "stream",
     "text": [
      "Environment will ignore actions passed to step() and take action provided by Scenic\n"
     ]
    },
    {
     "name": "stderr",
     "output_type": "stream",
     "text": [
      "100%|██████████| 5000/5000 [00:59<00:00, 83.51it/s] \n"
     ]
    },
    {
     "name": "stdout",
     "output_type": "stream",
     "text": [
      "Expert observation shape:  (5000, 72, 96, 16)\n",
      "Expert actions shape:  (5000, 19)\n",
      "Num Episode:  133\n",
      "Mean Reward:  0.6240601503759399\n",
      "133 0.6240601503759399 5000 (5000, 19)\n"
     ]
    }
   ],
   "source": [
    "scenario = \"../_scenarios/academy/wb/pass_n_shoot_wb.scenic\"\n",
    "\n",
    "num_interactions=5000\n",
    "expert_file_name = f\"../_data/pns_{num_interactions}.npz\"\n",
    "\n",
    "obs, act, rew = generate_expert_data_with_rewards(scenario_file=scenario, num_interactions=num_interactions, file_name=expert_file_name)\n",
    "\n",
    "from gfrl.common.mybase.cloning.dataset import GFDset\n",
    "dataset = GFDset(expert_file_name)\n",
    "print(dataset.num_epi, dataset.mean_reward, dataset.size, dataset.acts.shape)\n"
   ]
  },
  {
   "cell_type": "code",
   "execution_count": 9,
   "id": "732f422e",
   "metadata": {},
   "outputs": [
    {
     "name": "stderr",
     "output_type": "stream",
     "text": [
      "\r",
      "  0%|          | 0/10000 [00:00<?, ?it/s]"
     ]
    },
    {
     "name": "stdout",
     "output_type": "stream",
     "text": [
      "Environment will ignore actions passed to step() and take action provided by Scenic\n"
     ]
    },
    {
     "name": "stderr",
     "output_type": "stream",
     "text": [
      "100%|██████████| 10000/10000 [03:15<00:00, 51.10it/s]\n"
     ]
    },
    {
     "name": "stdout",
     "output_type": "stream",
     "text": [
      "Expert observation shape:  (10000, 72, 96, 16)\n",
      "Expert actions shape:  (10000, 19)\n",
      "Num Episode:  261\n",
      "Mean Reward:  0.5862068965517241\n"
     ]
    }
   ],
   "source": [
    "from gfrl.base.run_my_ppo2 import create_single_scenic_environment\n",
    "\n",
    "scenario = \"../_scenarios/academy/wb/pass_n_shoot_wb.scenic\"\n",
    "\n",
    "num_interactions=10000\n",
    "expert_file_name = f\"../_data/pns_{num_interactions}.npz\"\n",
    "\n",
    "obs, act, rew = generate_expert_data_with_rewards(scenario_file=scenario, num_interactions=num_interactions, file_name=expert_file_name)"
   ]
  },
  {
   "cell_type": "code",
   "execution_count": 10,
   "id": "dd8c87c0",
   "metadata": {},
   "outputs": [
    {
     "name": "stdout",
     "output_type": "stream",
     "text": [
      "261 0.5862068965517241 10000 (10000, 19)\n"
     ]
    }
   ],
   "source": [
    "from gfrl.common.mybase.cloning.dataset import GFDset\n",
    "dataset = GFDset(expert_file_name)\n",
    "print(dataset.num_epi, dataset.mean_reward, dataset.size, dataset.acts.shape)"
   ]
  },
  {
   "cell_type": "code",
   "execution_count": 11,
   "id": "b27c1107",
   "metadata": {},
   "outputs": [
    {
     "data": {
      "text/plain": [
       "'\\nscenario = \"../_scenarios/academy/wb/pass_n_shoot_wb.scenic\"\\n\\nnum_interactions=20000\\nexpert_file_name = f\"../_data/pns_{num_interactions}.npz\"\\n\\nobs, act, rew = generate_expert_data_with_rewards(scenario_file=scenario, num_interactions=num_interactions, file_name=expert_file_name)\\nfrom gfrl.common.mybase.cloning.dataset import GFDset\\ndataset = GFDset(expert_file_name)\\nprint(dataset.num_epi, dataset.mean_reward, dataset.size, dataset.acts.shape)\\n'"
      ]
     },
     "execution_count": 11,
     "metadata": {},
     "output_type": "execute_result"
    }
   ],
   "source": [
    "\"\"\"\n",
    "scenario = \"../_scenarios/academy/wb/pass_n_shoot_wb.scenic\"\n",
    "\n",
    "num_interactions=20000\n",
    "expert_file_name = f\"../_data/pns_{num_interactions}.npz\"\n",
    "\n",
    "obs, act, rew = generate_expert_data_with_rewards(scenario_file=scenario, num_interactions=num_interactions, file_name=expert_file_name)\n",
    "from gfrl.common.mybase.cloning.dataset import GFDset\n",
    "dataset = GFDset(expert_file_name)\n",
    "print(dataset.num_epi, dataset.mean_reward, dataset.size, dataset.acts.shape)\n",
    "\"\"\""
   ]
  },
  {
   "cell_type": "code",
   "execution_count": null,
   "id": "290f0bf9",
   "metadata": {},
   "outputs": [],
   "source": []
  },
  {
   "cell_type": "code",
   "execution_count": 12,
   "id": "4b5351dd",
   "metadata": {},
   "outputs": [
    {
     "name": "stdout",
     "output_type": "stream",
     "text": [
      "Environment will ignore actions passed to step() and take action provided by Scenic\n"
     ]
    },
    {
     "name": "stderr",
     "output_type": "stream",
     "text": [
      "100%|██████████| 50000/50000 [41:24<00:00, 20.12it/s] \n"
     ]
    },
    {
     "name": "stdout",
     "output_type": "stream",
     "text": [
      "Expert observation shape:  (50000, 72, 96, 16)\n",
      "Expert actions shape:  (50000, 19)\n",
      "Num Episode:  1266\n",
      "Mean Reward:  0.5466034755134281\n",
      "1266 0.5466034755134281 50000 (50000, 19)\n"
     ]
    }
   ],
   "source": [
    "scenario = \"../_scenarios/academy/wb/pass_n_shoot_wb.scenic\"\n",
    "\n",
    "num_interactions=50000\n",
    "expert_file_name = f\"../_data/pns_{num_interactions}.npz\"\n",
    "\n",
    "obs, act, rew = generate_expert_data_with_rewards(scenario_file=scenario, num_interactions=num_interactions, file_name=expert_file_name)\n",
    "\n",
    "from gfrl.common.mybase.cloning.dataset import GFDset\n",
    "dataset = GFDset(expert_file_name)\n",
    "print(dataset.num_epi, dataset.mean_reward, dataset.size, dataset.acts.shape)"
   ]
  },
  {
   "cell_type": "code",
   "execution_count": null,
   "id": "a51b736e",
   "metadata": {},
   "outputs": [],
   "source": []
  }
 ],
 "metadata": {
  "kernelspec": {
   "display_name": "Python 3",
   "language": "python",
   "name": "python3"
  },
  "language_info": {
   "codemirror_mode": {
    "name": "ipython",
    "version": 3
   },
   "file_extension": ".py",
   "mimetype": "text/x-python",
   "name": "python",
   "nbconvert_exporter": "python",
   "pygments_lexer": "ipython3",
   "version": "3.7.10"
  }
 },
 "nbformat": 4,
 "nbformat_minor": 5
}
