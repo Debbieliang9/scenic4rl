{
 "cells": [
  {
   "cell_type": "code",
   "execution_count": 1,
   "id": "3650f1b4",
   "metadata": {
    "ExecuteTime": {
     "end_time": "2021-04-28T04:39:36.467626Z",
     "start_time": "2021-04-28T04:39:36.123815Z"
    }
   },
   "outputs": [
    {
     "name": "stderr",
     "output_type": "stream",
     "text": [
      "/Users/azadsalam/codebase/scenic/src/scenic/core/errors.py:160: UserWarning: unable to install sys.excepthook to format Scenic backtraces\n",
      "  warnings.warn('unable to install sys.excepthook to format Scenic backtraces')\n"
     ]
    },
    {
     "name": "stdout",
     "output_type": "stream",
     "text": [
      "Current Directory: /Users/azadsalam/codebase/scenic/training/gfrl/_scenarios\n",
      "pygame 2.0.1 (SDL 2.0.14, Python 3.9.1)\n",
      "Hello from the pygame community. https://www.pygame.org/contribute.html\n",
      "Environment will ignore actions passed to step() and take action provided by Scenic\n"
     ]
    }
   ],
   "source": [
    "from scenic.simulators.gfootball import rl_interface\n",
    "from scenic.simulators.gfootball.rl_interface import GFScenicEnv\n",
    "\n",
    "\n",
    "import os\n",
    "cwd = os.getcwd()\n",
    "#cwd = os.getcwd()\n",
    "print(\"Current Directory:\", cwd)\n",
    "#rewards = \"scoring\"\n",
    "#save_dir = f\"{cwd}/pretrain/saved_models_hp\"\n",
    "#logdir = f\"{cwd}/tboard/dev/pretrain\"\n",
    "#tracedir = f\"{cwd}/game_trace\"\n",
    "\n",
    "\n",
    "gf_env_settings = {\n",
    "        \"stacked\": True,\n",
    "        \"rewards\": \"scoring\",\n",
    "        \"representation\": 'extracted',\n",
    "        \"players\": [f\"agent:left_players=1\"],\n",
    "        \"real_time\": True,\n",
    "        \"action_set\": \"default\"\n",
    "    }\n",
    "target_scenario_name = f\"academy/3v1_wb.scenic\"\n",
    "from scenic.simulators.gfootball.utilities.scenic_helper import buildScenario\n",
    "scenario = buildScenario(target_scenario_name)\n",
    "env = GFScenicEnv(initial_scenario=scenario, gf_env_settings=gf_env_settings, allow_render=True, use_scenic_behavior_in_step=True, constraints_checking=True)\n",
    "\n",
    "\n"
   ]
  },
  {
   "cell_type": "code",
   "execution_count": null,
   "id": "7fec922c",
   "metadata": {},
   "outputs": [],
   "source": []
  },
  {
   "cell_type": "code",
   "execution_count": null,
   "id": "c74153fa",
   "metadata": {},
   "outputs": [],
   "source": []
  },
  {
   "cell_type": "code",
   "execution_count": 2,
   "id": "d597f3aa",
   "metadata": {
    "ExecuteTime": {
     "end_time": "2021-04-28T04:39:47.872767Z",
     "start_time": "2021-04-28T04:39:36.469950Z"
    }
   },
   "outputs": [],
   "source": [
    "done = False\n",
    "total_r = 0\n",
    "n_trajs = 1\n",
    "\n",
    "for _ in range(n_trajs):\n",
    "    done=False\n",
    "    obs = env.reset()\n",
    "    while not done:\n",
    "        action = env.action_space.sample()\n",
    "        obs, reward, done, info = env.step(action)\n",
    "        #env.render()\n",
    "        total_r+=reward\n",
    "        if done:\n",
    "            #num_epi +=1\n",
    "            pass\n",
    "        \n"
   ]
  },
  {
   "cell_type": "code",
   "execution_count": 4,
   "id": "4105c598",
   "metadata": {
    "ExecuteTime": {
     "end_time": "2021-04-28T04:40:20.662481Z",
     "start_time": "2021-04-28T04:40:20.659666Z"
    }
   },
   "outputs": [],
   "source": [
    "env.close()"
   ]
  },
  {
   "cell_type": "code",
   "execution_count": null,
   "id": "bdfc8889",
   "metadata": {},
   "outputs": [],
   "source": []
  }
 ],
 "metadata": {
  "kernelspec": {
   "display_name": "Python 3",
   "language": "python",
   "name": "python3"
  },
  "language_info": {
   "codemirror_mode": {
    "name": "ipython",
    "version": 3
   },
   "file_extension": ".py",
   "mimetype": "text/x-python",
   "name": "python",
   "nbconvert_exporter": "python",
   "pygments_lexer": "ipython3",
   "version": "3.9.1"
  },
  "varInspector": {
   "cols": {
    "lenName": 16,
    "lenType": 16,
    "lenVar": 40
   },
   "kernels_config": {
    "python": {
     "delete_cmd_postfix": "",
     "delete_cmd_prefix": "del ",
     "library": "var_list.py",
     "varRefreshCmd": "print(var_dic_list())"
    },
    "r": {
     "delete_cmd_postfix": ") ",
     "delete_cmd_prefix": "rm(",
     "library": "var_list.r",
     "varRefreshCmd": "cat(var_dic_list()) "
    }
   },
   "types_to_exclude": [
    "module",
    "function",
    "builtin_function_or_method",
    "instance",
    "_Feature"
   ],
   "window_display": false
  }
 },
 "nbformat": 4,
 "nbformat_minor": 5
}
