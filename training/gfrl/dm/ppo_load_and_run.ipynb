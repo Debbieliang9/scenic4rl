{
 "cells": [
  {
   "cell_type": "code",
   "execution_count": null,
   "id": "d2f4a255",
   "metadata": {},
   "outputs": [],
   "source": []
  },
  {
   "cell_type": "code",
   "execution_count": 1,
   "id": "eb64d56e",
   "metadata": {},
   "outputs": [],
   "source": [
    "#1. vec env"
   ]
  },
  {
   "cell_type": "code",
   "execution_count": 2,
   "id": "c2a4419f",
   "metadata": {},
   "outputs": [],
   "source": [
    "from gfrl.base.run_my_ppo2 import create_single_scenic_environment"
   ]
  },
  {
   "cell_type": "code",
   "execution_count": 3,
   "id": "9a762c67",
   "metadata": {},
   "outputs": [],
   "source": [
    "scenario = \"../_scenarios/academy/3v1.scenic\"\n",
    "#env_single = create_single_scenic_environment(0, scenario)"
   ]
  },
  {
   "cell_type": "code",
   "execution_count": 4,
   "id": "cccc188f",
   "metadata": {},
   "outputs": [
    {
     "name": "stderr",
     "output_type": "stream",
     "text": [
      "/home/ubuntu/.local/lib/python3.7/site-packages/scenic/core/errors.py:160: UserWarning: unable to install sys.excepthook to format Scenic backtraces\n",
      "  warnings.warn('unable to install sys.excepthook to format Scenic backtraces')\n",
      "/home/ubuntu/.local/lib/python3.7/site-packages/scenic/core/errors.py:160: UserWarning: unable to install sys.excepthook to format Scenic backtraces\n",
      "  warnings.warn('unable to install sys.excepthook to format Scenic backtraces')\n",
      "/home/ubuntu/.local/lib/python3.7/site-packages/scenic/core/errors.py:160: UserWarning: unable to install sys.excepthook to format Scenic backtraces\n",
      "  warnings.warn('unable to install sys.excepthook to format Scenic backtraces')\n",
      "/home/ubuntu/.local/lib/python3.7/site-packages/scenic/core/errors.py:160: UserWarning: unable to install sys.excepthook to format Scenic backtraces\n",
      "  warnings.warn('unable to install sys.excepthook to format Scenic backtraces')\n",
      "/home/ubuntu/.local/lib/python3.7/site-packages/scenic/core/errors.py:160: UserWarning: unable to install sys.excepthook to format Scenic backtraces\n",
      "  warnings.warn('unable to install sys.excepthook to format Scenic backtraces')\n",
      "/home/ubuntu/.local/lib/python3.7/site-packages/scenic/core/errors.py:160: UserWarning: unable to install sys.excepthook to format Scenic backtraces\n",
      "  warnings.warn('unable to install sys.excepthook to format Scenic backtraces')\n",
      "/home/ubuntu/.local/lib/python3.7/site-packages/scenic/core/errors.py:160: UserWarning: unable to install sys.excepthook to format Scenic backtraces\n",
      "  warnings.warn('unable to install sys.excepthook to format Scenic backtraces')\n",
      "/home/ubuntu/.local/lib/python3.7/site-packages/scenic/core/errors.py:160: UserWarning: unable to install sys.excepthook to format Scenic backtraces\n",
      "  warnings.warn('unable to install sys.excepthook to format Scenic backtraces')\n",
      "/home/ubuntu/.local/lib/python3.7/site-packages/scenic/core/errors.py:160: UserWarning: unable to install sys.excepthook to format Scenic backtraces\n",
      "  warnings.warn('unable to install sys.excepthook to format Scenic backtraces')\n"
     ]
    },
    {
     "name": "stdout",
     "output_type": "stream",
     "text": [
      "Scenic Environment:  Scenic Environment: ../_scenarios/academy/3v1.scenic \n",
      "../_scenarios/academy/3v1.scenicScenic Environment: \n"
     ]
    },
    {
     "name": "stderr",
     "output_type": "stream",
     "text": [
      "/home/ubuntu/.local/lib/python3.7/site-packages/scenic/core/errors.py:160: UserWarning: unable to install sys.excepthook to format Scenic backtraces\n",
      "  warnings.warn('unable to install sys.excepthook to format Scenic backtraces')\n"
     ]
    },
    {
     "name": "stdout",
     "output_type": "stream",
     "text": [
      " "
     ]
    },
    {
     "name": "stderr",
     "output_type": "stream",
     "text": [
      "/home/ubuntu/.local/lib/python3.7/site-packages/scenic/core/errors.py:160: UserWarning: unable to install sys.excepthook to format Scenic backtraces\n",
      "  warnings.warn('unable to install sys.excepthook to format Scenic backtraces')\n"
     ]
    },
    {
     "name": "stdout",
     "output_type": "stream",
     "text": [
      "../_scenarios/academy/3v1.scenic\n"
     ]
    },
    {
     "name": "stderr",
     "output_type": "stream",
     "text": [
      "/home/ubuntu/.local/lib/python3.7/site-packages/scenic/core/errors.py:160: UserWarning: unable to install sys.excepthook to format Scenic backtraces\n",
      "  warnings.warn('unable to install sys.excepthook to format Scenic backtraces')\n"
     ]
    },
    {
     "name": "stdout",
     "output_type": "stream",
     "text": [
      "Scenic Environment:  Scenic Environment:  "
     ]
    },
    {
     "name": "stderr",
     "output_type": "stream",
     "text": [
      "/home/ubuntu/.local/lib/python3.7/site-packages/scenic/core/errors.py:160: UserWarning: unable to install sys.excepthook to format Scenic backtraces\n",
      "  warnings.warn('unable to install sys.excepthook to format Scenic backtraces')\n"
     ]
    },
    {
     "name": "stdout",
     "output_type": "stream",
     "text": [
      "../_scenarios/academy/3v1.scenic../_scenarios/academy/3v1.scenic\n",
      "Scenic Environment:  \n",
      "../_scenarios/academy/3v1.scenicpygame 2.0.1 (SDL 2.0.14, Python 3.7.10)"
     ]
    },
    {
     "name": "stderr",
     "output_type": "stream",
     "text": [
      "/home/ubuntu/.local/lib/python3.7/site-packages/scenic/core/errors.py:160: UserWarning: unable to install sys.excepthook to format Scenic backtraces\n",
      "  warnings.warn('unable to install sys.excepthook to format Scenic backtraces')\n"
     ]
    },
    {
     "name": "stdout",
     "output_type": "stream",
     "text": [
      "\n",
      "Scenic Environment:  \n",
      "Scenic Environment: ../_scenarios/academy/3v1.scenic pygame 2.0.1 (SDL 2.0.14, Python 3.7.10)\n",
      "Scenic Environment:  ../_scenarios/academy/3v1.scenic\n"
     ]
    },
    {
     "name": "stderr",
     "output_type": "stream",
     "text": [
      "/home/ubuntu/.local/lib/python3.7/site-packages/scenic/core/errors.py:160: UserWarning: unable to install sys.excepthook to format Scenic backtraces\n",
      "  warnings.warn('unable to install sys.excepthook to format Scenic backtraces')\n"
     ]
    },
    {
     "name": "stdout",
     "output_type": "stream",
     "text": [
      "\n",
      "../_scenarios/academy/3v1.scenic\n"
     ]
    },
    {
     "name": "stderr",
     "output_type": "stream",
     "text": [
      "/home/ubuntu/.local/lib/python3.7/site-packages/scenic/core/errors.py:160: UserWarning: unable to install sys.excepthook to format Scenic backtraces\n",
      "  warnings.warn('unable to install sys.excepthook to format Scenic backtraces')\n"
     ]
    },
    {
     "name": "stdout",
     "output_type": "stream",
     "text": [
      "Hello from the pygame community. https://www.pygame.org/contribute.htmlScenic Environment: \n",
      "Hello from the pygame community. https://www.pygame.org/contribute.html\n",
      "Scenic Environment: pygame 2.0.1 (SDL 2.0.14, Python 3.7.10)pygame 2.0.1 (SDL 2.0.14, Python 3.7.10)\n",
      "  ../_scenarios/academy/3v1.scenic\n",
      "../_scenarios/academy/3v1.scenicScenic Environment: Hello from the pygame community. https://www.pygame.org/contribute.html\n",
      "\n",
      "\n",
      "pygame 2.0.1 (SDL 2.0.14, Python 3.7.10) pygame 2.0.1 (SDL 2.0.14, Python 3.7.10)\n",
      "../_scenarios/academy/3v1.scenicScenic Environment: \n",
      " ../_scenarios/academy/3v1.scenicHello from the pygame community. https://www.pygame.org/contribute.htmlHello from the pygame community. https://www.pygame.org/contribute.html\n",
      "\n",
      "Hello from the pygame community. https://www.pygame.org/contribute.html\n",
      "pygame 2.0.1 (SDL 2.0.14, Python 3.7.10)\n",
      "\n",
      "Hello from the pygame community. https://www.pygame.org/contribute.htmlScenic Environment: pygame 2.0.1 (SDL 2.0.14, Python 3.7.10)\n",
      " Scenic Environment: ../_scenarios/academy/3v1.scenicpygame 2.0.1 (SDL 2.0.14, Python 3.7.10)\n",
      "\n",
      "\n",
      "Hello from the pygame community. https://www.pygame.org/contribute.html\n",
      " ../_scenarios/academy/3v1.scenicpygame 2.0.1 (SDL 2.0.14, Python 3.7.10)\n",
      "\n",
      "Hello from the pygame community. https://www.pygame.org/contribute.html\n",
      "Hello from the pygame community. https://www.pygame.org/contribute.html\n",
      "Scenic Environment: \n",
      " pygame 2.0.1 (SDL 2.0.14, Python 3.7.10)\n",
      "../_scenarios/academy/3v1.scenicHello from the pygame community. https://www.pygame.org/contribute.htmlpygame 2.0.1 (SDL 2.0.14, Python 3.7.10)\n",
      "\n",
      "Hello from the pygame community. https://www.pygame.org/contribute.html\n",
      "pygame 2.0.1 (SDL 2.0.14, Python 3.7.10)\n",
      "\n",
      "Hello from the pygame community. https://www.pygame.org/contribute.html\n",
      "pygame 2.0.1 (SDL 2.0.14, Python 3.7.10)\n",
      "pygame 2.0.1 (SDL 2.0.14, Python 3.7.10)\n",
      "Hello from the pygame community. https://www.pygame.org/contribute.html\n",
      "Hello from the pygame community. https://www.pygame.org/contribute.htmlpygame 2.0.1 (SDL 2.0.14, Python 3.7.10)\n",
      "\n",
      "Hello from the pygame community. https://www.pygame.org/contribute.html\n",
      "Logging to /tmp/openai-2021-04-22-22-40-49-427203\n",
      "Logging to /tmp/openai-2021-04-22-22-40-49-443624\n",
      "Logging to /tmp/openai-2021-04-22-22-40-49-462405\n",
      "Logging to /tmp/openai-2021-04-22-22-40-49-481472\n",
      "Logging to /tmp/openai-2021-04-22-22-40-49-483862\n",
      "Logging to /tmp/openai-2021-04-22-22-40-49-495045\n",
      "Logging to /tmp/openai-2021-04-22-22-40-49-500880Logging to /tmp/openai-2021-04-22-22-40-49-502183\n",
      "\n",
      "Logging to /tmp/openai-2021-04-22-22-40-49-503835Logging to /tmp/openai-2021-04-22-22-40-49-504285\n",
      "\n",
      "Logging to /tmp/openai-2021-04-22-22-40-49-517149\n",
      "Logging to /tmp/openai-2021-04-22-22-40-49-538275\n",
      "Logging to /tmp/openai-2021-04-22-22-40-49-544838\n",
      "Logging to /tmp/openai-2021-04-22-22-40-49-545582\n",
      "Logging to /tmp/openai-2021-04-22-22-40-49-569045\n",
      "Logging to /tmp/openai-2021-04-22-22-40-49-578116\n"
     ]
    }
   ],
   "source": [
    "from baselines.common.vec_env.subproc_vec_env import SubprocVecEnv\n",
    "vec_env = SubprocVecEnv([lambda _i=i: \\\n",
    "                        create_single_scenic_environment(_i,scenario) for i in\n",
    "                        range(16)], context=None)"
   ]
  },
  {
   "cell_type": "code",
   "execution_count": 6,
   "id": "5d06764e",
   "metadata": {},
   "outputs": [
    {
     "name": "stdout",
     "output_type": "stream",
     "text": [
      "1.15.5\n"
     ]
    }
   ],
   "source": [
    "import tensorflow.compat.v1 as tf\n",
    "import multiprocessing\n",
    "#import tensorflow as tf\n",
    "\n",
    "ncpu = multiprocessing.cpu_count()\n",
    "config = tf.ConfigProto(allow_soft_placement=True,\n",
    "                        intra_op_parallelism_threads=ncpu,\n",
    "                        inter_op_parallelism_threads=ncpu)\n",
    "config.gpu_options.allow_growth = True\n",
    "tf.Session(config=config).__enter__()\n"
   ]
  },
  {
   "cell_type": "code",
   "execution_count": null,
   "id": "c91eca18",
   "metadata": {},
   "outputs": [],
   "source": [
    "network = \"gfootball_impala_cnn\""
   ]
  },
  {
   "cell_type": "code",
   "execution_count": null,
   "id": "14886ecf",
   "metadata": {},
   "outputs": [],
   "source": [
    "from baselines.ppo2.model import Model\n",
    "model_fn = Model\n",
    "model = model_fn(policy=policy, ob_space=ob_space, ac_space=ac_space, nbatch_act=nenvs, nbatch_train=nbatch_train,\n",
    "                nsteps=nsteps, ent_coef=ent_coef, vf_coef=vf_coef,\n",
    "                max_grad_norm=max_grad_norm, comm=comm, mpi_rank_weight=mpi_rank_weight)"
   ]
  }
 ],
 "metadata": {
  "kernelspec": {
   "display_name": "Python 3",
   "language": "python",
   "name": "python3"
  },
  "language_info": {
   "codemirror_mode": {
    "name": "ipython",
    "version": 3
   },
   "file_extension": ".py",
   "mimetype": "text/x-python",
   "name": "python",
   "nbconvert_exporter": "python",
   "pygments_lexer": "ipython3",
   "version": "3.7.10"
  }
 },
 "nbformat": 4,
 "nbformat_minor": 5
}
