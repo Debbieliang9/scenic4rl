{
 "cells": [
  {
   "cell_type": "code",
   "execution_count": null,
   "id": "64495494",
   "metadata": {},
   "outputs": [],
   "source": [
    "  \n"
   ]
  },
  {
   "cell_type": "code",
   "execution_count": 1,
   "id": "8aa232eb",
   "metadata": {},
   "outputs": [
    {
     "name": "stderr",
     "output_type": "stream",
     "text": [
      "/home/ubuntu/.local/lib/python3.7/site-packages/gym/logger.py:30: UserWarning: \u001b[33mWARN: Box bound precision lowered by casting to float32\u001b[0m\n",
      "  warnings.warn(colorize('%s: %s'%('WARN', msg % args), 'yellow'))\n",
      "/home/ubuntu/.local/lib/python3.7/site-packages/gym/logger.py:30: UserWarning: \u001b[33mWARN: Box bound precision lowered by casting to float32\u001b[0m\n",
      "  warnings.warn(colorize('%s: %s'%('WARN', msg % args), 'yellow'))\n",
      "/home/ubuntu/.local/lib/python3.7/site-packages/gym/logger.py:30: UserWarning: \u001b[33mWARN: Box bound precision lowered by casting to float32\u001b[0m\n",
      "  warnings.warn(colorize('%s: %s'%('WARN', msg % args), 'yellow'))\n",
      "/home/ubuntu/.local/lib/python3.7/site-packages/gym/logger.py:30: UserWarning: \u001b[33mWARN: Box bound precision lowered by casting to float32\u001b[0m\n",
      "  warnings.warn(colorize('%s: %s'%('WARN', msg % args), 'yellow'))\n",
      "/home/ubuntu/.local/lib/python3.7/site-packages/gym/logger.py:30: UserWarning: \u001b[33mWARN: Box bound precision lowered by casting to float32\u001b[0m\n",
      "  warnings.warn(colorize('%s: %s'%('WARN', msg % args), 'yellow'))\n",
      "/home/ubuntu/.local/lib/python3.7/site-packages/gym/logger.py:30: UserWarning: \u001b[33mWARN: Box bound precision lowered by casting to float32\u001b[0m\n",
      "  warnings.warn(colorize('%s: %s'%('WARN', msg % args), 'yellow'))\n",
      "/home/ubuntu/.local/lib/python3.7/site-packages/gym/logger.py:30: UserWarning: \u001b[33mWARN: Box bound precision lowered by casting to float32\u001b[0m\n",
      "  warnings.warn(colorize('%s: %s'%('WARN', msg % args), 'yellow'))\n",
      "/home/ubuntu/.local/lib/python3.7/site-packages/gym/logger.py:30: UserWarning: \u001b[33mWARN: Box bound precision lowered by casting to float32\u001b[0m\n",
      "  warnings.warn(colorize('%s: %s'%('WARN', msg % args), 'yellow'))\n"
     ]
    },
    {
     "name": "stdout",
     "output_type": "stream",
     "text": [
      "WARNING:tensorflow:From /home/ubuntu/.local/lib/python3.7/site-packages/baselines/common/misc_util.py:58: The name tf.set_random_seed is deprecated. Please use tf.compat.v1.set_random_seed instead.\n",
      "\n",
      "WARNING:tensorflow:From /home/ubuntu/.local/lib/python3.7/site-packages/baselines/common/tf_util.py:53: The name tf.get_default_session is deprecated. Please use tf.compat.v1.get_default_session instead.\n",
      "\n",
      "WARNING:tensorflow:From /home/ubuntu/.local/lib/python3.7/site-packages/baselines/common/tf_util.py:63: The name tf.ConfigProto is deprecated. Please use tf.compat.v1.ConfigProto instead.\n",
      "\n",
      "WARNING:tensorflow:From /home/ubuntu/.local/lib/python3.7/site-packages/baselines/common/tf_util.py:70: The name tf.InteractiveSession is deprecated. Please use tf.compat.v1.InteractiveSession instead.\n",
      "\n",
      "WARNING:tensorflow:From /home/ubuntu/.local/lib/python3.7/site-packages/baselines/ppo2/model.py:34: The name tf.variable_scope is deprecated. Please use tf.compat.v1.variable_scope instead.\n",
      "\n",
      "WARNING:tensorflow:From /home/ubuntu/.local/lib/python3.7/site-packages/baselines/ppo2/model.py:34: The name tf.AUTO_REUSE is deprecated. Please use tf.compat.v1.AUTO_REUSE instead.\n",
      "\n",
      "WARNING:tensorflow:From /home/ubuntu/.local/lib/python3.7/site-packages/baselines/common/input.py:31: The name tf.placeholder is deprecated. Please use tf.compat.v1.placeholder instead.\n",
      "\n",
      "WARNING:tensorflow:From /home/ubuntu/.local/lib/python3.7/site-packages/baselines/common/input.py:57: to_float (from tensorflow.python.ops.math_ops) is deprecated and will be removed in a future version.\n",
      "Instructions for updating:\n",
      "Use `tf.cast` instead.\n",
      "WARNING:tensorflow:From /home/ubuntu/.local/lib/python3.7/site-packages/baselines/common/models.py:94: flatten (from tensorflow.python.layers.core) is deprecated and will be removed in a future version.\n",
      "Instructions for updating:\n",
      "Use keras.layers.flatten instead.\n",
      "WARNING:tensorflow:From /home/ubuntu/.local/lib/python3.7/site-packages/tensorflow_core/python/layers/core.py:332: Layer.apply (from tensorflow.python.keras.engine.base_layer) is deprecated and will be removed in a future version.\n",
      "Instructions for updating:\n",
      "Please use `layer.__call__` method instead.\n",
      "WARNING:tensorflow:From /home/ubuntu/.local/lib/python3.7/site-packages/baselines/a2c/utils.py:61: The name tf.get_variable is deprecated. Please use tf.compat.v1.get_variable instead.\n",
      "\n",
      "WARNING:tensorflow:From /home/ubuntu/.local/lib/python3.7/site-packages/baselines/common/distributions.py:200: The name tf.random_uniform is deprecated. Please use tf.random.uniform instead.\n",
      "\n",
      "WARNING:tensorflow:From /home/ubuntu/.local/lib/python3.7/site-packages/baselines/common/distributions.py:201: The name tf.log is deprecated. Please use tf.math.log instead.\n",
      "\n",
      "WARNING:tensorflow:From /home/ubuntu/.local/lib/python3.7/site-packages/baselines/ppo2/model.py:95: The name tf.trainable_variables is deprecated. Please use tf.compat.v1.trainable_variables instead.\n",
      "\n",
      "WARNING:tensorflow:From /home/ubuntu/.local/lib/python3.7/site-packages/baselines/ppo2/model.py:100: The name tf.train.AdamOptimizer is deprecated. Please use tf.compat.v1.train.AdamOptimizer instead.\n",
      "\n",
      "WARNING:tensorflow:From /home/ubuntu/.local/lib/python3.7/site-packages/tensorflow_core/python/ops/math_grad.py:1424: where (from tensorflow.python.ops.array_ops) is deprecated and will be removed in a future version.\n",
      "Instructions for updating:\n",
      "Use tf.where in 2.0, which has the same broadcast rule as np.where\n",
      "WARNING:tensorflow:From /home/ubuntu/.local/lib/python3.7/site-packages/baselines/common/tf_util.py:89: The name tf.global_variables is deprecated. Please use tf.compat.v1.global_variables instead.\n",
      "\n",
      "WARNING:tensorflow:From /home/ubuntu/.local/lib/python3.7/site-packages/baselines/common/tf_util.py:90: The name tf.variables_initializer is deprecated. Please use tf.compat.v1.variables_initializer instead.\n",
      "\n",
      "WARNING:tensorflow:From /home/ubuntu/.local/lib/python3.7/site-packages/baselines/ppo2/model.py:129: The name tf.get_collection is deprecated. Please use tf.compat.v1.get_collection instead.\n",
      "\n",
      "WARNING:tensorflow:From /home/ubuntu/.local/lib/python3.7/site-packages/baselines/ppo2/model.py:129: The name tf.GraphKeys is deprecated. Please use tf.compat.v1.GraphKeys instead.\n",
      "\n",
      "Logging to /tmp/openai-2021-04-22-22-19-00-984512\n",
      "--------------------------------------\n",
      "| eplenmean               | nan      |\n",
      "| eprewmean               | nan      |\n",
      "| fps                     | 6.91e+03 |\n",
      "| loss/approxkl           | 0.00297  |\n",
      "| loss/clipfrac           | 0.0237   |\n",
      "| loss/policy_entropy     | 0.69     |\n",
      "| loss/policy_loss        | -0.00773 |\n",
      "| loss/value_loss         | 41.5     |\n",
      "| misc/explained_variance | 0.000975 |\n",
      "| misc/nupdates           | 1        |\n",
      "| misc/serial_timesteps   | 500      |\n",
      "| misc/time_elapsed       | 0.579    |\n",
      "| misc/total_timesteps    | 4e+03    |\n",
      "--------------------------------------\n",
      "Stepping environment...\n",
      "Done.\n",
      "--------------------------------------\n",
      "| eplenmean               | nan      |\n",
      "| eprewmean               | nan      |\n",
      "| fps                     | 8.45e+03 |\n",
      "| loss/approxkl           | 0.00242  |\n",
      "| loss/clipfrac           | 0.00538  |\n",
      "| loss/policy_entropy     | 0.593    |\n",
      "| loss/policy_loss        | 0.00064  |\n",
      "| loss/value_loss         | 101      |\n",
      "| misc/explained_variance | 0.077    |\n",
      "| misc/nupdates           | 10       |\n",
      "| misc/serial_timesteps   | 5e+03    |\n",
      "| misc/time_elapsed       | 5.01     |\n",
      "| misc/total_timesteps    | 4e+04    |\n",
      "--------------------------------------\n",
      "Saving model to ppo_model.pkl\n",
      "SubprocVecEnv worker: got KeyboardInterrupt"
     ]
    }
   ],
   "source": [
    "import gym\n",
    "\n",
    "from baselines.ppo2 import ppo2\n",
    "from baselines.common.vec_env.subproc_vec_env import SubprocVecEnv\n",
    "\n",
    "\n",
    "#env = gym.make(\"CartPole-v0\")\n",
    "\n",
    "vec_env = SubprocVecEnv([lambda _i=i: gym.make(\"CartPole-v1\") for i in\n",
    "                        range(8)], context=None)\n",
    "act = ppo2.learn(\n",
    "    env=vec_env,\n",
    "    network='mlp',\n",
    "    lr=1e-3,\n",
    "    nsteps=500,\n",
    "    total_timesteps=50000\n",
    ")\n",
    "print(\"Saving model to ppo_model.pkl\")\n",
    "act.save(\"ppo_model.pkl\")\n",
    "\n"
   ]
  },
  {
   "cell_type": "code",
   "execution_count": 9,
   "id": "eab81424",
   "metadata": {},
   "outputs": [],
   "source": [
    "x = act.step([0])"
   ]
  },
  {
   "cell_type": "code",
   "execution_count": 11,
   "id": "93b30831",
   "metadata": {},
   "outputs": [],
   "source": [
    "type(x)"
   ]
  },
  {
   "cell_type": "code",
   "execution_count": 9,
   "id": "a0136deb",
   "metadata": {},
   "outputs": [],
   "source": [
    "import gym\n",
    "\n",
    "from baselines.ppo2 import ppo2\n",
    "from baselines.common.vec_env.subproc_vec_env import SubprocVecEnv\n",
    "\n",
    "#env = gym.make(\"CartPole-v0\")\n",
    "eval_vec_env = SubprocVecEnv([lambda _i=i: gym.make(\"CartPole-v1\") for i in range(4)], context=None)\n",
    "\n",
    "act = ppo2.learn(env=eval_vec_env, network='mlp', total_timesteps=0, n_steps=0)\n",
    "\n",
    "print(\"Start\")\n",
    "while True:\n",
    "    obs, done = env.reset(), False\n",
    "    episode_rew = 0\n",
    "    while not done:\n",
    "        #env.render()\n",
    "        obs, rew, done, _ = env.step(act(obs[None])[0])\n",
    "        episode_rew += rew\n",
    "    print(\"Episode reward\", episode_rew)"
   ]
  },
  {
   "cell_type": "code",
   "execution_count": 7,
   "id": "4a9cc1d3",
   "metadata": {},
   "outputs": [],
   "source": [
    "act([0])"
   ]
  },
  {
   "cell_type": "code",
   "execution_count": null,
   "id": "2d00e410",
   "metadata": {},
   "outputs": [],
   "source": []
  }
 ],
 "metadata": {
  "kernelspec": {
   "display_name": "Python 3",
   "language": "python",
   "name": "python3"
  },
  "language_info": {
   "codemirror_mode": {
    "name": "ipython",
    "version": 3
   },
   "file_extension": ".py",
   "mimetype": "text/x-python",
   "name": "python",
   "nbconvert_exporter": "python",
   "pygments_lexer": "ipython3",
   "version": "3.7.10"
  }
 },
 "nbformat": 4,
 "nbformat_minor": 5
}
