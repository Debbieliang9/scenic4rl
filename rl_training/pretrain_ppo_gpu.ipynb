{
 "cells": [
  {
   "cell_type": "code",
   "execution_count": 1,
   "id": "exclusive-accent",
   "metadata": {},
   "outputs": [
    {
     "name": "stderr",
     "output_type": "stream",
     "text": [
      "/home/ubuntu/.local/lib/python3.8/site-packages/scenic/core/errors.py:157: UserWarning: unable to install sys.excepthook to format Scenic backtraces\n",
      "  warnings.warn('unable to install sys.excepthook to format Scenic backtraces')\n"
     ]
    }
   ],
   "source": [
    "from scenic.simulators.gfootball import rl_interface\n",
    "from stable_baselines3 import PPO\n",
    "from scenic.simulators.gfootball.rl_interface import GFScenicEnv\n",
    "import pretrain_template\n",
    "#from gfootball_impala_cnn import GfootballImpalaCNN\n",
    "import gym\n",
    "from tqdm import tqdm\n",
    "import numpy as np\n",
    "import torch as th\n",
    "import torch.nn as nn\n",
    "import torch.optim as optim\n",
    "from torch.optim.lr_scheduler import StepLR\n",
    "from stable_baselines3 import PPO, A2C, SAC, TD3\n",
    "from stable_baselines3.common.evaluation import evaluate_policy\n",
    "\n",
    "from torch.utils.data.dataset import Dataset, random_split\n",
    "import os\n",
    "\n",
    "from stable_baselines3.common.torch_layers import BaseFeaturesExtractor\n",
    "from stable_baselines3.common.preprocessing import is_image_space\n",
    "from stable_baselines3.common.torch_layers import BaseFeaturesExtractor\n",
    "from torch import nn\n",
    "import torch as th\n",
    "import torch\n",
    "import os"
   ]
  },
  {
   "cell_type": "code",
   "execution_count": 2,
   "id": "parliamentary-footwear",
   "metadata": {},
   "outputs": [],
   "source": [
    "class GfootballImpalaCNN(BaseFeaturesExtractor):\n",
    "    \"\"\"\n",
    "    gfootball_impala_cnn is architecture used in the paper\n",
    "    (https://arxiv.org/pdf/1907.11180.pdf).\n",
    "    It is illustrated in the appendix. It is similar to Large architecture\n",
    "    from IMPALA paper; we use 4 big blocks instead of 3 though.\n",
    "    \"\"\"\n",
    "\n",
    "    def __init__(self, observation_space: gym.spaces.Box, features_dim: int = 256):\n",
    "        super(GfootballImpalaCNN, self).__init__(observation_space, features_dim)\n",
    "        # We assume CxHxW images (channels first)\n",
    "        # Re-ordering will be done by pre-preprocessing or wrapper\n",
    "        assert is_image_space(observation_space), (\n",
    "            \"You should use CNN only with images\"\n",
    "        )\n",
    "        assert features_dim==256, \"To replicate the same network\"\n",
    "        n_input_channels = observation_space.shape[0]\n",
    "\n",
    "\n",
    "        self.device = torch.device(\"cuda:0\" if torch.cuda.is_available() else \"cpu\")\n",
    "        print(\"device: \", self.device)\n",
    "\n",
    "        self.conv_layers_config = [(16, 2), (32, 2), (32, 2), (32, 2)]\n",
    "        self.pool = nn.MaxPool2d(kernel_size=3, stride=2)\n",
    "\n",
    "\n",
    "        self.conv_blocks = [\n",
    "            nn.Conv2d(in_channels=n_input_channels, out_channels=16, kernel_size=3, stride=1, padding=1),\n",
    "            nn.Conv2d(in_channels=16, out_channels=32, kernel_size=3, stride=1, padding=1),\n",
    "            nn.Conv2d(in_channels=32, out_channels=32, kernel_size=3, stride=1, padding=1),\n",
    "            nn.Conv2d(in_channels=32, out_channels=32, kernel_size=3, stride=1, padding=1)\n",
    "        ]\n",
    "            \n",
    "\n",
    "        \n",
    "\n",
    "        #if \"cuda\" in self.device.type:\n",
    "        #    self.conv_blocks = [c.cuda() for c in self.conv_blocks]\n",
    "\n",
    "        #https://www.tensorflow.org/api_docs/python/tf/nn/pool  -> If padding = \"SAME\": output_spatial_shape[i] = ceil(input_spatial_shape[i] / strides[i])\n",
    "        self.pools = [nn.MaxPool2d(kernel_size=3, stride=2, padding=1) for _ in range(4)]\n",
    "\n",
    "        self.resblocks_1 = [\n",
    "            self.create_basic_res_block(16, 16),\n",
    "            self.create_basic_res_block(32, 32),\n",
    "            self.create_basic_res_block(32, 32),\n",
    "            self.create_basic_res_block(32, 32)\n",
    "        ]\n",
    "        self.resblocks_2 = [\n",
    "            self.create_basic_res_block(16, 16),\n",
    "            self.create_basic_res_block(32, 32),\n",
    "            self.create_basic_res_block(32, 32),\n",
    "            self.create_basic_res_block(32, 32)\n",
    "        ]\n",
    "\n",
    "\n",
    "        \n",
    "        if \"cuda\" in self.device.type:\n",
    "            self.conv_blocks = [c.cuda() for c in self.conv_blocks]\n",
    "            self.resblocks_1 = [c.cuda() for c in self.resblocks_1]\n",
    "            self.resblocks_2 = [c.cuda() for c in self.resblocks_2]\n",
    "\n",
    "        self.relu = nn.ReLU()\n",
    "        self.flatten = nn.Flatten()\n",
    "        \n",
    "        \n",
    "        #hack so that all the weights are saved correctly, by default stable_baselines3 only saves weights all torch tensors\n",
    "        #So it\n",
    "        self.conv_0 = self.conv_blocks[0]\n",
    "        self.conv_1 = self.conv_blocks[1]\n",
    "        self.conv_2 = self.conv_blocks[2]\n",
    "        self.conv_3 = self.conv_blocks[3]\n",
    "        \n",
    "        \n",
    "        self.res_1_0 = self.resblocks_1[0]\n",
    "        self.res_1_1 = self.resblocks_1[1]\n",
    "        self.res_1_2 = self.resblocks_1[2]\n",
    "        self.res_1_3 = self.resblocks_1[3]\n",
    "\n",
    "        self.res_2_0 = self.resblocks_2[0]\n",
    "        self.res_2_1 = self.resblocks_2[1]\n",
    "        self.res_2_2 = self.resblocks_2[2]\n",
    "        self.res_2_3 = self.resblocks_2[3]\n",
    "        #################################################\n",
    "\n",
    "\n",
    "\n",
    "        # Compute shape by doing one forward pass\n",
    "        \"\"\"\n",
    "        with th.no_grad():\n",
    "            n_flatten = self.feat_extract(\n",
    "                th.as_tensor(observation_space.sample()[None]).float()\n",
    "            )\n",
    "            n_flatten = n_flatten.shape[1]\n",
    "        \"\"\"\n",
    "        n_flatten = 960\n",
    "        self.linear = nn.Sequential(nn.Linear(n_flatten, features_dim), nn.ReLU()) #n_flatten=960\n",
    "\n",
    "\n",
    "\n",
    "\n",
    "    def create_basic_res_block(self, in_channel, out_channel):\n",
    "        return nn.Sequential(\n",
    "            nn.ReLU(),\n",
    "            nn.Conv2d(in_channels=in_channel, out_channels=out_channel, kernel_size=3, stride=1, padding=1),\n",
    "            nn.ReLU(),\n",
    "            nn.Conv2d(in_channels=out_channel, out_channels=out_channel, kernel_size=3, stride=1, padding=1),\n",
    "        )\n",
    "\n",
    "    def feat_extract(self, observations: th.Tensor) -> th.Tensor:\n",
    "        #observations = observations.to(self.device)\n",
    "        observations = observations.float()\n",
    "        observations /= 255\n",
    "\n",
    "        conv_out = observations\n",
    "        for i in range(4):\n",
    "            #print(\"\", i)\n",
    "            #print(\" 1. conv_out.is_cuda() \", conv_out.is_cuda)\n",
    "            #print(\"     conv block weight\", self.conv_blocks[i].weight.is_cuda)\n",
    "            conv_out = self.conv_blocks[i](conv_out)\n",
    "            #print(\" 2. conv_out.is_cuda() \", conv_out.is_cuda)\n",
    "            conv_out = self.pools[i](conv_out)\n",
    "\n",
    "            block_input = conv_out\n",
    "            conv_out = self.resblocks_1[i](conv_out)\n",
    "            conv_out += block_input\n",
    "\n",
    "            block_input = conv_out\n",
    "            conv_out = self.resblocks_2[i](conv_out)\n",
    "            conv_out += block_input\n",
    "            #print(\" 3. conv_out.is_cuda() \", conv_out.is_cuda)\n",
    "\n",
    "        #print(\" before relu . conv_out.is_cuda() \", conv_out.is_cuda)\n",
    "        conv_out = self.relu(conv_out)\n",
    "        #print(\" after relu . conv_out.is_cuda() \", conv_out.is_cuda)\n",
    "        conv_out = self.flatten(conv_out)\n",
    "        #print(\" after flatten . conv_out.is_cuda() \", conv_out.is_cuda)\n",
    "        return conv_out\n",
    "\n",
    "    def forward(self, observations: th.Tensor) -> th.Tensor:\n",
    "        conv_out = self.feat_extract(observations)\n",
    "        conv_out = self.linear(conv_out)\n",
    "\n",
    "        return conv_out\n",
    "        \n",
    "\n"
   ]
  },
  {
   "cell_type": "code",
   "execution_count": 3,
   "id": "possible-surprise",
   "metadata": {},
   "outputs": [],
   "source": [
    "\n",
    "def get_weight_sum(model):\n",
    "    \"\"\"model is a PPO object\"\"\"\n",
    "    \n",
    "    tensors = [\n",
    "        model.policy.features_extractor.conv_blocks[0].weight.sum().detach(),\n",
    "        model.policy.features_extractor.conv_blocks[1].weight.sum().detach(),\n",
    "        model.policy.features_extractor.conv_blocks[2].weight.sum().detach(),\n",
    "        model.policy.features_extractor.conv_blocks[3].weight.sum().detach(),\n",
    "        model.policy.features_extractor.resblocks_1[0][1].weight.sum().detach(),\n",
    "        model.policy.features_extractor.resblocks_1[0][3].weight.sum().detach(),\n",
    "        model.policy.features_extractor.resblocks_1[1][1].weight.sum().detach(),\n",
    "        model.policy.features_extractor.resblocks_1[1][3].weight.sum().detach(),\n",
    "        model.policy.features_extractor.resblocks_1[2][1].weight.sum().detach(),\n",
    "        model.policy.features_extractor.resblocks_1[2][3].weight.sum().detach(),\n",
    "        model.policy.features_extractor.resblocks_1[3][1].weight.sum().detach(),\n",
    "        model.policy.features_extractor.resblocks_1[3][3].weight.sum().detach(),\n",
    "        model.policy.features_extractor.resblocks_2[0][1].weight.sum().detach(),\n",
    "        model.policy.features_extractor.resblocks_2[0][3].weight.sum().detach(),\n",
    "        model.policy.features_extractor.resblocks_2[1][1].weight.sum().detach(),\n",
    "        model.policy.features_extractor.resblocks_2[1][3].weight.sum().detach(),\n",
    "        model.policy.features_extractor.resblocks_2[2][1].weight.sum().detach(),\n",
    "        model.policy.features_extractor.resblocks_2[2][3].weight.sum().detach(),\n",
    "        model.policy.features_extractor.resblocks_2[3][1].weight.sum().detach(),\n",
    "        model.policy.features_extractor.resblocks_2[3][3].weight.sum().detach(),\n",
    "    ]\n",
    "    if tensors[0].is_cuda:\n",
    "        saved_sums = [tens.cpu().numpy() for tens in tensors]\n",
    "    else:\n",
    "        saved_sums = [tens.numpy() for tens in tensors]\n",
    "\n",
    "    return saved_sums"
   ]
  },
  {
   "cell_type": "code",
   "execution_count": 4,
   "id": "productive-alabama",
   "metadata": {},
   "outputs": [],
   "source": [
    "class ExpertDataSet(Dataset):\n",
    "    def __init__(self, expert_observations, expert_actions):\n",
    "        self.observations = expert_observations\n",
    "        self.actions = expert_actions\n",
    "\n",
    "    def __getitem__(self, index):\n",
    "        return (self.observations[index], self.actions[index])\n",
    "\n",
    "    def __len__(self):\n",
    "        return len(self.observations)"
   ]
  },
  {
   "cell_type": "code",
   "execution_count": 5,
   "id": "accepted-telling",
   "metadata": {},
   "outputs": [],
   "source": [
    "def pretrain_agent(\n",
    "        student,\n",
    "        env,\n",
    "        expert_dataset,\n",
    "        batch_size=64,\n",
    "        epochs=10,\n",
    "        scheduler_gamma=0.7,\n",
    "        learning_rate=1.0,\n",
    "        log_interval=100,\n",
    "        no_cuda=True,\n",
    "        seed=1,\n",
    "        test_batch_size=64,\n",
    "):\n",
    "    train_size = int(0.8 * len(expert_dataset))\n",
    "\n",
    "    test_size = len(expert_dataset) - train_size\n",
    "\n",
    "    train_expert_dataset, test_expert_dataset = random_split(\n",
    "        expert_dataset, [train_size, test_size]\n",
    "    )\n",
    "\n",
    "    print(\"test_expert_dataset: \", len(test_expert_dataset))\n",
    "    print(\"train_expert_dataset: \", len(train_expert_dataset))\n",
    "\n",
    "\n",
    "    use_cuda = not no_cuda and th.cuda.is_available()\n",
    "    th.manual_seed(seed)\n",
    "    device = th.device(\"cuda\" if use_cuda else \"cpu\")\n",
    "    kwargs = {\"num_workers\": 1, \"pin_memory\": True} if use_cuda else {}\n",
    "\n",
    "    if isinstance(env.action_space, gym.spaces.Box):\n",
    "        criterion = nn.MSELoss()\n",
    "    else:\n",
    "        criterion = nn.CrossEntropyLoss()\n",
    "\n",
    "    # Extract initial policy\n",
    "    model = student.policy.to(device)\n",
    "\n",
    "    def train(model, device, train_loader, optimizer):\n",
    "        model.train()\n",
    "\n",
    "        for batch_idx, (data, target) in enumerate(train_loader):\n",
    "            data, target = data.to(device), target.to(device)\n",
    "            optimizer.zero_grad()\n",
    "\n",
    "            if isinstance(env.action_space, gym.spaces.Box):\n",
    "                # A2C/PPO policy outputs actions, values, log_prob\n",
    "                # SAC/TD3 policy outputs actions only\n",
    "                if isinstance(student, (A2C, PPO)):\n",
    "                    action, _, _ = model(data)\n",
    "                else:\n",
    "                    # SAC/TD3:\n",
    "                    action = model(data)\n",
    "                action_prediction = action.double()\n",
    "            else:\n",
    "                # Retrieve the logits for A2C/PPO when using discrete actions\n",
    "                latent_pi, _, _ = model._get_latent(data)\n",
    "                logits = model.action_net(latent_pi)\n",
    "                action_prediction = logits\n",
    "                target = target.long()\n",
    "\n",
    "            loss = criterion(action_prediction, target)\n",
    "            loss.backward()\n",
    "            optimizer.step()\n",
    "            if batch_idx % log_interval == 0:\n",
    "                print(\n",
    "                    \"Train Epoch: {} [{}/{} ({:.0f}%)]\\tLoss: {:.6f}\".format(\n",
    "                        epoch,\n",
    "                        batch_idx * len(data),\n",
    "                        len(train_loader.dataset),\n",
    "                        100.0 * batch_idx / len(train_loader),\n",
    "                        loss.item(),\n",
    "                    )\n",
    "                )\n",
    "\n",
    "    def test(model, device, test_loader):\n",
    "        model.eval()\n",
    "        test_loss = 0\n",
    "        with th.no_grad():\n",
    "            for data, target in test_loader:\n",
    "                data, target = data.to(device), target.to(device)\n",
    "\n",
    "                if isinstance(env.action_space, gym.spaces.Box):\n",
    "                    # A2C/PPO policy outputs actions, values, log_prob\n",
    "                    # SAC/TD3 policy outputs actions only\n",
    "                    if isinstance(student, (A2C, PPO)):\n",
    "                        action, _, _ = model(data)\n",
    "                    else:\n",
    "                        # SAC/TD3:\n",
    "                        action = model(data)\n",
    "                    action_prediction = action.double()\n",
    "                else:\n",
    "                    # Retrieve the logits for A2C/PPO when using discrete actions\n",
    "                    latent_pi, _, _ = model._get_latent(data)\n",
    "                    logits = model.action_net(latent_pi)\n",
    "                    action_prediction = logits\n",
    "                    target = target.long()\n",
    "\n",
    "                test_loss = criterion(action_prediction, target)\n",
    "        test_loss /= len(test_loader.dataset)\n",
    "        print(f\"Test set: Average loss: {test_loss:.4f}\")\n",
    "\n",
    "    # Here, we use PyTorch `DataLoader` to our load previously created `ExpertDataset` for training\n",
    "    # and testing\n",
    "    train_loader = th.utils.data.DataLoader(\n",
    "        dataset=train_expert_dataset, batch_size=batch_size, shuffle=True, **kwargs\n",
    "    )\n",
    "    test_loader = th.utils.data.DataLoader(\n",
    "        dataset=test_expert_dataset, batch_size=test_batch_size, shuffle=True, **kwargs,\n",
    "    )\n",
    "\n",
    "    # Define an Optimizer and a learning rate schedule.\n",
    "    optimizer = optim.Adadelta(model.parameters(), lr=learning_rate)\n",
    "    scheduler = StepLR(optimizer, step_size=1, gamma=scheduler_gamma)\n",
    "\n",
    "    # Now we are finally ready to train the policy model.\n",
    "    for epoch in range(1, epochs + 1):\n",
    "        train(model, device, train_loader, optimizer)\n",
    "        test(model, device, test_loader)\n",
    "        scheduler.step()\n",
    "\n",
    "    # Implant the trained policy network back into the RL student agent\n",
    "    student.policy = model\n"
   ]
  },
  {
   "cell_type": "code",
   "execution_count": 6,
   "id": "mobile-creature",
   "metadata": {},
   "outputs": [],
   "source": [
    "def generate_expert_data(env, num_interactions=1000, save_file_name=\"expert_data\"):\n",
    "\n",
    "    expert_observations = []\n",
    "    expert_actions = []\n",
    "\n",
    "    obs = env.reset()\n",
    "\n",
    "    for i in tqdm(range(num_interactions)):\n",
    "        expert_observations.append(obs)\n",
    "\n",
    "        obs, reward, done, info = env.step(env.action_space.sample())\n",
    "        #print(info)\n",
    "        action = info[\"action_taken\"]\n",
    "        expert_actions.append(action)\n",
    "\n",
    "        if done:\n",
    "            obs = env.reset()\n",
    "    \n",
    "    expert_observations = np.array(expert_observations)\n",
    "    expert_observations = np.moveaxis(expert_observations, [3], [1])\n",
    "    expert_actions = np.array(expert_actions)\n",
    "    print(\"Expert observation shape: \", expert_observations.shape)\n",
    "    print(\"Expert actions shape: \", expert_actions.shape)\n",
    "\n",
    "    np.savez_compressed(\n",
    "        save_file_name,\n",
    "        expert_actions=expert_actions,\n",
    "        expert_observations=expert_observations,\n",
    "    )\n",
    "    return expert_observations, expert_actions"
   ]
  },
  {
   "cell_type": "code",
   "execution_count": 7,
   "id": "collect-anaheim",
   "metadata": {},
   "outputs": [],
   "source": [
    "def mean_perf_random_agent(env, num_trials=1):\n",
    "\n",
    "    obs = env.reset()\n",
    "    #env.render()\n",
    "    num_epi = 0\n",
    "    all_rewards = []\n",
    "    from tqdm import tqdm\n",
    "    for i in tqdm(range(0, num_trials)):\n",
    "\n",
    "        done = False\n",
    "        total_r = 0\n",
    "        while not done:\n",
    "            action = env.action_space.sample()\n",
    "            obs, reward, done, info = env.step(action)\n",
    "            #env.render()\n",
    "            total_r+=reward\n",
    "            if done:\n",
    "                obs = env.reset()\n",
    "                all_rewards.append(total_r)\n",
    "                total_r=0\n",
    "                num_epi +=1\n",
    "                \n",
    "    all_rewards = np.array(all_rewards)\n",
    "    return np.mean(all_rewards), np.std(all_rewards)"
   ]
  },
  {
   "cell_type": "code",
   "execution_count": 8,
   "id": "maritime-bones",
   "metadata": {},
   "outputs": [],
   "source": [
    "def mean_perf_agent(agent, env, num_trials=5):\n",
    "    \n",
    "    #env.render()\n",
    "    num_epi = 0\n",
    "    all_rewards = []\n",
    "    from tqdm import tqdm\n",
    "    for i in tqdm(range(0, num_trials)):\n",
    "\n",
    "        done = False\n",
    "        total_r = 0\n",
    "        obs = env.reset()\n",
    "        while not done:\n",
    "            action = agent.predict(obs, deterministic=True)[0]\n",
    "            obs, reward, done, info = env.step(action)\n",
    "            #env.render()\n",
    "            total_r+=reward\n",
    "            if done:\n",
    "                all_rewards.append(total_r)\n",
    "                num_epi +=1 \n",
    "                \n",
    "    all_rewards = np.array(all_rewards)\n",
    "    return np.mean(all_rewards), np.std(all_rewards)"
   ]
  },
  {
   "cell_type": "code",
   "execution_count": 9,
   "id": "endangered-banking",
   "metadata": {},
   "outputs": [
    {
     "name": "stdout",
     "output_type": "stream",
     "text": [
      "Current Directory: /home/ubuntu/ScenicGFootBall/rl_training\n"
     ]
    }
   ],
   "source": [
    "cwd = os.getcwd()\n",
    "print(\"Current Directory:\", cwd)\n",
    "rewards = \"scoring\"\n",
    "target_scenario_name = f\"{cwd}/pretrain/run_to_score.scenic\"\n",
    "\n",
    "\n",
    "\n",
    "save_dir = f\"{cwd}/pretrain_saved_models\"\n",
    "logdir = f\"{cwd}/tboard/dev\"\n",
    "tracedir = f\"{cwd}/game_trace\""
   ]
  },
  {
   "cell_type": "code",
   "execution_count": 10,
   "id": "pointed-kruger",
   "metadata": {},
   "outputs": [
    {
     "name": "stdout",
     "output_type": "stream",
     "text": [
      "pygame 2.0.1 (SDL 2.0.14, Python 3.8.7)\n",
      "Hello from the pygame community. https://www.pygame.org/contribute.html\n"
     ]
    }
   ],
   "source": [
    "#create target environment\n",
    "gf_env_settings = {\n",
    "        \"stacked\": True,\n",
    "        \"rewards\": rewards,\n",
    "        \"representation\": 'extracted',\n",
    "        \"players\": [f\"agent:left_players=1\"],\n",
    "        \"real_time\": False,\n",
    "        \"action_set\": \"default\"\n",
    "    }\n",
    "\n",
    "from scenic.simulators.gfootball.utilities.scenic_helper import buildScenario\n",
    "scenario = buildScenario(target_scenario_name)\n",
    "target_env = GFScenicEnv(initial_scenario=scenario, gf_env_settings=gf_env_settings)"
   ]
  },
  {
   "cell_type": "code",
   "execution_count": 11,
   "id": "juvenile-lesson",
   "metadata": {},
   "outputs": [
    {
     "name": "stdout",
     "output_type": "stream",
     "text": [
      "Environment will ignore actions passed to step() and take action provided by Scenic\n"
     ]
    },
    {
     "name": "stderr",
     "output_type": "stream",
     "text": [
      "100%|██████████| 5/5 [00:02<00:00,  2.19it/s]\n",
      "  0%|          | 20/20000 [00:00<01:43, 193.43it/s]"
     ]
    },
    {
     "name": "stdout",
     "output_type": "stream",
     "text": [
      "Mean Reward and STD of Scenic Behavior Agent (1.0, 0.0)\n"
     ]
    },
    {
     "name": "stderr",
     "output_type": "stream",
     "text": [
      "100%|██████████| 20000/20000 [02:10<00:00, 152.73it/s]\n"
     ]
    },
    {
     "name": "stdout",
     "output_type": "stream",
     "text": [
      "Expert observation shape:  (20000, 16, 72, 96)\n",
      "Expert actions shape:  (20000,)\n"
     ]
    }
   ],
   "source": [
    "#generate expert data\n",
    "num_interactions=20000\n",
    "expert_data_file = f\"pretrain/expert_data/expertdata_rts_{num_interactions}\"\n",
    "\n",
    "\n",
    "#create data_gen_environment\n",
    "gf_env_settings = {\n",
    "    \"stacked\": True,\n",
    "    \"rewards\": 'scoring',\n",
    "    \"representation\": 'extracted',\n",
    "    \"players\": [f\"agent:left_players=1\"],\n",
    "    \"real_time\": False,\n",
    "    \"action_set\": \"default\",#\"default\" \"v2\"\n",
    "}\n",
    "\n",
    "datagen_scenario_file = f\"{cwd}/pretrain/run_to_score_with_behave.scenic\"\n",
    "datagen_scenario = buildScenario(datagen_scenario_file)\n",
    "from scenic.simulators.gfootball.rl_interface import GFScenicEnv\n",
    "\n",
    "#import scenic.syntax.veneer as veneer\n",
    "#veneer.reset()\n",
    "\n",
    "datagen_env = GFScenicEnv(initial_scenario=datagen_scenario, gf_env_settings=gf_env_settings, use_scenic_behavior_in_step=True)\n",
    "print(\"Mean Reward and STD of Scenic Behavior Agent\", mean_perf_random_agent(datagen_env, num_trials=5))\n",
    "\n",
    "expert_observations, expert_actions = generate_expert_data(datagen_env, num_interactions=num_interactions, save_file_name=expert_data_file) \n",
    "\n"
   ]
  },
  {
   "cell_type": "markdown",
   "id": "interstate-onion",
   "metadata": {},
   "source": [
    "Pretrain Agent"
   ]
  },
  {
   "cell_type": "code",
   "execution_count": 12,
   "id": "imported-warehouse",
   "metadata": {},
   "outputs": [
    {
     "name": "stdout",
     "output_type": "stream",
     "text": [
      "Using scoring Parameters\n",
      "Using cuda device\n",
      "Wrapping the env in a DummyVecEnv.\n",
      "Wrapping the env in a VecTransposeImage.\n",
      "device:  cuda:0\n",
      "env (from model) observation space:  Box(0, 255, (16, 72, 96), uint8)\n"
     ]
    }
   ],
   "source": [
    "#Create the PPO object with required parameters\n",
    "\n",
    "ppo_agent, parameter_dict = pretrain_template.get_model_and_params(\n",
    "    env=target_env, ALGO=PPO, features_extractor_class = GfootballImpalaCNN, scenario_name=target_scenario_name,\n",
    "    logdir=logdir, override_params={}, rewards=rewards)\n",
    "\n",
    "print(\"env (from model) observation space: \", ppo_agent.get_env().observation_space)\n"
   ]
  },
  {
   "cell_type": "code",
   "execution_count": 13,
   "id": "grateful-shore",
   "metadata": {},
   "outputs": [
    {
     "name": "stdout",
     "output_type": "stream",
     "text": [
      "Loaded data obs: (20000, 16, 72, 96), actions: (20000,)\n"
     ]
    }
   ],
   "source": [
    "#Load expert Data\n",
    "saved_exp_data = f\"pretrain/expert_data/expertdata_rts_{num_interactions}\"\n",
    "loaded_data = np.load(f\"{saved_exp_data}.npz\")\n",
    "expert_observations = loaded_data[\"expert_observations\"]\n",
    "expert_actions = loaded_data[\"expert_actions\"]\n",
    "expert_dataset = ExpertDataSet(expert_observations, expert_actions)\n",
    "\n",
    "print(f\"Loaded data obs: {expert_observations.shape}, actions: {expert_actions.shape}\")"
   ]
  },
  {
   "cell_type": "code",
   "execution_count": 14,
   "id": "collective-guest",
   "metadata": {},
   "outputs": [
    {
     "name": "stdout",
     "output_type": "stream",
     "text": [
      "test_expert_dataset:  4000\n",
      "train_expert_dataset:  16000\n",
      "Train Epoch: 1 [0/16000 (0%)]\tLoss: 2.944398\n",
      "Train Epoch: 1 [6400/16000 (40%)]\tLoss: 1.168670\n",
      "Train Epoch: 1 [12800/16000 (80%)]\tLoss: 1.174416\n",
      "Test set: Average loss: 0.0003\n",
      "Train Epoch: 2 [0/16000 (0%)]\tLoss: 1.085179\n",
      "Train Epoch: 2 [6400/16000 (40%)]\tLoss: 1.152721\n",
      "Train Epoch: 2 [12800/16000 (80%)]\tLoss: 1.157861\n",
      "Test set: Average loss: 0.0003\n",
      "Train Epoch: 3 [0/16000 (0%)]\tLoss: 1.126026\n",
      "Train Epoch: 3 [6400/16000 (40%)]\tLoss: 1.072956\n",
      "Train Epoch: 3 [12800/16000 (80%)]\tLoss: 1.321162\n",
      "Test set: Average loss: 0.0003\n",
      "Train Epoch: 4 [0/16000 (0%)]\tLoss: 1.250540\n",
      "Train Epoch: 4 [6400/16000 (40%)]\tLoss: 1.313269\n",
      "Train Epoch: 4 [12800/16000 (80%)]\tLoss: 0.986546\n",
      "Test set: Average loss: 0.0003\n",
      "Train Epoch: 5 [0/16000 (0%)]\tLoss: 1.409732\n",
      "Train Epoch: 5 [6400/16000 (40%)]\tLoss: 0.970268\n",
      "Train Epoch: 5 [12800/16000 (80%)]\tLoss: 1.022050\n",
      "Test set: Average loss: 0.0003\n"
     ]
    }
   ],
   "source": [
    "pretrain_agent(\n",
    "    student=ppo_agent,\n",
    "    env=target_env,\n",
    "    expert_dataset=expert_dataset,\n",
    "    epochs=5\n",
    ")\n"
   ]
  },
  {
   "cell_type": "code",
   "execution_count": 15,
   "id": "according-hypothesis",
   "metadata": {},
   "outputs": [
    {
     "name": "stdout",
     "output_type": "stream",
     "text": [
      "Checksum of pretrained agent: -198.20127868652344\n"
     ]
    }
   ],
   "source": [
    "checsum_pretrained = np.sum(get_weight_sum(ppo_agent))\n",
    "print(f\"Checksum of pretrained agent: {checsum_pretrained}\")"
   ]
  },
  {
   "cell_type": "code",
   "execution_count": 16,
   "id": "ambient-ivory",
   "metadata": {},
   "outputs": [
    {
     "name": "stderr",
     "output_type": "stream",
     "text": [
      "100%|██████████| 20/20 [00:36<00:00,  1.84s/it]"
     ]
    },
    {
     "name": "stdout",
     "output_type": "stream",
     "text": [
      "(0.0, 0.0)\n"
     ]
    },
    {
     "name": "stderr",
     "output_type": "stream",
     "text": [
      "\n"
     ]
    }
   ],
   "source": [
    "mean_performance_pretrained = mean_perf_agent(agent=ppo_agent, env=target_env, num_trials=20)\n",
    "print(mean_performance_pretrained)\n"
   ]
  },
  {
   "cell_type": "code",
   "execution_count": 17,
   "id": "extended-coverage",
   "metadata": {},
   "outputs": [],
   "source": [
    "#save pretrained agent\n",
    "saved_pretrained_agent_file = f\"pretrain/saved_agents/pretrained_PPO_rts_{num_interactions}\"\n",
    "ppo_agent.save(saved_pretrained_agent_file)\n",
    "del ppo_agent"
   ]
  },
  {
   "cell_type": "markdown",
   "id": "written-parker",
   "metadata": {},
   "source": [
    "<h1>Run normal training</h1>"
   ]
  },
  {
   "cell_type": "code",
   "execution_count": null,
   "id": "judicial-recycling",
   "metadata": {},
   "outputs": [],
   "source": [
    "assert False"
   ]
  },
  {
   "cell_type": "code",
   "execution_count": 31,
   "id": "premium-average",
   "metadata": {},
   "outputs": [
    {
     "name": "stdout",
     "output_type": "stream",
     "text": [
      "device:  cuda:0\n",
      "Checksum of loaded pretrained agent: -198.2012939453125\n"
     ]
    }
   ],
   "source": [
    "#Load PPO Agent\n",
    "saved_pretrained_agent_file = f\"pretrain/saved_agents/pretrained_PPO_rts_{20000}\"\n",
    "loaded_PPO = PPO.load(saved_pretrained_agent_file)\n",
    "checksum_pretrain_loaded = np.sum(get_weight_sum(loaded_PPO))\n",
    "print(f\"Checksum of loaded pretrained agent: {checksum_pretrain_loaded}\")"
   ]
  },
  {
   "cell_type": "code",
   "execution_count": null,
   "id": "confirmed-terrorist",
   "metadata": {},
   "outputs": [],
   "source": [
    "mean_performance_pretrained = mean_perf_agent(agent=loaded_PPO, env=target_env, num_trials=20)\n",
    "print(\"Pretrained Agent Performance: \", mean_performance_pretrained)"
   ]
  },
  {
   "cell_type": "code",
   "execution_count": 33,
   "id": "outdoor-maria",
   "metadata": {},
   "outputs": [
    {
     "name": "stdout",
     "output_type": "stream",
     "text": [
      "Using scoring Parameters\n",
      "Using cuda device\n",
      "Wrapping the env in a DummyVecEnv.\n",
      "Wrapping the env in a VecTransposeImage.\n",
      "device:  cuda:0\n",
      "weight sum after initializing weight from saved policy:  -198.2013\n",
      "env (from model) observation space:  Box(0, 255, (16, 72, 96), uint8)\n"
     ]
    }
   ],
   "source": [
    "final_agent, parameter_dict = pretrain_template.get_model_and_params(\n",
    "    env=target_env, ALGO=PPO, features_extractor_class = GfootballImpalaCNN, scenario_name=target_scenario_name,\n",
    "    logdir=logdir, override_params={}, rewards=rewards)\n",
    "\n",
    "#print(\"weight sum with default loading: \", np.sum(get_weight_sum(final_agent)))\n",
    "final_agent.policy = loaded_PPO.policy\n",
    "print(\"weight sum after initializing weight from saved policy: \", np.sum(get_weight_sum(final_agent)))\n",
    "print(\"env (from model) observation space: \", final_agent.get_env().observation_space)"
   ]
  },
  {
   "cell_type": "code",
   "execution_count": 21,
   "id": "instant-somewhere",
   "metadata": {},
   "outputs": [
    {
     "name": "stderr",
     "output_type": "stream",
     "text": [
      "100%|██████████| 20/20 [00:30<00:00,  1.53s/it]"
     ]
    },
    {
     "name": "stdout",
     "output_type": "stream",
     "text": [
      "Mean Performance Loaded Pretrained Agent (0.0, 0.0)\n"
     ]
    },
    {
     "name": "stderr",
     "output_type": "stream",
     "text": [
      "\n"
     ]
    }
   ],
   "source": [
    "mean_performance_warm = mean_perf_agent(agent=final_agent, env=target_env, num_trials=20)\n",
    "print(\"Mean Performance Loaded Pretrained Agent\", mean_performance_warm)"
   ]
  },
  {
   "cell_type": "code",
   "execution_count": 34,
   "id": "acknowledged-pierre",
   "metadata": {},
   "outputs": [],
   "source": [
    "total_training_timesteps = 5000"
   ]
  },
  {
   "cell_type": "code",
   "execution_count": 35,
   "id": "artistic-bacon",
   "metadata": {},
   "outputs": [
    {
     "name": "stdout",
     "output_type": "stream",
     "text": [
      "Logging to /home/ubuntu/ScenicGFootBall/rl_training/tboard/dev/HM_0_55__DM_1_4_1\n",
      "---------------------------------\n",
      "| rollout/           |          |\n",
      "|    ep_len_mean     | 78.6     |\n",
      "|    ep_rew_mean     | 0.68     |\n",
      "| time/              |          |\n",
      "|    fps             | 92       |\n",
      "|    iterations      | 1        |\n",
      "|    time_elapsed    | 22       |\n",
      "|    total_timesteps | 2048     |\n",
      "---------------------------------\n",
      "-----------------------------------------\n",
      "| rollout/                |             |\n",
      "|    ep_len_mean          | 78.4        |\n",
      "|    ep_rew_mean          | 0.635       |\n",
      "| time/                   |             |\n",
      "|    fps                  | 71          |\n",
      "|    iterations           | 2           |\n",
      "|    time_elapsed         | 57          |\n",
      "|    total_timesteps      | 4096        |\n",
      "| train/                  |             |\n",
      "|    approx_kl            | 0.002079396 |\n",
      "|    clip_fraction        | 0.0297      |\n",
      "|    clip_range           | 0.115       |\n",
      "|    entropy_loss         | -1.23       |\n",
      "|    explained_variance   | -4.64e+03   |\n",
      "|    learning_rate        | 0.000119    |\n",
      "|    loss                 | 0.028       |\n",
      "|    n_updates            | 10          |\n",
      "|    policy_gradient_loss | -0.00196    |\n",
      "|    value_loss           | 0.0677      |\n",
      "-----------------------------------------\n",
      "------------------------------------------\n",
      "| rollout/                |              |\n",
      "|    ep_len_mean          | 76.2         |\n",
      "|    ep_rew_mean          | 0.688        |\n",
      "| time/                   |              |\n",
      "|    fps                  | 66           |\n",
      "|    iterations           | 3            |\n",
      "|    time_elapsed         | 92           |\n",
      "|    total_timesteps      | 6144         |\n",
      "| train/                  |              |\n",
      "|    approx_kl            | 0.0005447728 |\n",
      "|    clip_fraction        | 0.00894      |\n",
      "|    clip_range           | 0.115        |\n",
      "|    entropy_loss         | -1.25        |\n",
      "|    explained_variance   | -179         |\n",
      "|    learning_rate        | 0.000119     |\n",
      "|    loss                 | 0.0203       |\n",
      "|    n_updates            | 20           |\n",
      "|    policy_gradient_loss | -0.00042     |\n",
      "|    value_loss           | 0.0475       |\n",
      "------------------------------------------\n",
      "\n",
      "Eval Mean Rewards: 0.0000 Episodes: 10\n",
      "\n"
     ]
    }
   ],
   "source": [
    "pretrain_template.train(model=final_agent, parameters=parameter_dict,\n",
    "                            n_eval_episodes=10, total_training_timesteps=total_training_timesteps,\n",
    "                            eval_freq=10000,\n",
    "                            save_dir=save_dir, logdir=logdir, dump_info={\"rewards\": rewards})"
   ]
  },
  {
   "cell_type": "code",
   "execution_count": 24,
   "id": "stylish-scheme",
   "metadata": {},
   "outputs": [
    {
     "name": "stderr",
     "output_type": "stream",
     "text": [
      "100%|██████████| 20/20 [00:35<00:00,  1.78s/it]"
     ]
    },
    {
     "name": "stdout",
     "output_type": "stream",
     "text": [
      "(0.0, 0.0)\n"
     ]
    },
    {
     "name": "stderr",
     "output_type": "stream",
     "text": [
      "\n"
     ]
    }
   ],
   "source": [
    "mean_performance_warm = mean_perf_agent(agent=final_agent, env=target_env, num_trials=20)\n",
    "print(mean_performance_warm)"
   ]
  },
  {
   "cell_type": "code",
   "execution_count": 36,
   "id": "apparent-motor",
   "metadata": {},
   "outputs": [
    {
     "name": "stdout",
     "output_type": "stream",
     "text": [
      "weight sum after initializing weight from saved policy:  -177.51831\n"
     ]
    }
   ],
   "source": [
    "print(\"weight sum after initializing weight from saved policy: \", np.sum(get_weight_sum(final_agent)))"
   ]
  },
  {
   "cell_type": "code",
   "execution_count": 37,
   "id": "above-lambda",
   "metadata": {},
   "outputs": [],
   "source": [
    "#save final agent\n",
    "saved_final_agent_file = f\"pretrain/saved_agents/final_PPO_rts_{total_training_timesteps}\"\n",
    "final_agent.save(saved_final_agent_file)\n",
    "del final_agent"
   ]
  },
  {
   "cell_type": "code",
   "execution_count": null,
   "id": "white-affiliation",
   "metadata": {},
   "outputs": [],
   "source": []
  },
  {
   "cell_type": "code",
   "execution_count": 40,
   "id": "hourly-handle",
   "metadata": {},
   "outputs": [
    {
     "name": "stdout",
     "output_type": "stream",
     "text": [
      "device:  cuda:0\n"
     ]
    }
   ],
   "source": [
    "#Load RL Model\n",
    "loaded_final = PPO.load(f\"pretrain/saved_agents/final_PPO_rts_{total_training_timesteps}\")"
   ]
  },
  {
   "cell_type": "code",
   "execution_count": 42,
   "id": "directed-uruguay",
   "metadata": {},
   "outputs": [
    {
     "name": "stderr",
     "output_type": "stream",
     "text": [
      "\r",
      "  0%|          | 0/20 [00:00<?, ?it/s]"
     ]
    },
    {
     "name": "stdout",
     "output_type": "stream",
     "text": [
      "weight sum after initializing weight from saved policy:  -177.51831\n"
     ]
    },
    {
     "name": "stderr",
     "output_type": "stream",
     "text": [
      "100%|██████████| 20/20 [00:27<00:00,  1.35s/it]"
     ]
    },
    {
     "name": "stdout",
     "output_type": "stream",
     "text": [
      "(0.0, 0.0)\n"
     ]
    },
    {
     "name": "stderr",
     "output_type": "stream",
     "text": [
      "\n"
     ]
    }
   ],
   "source": [
    "print(\"weight sum after initializing weight from saved policy: \", np.sum(get_weight_sum(loaded_final)))\n",
    "mean_performance_warm = mean_perf_agent(agent=loaded_final, env=target_env, num_trials=20)\n",
    "print(mean_performance_warm)"
   ]
  },
  {
   "cell_type": "code",
   "execution_count": null,
   "id": "surrounded-singer",
   "metadata": {},
   "outputs": [],
   "source": []
  }
 ],
 "metadata": {
  "kernelspec": {
   "display_name": "Python 3",
   "language": "python",
   "name": "python3"
  },
  "language_info": {
   "codemirror_mode": {
    "name": "ipython",
    "version": 3
   },
   "file_extension": ".py",
   "mimetype": "text/x-python",
   "name": "python",
   "nbconvert_exporter": "python",
   "pygments_lexer": "ipython3",
   "version": "3.8.7"
  }
 },
 "nbformat": 4,
 "nbformat_minor": 5
}
