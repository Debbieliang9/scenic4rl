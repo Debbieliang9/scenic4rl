{
 "cells": [
  {
   "cell_type": "code",
   "execution_count": 1,
   "metadata": {
    "ExecuteTime": {
     "end_time": "2021-03-31T05:21:47.470873Z",
     "start_time": "2021-03-31T05:21:45.470570Z"
    }
   },
   "outputs": [
    {
     "name": "stderr",
     "output_type": "stream",
     "text": [
      "/Users/azadsalam/codebase/scenic/src/scenic/core/errors.py:157: UserWarning: unable to install sys.excepthook to format Scenic backtraces\n",
      "  warnings.warn('unable to install sys.excepthook to format Scenic backtraces')\n"
     ]
    }
   ],
   "source": [
    "from scenic.simulators.gfootball import rl_interface\n",
    "from stable_baselines3 import PPO\n",
    "from scenic.simulators.gfootball.rl_interface import GFScenicEnv\n",
    "import pretrain_template\n",
    "#from gfootball_impala_cnn import GfootballImpalaCNN\n",
    "import gym\n",
    "from tqdm import tqdm\n",
    "import numpy as np\n",
    "import torch as th\n",
    "import torch.nn as nn\n",
    "import torch.optim as optim\n",
    "from torch.optim.lr_scheduler import StepLR\n",
    "from stable_baselines3 import PPO, A2C, SAC, TD3\n",
    "from stable_baselines3.common.evaluation import evaluate_policy\n",
    "\n",
    "from torch.utils.data.dataset import Dataset, random_split\n",
    "import os"
   ]
  },
  {
   "cell_type": "code",
   "execution_count": 2,
   "metadata": {
    "ExecuteTime": {
     "end_time": "2021-03-31T05:21:49.428062Z",
     "start_time": "2021-03-31T05:21:49.408166Z"
    }
   },
   "outputs": [],
   "source": [
    "from stable_baselines3.common.torch_layers import BaseFeaturesExtractor\n",
    "from stable_baselines3.common.preprocessing import is_image_space\n",
    "from stable_baselines3.common.torch_layers import BaseFeaturesExtractor\n",
    "from torch import nn\n",
    "import torch as th\n",
    "import torch\n",
    "\n",
    "class GfootballImpalaCNN(BaseFeaturesExtractor):\n",
    "    \"\"\"\n",
    "    gfootball_impala_cnn is architecture used in the paper\n",
    "    (https://arxiv.org/pdf/1907.11180.pdf).\n",
    "    It is illustrated in the appendix. It is similar to Large architecture\n",
    "    from IMPALA paper; we use 4 big blocks instead of 3 though.\n",
    "    \"\"\"\n",
    "\n",
    "    def __init__(self, observation_space: gym.spaces.Box, features_dim: int = 256):\n",
    "        super(GfootballImpalaCNN, self).__init__(observation_space, features_dim)\n",
    "        # We assume CxHxW images (channels first)\n",
    "        # Re-ordering will be done by pre-preprocessing or wrapper\n",
    "        assert is_image_space(observation_space), (\n",
    "            \"You should use CNN only with images\"\n",
    "        )\n",
    "        assert features_dim==256, \"To replicate the same network\"\n",
    "        n_input_channels = observation_space.shape[0]\n",
    "\n",
    "\n",
    "        self.device = torch.device(\"cuda:0\" if torch.cuda.is_available() else \"cpu\")\n",
    "        print(\"device: \", self.device)\n",
    "\n",
    "        self.conv_layers_config = [(16, 2), (32, 2), (32, 2), (32, 2)]\n",
    "        self.pool = nn.MaxPool2d(kernel_size=3, stride=2)\n",
    "\n",
    "\n",
    "        self.conv_blocks = [\n",
    "            nn.Conv2d(in_channels=n_input_channels, out_channels=16, kernel_size=3, stride=1, padding=1),\n",
    "            nn.Conv2d(in_channels=16, out_channels=32, kernel_size=3, stride=1, padding=1),\n",
    "            nn.Conv2d(in_channels=32, out_channels=32, kernel_size=3, stride=1, padding=1),\n",
    "            nn.Conv2d(in_channels=32, out_channels=32, kernel_size=3, stride=1, padding=1)\n",
    "        ]\n",
    "            \n",
    "\n",
    "        \n",
    "\n",
    "        #if \"cuda\" in self.device.type:\n",
    "        #    self.conv_blocks = [c.cuda() for c in self.conv_blocks]\n",
    "\n",
    "        #https://www.tensorflow.org/api_docs/python/tf/nn/pool  -> If padding = \"SAME\": output_spatial_shape[i] = ceil(input_spatial_shape[i] / strides[i])\n",
    "        self.pools = [nn.MaxPool2d(kernel_size=3, stride=2, padding=1) for _ in range(4)]\n",
    "\n",
    "        self.resblocks_1 = [\n",
    "            self.create_basic_res_block(16, 16),\n",
    "            self.create_basic_res_block(32, 32),\n",
    "            self.create_basic_res_block(32, 32),\n",
    "            self.create_basic_res_block(32, 32)\n",
    "        ]\n",
    "        self.resblocks_2 = [\n",
    "            self.create_basic_res_block(16, 16),\n",
    "            self.create_basic_res_block(32, 32),\n",
    "            self.create_basic_res_block(32, 32),\n",
    "            self.create_basic_res_block(32, 32)\n",
    "        ]\n",
    "\n",
    "\n",
    "        \n",
    "        if \"cuda\" in self.device.type:\n",
    "            self.conv_blocks = [c.cuda() for c in self.conv_blocks]\n",
    "            self.resblocks_1 = [c.cuda() for c in self.resblocks_1]\n",
    "            self.resblocks_2 = [c.cuda() for c in self.resblocks_2]\n",
    "\n",
    "        self.relu = nn.ReLU()\n",
    "        self.flatten = nn.Flatten()\n",
    "        \n",
    "        \n",
    "        #hack so that all the weights are saved correctly, by default stable_baselines3 only saves weights all torch tensors\n",
    "        #So it\n",
    "        self.conv_0 = self.conv_blocks[0]\n",
    "        self.conv_1 = self.conv_blocks[1]\n",
    "        self.conv_2 = self.conv_blocks[2]\n",
    "        self.conv_3 = self.conv_blocks[3]\n",
    "        \n",
    "        \n",
    "        self.res_1_0 = self.resblocks_1[0]\n",
    "        self.res_1_1 = self.resblocks_1[1]\n",
    "        self.res_1_2 = self.resblocks_1[2]\n",
    "        self.res_1_3 = self.resblocks_1[3]\n",
    "\n",
    "        self.res_2_0 = self.resblocks_2[0]\n",
    "        self.res_2_1 = self.resblocks_2[1]\n",
    "        self.res_2_2 = self.resblocks_2[2]\n",
    "        self.res_2_3 = self.resblocks_2[3]\n",
    "        #################################################\n",
    "\n",
    "\n",
    "\n",
    "        # Compute shape by doing one forward pass\n",
    "        \"\"\"\n",
    "        with th.no_grad():\n",
    "            n_flatten = self.feat_extract(\n",
    "                th.as_tensor(observation_space.sample()[None]).float()\n",
    "            )\n",
    "            n_flatten = n_flatten.shape[1]\n",
    "        \"\"\"\n",
    "        n_flatten = 960\n",
    "        self.linear = nn.Sequential(nn.Linear(n_flatten, features_dim), nn.ReLU()) #n_flatten=960\n",
    "\n",
    "\n",
    "\n",
    "\n",
    "    def create_basic_res_block(self, in_channel, out_channel):\n",
    "        return nn.Sequential(\n",
    "            nn.ReLU(),\n",
    "            nn.Conv2d(in_channels=in_channel, out_channels=out_channel, kernel_size=3, stride=1, padding=1),\n",
    "            nn.ReLU(),\n",
    "            nn.Conv2d(in_channels=out_channel, out_channels=out_channel, kernel_size=3, stride=1, padding=1),\n",
    "        )\n",
    "\n",
    "    def feat_extract(self, observations: th.Tensor) -> th.Tensor:\n",
    "        #observations = observations.to(self.device)\n",
    "        observations = observations.float()\n",
    "        observations /= 255\n",
    "\n",
    "        conv_out = observations\n",
    "        for i in range(4):\n",
    "            #print(\"\", i)\n",
    "            #print(\" 1. conv_out.is_cuda() \", conv_out.is_cuda)\n",
    "            #print(\"     conv block weight\", self.conv_blocks[i].weight.is_cuda)\n",
    "            conv_out = self.conv_blocks[i](conv_out)\n",
    "            #print(\" 2. conv_out.is_cuda() \", conv_out.is_cuda)\n",
    "            conv_out = self.pools[i](conv_out)\n",
    "\n",
    "            block_input = conv_out\n",
    "            conv_out = self.resblocks_1[i](conv_out)\n",
    "            conv_out += block_input\n",
    "\n",
    "            block_input = conv_out\n",
    "            conv_out = self.resblocks_2[i](conv_out)\n",
    "            conv_out += block_input\n",
    "            #print(\" 3. conv_out.is_cuda() \", conv_out.is_cuda)\n",
    "\n",
    "        #print(\" before relu . conv_out.is_cuda() \", conv_out.is_cuda)\n",
    "        conv_out = self.relu(conv_out)\n",
    "        #print(\" after relu . conv_out.is_cuda() \", conv_out.is_cuda)\n",
    "        conv_out = self.flatten(conv_out)\n",
    "        #print(\" after flatten . conv_out.is_cuda() \", conv_out.is_cuda)\n",
    "        return conv_out\n",
    "\n",
    "    def forward(self, observations: th.Tensor) -> th.Tensor:\n",
    "        conv_out = self.feat_extract(observations)\n",
    "        conv_out = self.linear(conv_out)\n",
    "\n",
    "        return conv_out"
   ]
  },
  {
   "cell_type": "code",
   "execution_count": 3,
   "metadata": {
    "ExecuteTime": {
     "end_time": "2021-03-31T05:21:57.117554Z",
     "start_time": "2021-03-31T05:21:57.113922Z"
    }
   },
   "outputs": [],
   "source": [
    "class ExpertDataSet(Dataset):\n",
    "    def __init__(self, expert_observations, expert_actions):\n",
    "        self.observations = expert_observations\n",
    "        self.actions = expert_actions\n",
    "\n",
    "    def __getitem__(self, index):\n",
    "        return (self.observations[index], self.actions[index])\n",
    "\n",
    "    def __len__(self):\n",
    "        return len(self.observations)\n"
   ]
  },
  {
   "cell_type": "code",
   "execution_count": 4,
   "metadata": {
    "ExecuteTime": {
     "end_time": "2021-03-31T05:22:07.176493Z",
     "start_time": "2021-03-31T05:22:07.160653Z"
    }
   },
   "outputs": [],
   "source": [
    "def pretrain_agent(\n",
    "        student,\n",
    "        env,\n",
    "        expert_dataset,\n",
    "        batch_size=64,\n",
    "        epochs=10,\n",
    "        scheduler_gamma=0.7,\n",
    "        learning_rate=1.0,\n",
    "        log_interval=100,\n",
    "        no_cuda=True,\n",
    "        seed=1,\n",
    "        test_batch_size=64,\n",
    "):\n",
    "    train_size = int(0.8 * len(expert_dataset))\n",
    "\n",
    "    test_size = len(expert_dataset) - train_size\n",
    "\n",
    "    train_expert_dataset, test_expert_dataset = random_split(\n",
    "        expert_dataset, [train_size, test_size]\n",
    "    )\n",
    "\n",
    "    print(\"test_expert_dataset: \", len(test_expert_dataset))\n",
    "    print(\"train_expert_dataset: \", len(train_expert_dataset))\n",
    "\n",
    "\n",
    "    use_cuda = not no_cuda and th.cuda.is_available()\n",
    "    th.manual_seed(seed)\n",
    "    device = th.device(\"cuda\" if use_cuda else \"cpu\")\n",
    "    kwargs = {\"num_workers\": 1, \"pin_memory\": True} if use_cuda else {}\n",
    "\n",
    "    if isinstance(env.action_space, gym.spaces.Box):\n",
    "        criterion = nn.MSELoss()\n",
    "    else:\n",
    "        criterion = nn.CrossEntropyLoss()\n",
    "\n",
    "    # Extract initial policy\n",
    "    model = student.policy.to(device)\n",
    "\n",
    "    def train(model, device, train_loader, optimizer):\n",
    "        model.train()\n",
    "\n",
    "        for batch_idx, (data, target) in enumerate(train_loader):\n",
    "            data, target = data.to(device), target.to(device)\n",
    "            optimizer.zero_grad()\n",
    "\n",
    "            if isinstance(env.action_space, gym.spaces.Box):\n",
    "                # A2C/PPO policy outputs actions, values, log_prob\n",
    "                # SAC/TD3 policy outputs actions only\n",
    "                if isinstance(student, (A2C, PPO)):\n",
    "                    action, _, _ = model(data)\n",
    "                else:\n",
    "                    # SAC/TD3:\n",
    "                    action = model(data)\n",
    "                action_prediction = action.double()\n",
    "            else:\n",
    "                # Retrieve the logits for A2C/PPO when using discrete actions\n",
    "                latent_pi, _, _ = model._get_latent(data)\n",
    "                logits = model.action_net(latent_pi)\n",
    "                action_prediction = logits\n",
    "                target = target.long()\n",
    "\n",
    "            loss = criterion(action_prediction, target)\n",
    "            loss.backward()\n",
    "            optimizer.step()\n",
    "            if batch_idx % log_interval == 0:\n",
    "                print(\n",
    "                    \"Train Epoch: {} [{}/{} ({:.0f}%)]\\tLoss: {:.6f}\".format(\n",
    "                        epoch,\n",
    "                        batch_idx * len(data),\n",
    "                        len(train_loader.dataset),\n",
    "                        100.0 * batch_idx / len(train_loader),\n",
    "                        loss.item(),\n",
    "                    )\n",
    "                )\n",
    "\n",
    "    def test(model, device, test_loader):\n",
    "        model.eval()\n",
    "        test_loss = 0\n",
    "        with th.no_grad():\n",
    "            for data, target in test_loader:\n",
    "                data, target = data.to(device), target.to(device)\n",
    "\n",
    "                if isinstance(env.action_space, gym.spaces.Box):\n",
    "                    # A2C/PPO policy outputs actions, values, log_prob\n",
    "                    # SAC/TD3 policy outputs actions only\n",
    "                    if isinstance(student, (A2C, PPO)):\n",
    "                        action, _, _ = model(data)\n",
    "                    else:\n",
    "                        # SAC/TD3:\n",
    "                        action = model(data)\n",
    "                    action_prediction = action.double()\n",
    "                else:\n",
    "                    # Retrieve the logits for A2C/PPO when using discrete actions\n",
    "                    latent_pi, _, _ = model._get_latent(data)\n",
    "                    logits = model.action_net(latent_pi)\n",
    "                    action_prediction = logits\n",
    "                    target = target.long()\n",
    "\n",
    "                test_loss = criterion(action_prediction, target)\n",
    "        test_loss /= len(test_loader.dataset)\n",
    "        print(f\"Test set: Average loss: {test_loss:.4f}\")\n",
    "\n",
    "    # Here, we use PyTorch `DataLoader` to our load previously created `ExpertDataset` for training\n",
    "    # and testing\n",
    "    train_loader = th.utils.data.DataLoader(\n",
    "        dataset=train_expert_dataset, batch_size=batch_size, shuffle=True, **kwargs\n",
    "    )\n",
    "    test_loader = th.utils.data.DataLoader(\n",
    "        dataset=test_expert_dataset, batch_size=test_batch_size, shuffle=True, **kwargs,\n",
    "    )\n",
    "\n",
    "    # Define an Optimizer and a learning rate schedule.\n",
    "    optimizer = optim.Adadelta(model.parameters(), lr=learning_rate)\n",
    "    scheduler = StepLR(optimizer, step_size=1, gamma=scheduler_gamma)\n",
    "\n",
    "    # Now we are finally ready to train the policy model.\n",
    "    for epoch in range(1, epochs + 1):\n",
    "        train(model, device, train_loader, optimizer)\n",
    "        test(model, device, test_loader)\n",
    "        scheduler.step()\n",
    "\n",
    "    # Implant the trained policy network back into the RL student agent\n",
    "    student.policy = model\n"
   ]
  },
  {
   "cell_type": "code",
   "execution_count": null,
   "metadata": {
    "ExecuteTime": {
     "end_time": "2021-03-31T01:44:44.385408Z",
     "start_time": "2021-03-31T01:44:44.382173Z"
    }
   },
   "outputs": [],
   "source": [
    "cwd = os.getcwd()\n",
    "rewards = \"scoring\"\n",
    "target_scenario_name = f\"{cwd}/exp_0_4/academy_run_to_score.scenic\"\n",
    "\n",
    "save_dir = f\"{cwd}/saved_models\"\n",
    "logdir = f\"{cwd}/tboard/dev\"\n",
    "tracedir = f\"{cwd}/game_trace\"\n",
    "\n"
   ]
  },
  {
   "cell_type": "code",
   "execution_count": null,
   "metadata": {
    "ExecuteTime": {
     "end_time": "2021-03-31T01:44:45.064756Z",
     "start_time": "2021-03-31T01:44:44.959146Z"
    }
   },
   "outputs": [],
   "source": [
    "#Create Environment\n",
    "\n",
    "gf_env_settings = {\n",
    "        \"stacked\": True,\n",
    "        \"rewards\": rewards,\n",
    "        \"representation\": 'extracted',\n",
    "        \"players\": [f\"agent:left_players=1\"],\n",
    "        \"real_time\": False,\n",
    "        \"action_set\": \"default\"\n",
    "    }\n",
    "\n",
    "from scenic.simulators.gfootball.utilities.scenic_helper import buildScenario\n",
    "scenario = buildScenario(target_scenario_name)\n",
    "target_env = GFScenicEnv(initial_scenario=scenario, gf_env_settings=gf_env_settings)"
   ]
  },
  {
   "cell_type": "code",
   "execution_count": null,
   "metadata": {
    "ExecuteTime": {
     "end_time": "2021-03-31T01:44:46.659240Z",
     "start_time": "2021-03-31T01:44:46.654726Z"
    }
   },
   "outputs": [],
   "source": [
    "def mean_reward_random_agent(env, num_trials=1):\n",
    "\n",
    "    obs = env.reset()\n",
    "    #env.render()\n",
    "    num_epi = 0\n",
    "    total_r = 0\n",
    "    from tqdm import tqdm\n",
    "    for i in tqdm(range(0, num_trials)):\n",
    "\n",
    "        done = False\n",
    "\n",
    "        while not done:\n",
    "            action = env.action_space.sample()\n",
    "            obs, reward, done, info = env.step(action)\n",
    "            #env.render()\n",
    "            total_r+=reward\n",
    "            if done:\n",
    "                obs = env.reset()\n",
    "                num_epi +=1\n",
    "\n",
    "    return total_r/num_epi"
   ]
  },
  {
   "cell_type": "code",
   "execution_count": null,
   "metadata": {
    "ExecuteTime": {
     "end_time": "2021-03-31T01:44:50.610379Z",
     "start_time": "2021-03-31T01:44:47.983188Z"
    }
   },
   "outputs": [],
   "source": [
    "#generate expert data\n",
    "\n",
    "gf_env_settings = {\n",
    "    \"stacked\": True,\n",
    "    \"rewards\": 'scoring',\n",
    "    \"representation\": 'extracted',\n",
    "    \"players\": [f\"agent:left_players=1\"],\n",
    "    \"real_time\": False,\n",
    "    \"action_set\": \"default\",#\"default\" \"v2\"\n",
    "}\n",
    "\n",
    "datagen_scenario_file = f\"{cwd}/pretrain/run_to_score_with_behave.scenic\"\n",
    "datagen_scenario = buildScenario(datagen_scenario_file)\n",
    "from scenic.simulators.gfootball.rl_interface import GFScenicEnv\n",
    "\n",
    "datagen_env = GFScenicEnv(initial_scenario=datagen_scenario, gf_env_settings=gf_env_settings, use_scenic_behavior_in_step=True)\n",
    "print(\"Mean Reward of Scenic Behavior Agent\", mean_reward_random_agent(datagen_env, num_trials=5))"
   ]
  },
  {
   "cell_type": "code",
   "execution_count": null,
   "metadata": {
    "ExecuteTime": {
     "end_time": "2021-03-31T01:41:35.915566Z",
     "start_time": "2021-03-31T01:41:34.332032Z"
    }
   },
   "outputs": [],
   "source": [
    "\n",
    "\n",
    "def generate_expert_data(env, num_interactions=1000):\n",
    "\n",
    "    expert_observations = []\n",
    "    expert_actions = []\n",
    "\n",
    "    obs = env.reset()\n",
    "\n",
    "    for i in tqdm(range(num_interactions)):\n",
    "        expert_observations.append(obs)\n",
    "\n",
    "        obs, reward, done, info = env.step(env.action_space.sample())\n",
    "        #print(info)\n",
    "        action = info[\"action_taken\"]\n",
    "        expert_actions.append(action)\n",
    "\n",
    "        if done:\n",
    "            obs = env.reset()\n",
    "    \n",
    "    expert_observations = np.array(expert_observations)\n",
    "    expert_observations = np.moveaxis(expert_observations, [3], [1])\n",
    "    expert_actions = np.array(expert_actions)\n",
    "    print(\"Expert observation shape: \", expert_observations.shape)\n",
    "    print(\"Expert actions shape: \", expert_actions.shape)\n",
    "\n",
    "    np.savez_compressed(\n",
    "        \"expert_data\",\n",
    "        expert_actions=expert_actions,\n",
    "        expert_observations=expert_observations,\n",
    "    )\n",
    "    return expert_observations, expert_actions\n",
    "\n",
    "expert_observations, expert_actions = generate_expert_data(datagen_env, num_interactions=1000)          "
   ]
  },
  {
   "cell_type": "code",
   "execution_count": null,
   "metadata": {
    "ExecuteTime": {
     "end_time": "2021-03-31T01:44:55.401804Z",
     "start_time": "2021-03-31T01:44:55.396448Z"
    }
   },
   "outputs": [],
   "source": [
    "#Generate random data for now as proxy to expert data\n",
    "\n",
    "\n",
    "def gen_dummy_expert_data(num_interactions=1000):\n",
    "    expert_observations = []\n",
    "    expert_actions = []\n",
    "\n",
    "    obs = env.reset()\n",
    "\n",
    "    for i in tqdm(range(num_interactions)):\n",
    "        action = env.action_space.sample()\n",
    "        expert_observations.append(obs)\n",
    "        expert_actions.append(action)\n",
    "        obs, reward, done, info = env.step(action)\n",
    "        if done:\n",
    "            obs = env.reset()\n",
    "\n",
    "    expert_observations = np.array(expert_observations)\n",
    "    print(\"expert collected obs shape\", expert_observations.shape)\n",
    "    expert_observations = np.moveaxis(expert_observations, [3], [1])\n",
    "    print(\"expert obs shape updated: \", expert_observations.shape)\n",
    "    expert_actions = np.array(expert_actions)\n",
    "\n",
    "    np.savez_compressed(\n",
    "        \"dummy_expert_data\",\n",
    "        expert_actions=expert_actions,\n",
    "        expert_observations=expert_observations,\n",
    "    )\n",
    "\n",
    "    return expert_observations, expert_actions\n",
    "\n",
    "#dummy_expert_observations, dummy_expert_actions = gen_dummy_expert_data()"
   ]
  },
  {
   "cell_type": "code",
   "execution_count": null,
   "metadata": {
    "ExecuteTime": {
     "end_time": "2021-03-31T01:44:56.053497Z",
     "start_time": "2021-03-31T01:44:56.025635Z"
    }
   },
   "outputs": [],
   "source": [
    "#get the PPO object with required parameters\n",
    "model, parameter_dict = pretrain_template.get_model_and_params(\n",
    "    env=target_env, ALGO=PPO, features_extractor_class = GfootballImpalaCNN, scenario_name=target_scenario_name,\n",
    "    logdir=logdir, override_params={}, rewards=rewards)\n",
    "\n",
    "print(\"env (from model) observation space: \", model.get_env().observation_space)\n",
    "\n"
   ]
  },
  {
   "cell_type": "code",
   "execution_count": null,
   "metadata": {
    "ExecuteTime": {
     "end_time": "2021-03-31T01:44:57.390781Z",
     "start_time": "2021-03-31T01:44:57.387919Z"
    }
   },
   "outputs": [],
   "source": [
    "loaded_data = np.load(\"expert_data.npz\")"
   ]
  },
  {
   "cell_type": "code",
   "execution_count": null,
   "metadata": {
    "ExecuteTime": {
     "end_time": "2021-03-31T01:44:58.166178Z",
     "start_time": "2021-03-31T01:44:57.969698Z"
    }
   },
   "outputs": [],
   "source": [
    "expert_observations = loaded_data[\"expert_observations\"]\n",
    "expert_actions = loaded_data[\"expert_actions\"]\n",
    "print(f\"Loaded data obs: {expert_observations.shape}, actions: {expert_actions.shape}\")\n",
    "expert_dataset = ExpertDataSet(expert_observations, expert_actions)"
   ]
  },
  {
   "cell_type": "code",
   "execution_count": null,
   "metadata": {
    "ExecuteTime": {
     "end_time": "2021-03-31T01:45:06.732818Z",
     "start_time": "2021-03-31T01:44:59.278227Z"
    }
   },
   "outputs": [],
   "source": [
    "pretrain_agent(\n",
    "    student=model,\n",
    "    env=target_env,\n",
    "    expert_dataset=expert_dataset,\n",
    "    epochs=1\n",
    ")\n"
   ]
  },
  {
   "cell_type": "code",
   "execution_count": null,
   "metadata": {
    "ExecuteTime": {
     "end_time": "2021-03-31T01:45:07.283657Z",
     "start_time": "2021-03-31T01:45:07.274367Z"
    }
   },
   "outputs": [],
   "source": [
    "def get_weight_sum(model):\n",
    "\n",
    "    saved_sums = [\n",
    "        model.policy.features_extractor.conv_blocks[0].weight.sum().detach().numpy(),\n",
    "        model.policy.features_extractor.conv_blocks[1].weight.sum().detach().numpy(),\n",
    "        model.policy.features_extractor.conv_blocks[2].weight.sum().detach().numpy(),\n",
    "        model.policy.features_extractor.conv_blocks[3].weight.sum().detach().numpy(),\n",
    "        model.policy.features_extractor.resblocks_1[0][1].weight.sum().detach().numpy(),\n",
    "        model.policy.features_extractor.resblocks_1[0][3].weight.sum().detach().numpy(),\n",
    "        model.policy.features_extractor.resblocks_1[1][1].weight.sum().detach().numpy(),\n",
    "        model.policy.features_extractor.resblocks_1[1][3].weight.sum().detach().numpy(),\n",
    "        model.policy.features_extractor.resblocks_1[2][1].weight.sum().detach().numpy(),\n",
    "        model.policy.features_extractor.resblocks_1[2][3].weight.sum().detach().numpy(),\n",
    "        model.policy.features_extractor.resblocks_1[3][1].weight.sum().detach().numpy(),\n",
    "        model.policy.features_extractor.resblocks_1[3][3].weight.sum().detach().numpy(),\n",
    "        model.policy.features_extractor.resblocks_2[0][1].weight.sum().detach().numpy(),\n",
    "        model.policy.features_extractor.resblocks_2[0][3].weight.sum().detach().numpy(),\n",
    "        model.policy.features_extractor.resblocks_2[1][1].weight.sum().detach().numpy(),\n",
    "        model.policy.features_extractor.resblocks_2[1][3].weight.sum().detach().numpy(),\n",
    "        model.policy.features_extractor.resblocks_2[2][1].weight.sum().detach().numpy(),\n",
    "        model.policy.features_extractor.resblocks_2[2][3].weight.sum().detach().numpy(),\n",
    "        model.policy.features_extractor.resblocks_2[3][1].weight.sum().detach().numpy(),\n",
    "        model.policy.features_extractor.resblocks_2[3][3].weight.sum().detach().numpy(),\n",
    "    ]\n",
    "    \n",
    "    return saved_sums\n",
    "\n"
   ]
  },
  {
   "cell_type": "code",
   "execution_count": null,
   "metadata": {
    "ExecuteTime": {
     "end_time": "2021-03-31T01:45:07.823056Z",
     "start_time": "2021-03-31T01:45:07.819668Z"
    }
   },
   "outputs": [],
   "source": [
    "saved_sums = get_weight_sum(model)"
   ]
  },
  {
   "cell_type": "code",
   "execution_count": null,
   "metadata": {
    "ExecuteTime": {
     "end_time": "2021-03-31T01:45:08.374111Z",
     "start_time": "2021-03-31T01:45:08.372180Z"
    }
   },
   "outputs": [],
   "source": [
    "#saved_sums "
   ]
  },
  {
   "cell_type": "code",
   "execution_count": null,
   "metadata": {
    "ExecuteTime": {
     "end_time": "2021-03-31T01:45:08.923411Z",
     "start_time": "2021-03-31T01:45:08.920252Z"
    }
   },
   "outputs": [],
   "source": [
    "saved_wholesome=np.sum(saved_sums)\n",
    "print(saved_wholesome)"
   ]
  },
  {
   "cell_type": "code",
   "execution_count": null,
   "metadata": {
    "ExecuteTime": {
     "end_time": "2021-03-31T01:45:11.687889Z",
     "start_time": "2021-03-31T01:45:11.665116Z"
    }
   },
   "outputs": [],
   "source": [
    "model.save(\"pretrained_model\")"
   ]
  },
  {
   "cell_type": "code",
   "execution_count": null,
   "metadata": {
    "ExecuteTime": {
     "end_time": "2021-03-31T01:45:12.242546Z",
     "start_time": "2021-03-31T01:45:12.239722Z"
    }
   },
   "outputs": [],
   "source": [
    "del model\n"
   ]
  },
  {
   "cell_type": "code",
   "execution_count": null,
   "metadata": {
    "ExecuteTime": {
     "end_time": "2021-03-31T01:45:12.972074Z",
     "start_time": "2021-03-31T01:45:12.936067Z"
    }
   },
   "outputs": [],
   "source": [
    "loaded_model = PPO.load(\"pretrained_model\")"
   ]
  },
  {
   "cell_type": "code",
   "execution_count": null,
   "metadata": {
    "ExecuteTime": {
     "end_time": "2021-03-31T01:45:13.739028Z",
     "start_time": "2021-03-31T01:45:13.734838Z"
    }
   },
   "outputs": [],
   "source": [
    "load_sum  = get_weight_sum(loaded_model)\n",
    "\n",
    "print(np.sum(load_sum))"
   ]
  },
  {
   "cell_type": "code",
   "execution_count": null,
   "metadata": {
    "ExecuteTime": {
     "end_time": "2021-03-31T01:45:15.765848Z",
     "start_time": "2021-03-31T01:45:15.736862Z"
    }
   },
   "outputs": [],
   "source": [
    "model, parameter_dict = pretrain_template.get_model_and_params(\n",
    "    env=target_env, ALGO=PPO, features_extractor_class = GfootballImpalaCNN, scenario_name=target_scenario_name,\n",
    "    logdir=logdir, override_params={}, rewards=rewards)\n",
    "\n",
    "print(\"weight sum with default loading: \", np.sum(get_weight_sum(model)))\n",
    "model.policy = loaded_model.policy\n",
    "print(\"weight sum with policy substitution: \", np.sum(get_weight_sum(model)))\n",
    "\n",
    "print(\"env (from model) observation space: \", model.get_env().observation_space)"
   ]
  },
  {
   "cell_type": "code",
   "execution_count": null,
   "metadata": {
    "ExecuteTime": {
     "end_time": "2021-03-31T01:45:42.238125Z",
     "start_time": "2021-03-31T01:45:23.252528Z"
    }
   },
   "outputs": [],
   "source": [
    "def test_model_performance(env, model, num_trials=1):\n",
    "\n",
    "    obs = env.reset()\n",
    "    #env.render()\n",
    "    num_epi = 0\n",
    "    total_r = 0\n",
    "    from tqdm import tqdm\n",
    "    for i in tqdm(range(0, num_trials)):\n",
    "\n",
    "        done = False\n",
    "\n",
    "        while not done:\n",
    "            action = model.predict(obs, deterministic=True)[0]\n",
    "            obs, reward, done, info = env.step(action)\n",
    "            #env.render()\n",
    "            total_r+=reward\n",
    "            if done:\n",
    "                obs = env.reset()\n",
    "                num_epi +=1\n",
    "\n",
    "    return total_r/num_epi\n",
    "\n",
    "print(test_model_performance(target_env, model, num_trials=5))"
   ]
  },
  {
   "cell_type": "code",
   "execution_count": null,
   "metadata": {
    "ExecuteTime": {
     "end_time": "2021-03-31T01:46:03.599418Z",
     "start_time": "2021-03-31T01:46:03.596547Z"
    }
   },
   "outputs": [],
   "source": [
    "print(model.get_env())\n",
    "\n"
   ]
  },
  {
   "cell_type": "code",
   "execution_count": null,
   "metadata": {
    "ExecuteTime": {
     "end_time": "2021-03-31T01:58:31.918997Z",
     "start_time": "2021-03-31T01:46:04.203801Z"
    }
   },
   "outputs": [],
   "source": [
    "#do training\n",
    "pretrain_template.train(model=model, parameters=parameter_dict,\n",
    "                            n_eval_episodes=5, total_training_timesteps=5000,\n",
    "                            eval_freq=5000,\n",
    "                            save_dir=save_dir, logdir=logdir, dump_info={\"rewards\": rewards})"
   ]
  },
  {
   "cell_type": "code",
   "execution_count": null,
   "metadata": {},
   "outputs": [],
   "source": []
  }
 ],
 "metadata": {
  "kernelspec": {
   "display_name": "Python 3",
   "language": "python",
   "name": "python3"
  },
  "language_info": {
   "codemirror_mode": {
    "name": "ipython",
    "version": 3
   },
   "file_extension": ".py",
   "mimetype": "text/x-python",
   "name": "python",
   "nbconvert_exporter": "python",
   "pygments_lexer": "ipython3",
   "version": "3.7.3"
  },
  "varInspector": {
   "cols": {
    "lenName": 16,
    "lenType": 16,
    "lenVar": 40
   },
   "kernels_config": {
    "python": {
     "delete_cmd_postfix": "",
     "delete_cmd_prefix": "del ",
     "library": "var_list.py",
     "varRefreshCmd": "print(var_dic_list())"
    },
    "r": {
     "delete_cmd_postfix": ") ",
     "delete_cmd_prefix": "rm(",
     "library": "var_list.r",
     "varRefreshCmd": "cat(var_dic_list()) "
    }
   },
   "types_to_exclude": [
    "module",
    "function",
    "builtin_function_or_method",
    "instance",
    "_Feature"
   ],
   "window_display": false
  }
 },
 "nbformat": 4,
 "nbformat_minor": 5
}
